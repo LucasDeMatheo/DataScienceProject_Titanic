{
 "cells": [
  {
   "cell_type": "markdown",
   "id": "d3c6f2d6",
   "metadata": {},
   "source": [
    "# General Information\n",
    ">\n",
    ">Author: Lucas Lobianco De Matheo\n",
    ">\n",
    ">Title: **Kaggle Titanic DataSet**\n",
    ">\n",
    ">This dataset was one of the first I worked on and today I feel able to explore it better and with more techniques.\n",
    ">\n",
    ">Extension: .csv\n",
    ">\n",
    ">Source: https://www.kaggle.com/azeembootwala/titanic\n",
    ">\n",
    ">Date: 01-02-2022\n",
    ">\n",
    "> **Main Skills of this project:** \n",
    "> - **Data Preparation**\n",
    "> - **Data Cleansing**  \n",
    "> - **Data Wrangling**  \n",
    "> - Data pre-processing\n",
    "> - Exploratory Data Analysis (EAD)\n",
    "> - Data Visualization"
   ]
  },
  {
   "cell_type": "markdown",
   "id": "a0d0bb6e",
   "metadata": {},
   "source": [
    "# Importing Essential Libraries"
   ]
  },
  {
   "cell_type": "code",
   "execution_count": 176,
   "id": "f06c74ba",
   "metadata": {},
   "outputs": [],
   "source": [
    "import pandas as pd\n",
    "import numpy as np\n",
    "import matplotlib.pyplot as plt\n",
    "import seaborn as sns\n",
    "import plotly.express as px"
   ]
  },
  {
   "cell_type": "markdown",
   "id": "169ed784",
   "metadata": {},
   "source": [
    "# Importing DataSet\n",
    "- pandas.read_csv — pandas 1.3.5 documentation (pydata.org)"
   ]
  },
  {
   "cell_type": "code",
   "execution_count": 177,
   "id": "0fe84ca4",
   "metadata": {},
   "outputs": [],
   "source": [
    "path = r\"C:\\Users\\lucas\\OneDrive\\Documents\\TI\\DataScience\\Projects\\Titanic\\titanic_preprocessed.csv\"\n",
    "df = pd.read_csv(path, sep =',')"
   ]
  },
  {
   "cell_type": "code",
   "execution_count": 178,
   "id": "d372f2b8",
   "metadata": {},
   "outputs": [
    {
     "data": {
      "text/html": [
       "<div>\n",
       "<style scoped>\n",
       "    .dataframe tbody tr th:only-of-type {\n",
       "        vertical-align: middle;\n",
       "    }\n",
       "\n",
       "    .dataframe tbody tr th {\n",
       "        vertical-align: top;\n",
       "    }\n",
       "\n",
       "    .dataframe thead th {\n",
       "        text-align: right;\n",
       "    }\n",
       "</style>\n",
       "<table border=\"1\" class=\"dataframe\">\n",
       "  <thead>\n",
       "    <tr style=\"text-align: right;\">\n",
       "      <th></th>\n",
       "      <th>Survived</th>\n",
       "      <th>Pclass</th>\n",
       "      <th>Age</th>\n",
       "      <th>SibSp</th>\n",
       "      <th>Parch</th>\n",
       "      <th>Fare</th>\n",
       "      <th>Sex</th>\n",
       "      <th>Embarked</th>\n",
       "    </tr>\n",
       "  </thead>\n",
       "  <tbody>\n",
       "    <tr>\n",
       "      <th>0</th>\n",
       "      <td>0.0</td>\n",
       "      <td>3.0</td>\n",
       "      <td>22.0</td>\n",
       "      <td>1.0</td>\n",
       "      <td>0.0</td>\n",
       "      <td>7.2500</td>\n",
       "      <td>male</td>\n",
       "      <td>S</td>\n",
       "    </tr>\n",
       "    <tr>\n",
       "      <th>1</th>\n",
       "      <td>1.0</td>\n",
       "      <td>1.0</td>\n",
       "      <td>38.0</td>\n",
       "      <td>1.0</td>\n",
       "      <td>0.0</td>\n",
       "      <td>71.2833</td>\n",
       "      <td>female</td>\n",
       "      <td>C</td>\n",
       "    </tr>\n",
       "    <tr>\n",
       "      <th>2</th>\n",
       "      <td>1.0</td>\n",
       "      <td>3.0</td>\n",
       "      <td>26.0</td>\n",
       "      <td>0.0</td>\n",
       "      <td>0.0</td>\n",
       "      <td>7.9250</td>\n",
       "      <td>female</td>\n",
       "      <td>S</td>\n",
       "    </tr>\n",
       "    <tr>\n",
       "      <th>3</th>\n",
       "      <td>1.0</td>\n",
       "      <td>1.0</td>\n",
       "      <td>35.0</td>\n",
       "      <td>1.0</td>\n",
       "      <td>0.0</td>\n",
       "      <td>53.1000</td>\n",
       "      <td>female</td>\n",
       "      <td>S</td>\n",
       "    </tr>\n",
       "    <tr>\n",
       "      <th>4</th>\n",
       "      <td>0.0</td>\n",
       "      <td>3.0</td>\n",
       "      <td>35.0</td>\n",
       "      <td>0.0</td>\n",
       "      <td>0.0</td>\n",
       "      <td>8.0500</td>\n",
       "      <td>male</td>\n",
       "      <td>S</td>\n",
       "    </tr>\n",
       "    <tr>\n",
       "      <th>...</th>\n",
       "      <td>...</td>\n",
       "      <td>...</td>\n",
       "      <td>...</td>\n",
       "      <td>...</td>\n",
       "      <td>...</td>\n",
       "      <td>...</td>\n",
       "      <td>...</td>\n",
       "      <td>...</td>\n",
       "    </tr>\n",
       "    <tr>\n",
       "      <th>886</th>\n",
       "      <td>0.0</td>\n",
       "      <td>2.0</td>\n",
       "      <td>27.0</td>\n",
       "      <td>0.0</td>\n",
       "      <td>0.0</td>\n",
       "      <td>13.0000</td>\n",
       "      <td>male</td>\n",
       "      <td>S</td>\n",
       "    </tr>\n",
       "    <tr>\n",
       "      <th>887</th>\n",
       "      <td>1.0</td>\n",
       "      <td>1.0</td>\n",
       "      <td>19.0</td>\n",
       "      <td>0.0</td>\n",
       "      <td>0.0</td>\n",
       "      <td>30.0000</td>\n",
       "      <td>female</td>\n",
       "      <td>S</td>\n",
       "    </tr>\n",
       "    <tr>\n",
       "      <th>888</th>\n",
       "      <td>0.0</td>\n",
       "      <td>3.0</td>\n",
       "      <td>20.0</td>\n",
       "      <td>1.0</td>\n",
       "      <td>2.0</td>\n",
       "      <td>23.4500</td>\n",
       "      <td>female</td>\n",
       "      <td>S</td>\n",
       "    </tr>\n",
       "    <tr>\n",
       "      <th>889</th>\n",
       "      <td>1.0</td>\n",
       "      <td>1.0</td>\n",
       "      <td>26.0</td>\n",
       "      <td>0.0</td>\n",
       "      <td>0.0</td>\n",
       "      <td>30.0000</td>\n",
       "      <td>male</td>\n",
       "      <td>C</td>\n",
       "    </tr>\n",
       "    <tr>\n",
       "      <th>890</th>\n",
       "      <td>0.0</td>\n",
       "      <td>3.0</td>\n",
       "      <td>32.0</td>\n",
       "      <td>0.0</td>\n",
       "      <td>0.0</td>\n",
       "      <td>7.7500</td>\n",
       "      <td>male</td>\n",
       "      <td>Q</td>\n",
       "    </tr>\n",
       "  </tbody>\n",
       "</table>\n",
       "<p>891 rows × 8 columns</p>\n",
       "</div>"
      ],
      "text/plain": [
       "     Survived  Pclass   Age  SibSp  Parch     Fare     Sex Embarked\n",
       "0         0.0     3.0  22.0    1.0    0.0   7.2500    male        S\n",
       "1         1.0     1.0  38.0    1.0    0.0  71.2833  female        C\n",
       "2         1.0     3.0  26.0    0.0    0.0   7.9250  female        S\n",
       "3         1.0     1.0  35.0    1.0    0.0  53.1000  female        S\n",
       "4         0.0     3.0  35.0    0.0    0.0   8.0500    male        S\n",
       "..        ...     ...   ...    ...    ...      ...     ...      ...\n",
       "886       0.0     2.0  27.0    0.0    0.0  13.0000    male        S\n",
       "887       1.0     1.0  19.0    0.0    0.0  30.0000  female        S\n",
       "888       0.0     3.0  20.0    1.0    2.0  23.4500  female        S\n",
       "889       1.0     1.0  26.0    0.0    0.0  30.0000    male        C\n",
       "890       0.0     3.0  32.0    0.0    0.0   7.7500    male        Q\n",
       "\n",
       "[891 rows x 8 columns]"
      ]
     },
     "metadata": {},
     "output_type": "display_data"
    }
   ],
   "source": [
    "display(df)"
   ]
  },
  {
   "cell_type": "markdown",
   "id": "56417560",
   "metadata": {},
   "source": [
    "# Checking Data Type"
   ]
  },
  {
   "cell_type": "code",
   "execution_count": 179,
   "id": "9b840cf1",
   "metadata": {},
   "outputs": [
    {
     "name": "stdout",
     "output_type": "stream",
     "text": [
      "<class 'pandas.core.frame.DataFrame'>\n",
      "RangeIndex: 891 entries, 0 to 890\n",
      "Data columns (total 8 columns):\n",
      " #   Column    Non-Null Count  Dtype  \n",
      "---  ------    --------------  -----  \n",
      " 0   Survived  891 non-null    float64\n",
      " 1   Pclass    891 non-null    float64\n",
      " 2   Age       891 non-null    float64\n",
      " 3   SibSp     891 non-null    float64\n",
      " 4   Parch     891 non-null    float64\n",
      " 5   Fare      891 non-null    float64\n",
      " 6   Sex       891 non-null    object \n",
      " 7   Embarked  889 non-null    object \n",
      "dtypes: float64(6), object(2)\n",
      "memory usage: 55.8+ KB\n"
     ]
    }
   ],
   "source": [
    "df.info()"
   ]
  },
  {
   "cell_type": "markdown",
   "id": "665dd111",
   "metadata": {},
   "source": [
    "# First Analysis"
   ]
  },
  {
   "cell_type": "code",
   "execution_count": 180,
   "id": "9fdb7b4e",
   "metadata": {
    "scrolled": true
   },
   "outputs": [
    {
     "data": {
      "application/vnd.plotly.v1+json": {
       "config": {
        "plotlyServerURL": "https://plot.ly"
       },
       "data": [
        {
         "alignmentgroup": "True",
         "bingroup": "x",
         "hovertemplate": "Survived=%{x}<br>count=%{y}<extra></extra>",
         "legendgroup": "0.0",
         "marker": {
          "color": "#636efa",
          "pattern": {
           "shape": ""
          }
         },
         "name": "0.0",
         "offsetgroup": "0.0",
         "orientation": "v",
         "showlegend": true,
         "type": "histogram",
         "x": [
          0,
          0,
          0,
          0,
          0,
          0,
          0,
          0,
          0,
          0,
          0,
          0,
          0,
          0,
          0,
          0,
          0,
          0,
          0,
          0,
          0,
          0,
          0,
          0,
          0,
          0,
          0,
          0,
          0,
          0,
          0,
          0,
          0,
          0,
          0,
          0,
          0,
          0,
          0,
          0,
          0,
          0,
          0,
          0,
          0,
          0,
          0,
          0,
          0,
          0,
          0,
          0,
          0,
          0,
          0,
          0,
          0,
          0,
          0,
          0,
          0,
          0,
          0,
          0,
          0,
          0,
          0,
          0,
          0,
          0,
          0,
          0,
          0,
          0,
          0,
          0,
          0,
          0,
          0,
          0,
          0,
          0,
          0,
          0,
          0,
          0,
          0,
          0,
          0,
          0,
          0,
          0,
          0,
          0,
          0,
          0,
          0,
          0,
          0,
          0,
          0,
          0,
          0,
          0,
          0,
          0,
          0,
          0,
          0,
          0,
          0,
          0,
          0,
          0,
          0,
          0,
          0,
          0,
          0,
          0,
          0,
          0,
          0,
          0,
          0,
          0,
          0,
          0,
          0,
          0,
          0,
          0,
          0,
          0,
          0,
          0,
          0,
          0,
          0,
          0,
          0,
          0,
          0,
          0,
          0,
          0,
          0,
          0,
          0,
          0,
          0,
          0,
          0,
          0,
          0,
          0,
          0,
          0,
          0,
          0,
          0,
          0,
          0,
          0,
          0,
          0,
          0,
          0,
          0,
          0,
          0,
          0,
          0,
          0,
          0,
          0,
          0,
          0,
          0,
          0,
          0,
          0,
          0,
          0,
          0,
          0,
          0,
          0,
          0,
          0,
          0,
          0,
          0,
          0,
          0,
          0,
          0,
          0,
          0,
          0,
          0,
          0,
          0,
          0,
          0,
          0,
          0,
          0,
          0,
          0,
          0,
          0,
          0,
          0,
          0,
          0,
          0,
          0,
          0,
          0,
          0,
          0,
          0,
          0,
          0,
          0,
          0,
          0,
          0,
          0,
          0,
          0,
          0,
          0,
          0,
          0,
          0,
          0,
          0,
          0,
          0,
          0,
          0,
          0,
          0,
          0,
          0,
          0,
          0,
          0,
          0,
          0,
          0,
          0,
          0,
          0,
          0,
          0,
          0,
          0,
          0,
          0,
          0,
          0,
          0,
          0,
          0,
          0,
          0,
          0,
          0,
          0,
          0,
          0,
          0,
          0,
          0,
          0,
          0,
          0,
          0,
          0,
          0,
          0,
          0,
          0,
          0,
          0,
          0,
          0,
          0,
          0,
          0,
          0,
          0,
          0,
          0,
          0,
          0,
          0,
          0,
          0,
          0,
          0,
          0,
          0,
          0,
          0,
          0,
          0,
          0,
          0,
          0,
          0,
          0,
          0,
          0,
          0,
          0,
          0,
          0,
          0,
          0,
          0,
          0,
          0,
          0,
          0,
          0,
          0,
          0,
          0,
          0,
          0,
          0,
          0,
          0,
          0,
          0,
          0,
          0,
          0,
          0,
          0,
          0,
          0,
          0,
          0,
          0,
          0,
          0,
          0,
          0,
          0,
          0,
          0,
          0,
          0,
          0,
          0,
          0,
          0,
          0,
          0,
          0,
          0,
          0,
          0,
          0,
          0,
          0,
          0,
          0,
          0,
          0,
          0,
          0,
          0,
          0,
          0,
          0,
          0,
          0,
          0,
          0,
          0,
          0,
          0,
          0,
          0,
          0,
          0,
          0,
          0,
          0,
          0,
          0,
          0,
          0,
          0,
          0,
          0,
          0,
          0,
          0,
          0,
          0,
          0,
          0,
          0,
          0,
          0,
          0,
          0,
          0,
          0,
          0,
          0,
          0,
          0,
          0,
          0,
          0,
          0,
          0,
          0,
          0,
          0,
          0,
          0,
          0,
          0,
          0,
          0,
          0,
          0,
          0,
          0,
          0,
          0,
          0,
          0,
          0,
          0,
          0,
          0,
          0,
          0,
          0,
          0,
          0,
          0,
          0,
          0,
          0,
          0,
          0,
          0,
          0,
          0,
          0,
          0,
          0,
          0,
          0,
          0,
          0,
          0,
          0,
          0,
          0,
          0,
          0,
          0,
          0,
          0,
          0,
          0,
          0,
          0,
          0,
          0,
          0,
          0,
          0,
          0,
          0,
          0,
          0,
          0,
          0,
          0,
          0,
          0,
          0,
          0,
          0,
          0,
          0,
          0,
          0,
          0,
          0,
          0,
          0,
          0,
          0,
          0,
          0,
          0,
          0,
          0,
          0,
          0,
          0,
          0,
          0,
          0,
          0,
          0,
          0,
          0,
          0,
          0,
          0,
          0,
          0,
          0,
          0,
          0,
          0,
          0,
          0,
          0,
          0,
          0,
          0,
          0,
          0,
          0,
          0,
          0,
          0,
          0,
          0,
          0,
          0,
          0,
          0
         ],
         "xaxis": "x",
         "yaxis": "y"
        },
        {
         "alignmentgroup": "True",
         "bingroup": "x",
         "hovertemplate": "Survived=%{x}<br>count=%{y}<extra></extra>",
         "legendgroup": "1.0",
         "marker": {
          "color": "#EF553B",
          "pattern": {
           "shape": ""
          }
         },
         "name": "1.0",
         "offsetgroup": "1.0",
         "orientation": "v",
         "showlegend": true,
         "type": "histogram",
         "x": [
          1,
          1,
          1,
          1,
          1,
          1,
          1,
          1,
          1,
          1,
          1,
          1,
          1,
          1,
          1,
          1,
          1,
          1,
          1,
          1,
          1,
          1,
          1,
          1,
          1,
          1,
          1,
          1,
          1,
          1,
          1,
          1,
          1,
          1,
          1,
          1,
          1,
          1,
          1,
          1,
          1,
          1,
          1,
          1,
          1,
          1,
          1,
          1,
          1,
          1,
          1,
          1,
          1,
          1,
          1,
          1,
          1,
          1,
          1,
          1,
          1,
          1,
          1,
          1,
          1,
          1,
          1,
          1,
          1,
          1,
          1,
          1,
          1,
          1,
          1,
          1,
          1,
          1,
          1,
          1,
          1,
          1,
          1,
          1,
          1,
          1,
          1,
          1,
          1,
          1,
          1,
          1,
          1,
          1,
          1,
          1,
          1,
          1,
          1,
          1,
          1,
          1,
          1,
          1,
          1,
          1,
          1,
          1,
          1,
          1,
          1,
          1,
          1,
          1,
          1,
          1,
          1,
          1,
          1,
          1,
          1,
          1,
          1,
          1,
          1,
          1,
          1,
          1,
          1,
          1,
          1,
          1,
          1,
          1,
          1,
          1,
          1,
          1,
          1,
          1,
          1,
          1,
          1,
          1,
          1,
          1,
          1,
          1,
          1,
          1,
          1,
          1,
          1,
          1,
          1,
          1,
          1,
          1,
          1,
          1,
          1,
          1,
          1,
          1,
          1,
          1,
          1,
          1,
          1,
          1,
          1,
          1,
          1,
          1,
          1,
          1,
          1,
          1,
          1,
          1,
          1,
          1,
          1,
          1,
          1,
          1,
          1,
          1,
          1,
          1,
          1,
          1,
          1,
          1,
          1,
          1,
          1,
          1,
          1,
          1,
          1,
          1,
          1,
          1,
          1,
          1,
          1,
          1,
          1,
          1,
          1,
          1,
          1,
          1,
          1,
          1,
          1,
          1,
          1,
          1,
          1,
          1,
          1,
          1,
          1,
          1,
          1,
          1,
          1,
          1,
          1,
          1,
          1,
          1,
          1,
          1,
          1,
          1,
          1,
          1,
          1,
          1,
          1,
          1,
          1,
          1,
          1,
          1,
          1,
          1,
          1,
          1,
          1,
          1,
          1,
          1,
          1,
          1,
          1,
          1,
          1,
          1,
          1,
          1,
          1,
          1,
          1,
          1,
          1,
          1,
          1,
          1,
          1,
          1,
          1,
          1,
          1,
          1,
          1,
          1,
          1,
          1,
          1,
          1,
          1,
          1,
          1,
          1,
          1,
          1,
          1,
          1,
          1,
          1,
          1,
          1,
          1,
          1,
          1,
          1,
          1,
          1,
          1,
          1,
          1,
          1,
          1,
          1,
          1,
          1,
          1,
          1,
          1,
          1,
          1,
          1,
          1,
          1,
          1,
          1,
          1,
          1,
          1,
          1,
          1,
          1,
          1,
          1,
          1,
          1,
          1,
          1,
          1,
          1,
          1,
          1,
          1,
          1,
          1,
          1,
          1,
          1
         ],
         "xaxis": "x",
         "yaxis": "y"
        }
       ],
       "layout": {
        "barmode": "relative",
        "legend": {
         "title": {
          "text": "Survived"
         },
         "tracegroupgap": 0
        },
        "margin": {
         "t": 60
        },
        "template": {
         "data": {
          "bar": [
           {
            "error_x": {
             "color": "#2a3f5f"
            },
            "error_y": {
             "color": "#2a3f5f"
            },
            "marker": {
             "line": {
              "color": "#E5ECF6",
              "width": 0.5
             },
             "pattern": {
              "fillmode": "overlay",
              "size": 10,
              "solidity": 0.2
             }
            },
            "type": "bar"
           }
          ],
          "barpolar": [
           {
            "marker": {
             "line": {
              "color": "#E5ECF6",
              "width": 0.5
             },
             "pattern": {
              "fillmode": "overlay",
              "size": 10,
              "solidity": 0.2
             }
            },
            "type": "barpolar"
           }
          ],
          "carpet": [
           {
            "aaxis": {
             "endlinecolor": "#2a3f5f",
             "gridcolor": "white",
             "linecolor": "white",
             "minorgridcolor": "white",
             "startlinecolor": "#2a3f5f"
            },
            "baxis": {
             "endlinecolor": "#2a3f5f",
             "gridcolor": "white",
             "linecolor": "white",
             "minorgridcolor": "white",
             "startlinecolor": "#2a3f5f"
            },
            "type": "carpet"
           }
          ],
          "choropleth": [
           {
            "colorbar": {
             "outlinewidth": 0,
             "ticks": ""
            },
            "type": "choropleth"
           }
          ],
          "contour": [
           {
            "colorbar": {
             "outlinewidth": 0,
             "ticks": ""
            },
            "colorscale": [
             [
              0,
              "#0d0887"
             ],
             [
              0.1111111111111111,
              "#46039f"
             ],
             [
              0.2222222222222222,
              "#7201a8"
             ],
             [
              0.3333333333333333,
              "#9c179e"
             ],
             [
              0.4444444444444444,
              "#bd3786"
             ],
             [
              0.5555555555555556,
              "#d8576b"
             ],
             [
              0.6666666666666666,
              "#ed7953"
             ],
             [
              0.7777777777777778,
              "#fb9f3a"
             ],
             [
              0.8888888888888888,
              "#fdca26"
             ],
             [
              1,
              "#f0f921"
             ]
            ],
            "type": "contour"
           }
          ],
          "contourcarpet": [
           {
            "colorbar": {
             "outlinewidth": 0,
             "ticks": ""
            },
            "type": "contourcarpet"
           }
          ],
          "heatmap": [
           {
            "colorbar": {
             "outlinewidth": 0,
             "ticks": ""
            },
            "colorscale": [
             [
              0,
              "#0d0887"
             ],
             [
              0.1111111111111111,
              "#46039f"
             ],
             [
              0.2222222222222222,
              "#7201a8"
             ],
             [
              0.3333333333333333,
              "#9c179e"
             ],
             [
              0.4444444444444444,
              "#bd3786"
             ],
             [
              0.5555555555555556,
              "#d8576b"
             ],
             [
              0.6666666666666666,
              "#ed7953"
             ],
             [
              0.7777777777777778,
              "#fb9f3a"
             ],
             [
              0.8888888888888888,
              "#fdca26"
             ],
             [
              1,
              "#f0f921"
             ]
            ],
            "type": "heatmap"
           }
          ],
          "heatmapgl": [
           {
            "colorbar": {
             "outlinewidth": 0,
             "ticks": ""
            },
            "colorscale": [
             [
              0,
              "#0d0887"
             ],
             [
              0.1111111111111111,
              "#46039f"
             ],
             [
              0.2222222222222222,
              "#7201a8"
             ],
             [
              0.3333333333333333,
              "#9c179e"
             ],
             [
              0.4444444444444444,
              "#bd3786"
             ],
             [
              0.5555555555555556,
              "#d8576b"
             ],
             [
              0.6666666666666666,
              "#ed7953"
             ],
             [
              0.7777777777777778,
              "#fb9f3a"
             ],
             [
              0.8888888888888888,
              "#fdca26"
             ],
             [
              1,
              "#f0f921"
             ]
            ],
            "type": "heatmapgl"
           }
          ],
          "histogram": [
           {
            "marker": {
             "pattern": {
              "fillmode": "overlay",
              "size": 10,
              "solidity": 0.2
             }
            },
            "type": "histogram"
           }
          ],
          "histogram2d": [
           {
            "colorbar": {
             "outlinewidth": 0,
             "ticks": ""
            },
            "colorscale": [
             [
              0,
              "#0d0887"
             ],
             [
              0.1111111111111111,
              "#46039f"
             ],
             [
              0.2222222222222222,
              "#7201a8"
             ],
             [
              0.3333333333333333,
              "#9c179e"
             ],
             [
              0.4444444444444444,
              "#bd3786"
             ],
             [
              0.5555555555555556,
              "#d8576b"
             ],
             [
              0.6666666666666666,
              "#ed7953"
             ],
             [
              0.7777777777777778,
              "#fb9f3a"
             ],
             [
              0.8888888888888888,
              "#fdca26"
             ],
             [
              1,
              "#f0f921"
             ]
            ],
            "type": "histogram2d"
           }
          ],
          "histogram2dcontour": [
           {
            "colorbar": {
             "outlinewidth": 0,
             "ticks": ""
            },
            "colorscale": [
             [
              0,
              "#0d0887"
             ],
             [
              0.1111111111111111,
              "#46039f"
             ],
             [
              0.2222222222222222,
              "#7201a8"
             ],
             [
              0.3333333333333333,
              "#9c179e"
             ],
             [
              0.4444444444444444,
              "#bd3786"
             ],
             [
              0.5555555555555556,
              "#d8576b"
             ],
             [
              0.6666666666666666,
              "#ed7953"
             ],
             [
              0.7777777777777778,
              "#fb9f3a"
             ],
             [
              0.8888888888888888,
              "#fdca26"
             ],
             [
              1,
              "#f0f921"
             ]
            ],
            "type": "histogram2dcontour"
           }
          ],
          "mesh3d": [
           {
            "colorbar": {
             "outlinewidth": 0,
             "ticks": ""
            },
            "type": "mesh3d"
           }
          ],
          "parcoords": [
           {
            "line": {
             "colorbar": {
              "outlinewidth": 0,
              "ticks": ""
             }
            },
            "type": "parcoords"
           }
          ],
          "pie": [
           {
            "automargin": true,
            "type": "pie"
           }
          ],
          "scatter": [
           {
            "marker": {
             "colorbar": {
              "outlinewidth": 0,
              "ticks": ""
             }
            },
            "type": "scatter"
           }
          ],
          "scatter3d": [
           {
            "line": {
             "colorbar": {
              "outlinewidth": 0,
              "ticks": ""
             }
            },
            "marker": {
             "colorbar": {
              "outlinewidth": 0,
              "ticks": ""
             }
            },
            "type": "scatter3d"
           }
          ],
          "scattercarpet": [
           {
            "marker": {
             "colorbar": {
              "outlinewidth": 0,
              "ticks": ""
             }
            },
            "type": "scattercarpet"
           }
          ],
          "scattergeo": [
           {
            "marker": {
             "colorbar": {
              "outlinewidth": 0,
              "ticks": ""
             }
            },
            "type": "scattergeo"
           }
          ],
          "scattergl": [
           {
            "marker": {
             "colorbar": {
              "outlinewidth": 0,
              "ticks": ""
             }
            },
            "type": "scattergl"
           }
          ],
          "scattermapbox": [
           {
            "marker": {
             "colorbar": {
              "outlinewidth": 0,
              "ticks": ""
             }
            },
            "type": "scattermapbox"
           }
          ],
          "scatterpolar": [
           {
            "marker": {
             "colorbar": {
              "outlinewidth": 0,
              "ticks": ""
             }
            },
            "type": "scatterpolar"
           }
          ],
          "scatterpolargl": [
           {
            "marker": {
             "colorbar": {
              "outlinewidth": 0,
              "ticks": ""
             }
            },
            "type": "scatterpolargl"
           }
          ],
          "scatterternary": [
           {
            "marker": {
             "colorbar": {
              "outlinewidth": 0,
              "ticks": ""
             }
            },
            "type": "scatterternary"
           }
          ],
          "surface": [
           {
            "colorbar": {
             "outlinewidth": 0,
             "ticks": ""
            },
            "colorscale": [
             [
              0,
              "#0d0887"
             ],
             [
              0.1111111111111111,
              "#46039f"
             ],
             [
              0.2222222222222222,
              "#7201a8"
             ],
             [
              0.3333333333333333,
              "#9c179e"
             ],
             [
              0.4444444444444444,
              "#bd3786"
             ],
             [
              0.5555555555555556,
              "#d8576b"
             ],
             [
              0.6666666666666666,
              "#ed7953"
             ],
             [
              0.7777777777777778,
              "#fb9f3a"
             ],
             [
              0.8888888888888888,
              "#fdca26"
             ],
             [
              1,
              "#f0f921"
             ]
            ],
            "type": "surface"
           }
          ],
          "table": [
           {
            "cells": {
             "fill": {
              "color": "#EBF0F8"
             },
             "line": {
              "color": "white"
             }
            },
            "header": {
             "fill": {
              "color": "#C8D4E3"
             },
             "line": {
              "color": "white"
             }
            },
            "type": "table"
           }
          ]
         },
         "layout": {
          "annotationdefaults": {
           "arrowcolor": "#2a3f5f",
           "arrowhead": 0,
           "arrowwidth": 1
          },
          "autotypenumbers": "strict",
          "coloraxis": {
           "colorbar": {
            "outlinewidth": 0,
            "ticks": ""
           }
          },
          "colorscale": {
           "diverging": [
            [
             0,
             "#8e0152"
            ],
            [
             0.1,
             "#c51b7d"
            ],
            [
             0.2,
             "#de77ae"
            ],
            [
             0.3,
             "#f1b6da"
            ],
            [
             0.4,
             "#fde0ef"
            ],
            [
             0.5,
             "#f7f7f7"
            ],
            [
             0.6,
             "#e6f5d0"
            ],
            [
             0.7,
             "#b8e186"
            ],
            [
             0.8,
             "#7fbc41"
            ],
            [
             0.9,
             "#4d9221"
            ],
            [
             1,
             "#276419"
            ]
           ],
           "sequential": [
            [
             0,
             "#0d0887"
            ],
            [
             0.1111111111111111,
             "#46039f"
            ],
            [
             0.2222222222222222,
             "#7201a8"
            ],
            [
             0.3333333333333333,
             "#9c179e"
            ],
            [
             0.4444444444444444,
             "#bd3786"
            ],
            [
             0.5555555555555556,
             "#d8576b"
            ],
            [
             0.6666666666666666,
             "#ed7953"
            ],
            [
             0.7777777777777778,
             "#fb9f3a"
            ],
            [
             0.8888888888888888,
             "#fdca26"
            ],
            [
             1,
             "#f0f921"
            ]
           ],
           "sequentialminus": [
            [
             0,
             "#0d0887"
            ],
            [
             0.1111111111111111,
             "#46039f"
            ],
            [
             0.2222222222222222,
             "#7201a8"
            ],
            [
             0.3333333333333333,
             "#9c179e"
            ],
            [
             0.4444444444444444,
             "#bd3786"
            ],
            [
             0.5555555555555556,
             "#d8576b"
            ],
            [
             0.6666666666666666,
             "#ed7953"
            ],
            [
             0.7777777777777778,
             "#fb9f3a"
            ],
            [
             0.8888888888888888,
             "#fdca26"
            ],
            [
             1,
             "#f0f921"
            ]
           ]
          },
          "colorway": [
           "#636efa",
           "#EF553B",
           "#00cc96",
           "#ab63fa",
           "#FFA15A",
           "#19d3f3",
           "#FF6692",
           "#B6E880",
           "#FF97FF",
           "#FECB52"
          ],
          "font": {
           "color": "#2a3f5f"
          },
          "geo": {
           "bgcolor": "white",
           "lakecolor": "white",
           "landcolor": "#E5ECF6",
           "showlakes": true,
           "showland": true,
           "subunitcolor": "white"
          },
          "hoverlabel": {
           "align": "left"
          },
          "hovermode": "closest",
          "mapbox": {
           "style": "light"
          },
          "paper_bgcolor": "white",
          "plot_bgcolor": "#E5ECF6",
          "polar": {
           "angularaxis": {
            "gridcolor": "white",
            "linecolor": "white",
            "ticks": ""
           },
           "bgcolor": "#E5ECF6",
           "radialaxis": {
            "gridcolor": "white",
            "linecolor": "white",
            "ticks": ""
           }
          },
          "scene": {
           "xaxis": {
            "backgroundcolor": "#E5ECF6",
            "gridcolor": "white",
            "gridwidth": 2,
            "linecolor": "white",
            "showbackground": true,
            "ticks": "",
            "zerolinecolor": "white"
           },
           "yaxis": {
            "backgroundcolor": "#E5ECF6",
            "gridcolor": "white",
            "gridwidth": 2,
            "linecolor": "white",
            "showbackground": true,
            "ticks": "",
            "zerolinecolor": "white"
           },
           "zaxis": {
            "backgroundcolor": "#E5ECF6",
            "gridcolor": "white",
            "gridwidth": 2,
            "linecolor": "white",
            "showbackground": true,
            "ticks": "",
            "zerolinecolor": "white"
           }
          },
          "shapedefaults": {
           "line": {
            "color": "#2a3f5f"
           }
          },
          "ternary": {
           "aaxis": {
            "gridcolor": "white",
            "linecolor": "white",
            "ticks": ""
           },
           "baxis": {
            "gridcolor": "white",
            "linecolor": "white",
            "ticks": ""
           },
           "bgcolor": "#E5ECF6",
           "caxis": {
            "gridcolor": "white",
            "linecolor": "white",
            "ticks": ""
           }
          },
          "title": {
           "x": 0.05
          },
          "xaxis": {
           "automargin": true,
           "gridcolor": "white",
           "linecolor": "white",
           "ticks": "",
           "title": {
            "standoff": 15
           },
           "zerolinecolor": "white",
           "zerolinewidth": 2
          },
          "yaxis": {
           "automargin": true,
           "gridcolor": "white",
           "linecolor": "white",
           "ticks": "",
           "title": {
            "standoff": 15
           },
           "zerolinecolor": "white",
           "zerolinewidth": 2
          }
         }
        },
        "xaxis": {
         "anchor": "y",
         "categoryarray": [
          0,
          1
         ],
         "categoryorder": "array",
         "domain": [
          0,
          1
         ],
         "title": {
          "text": "Survived"
         }
        },
        "yaxis": {
         "anchor": "x",
         "domain": [
          0,
          1
         ],
         "title": {
          "text": "count"
         }
        }
       }
      },
      "text/html": [
       "<div>                            <div id=\"548cfd38-2a46-49cc-89c6-d4ea4b34f942\" class=\"plotly-graph-div\" style=\"height:525px; width:100%;\"></div>            <script type=\"text/javascript\">                require([\"plotly\"], function(Plotly) {                    window.PLOTLYENV=window.PLOTLYENV || {};                                    if (document.getElementById(\"548cfd38-2a46-49cc-89c6-d4ea4b34f942\")) {                    Plotly.newPlot(                        \"548cfd38-2a46-49cc-89c6-d4ea4b34f942\",                        [{\"alignmentgroup\":\"True\",\"bingroup\":\"x\",\"hovertemplate\":\"Survived=%{x}<br>count=%{y}<extra></extra>\",\"legendgroup\":\"0.0\",\"marker\":{\"color\":\"#636efa\",\"pattern\":{\"shape\":\"\"}},\"name\":\"0.0\",\"offsetgroup\":\"0.0\",\"orientation\":\"v\",\"showlegend\":true,\"x\":[0.0,0.0,0.0,0.0,0.0,0.0,0.0,0.0,0.0,0.0,0.0,0.0,0.0,0.0,0.0,0.0,0.0,0.0,0.0,0.0,0.0,0.0,0.0,0.0,0.0,0.0,0.0,0.0,0.0,0.0,0.0,0.0,0.0,0.0,0.0,0.0,0.0,0.0,0.0,0.0,0.0,0.0,0.0,0.0,0.0,0.0,0.0,0.0,0.0,0.0,0.0,0.0,0.0,0.0,0.0,0.0,0.0,0.0,0.0,0.0,0.0,0.0,0.0,0.0,0.0,0.0,0.0,0.0,0.0,0.0,0.0,0.0,0.0,0.0,0.0,0.0,0.0,0.0,0.0,0.0,0.0,0.0,0.0,0.0,0.0,0.0,0.0,0.0,0.0,0.0,0.0,0.0,0.0,0.0,0.0,0.0,0.0,0.0,0.0,0.0,0.0,0.0,0.0,0.0,0.0,0.0,0.0,0.0,0.0,0.0,0.0,0.0,0.0,0.0,0.0,0.0,0.0,0.0,0.0,0.0,0.0,0.0,0.0,0.0,0.0,0.0,0.0,0.0,0.0,0.0,0.0,0.0,0.0,0.0,0.0,0.0,0.0,0.0,0.0,0.0,0.0,0.0,0.0,0.0,0.0,0.0,0.0,0.0,0.0,0.0,0.0,0.0,0.0,0.0,0.0,0.0,0.0,0.0,0.0,0.0,0.0,0.0,0.0,0.0,0.0,0.0,0.0,0.0,0.0,0.0,0.0,0.0,0.0,0.0,0.0,0.0,0.0,0.0,0.0,0.0,0.0,0.0,0.0,0.0,0.0,0.0,0.0,0.0,0.0,0.0,0.0,0.0,0.0,0.0,0.0,0.0,0.0,0.0,0.0,0.0,0.0,0.0,0.0,0.0,0.0,0.0,0.0,0.0,0.0,0.0,0.0,0.0,0.0,0.0,0.0,0.0,0.0,0.0,0.0,0.0,0.0,0.0,0.0,0.0,0.0,0.0,0.0,0.0,0.0,0.0,0.0,0.0,0.0,0.0,0.0,0.0,0.0,0.0,0.0,0.0,0.0,0.0,0.0,0.0,0.0,0.0,0.0,0.0,0.0,0.0,0.0,0.0,0.0,0.0,0.0,0.0,0.0,0.0,0.0,0.0,0.0,0.0,0.0,0.0,0.0,0.0,0.0,0.0,0.0,0.0,0.0,0.0,0.0,0.0,0.0,0.0,0.0,0.0,0.0,0.0,0.0,0.0,0.0,0.0,0.0,0.0,0.0,0.0,0.0,0.0,0.0,0.0,0.0,0.0,0.0,0.0,0.0,0.0,0.0,0.0,0.0,0.0,0.0,0.0,0.0,0.0,0.0,0.0,0.0,0.0,0.0,0.0,0.0,0.0,0.0,0.0,0.0,0.0,0.0,0.0,0.0,0.0,0.0,0.0,0.0,0.0,0.0,0.0,0.0,0.0,0.0,0.0,0.0,0.0,0.0,0.0,0.0,0.0,0.0,0.0,0.0,0.0,0.0,0.0,0.0,0.0,0.0,0.0,0.0,0.0,0.0,0.0,0.0,0.0,0.0,0.0,0.0,0.0,0.0,0.0,0.0,0.0,0.0,0.0,0.0,0.0,0.0,0.0,0.0,0.0,0.0,0.0,0.0,0.0,0.0,0.0,0.0,0.0,0.0,0.0,0.0,0.0,0.0,0.0,0.0,0.0,0.0,0.0,0.0,0.0,0.0,0.0,0.0,0.0,0.0,0.0,0.0,0.0,0.0,0.0,0.0,0.0,0.0,0.0,0.0,0.0,0.0,0.0,0.0,0.0,0.0,0.0,0.0,0.0,0.0,0.0,0.0,0.0,0.0,0.0,0.0,0.0,0.0,0.0,0.0,0.0,0.0,0.0,0.0,0.0,0.0,0.0,0.0,0.0,0.0,0.0,0.0,0.0,0.0,0.0,0.0,0.0,0.0,0.0,0.0,0.0,0.0,0.0,0.0,0.0,0.0,0.0,0.0,0.0,0.0,0.0,0.0,0.0,0.0,0.0,0.0,0.0,0.0,0.0,0.0,0.0,0.0,0.0,0.0,0.0,0.0,0.0,0.0,0.0,0.0,0.0,0.0,0.0,0.0,0.0,0.0,0.0,0.0,0.0,0.0,0.0,0.0,0.0,0.0,0.0,0.0,0.0,0.0,0.0,0.0,0.0,0.0,0.0,0.0,0.0,0.0,0.0,0.0,0.0,0.0,0.0,0.0,0.0,0.0,0.0,0.0,0.0,0.0,0.0,0.0,0.0,0.0,0.0,0.0,0.0,0.0,0.0,0.0,0.0,0.0,0.0,0.0,0.0,0.0,0.0,0.0,0.0,0.0,0.0,0.0,0.0,0.0,0.0,0.0,0.0,0.0,0.0,0.0,0.0,0.0,0.0,0.0,0.0,0.0],\"xaxis\":\"x\",\"yaxis\":\"y\",\"type\":\"histogram\"},{\"alignmentgroup\":\"True\",\"bingroup\":\"x\",\"hovertemplate\":\"Survived=%{x}<br>count=%{y}<extra></extra>\",\"legendgroup\":\"1.0\",\"marker\":{\"color\":\"#EF553B\",\"pattern\":{\"shape\":\"\"}},\"name\":\"1.0\",\"offsetgroup\":\"1.0\",\"orientation\":\"v\",\"showlegend\":true,\"x\":[1.0,1.0,1.0,1.0,1.0,1.0,1.0,1.0,1.0,1.0,1.0,1.0,1.0,1.0,1.0,1.0,1.0,1.0,1.0,1.0,1.0,1.0,1.0,1.0,1.0,1.0,1.0,1.0,1.0,1.0,1.0,1.0,1.0,1.0,1.0,1.0,1.0,1.0,1.0,1.0,1.0,1.0,1.0,1.0,1.0,1.0,1.0,1.0,1.0,1.0,1.0,1.0,1.0,1.0,1.0,1.0,1.0,1.0,1.0,1.0,1.0,1.0,1.0,1.0,1.0,1.0,1.0,1.0,1.0,1.0,1.0,1.0,1.0,1.0,1.0,1.0,1.0,1.0,1.0,1.0,1.0,1.0,1.0,1.0,1.0,1.0,1.0,1.0,1.0,1.0,1.0,1.0,1.0,1.0,1.0,1.0,1.0,1.0,1.0,1.0,1.0,1.0,1.0,1.0,1.0,1.0,1.0,1.0,1.0,1.0,1.0,1.0,1.0,1.0,1.0,1.0,1.0,1.0,1.0,1.0,1.0,1.0,1.0,1.0,1.0,1.0,1.0,1.0,1.0,1.0,1.0,1.0,1.0,1.0,1.0,1.0,1.0,1.0,1.0,1.0,1.0,1.0,1.0,1.0,1.0,1.0,1.0,1.0,1.0,1.0,1.0,1.0,1.0,1.0,1.0,1.0,1.0,1.0,1.0,1.0,1.0,1.0,1.0,1.0,1.0,1.0,1.0,1.0,1.0,1.0,1.0,1.0,1.0,1.0,1.0,1.0,1.0,1.0,1.0,1.0,1.0,1.0,1.0,1.0,1.0,1.0,1.0,1.0,1.0,1.0,1.0,1.0,1.0,1.0,1.0,1.0,1.0,1.0,1.0,1.0,1.0,1.0,1.0,1.0,1.0,1.0,1.0,1.0,1.0,1.0,1.0,1.0,1.0,1.0,1.0,1.0,1.0,1.0,1.0,1.0,1.0,1.0,1.0,1.0,1.0,1.0,1.0,1.0,1.0,1.0,1.0,1.0,1.0,1.0,1.0,1.0,1.0,1.0,1.0,1.0,1.0,1.0,1.0,1.0,1.0,1.0,1.0,1.0,1.0,1.0,1.0,1.0,1.0,1.0,1.0,1.0,1.0,1.0,1.0,1.0,1.0,1.0,1.0,1.0,1.0,1.0,1.0,1.0,1.0,1.0,1.0,1.0,1.0,1.0,1.0,1.0,1.0,1.0,1.0,1.0,1.0,1.0,1.0,1.0,1.0,1.0,1.0,1.0,1.0,1.0,1.0,1.0,1.0,1.0,1.0,1.0,1.0,1.0,1.0,1.0,1.0,1.0,1.0,1.0,1.0,1.0,1.0,1.0,1.0,1.0,1.0,1.0,1.0,1.0,1.0,1.0,1.0,1.0,1.0,1.0,1.0,1.0,1.0,1.0,1.0,1.0,1.0,1.0,1.0,1.0,1.0,1.0,1.0,1.0,1.0,1.0,1.0,1.0,1.0,1.0,1.0,1.0],\"xaxis\":\"x\",\"yaxis\":\"y\",\"type\":\"histogram\"}],                        {\"template\":{\"data\":{\"bar\":[{\"error_x\":{\"color\":\"#2a3f5f\"},\"error_y\":{\"color\":\"#2a3f5f\"},\"marker\":{\"line\":{\"color\":\"#E5ECF6\",\"width\":0.5},\"pattern\":{\"fillmode\":\"overlay\",\"size\":10,\"solidity\":0.2}},\"type\":\"bar\"}],\"barpolar\":[{\"marker\":{\"line\":{\"color\":\"#E5ECF6\",\"width\":0.5},\"pattern\":{\"fillmode\":\"overlay\",\"size\":10,\"solidity\":0.2}},\"type\":\"barpolar\"}],\"carpet\":[{\"aaxis\":{\"endlinecolor\":\"#2a3f5f\",\"gridcolor\":\"white\",\"linecolor\":\"white\",\"minorgridcolor\":\"white\",\"startlinecolor\":\"#2a3f5f\"},\"baxis\":{\"endlinecolor\":\"#2a3f5f\",\"gridcolor\":\"white\",\"linecolor\":\"white\",\"minorgridcolor\":\"white\",\"startlinecolor\":\"#2a3f5f\"},\"type\":\"carpet\"}],\"choropleth\":[{\"colorbar\":{\"outlinewidth\":0,\"ticks\":\"\"},\"type\":\"choropleth\"}],\"contour\":[{\"colorbar\":{\"outlinewidth\":0,\"ticks\":\"\"},\"colorscale\":[[0.0,\"#0d0887\"],[0.1111111111111111,\"#46039f\"],[0.2222222222222222,\"#7201a8\"],[0.3333333333333333,\"#9c179e\"],[0.4444444444444444,\"#bd3786\"],[0.5555555555555556,\"#d8576b\"],[0.6666666666666666,\"#ed7953\"],[0.7777777777777778,\"#fb9f3a\"],[0.8888888888888888,\"#fdca26\"],[1.0,\"#f0f921\"]],\"type\":\"contour\"}],\"contourcarpet\":[{\"colorbar\":{\"outlinewidth\":0,\"ticks\":\"\"},\"type\":\"contourcarpet\"}],\"heatmap\":[{\"colorbar\":{\"outlinewidth\":0,\"ticks\":\"\"},\"colorscale\":[[0.0,\"#0d0887\"],[0.1111111111111111,\"#46039f\"],[0.2222222222222222,\"#7201a8\"],[0.3333333333333333,\"#9c179e\"],[0.4444444444444444,\"#bd3786\"],[0.5555555555555556,\"#d8576b\"],[0.6666666666666666,\"#ed7953\"],[0.7777777777777778,\"#fb9f3a\"],[0.8888888888888888,\"#fdca26\"],[1.0,\"#f0f921\"]],\"type\":\"heatmap\"}],\"heatmapgl\":[{\"colorbar\":{\"outlinewidth\":0,\"ticks\":\"\"},\"colorscale\":[[0.0,\"#0d0887\"],[0.1111111111111111,\"#46039f\"],[0.2222222222222222,\"#7201a8\"],[0.3333333333333333,\"#9c179e\"],[0.4444444444444444,\"#bd3786\"],[0.5555555555555556,\"#d8576b\"],[0.6666666666666666,\"#ed7953\"],[0.7777777777777778,\"#fb9f3a\"],[0.8888888888888888,\"#fdca26\"],[1.0,\"#f0f921\"]],\"type\":\"heatmapgl\"}],\"histogram\":[{\"marker\":{\"pattern\":{\"fillmode\":\"overlay\",\"size\":10,\"solidity\":0.2}},\"type\":\"histogram\"}],\"histogram2d\":[{\"colorbar\":{\"outlinewidth\":0,\"ticks\":\"\"},\"colorscale\":[[0.0,\"#0d0887\"],[0.1111111111111111,\"#46039f\"],[0.2222222222222222,\"#7201a8\"],[0.3333333333333333,\"#9c179e\"],[0.4444444444444444,\"#bd3786\"],[0.5555555555555556,\"#d8576b\"],[0.6666666666666666,\"#ed7953\"],[0.7777777777777778,\"#fb9f3a\"],[0.8888888888888888,\"#fdca26\"],[1.0,\"#f0f921\"]],\"type\":\"histogram2d\"}],\"histogram2dcontour\":[{\"colorbar\":{\"outlinewidth\":0,\"ticks\":\"\"},\"colorscale\":[[0.0,\"#0d0887\"],[0.1111111111111111,\"#46039f\"],[0.2222222222222222,\"#7201a8\"],[0.3333333333333333,\"#9c179e\"],[0.4444444444444444,\"#bd3786\"],[0.5555555555555556,\"#d8576b\"],[0.6666666666666666,\"#ed7953\"],[0.7777777777777778,\"#fb9f3a\"],[0.8888888888888888,\"#fdca26\"],[1.0,\"#f0f921\"]],\"type\":\"histogram2dcontour\"}],\"mesh3d\":[{\"colorbar\":{\"outlinewidth\":0,\"ticks\":\"\"},\"type\":\"mesh3d\"}],\"parcoords\":[{\"line\":{\"colorbar\":{\"outlinewidth\":0,\"ticks\":\"\"}},\"type\":\"parcoords\"}],\"pie\":[{\"automargin\":true,\"type\":\"pie\"}],\"scatter\":[{\"marker\":{\"colorbar\":{\"outlinewidth\":0,\"ticks\":\"\"}},\"type\":\"scatter\"}],\"scatter3d\":[{\"line\":{\"colorbar\":{\"outlinewidth\":0,\"ticks\":\"\"}},\"marker\":{\"colorbar\":{\"outlinewidth\":0,\"ticks\":\"\"}},\"type\":\"scatter3d\"}],\"scattercarpet\":[{\"marker\":{\"colorbar\":{\"outlinewidth\":0,\"ticks\":\"\"}},\"type\":\"scattercarpet\"}],\"scattergeo\":[{\"marker\":{\"colorbar\":{\"outlinewidth\":0,\"ticks\":\"\"}},\"type\":\"scattergeo\"}],\"scattergl\":[{\"marker\":{\"colorbar\":{\"outlinewidth\":0,\"ticks\":\"\"}},\"type\":\"scattergl\"}],\"scattermapbox\":[{\"marker\":{\"colorbar\":{\"outlinewidth\":0,\"ticks\":\"\"}},\"type\":\"scattermapbox\"}],\"scatterpolar\":[{\"marker\":{\"colorbar\":{\"outlinewidth\":0,\"ticks\":\"\"}},\"type\":\"scatterpolar\"}],\"scatterpolargl\":[{\"marker\":{\"colorbar\":{\"outlinewidth\":0,\"ticks\":\"\"}},\"type\":\"scatterpolargl\"}],\"scatterternary\":[{\"marker\":{\"colorbar\":{\"outlinewidth\":0,\"ticks\":\"\"}},\"type\":\"scatterternary\"}],\"surface\":[{\"colorbar\":{\"outlinewidth\":0,\"ticks\":\"\"},\"colorscale\":[[0.0,\"#0d0887\"],[0.1111111111111111,\"#46039f\"],[0.2222222222222222,\"#7201a8\"],[0.3333333333333333,\"#9c179e\"],[0.4444444444444444,\"#bd3786\"],[0.5555555555555556,\"#d8576b\"],[0.6666666666666666,\"#ed7953\"],[0.7777777777777778,\"#fb9f3a\"],[0.8888888888888888,\"#fdca26\"],[1.0,\"#f0f921\"]],\"type\":\"surface\"}],\"table\":[{\"cells\":{\"fill\":{\"color\":\"#EBF0F8\"},\"line\":{\"color\":\"white\"}},\"header\":{\"fill\":{\"color\":\"#C8D4E3\"},\"line\":{\"color\":\"white\"}},\"type\":\"table\"}]},\"layout\":{\"annotationdefaults\":{\"arrowcolor\":\"#2a3f5f\",\"arrowhead\":0,\"arrowwidth\":1},\"autotypenumbers\":\"strict\",\"coloraxis\":{\"colorbar\":{\"outlinewidth\":0,\"ticks\":\"\"}},\"colorscale\":{\"diverging\":[[0,\"#8e0152\"],[0.1,\"#c51b7d\"],[0.2,\"#de77ae\"],[0.3,\"#f1b6da\"],[0.4,\"#fde0ef\"],[0.5,\"#f7f7f7\"],[0.6,\"#e6f5d0\"],[0.7,\"#b8e186\"],[0.8,\"#7fbc41\"],[0.9,\"#4d9221\"],[1,\"#276419\"]],\"sequential\":[[0.0,\"#0d0887\"],[0.1111111111111111,\"#46039f\"],[0.2222222222222222,\"#7201a8\"],[0.3333333333333333,\"#9c179e\"],[0.4444444444444444,\"#bd3786\"],[0.5555555555555556,\"#d8576b\"],[0.6666666666666666,\"#ed7953\"],[0.7777777777777778,\"#fb9f3a\"],[0.8888888888888888,\"#fdca26\"],[1.0,\"#f0f921\"]],\"sequentialminus\":[[0.0,\"#0d0887\"],[0.1111111111111111,\"#46039f\"],[0.2222222222222222,\"#7201a8\"],[0.3333333333333333,\"#9c179e\"],[0.4444444444444444,\"#bd3786\"],[0.5555555555555556,\"#d8576b\"],[0.6666666666666666,\"#ed7953\"],[0.7777777777777778,\"#fb9f3a\"],[0.8888888888888888,\"#fdca26\"],[1.0,\"#f0f921\"]]},\"colorway\":[\"#636efa\",\"#EF553B\",\"#00cc96\",\"#ab63fa\",\"#FFA15A\",\"#19d3f3\",\"#FF6692\",\"#B6E880\",\"#FF97FF\",\"#FECB52\"],\"font\":{\"color\":\"#2a3f5f\"},\"geo\":{\"bgcolor\":\"white\",\"lakecolor\":\"white\",\"landcolor\":\"#E5ECF6\",\"showlakes\":true,\"showland\":true,\"subunitcolor\":\"white\"},\"hoverlabel\":{\"align\":\"left\"},\"hovermode\":\"closest\",\"mapbox\":{\"style\":\"light\"},\"paper_bgcolor\":\"white\",\"plot_bgcolor\":\"#E5ECF6\",\"polar\":{\"angularaxis\":{\"gridcolor\":\"white\",\"linecolor\":\"white\",\"ticks\":\"\"},\"bgcolor\":\"#E5ECF6\",\"radialaxis\":{\"gridcolor\":\"white\",\"linecolor\":\"white\",\"ticks\":\"\"}},\"scene\":{\"xaxis\":{\"backgroundcolor\":\"#E5ECF6\",\"gridcolor\":\"white\",\"gridwidth\":2,\"linecolor\":\"white\",\"showbackground\":true,\"ticks\":\"\",\"zerolinecolor\":\"white\"},\"yaxis\":{\"backgroundcolor\":\"#E5ECF6\",\"gridcolor\":\"white\",\"gridwidth\":2,\"linecolor\":\"white\",\"showbackground\":true,\"ticks\":\"\",\"zerolinecolor\":\"white\"},\"zaxis\":{\"backgroundcolor\":\"#E5ECF6\",\"gridcolor\":\"white\",\"gridwidth\":2,\"linecolor\":\"white\",\"showbackground\":true,\"ticks\":\"\",\"zerolinecolor\":\"white\"}},\"shapedefaults\":{\"line\":{\"color\":\"#2a3f5f\"}},\"ternary\":{\"aaxis\":{\"gridcolor\":\"white\",\"linecolor\":\"white\",\"ticks\":\"\"},\"baxis\":{\"gridcolor\":\"white\",\"linecolor\":\"white\",\"ticks\":\"\"},\"bgcolor\":\"#E5ECF6\",\"caxis\":{\"gridcolor\":\"white\",\"linecolor\":\"white\",\"ticks\":\"\"}},\"title\":{\"x\":0.05},\"xaxis\":{\"automargin\":true,\"gridcolor\":\"white\",\"linecolor\":\"white\",\"ticks\":\"\",\"title\":{\"standoff\":15},\"zerolinecolor\":\"white\",\"zerolinewidth\":2},\"yaxis\":{\"automargin\":true,\"gridcolor\":\"white\",\"linecolor\":\"white\",\"ticks\":\"\",\"title\":{\"standoff\":15},\"zerolinecolor\":\"white\",\"zerolinewidth\":2}}},\"xaxis\":{\"anchor\":\"y\",\"domain\":[0.0,1.0],\"title\":{\"text\":\"Survived\"},\"categoryorder\":\"array\",\"categoryarray\":[0.0,1.0]},\"yaxis\":{\"anchor\":\"x\",\"domain\":[0.0,1.0],\"title\":{\"text\":\"count\"}},\"legend\":{\"title\":{\"text\":\"Survived\"},\"tracegroupgap\":0},\"margin\":{\"t\":60},\"barmode\":\"relative\"},                        {\"responsive\": true}                    ).then(function(){\n",
       "                            \n",
       "var gd = document.getElementById('548cfd38-2a46-49cc-89c6-d4ea4b34f942');\n",
       "var x = new MutationObserver(function (mutations, observer) {{\n",
       "        var display = window.getComputedStyle(gd).display;\n",
       "        if (!display || display === 'none') {{\n",
       "            console.log([gd, 'removed!']);\n",
       "            Plotly.purge(gd);\n",
       "            observer.disconnect();\n",
       "        }}\n",
       "}});\n",
       "\n",
       "// Listen for the removal of the full notebook cells\n",
       "var notebookContainer = gd.closest('#notebook-container');\n",
       "if (notebookContainer) {{\n",
       "    x.observe(notebookContainer, {childList: true});\n",
       "}}\n",
       "\n",
       "// Listen for the clearing of the current output cell\n",
       "var outputEl = gd.closest('.output');\n",
       "if (outputEl) {{\n",
       "    x.observe(outputEl, {childList: true});\n",
       "}}\n",
       "\n",
       "                        })                };                });            </script>        </div>"
      ]
     },
     "metadata": {},
     "output_type": "display_data"
    },
    {
     "data": {
      "application/vnd.plotly.v1+json": {
       "config": {
        "plotlyServerURL": "https://plot.ly"
       },
       "data": [
        {
         "alignmentgroup": "True",
         "bingroup": "x",
         "hovertemplate": "Survived=0.0<br>Pclass=%{x}<br>count=%{y}<extra></extra>",
         "legendgroup": "0.0",
         "marker": {
          "color": "#636efa",
          "pattern": {
           "shape": ""
          }
         },
         "name": "0.0",
         "offsetgroup": "0.0",
         "orientation": "v",
         "showlegend": true,
         "type": "histogram",
         "x": [
          3,
          3,
          3,
          1,
          3,
          3,
          3,
          3,
          3,
          3,
          2,
          3,
          3,
          1,
          3,
          1,
          2,
          1,
          1,
          3,
          3,
          3,
          2,
          3,
          3,
          3,
          3,
          3,
          3,
          3,
          1,
          3,
          3,
          3,
          1,
          3,
          1,
          3,
          3,
          2,
          3,
          2,
          3,
          3,
          3,
          3,
          3,
          1,
          3,
          3,
          3,
          3,
          3,
          1,
          3,
          3,
          3,
          1,
          2,
          3,
          3,
          1,
          3,
          3,
          3,
          3,
          1,
          3,
          3,
          3,
          3,
          3,
          3,
          2,
          1,
          3,
          2,
          3,
          2,
          1,
          3,
          3,
          3,
          3,
          3,
          2,
          2,
          1,
          3,
          1,
          3,
          3,
          2,
          2,
          3,
          2,
          2,
          2,
          3,
          3,
          3,
          1,
          3,
          3,
          3,
          3,
          3,
          3,
          3,
          3,
          1,
          3,
          1,
          3,
          3,
          1,
          3,
          3,
          1,
          2,
          3,
          3,
          2,
          3,
          1,
          3,
          3,
          2,
          3,
          3,
          2,
          3,
          3,
          3,
          3,
          3,
          3,
          3,
          3,
          2,
          3,
          2,
          2,
          2,
          3,
          3,
          3,
          3,
          2,
          3,
          3,
          2,
          2,
          3,
          2,
          2,
          2,
          3,
          2,
          3,
          3,
          1,
          3,
          2,
          3,
          3,
          1,
          3,
          3,
          3,
          1,
          1,
          3,
          2,
          3,
          1,
          1,
          3,
          2,
          3,
          3,
          3,
          3,
          1,
          3,
          3,
          2,
          3,
          3,
          1,
          3,
          1,
          3,
          3,
          2,
          2,
          3,
          2,
          2,
          3,
          3,
          3,
          3,
          1,
          1,
          3,
          3,
          1,
          1,
          2,
          2,
          2,
          3,
          3,
          1,
          3,
          3,
          3,
          3,
          2,
          3,
          2,
          3,
          3,
          3,
          3,
          3,
          3,
          1,
          3,
          1,
          3,
          3,
          3,
          3,
          2,
          3,
          3,
          3,
          3,
          3,
          2,
          2,
          3,
          3,
          3,
          3,
          2,
          3,
          3,
          3,
          3,
          3,
          2,
          3,
          2,
          3,
          3,
          3,
          3,
          3,
          3,
          3,
          3,
          3,
          1,
          3,
          1,
          2,
          3,
          3,
          2,
          3,
          1,
          3,
          1,
          3,
          3,
          1,
          2,
          3,
          3,
          2,
          1,
          3,
          3,
          3,
          3,
          1,
          2,
          3,
          3,
          3,
          2,
          3,
          3,
          1,
          3,
          3,
          3,
          1,
          1,
          3,
          3,
          3,
          1,
          3,
          3,
          3,
          3,
          3,
          1,
          3,
          3,
          3,
          1,
          3,
          3,
          3,
          3,
          3,
          3,
          1,
          3,
          2,
          3,
          3,
          3,
          1,
          3,
          3,
          3,
          1,
          1,
          3,
          2,
          3,
          1,
          1,
          3,
          3,
          2,
          3,
          3,
          3,
          3,
          3,
          3,
          3,
          3,
          3,
          2,
          1,
          3,
          2,
          3,
          3,
          3,
          3,
          3,
          2,
          3,
          3,
          3,
          3,
          1,
          3,
          3,
          3,
          3,
          3,
          3,
          3,
          3,
          3,
          2,
          3,
          3,
          3,
          1,
          2,
          3,
          3,
          3,
          1,
          3,
          3,
          2,
          3,
          3,
          3,
          3,
          3,
          3,
          3,
          3,
          3,
          2,
          3,
          3,
          2,
          1,
          3,
          1,
          3,
          2,
          2,
          3,
          3,
          1,
          2,
          2,
          3,
          3,
          3,
          3,
          3,
          3,
          2,
          2,
          3,
          3,
          3,
          3,
          1,
          2,
          3,
          1,
          3,
          3,
          3,
          3,
          2,
          1,
          3,
          2,
          3,
          3,
          3,
          3,
          2,
          2,
          3,
          2,
          3,
          3,
          2,
          2,
          2,
          3,
          3,
          3,
          3,
          1,
          3,
          1,
          3,
          1,
          3,
          3,
          3,
          3,
          2,
          3,
          3,
          3,
          3,
          1,
          3,
          3,
          3,
          3,
          3,
          2,
          3,
          3,
          3,
          3,
          1,
          3,
          3,
          3,
          3,
          1,
          3,
          2,
          3,
          1,
          3,
          2,
          3,
          3,
          2,
          3,
          1,
          3,
          2,
          3,
          3,
          2,
          3,
          3,
          1,
          3,
          2,
          3,
          3,
          1,
          3,
          3,
          3,
          3,
          3,
          3,
          3,
          3,
          3,
          2,
          3,
          3,
          3,
          3,
          3,
          2,
          3,
          3,
          3,
          2,
          3,
          3,
          2,
          3,
          2,
          1,
          3,
          3,
          1,
          3,
          3,
          3,
          3,
          3,
          3,
          2,
          3,
          3,
          2,
          3,
          3
         ],
         "xaxis": "x",
         "yaxis": "y"
        },
        {
         "alignmentgroup": "True",
         "bingroup": "x",
         "hovertemplate": "Survived=1.0<br>Pclass=%{x}<br>count=%{y}<extra></extra>",
         "legendgroup": "1.0",
         "marker": {
          "color": "#EF553B",
          "pattern": {
           "shape": ""
          }
         },
         "name": "1.0",
         "offsetgroup": "1.0",
         "orientation": "v",
         "showlegend": true,
         "type": "histogram",
         "x": [
          1,
          3,
          1,
          3,
          2,
          3,
          1,
          2,
          2,
          3,
          2,
          3,
          1,
          3,
          3,
          1,
          3,
          3,
          3,
          2,
          3,
          3,
          1,
          2,
          1,
          2,
          2,
          1,
          3,
          2,
          3,
          3,
          2,
          3,
          3,
          3,
          2,
          3,
          1,
          1,
          2,
          3,
          3,
          3,
          2,
          3,
          3,
          3,
          2,
          1,
          3,
          3,
          3,
          1,
          3,
          2,
          3,
          1,
          3,
          2,
          3,
          3,
          1,
          2,
          3,
          2,
          1,
          1,
          3,
          3,
          3,
          3,
          1,
          2,
          1,
          3,
          1,
          3,
          1,
          2,
          1,
          3,
          2,
          3,
          2,
          1,
          3,
          1,
          1,
          1,
          2,
          3,
          3,
          1,
          1,
          3,
          2,
          3,
          1,
          3,
          3,
          3,
          2,
          3,
          1,
          1,
          1,
          1,
          3,
          3,
          2,
          1,
          1,
          1,
          1,
          1,
          1,
          3,
          2,
          1,
          1,
          2,
          2,
          1,
          2,
          3,
          1,
          3,
          1,
          1,
          3,
          2,
          1,
          2,
          2,
          3,
          3,
          1,
          3,
          3,
          1,
          3,
          3,
          1,
          1,
          1,
          3,
          1,
          3,
          1,
          2,
          2,
          1,
          3,
          1,
          3,
          2,
          3,
          2,
          1,
          3,
          2,
          2,
          2,
          2,
          3,
          1,
          3,
          2,
          1,
          2,
          2,
          2,
          3,
          1,
          2,
          1,
          3,
          1,
          1,
          3,
          1,
          2,
          1,
          3,
          2,
          2,
          3,
          3,
          1,
          1,
          3,
          1,
          1,
          2,
          1,
          3,
          3,
          1,
          1,
          2,
          2,
          1,
          1,
          2,
          2,
          3,
          2,
          1,
          1,
          1,
          2,
          2,
          2,
          2,
          1,
          3,
          3,
          1,
          1,
          3,
          3,
          2,
          1,
          1,
          3,
          2,
          1,
          3,
          2,
          1,
          1,
          1,
          1,
          2,
          1,
          2,
          1,
          1,
          2,
          1,
          3,
          2,
          2,
          1,
          3,
          1,
          1,
          1,
          2,
          1,
          3,
          3,
          1,
          1,
          3,
          2,
          3,
          1,
          3,
          1,
          2,
          2,
          3,
          1,
          1,
          1,
          1,
          3,
          3,
          3,
          1,
          1,
          2,
          1,
          1,
          3,
          1,
          1,
          1,
          2,
          2,
          1,
          2,
          3,
          1,
          1,
          1,
          1,
          3,
          2,
          2,
          3,
          2,
          2,
          1,
          3,
          1,
          1,
          2,
          3,
          1,
          3,
          1,
          3,
          3,
          1,
          3,
          2,
          1,
          3,
          3,
          1,
          1,
          3,
          3,
          2,
          3,
          1,
          3,
          2,
          1,
          3,
          1,
          1,
          1,
          1,
          3,
          1,
          1,
          3,
          1,
          2,
          2,
          3,
          1,
          2,
          3,
          1,
          2,
          1,
          1
         ],
         "xaxis": "x",
         "yaxis": "y"
        }
       ],
       "layout": {
        "barmode": "relative",
        "legend": {
         "title": {
          "text": "Survived"
         },
         "tracegroupgap": 0
        },
        "margin": {
         "t": 60
        },
        "template": {
         "data": {
          "bar": [
           {
            "error_x": {
             "color": "#2a3f5f"
            },
            "error_y": {
             "color": "#2a3f5f"
            },
            "marker": {
             "line": {
              "color": "#E5ECF6",
              "width": 0.5
             },
             "pattern": {
              "fillmode": "overlay",
              "size": 10,
              "solidity": 0.2
             }
            },
            "type": "bar"
           }
          ],
          "barpolar": [
           {
            "marker": {
             "line": {
              "color": "#E5ECF6",
              "width": 0.5
             },
             "pattern": {
              "fillmode": "overlay",
              "size": 10,
              "solidity": 0.2
             }
            },
            "type": "barpolar"
           }
          ],
          "carpet": [
           {
            "aaxis": {
             "endlinecolor": "#2a3f5f",
             "gridcolor": "white",
             "linecolor": "white",
             "minorgridcolor": "white",
             "startlinecolor": "#2a3f5f"
            },
            "baxis": {
             "endlinecolor": "#2a3f5f",
             "gridcolor": "white",
             "linecolor": "white",
             "minorgridcolor": "white",
             "startlinecolor": "#2a3f5f"
            },
            "type": "carpet"
           }
          ],
          "choropleth": [
           {
            "colorbar": {
             "outlinewidth": 0,
             "ticks": ""
            },
            "type": "choropleth"
           }
          ],
          "contour": [
           {
            "colorbar": {
             "outlinewidth": 0,
             "ticks": ""
            },
            "colorscale": [
             [
              0,
              "#0d0887"
             ],
             [
              0.1111111111111111,
              "#46039f"
             ],
             [
              0.2222222222222222,
              "#7201a8"
             ],
             [
              0.3333333333333333,
              "#9c179e"
             ],
             [
              0.4444444444444444,
              "#bd3786"
             ],
             [
              0.5555555555555556,
              "#d8576b"
             ],
             [
              0.6666666666666666,
              "#ed7953"
             ],
             [
              0.7777777777777778,
              "#fb9f3a"
             ],
             [
              0.8888888888888888,
              "#fdca26"
             ],
             [
              1,
              "#f0f921"
             ]
            ],
            "type": "contour"
           }
          ],
          "contourcarpet": [
           {
            "colorbar": {
             "outlinewidth": 0,
             "ticks": ""
            },
            "type": "contourcarpet"
           }
          ],
          "heatmap": [
           {
            "colorbar": {
             "outlinewidth": 0,
             "ticks": ""
            },
            "colorscale": [
             [
              0,
              "#0d0887"
             ],
             [
              0.1111111111111111,
              "#46039f"
             ],
             [
              0.2222222222222222,
              "#7201a8"
             ],
             [
              0.3333333333333333,
              "#9c179e"
             ],
             [
              0.4444444444444444,
              "#bd3786"
             ],
             [
              0.5555555555555556,
              "#d8576b"
             ],
             [
              0.6666666666666666,
              "#ed7953"
             ],
             [
              0.7777777777777778,
              "#fb9f3a"
             ],
             [
              0.8888888888888888,
              "#fdca26"
             ],
             [
              1,
              "#f0f921"
             ]
            ],
            "type": "heatmap"
           }
          ],
          "heatmapgl": [
           {
            "colorbar": {
             "outlinewidth": 0,
             "ticks": ""
            },
            "colorscale": [
             [
              0,
              "#0d0887"
             ],
             [
              0.1111111111111111,
              "#46039f"
             ],
             [
              0.2222222222222222,
              "#7201a8"
             ],
             [
              0.3333333333333333,
              "#9c179e"
             ],
             [
              0.4444444444444444,
              "#bd3786"
             ],
             [
              0.5555555555555556,
              "#d8576b"
             ],
             [
              0.6666666666666666,
              "#ed7953"
             ],
             [
              0.7777777777777778,
              "#fb9f3a"
             ],
             [
              0.8888888888888888,
              "#fdca26"
             ],
             [
              1,
              "#f0f921"
             ]
            ],
            "type": "heatmapgl"
           }
          ],
          "histogram": [
           {
            "marker": {
             "pattern": {
              "fillmode": "overlay",
              "size": 10,
              "solidity": 0.2
             }
            },
            "type": "histogram"
           }
          ],
          "histogram2d": [
           {
            "colorbar": {
             "outlinewidth": 0,
             "ticks": ""
            },
            "colorscale": [
             [
              0,
              "#0d0887"
             ],
             [
              0.1111111111111111,
              "#46039f"
             ],
             [
              0.2222222222222222,
              "#7201a8"
             ],
             [
              0.3333333333333333,
              "#9c179e"
             ],
             [
              0.4444444444444444,
              "#bd3786"
             ],
             [
              0.5555555555555556,
              "#d8576b"
             ],
             [
              0.6666666666666666,
              "#ed7953"
             ],
             [
              0.7777777777777778,
              "#fb9f3a"
             ],
             [
              0.8888888888888888,
              "#fdca26"
             ],
             [
              1,
              "#f0f921"
             ]
            ],
            "type": "histogram2d"
           }
          ],
          "histogram2dcontour": [
           {
            "colorbar": {
             "outlinewidth": 0,
             "ticks": ""
            },
            "colorscale": [
             [
              0,
              "#0d0887"
             ],
             [
              0.1111111111111111,
              "#46039f"
             ],
             [
              0.2222222222222222,
              "#7201a8"
             ],
             [
              0.3333333333333333,
              "#9c179e"
             ],
             [
              0.4444444444444444,
              "#bd3786"
             ],
             [
              0.5555555555555556,
              "#d8576b"
             ],
             [
              0.6666666666666666,
              "#ed7953"
             ],
             [
              0.7777777777777778,
              "#fb9f3a"
             ],
             [
              0.8888888888888888,
              "#fdca26"
             ],
             [
              1,
              "#f0f921"
             ]
            ],
            "type": "histogram2dcontour"
           }
          ],
          "mesh3d": [
           {
            "colorbar": {
             "outlinewidth": 0,
             "ticks": ""
            },
            "type": "mesh3d"
           }
          ],
          "parcoords": [
           {
            "line": {
             "colorbar": {
              "outlinewidth": 0,
              "ticks": ""
             }
            },
            "type": "parcoords"
           }
          ],
          "pie": [
           {
            "automargin": true,
            "type": "pie"
           }
          ],
          "scatter": [
           {
            "marker": {
             "colorbar": {
              "outlinewidth": 0,
              "ticks": ""
             }
            },
            "type": "scatter"
           }
          ],
          "scatter3d": [
           {
            "line": {
             "colorbar": {
              "outlinewidth": 0,
              "ticks": ""
             }
            },
            "marker": {
             "colorbar": {
              "outlinewidth": 0,
              "ticks": ""
             }
            },
            "type": "scatter3d"
           }
          ],
          "scattercarpet": [
           {
            "marker": {
             "colorbar": {
              "outlinewidth": 0,
              "ticks": ""
             }
            },
            "type": "scattercarpet"
           }
          ],
          "scattergeo": [
           {
            "marker": {
             "colorbar": {
              "outlinewidth": 0,
              "ticks": ""
             }
            },
            "type": "scattergeo"
           }
          ],
          "scattergl": [
           {
            "marker": {
             "colorbar": {
              "outlinewidth": 0,
              "ticks": ""
             }
            },
            "type": "scattergl"
           }
          ],
          "scattermapbox": [
           {
            "marker": {
             "colorbar": {
              "outlinewidth": 0,
              "ticks": ""
             }
            },
            "type": "scattermapbox"
           }
          ],
          "scatterpolar": [
           {
            "marker": {
             "colorbar": {
              "outlinewidth": 0,
              "ticks": ""
             }
            },
            "type": "scatterpolar"
           }
          ],
          "scatterpolargl": [
           {
            "marker": {
             "colorbar": {
              "outlinewidth": 0,
              "ticks": ""
             }
            },
            "type": "scatterpolargl"
           }
          ],
          "scatterternary": [
           {
            "marker": {
             "colorbar": {
              "outlinewidth": 0,
              "ticks": ""
             }
            },
            "type": "scatterternary"
           }
          ],
          "surface": [
           {
            "colorbar": {
             "outlinewidth": 0,
             "ticks": ""
            },
            "colorscale": [
             [
              0,
              "#0d0887"
             ],
             [
              0.1111111111111111,
              "#46039f"
             ],
             [
              0.2222222222222222,
              "#7201a8"
             ],
             [
              0.3333333333333333,
              "#9c179e"
             ],
             [
              0.4444444444444444,
              "#bd3786"
             ],
             [
              0.5555555555555556,
              "#d8576b"
             ],
             [
              0.6666666666666666,
              "#ed7953"
             ],
             [
              0.7777777777777778,
              "#fb9f3a"
             ],
             [
              0.8888888888888888,
              "#fdca26"
             ],
             [
              1,
              "#f0f921"
             ]
            ],
            "type": "surface"
           }
          ],
          "table": [
           {
            "cells": {
             "fill": {
              "color": "#EBF0F8"
             },
             "line": {
              "color": "white"
             }
            },
            "header": {
             "fill": {
              "color": "#C8D4E3"
             },
             "line": {
              "color": "white"
             }
            },
            "type": "table"
           }
          ]
         },
         "layout": {
          "annotationdefaults": {
           "arrowcolor": "#2a3f5f",
           "arrowhead": 0,
           "arrowwidth": 1
          },
          "autotypenumbers": "strict",
          "coloraxis": {
           "colorbar": {
            "outlinewidth": 0,
            "ticks": ""
           }
          },
          "colorscale": {
           "diverging": [
            [
             0,
             "#8e0152"
            ],
            [
             0.1,
             "#c51b7d"
            ],
            [
             0.2,
             "#de77ae"
            ],
            [
             0.3,
             "#f1b6da"
            ],
            [
             0.4,
             "#fde0ef"
            ],
            [
             0.5,
             "#f7f7f7"
            ],
            [
             0.6,
             "#e6f5d0"
            ],
            [
             0.7,
             "#b8e186"
            ],
            [
             0.8,
             "#7fbc41"
            ],
            [
             0.9,
             "#4d9221"
            ],
            [
             1,
             "#276419"
            ]
           ],
           "sequential": [
            [
             0,
             "#0d0887"
            ],
            [
             0.1111111111111111,
             "#46039f"
            ],
            [
             0.2222222222222222,
             "#7201a8"
            ],
            [
             0.3333333333333333,
             "#9c179e"
            ],
            [
             0.4444444444444444,
             "#bd3786"
            ],
            [
             0.5555555555555556,
             "#d8576b"
            ],
            [
             0.6666666666666666,
             "#ed7953"
            ],
            [
             0.7777777777777778,
             "#fb9f3a"
            ],
            [
             0.8888888888888888,
             "#fdca26"
            ],
            [
             1,
             "#f0f921"
            ]
           ],
           "sequentialminus": [
            [
             0,
             "#0d0887"
            ],
            [
             0.1111111111111111,
             "#46039f"
            ],
            [
             0.2222222222222222,
             "#7201a8"
            ],
            [
             0.3333333333333333,
             "#9c179e"
            ],
            [
             0.4444444444444444,
             "#bd3786"
            ],
            [
             0.5555555555555556,
             "#d8576b"
            ],
            [
             0.6666666666666666,
             "#ed7953"
            ],
            [
             0.7777777777777778,
             "#fb9f3a"
            ],
            [
             0.8888888888888888,
             "#fdca26"
            ],
            [
             1,
             "#f0f921"
            ]
           ]
          },
          "colorway": [
           "#636efa",
           "#EF553B",
           "#00cc96",
           "#ab63fa",
           "#FFA15A",
           "#19d3f3",
           "#FF6692",
           "#B6E880",
           "#FF97FF",
           "#FECB52"
          ],
          "font": {
           "color": "#2a3f5f"
          },
          "geo": {
           "bgcolor": "white",
           "lakecolor": "white",
           "landcolor": "#E5ECF6",
           "showlakes": true,
           "showland": true,
           "subunitcolor": "white"
          },
          "hoverlabel": {
           "align": "left"
          },
          "hovermode": "closest",
          "mapbox": {
           "style": "light"
          },
          "paper_bgcolor": "white",
          "plot_bgcolor": "#E5ECF6",
          "polar": {
           "angularaxis": {
            "gridcolor": "white",
            "linecolor": "white",
            "ticks": ""
           },
           "bgcolor": "#E5ECF6",
           "radialaxis": {
            "gridcolor": "white",
            "linecolor": "white",
            "ticks": ""
           }
          },
          "scene": {
           "xaxis": {
            "backgroundcolor": "#E5ECF6",
            "gridcolor": "white",
            "gridwidth": 2,
            "linecolor": "white",
            "showbackground": true,
            "ticks": "",
            "zerolinecolor": "white"
           },
           "yaxis": {
            "backgroundcolor": "#E5ECF6",
            "gridcolor": "white",
            "gridwidth": 2,
            "linecolor": "white",
            "showbackground": true,
            "ticks": "",
            "zerolinecolor": "white"
           },
           "zaxis": {
            "backgroundcolor": "#E5ECF6",
            "gridcolor": "white",
            "gridwidth": 2,
            "linecolor": "white",
            "showbackground": true,
            "ticks": "",
            "zerolinecolor": "white"
           }
          },
          "shapedefaults": {
           "line": {
            "color": "#2a3f5f"
           }
          },
          "ternary": {
           "aaxis": {
            "gridcolor": "white",
            "linecolor": "white",
            "ticks": ""
           },
           "baxis": {
            "gridcolor": "white",
            "linecolor": "white",
            "ticks": ""
           },
           "bgcolor": "#E5ECF6",
           "caxis": {
            "gridcolor": "white",
            "linecolor": "white",
            "ticks": ""
           }
          },
          "title": {
           "x": 0.05
          },
          "xaxis": {
           "automargin": true,
           "gridcolor": "white",
           "linecolor": "white",
           "ticks": "",
           "title": {
            "standoff": 15
           },
           "zerolinecolor": "white",
           "zerolinewidth": 2
          },
          "yaxis": {
           "automargin": true,
           "gridcolor": "white",
           "linecolor": "white",
           "ticks": "",
           "title": {
            "standoff": 15
           },
           "zerolinecolor": "white",
           "zerolinewidth": 2
          }
         }
        },
        "xaxis": {
         "anchor": "y",
         "domain": [
          0,
          1
         ],
         "title": {
          "text": "Pclass"
         }
        },
        "yaxis": {
         "anchor": "x",
         "domain": [
          0,
          1
         ],
         "title": {
          "text": "count"
         }
        }
       }
      },
      "text/html": [
       "<div>                            <div id=\"e7bf3a8e-5e99-4ff8-87fd-f8ea3e3e83c0\" class=\"plotly-graph-div\" style=\"height:525px; width:100%;\"></div>            <script type=\"text/javascript\">                require([\"plotly\"], function(Plotly) {                    window.PLOTLYENV=window.PLOTLYENV || {};                                    if (document.getElementById(\"e7bf3a8e-5e99-4ff8-87fd-f8ea3e3e83c0\")) {                    Plotly.newPlot(                        \"e7bf3a8e-5e99-4ff8-87fd-f8ea3e3e83c0\",                        [{\"alignmentgroup\":\"True\",\"bingroup\":\"x\",\"hovertemplate\":\"Survived=0.0<br>Pclass=%{x}<br>count=%{y}<extra></extra>\",\"legendgroup\":\"0.0\",\"marker\":{\"color\":\"#636efa\",\"pattern\":{\"shape\":\"\"}},\"name\":\"0.0\",\"offsetgroup\":\"0.0\",\"orientation\":\"v\",\"showlegend\":true,\"x\":[3.0,3.0,3.0,1.0,3.0,3.0,3.0,3.0,3.0,3.0,2.0,3.0,3.0,1.0,3.0,1.0,2.0,1.0,1.0,3.0,3.0,3.0,2.0,3.0,3.0,3.0,3.0,3.0,3.0,3.0,1.0,3.0,3.0,3.0,1.0,3.0,1.0,3.0,3.0,2.0,3.0,2.0,3.0,3.0,3.0,3.0,3.0,1.0,3.0,3.0,3.0,3.0,3.0,1.0,3.0,3.0,3.0,1.0,2.0,3.0,3.0,1.0,3.0,3.0,3.0,3.0,1.0,3.0,3.0,3.0,3.0,3.0,3.0,2.0,1.0,3.0,2.0,3.0,2.0,1.0,3.0,3.0,3.0,3.0,3.0,2.0,2.0,1.0,3.0,1.0,3.0,3.0,2.0,2.0,3.0,2.0,2.0,2.0,3.0,3.0,3.0,1.0,3.0,3.0,3.0,3.0,3.0,3.0,3.0,3.0,1.0,3.0,1.0,3.0,3.0,1.0,3.0,3.0,1.0,2.0,3.0,3.0,2.0,3.0,1.0,3.0,3.0,2.0,3.0,3.0,2.0,3.0,3.0,3.0,3.0,3.0,3.0,3.0,3.0,2.0,3.0,2.0,2.0,2.0,3.0,3.0,3.0,3.0,2.0,3.0,3.0,2.0,2.0,3.0,2.0,2.0,2.0,3.0,2.0,3.0,3.0,1.0,3.0,2.0,3.0,3.0,1.0,3.0,3.0,3.0,1.0,1.0,3.0,2.0,3.0,1.0,1.0,3.0,2.0,3.0,3.0,3.0,3.0,1.0,3.0,3.0,2.0,3.0,3.0,1.0,3.0,1.0,3.0,3.0,2.0,2.0,3.0,2.0,2.0,3.0,3.0,3.0,3.0,1.0,1.0,3.0,3.0,1.0,1.0,2.0,2.0,2.0,3.0,3.0,1.0,3.0,3.0,3.0,3.0,2.0,3.0,2.0,3.0,3.0,3.0,3.0,3.0,3.0,1.0,3.0,1.0,3.0,3.0,3.0,3.0,2.0,3.0,3.0,3.0,3.0,3.0,2.0,2.0,3.0,3.0,3.0,3.0,2.0,3.0,3.0,3.0,3.0,3.0,2.0,3.0,2.0,3.0,3.0,3.0,3.0,3.0,3.0,3.0,3.0,3.0,1.0,3.0,1.0,2.0,3.0,3.0,2.0,3.0,1.0,3.0,1.0,3.0,3.0,1.0,2.0,3.0,3.0,2.0,1.0,3.0,3.0,3.0,3.0,1.0,2.0,3.0,3.0,3.0,2.0,3.0,3.0,1.0,3.0,3.0,3.0,1.0,1.0,3.0,3.0,3.0,1.0,3.0,3.0,3.0,3.0,3.0,1.0,3.0,3.0,3.0,1.0,3.0,3.0,3.0,3.0,3.0,3.0,1.0,3.0,2.0,3.0,3.0,3.0,1.0,3.0,3.0,3.0,1.0,1.0,3.0,2.0,3.0,1.0,1.0,3.0,3.0,2.0,3.0,3.0,3.0,3.0,3.0,3.0,3.0,3.0,3.0,2.0,1.0,3.0,2.0,3.0,3.0,3.0,3.0,3.0,2.0,3.0,3.0,3.0,3.0,1.0,3.0,3.0,3.0,3.0,3.0,3.0,3.0,3.0,3.0,2.0,3.0,3.0,3.0,1.0,2.0,3.0,3.0,3.0,1.0,3.0,3.0,2.0,3.0,3.0,3.0,3.0,3.0,3.0,3.0,3.0,3.0,2.0,3.0,3.0,2.0,1.0,3.0,1.0,3.0,2.0,2.0,3.0,3.0,1.0,2.0,2.0,3.0,3.0,3.0,3.0,3.0,3.0,2.0,2.0,3.0,3.0,3.0,3.0,1.0,2.0,3.0,1.0,3.0,3.0,3.0,3.0,2.0,1.0,3.0,2.0,3.0,3.0,3.0,3.0,2.0,2.0,3.0,2.0,3.0,3.0,2.0,2.0,2.0,3.0,3.0,3.0,3.0,1.0,3.0,1.0,3.0,1.0,3.0,3.0,3.0,3.0,2.0,3.0,3.0,3.0,3.0,1.0,3.0,3.0,3.0,3.0,3.0,2.0,3.0,3.0,3.0,3.0,1.0,3.0,3.0,3.0,3.0,1.0,3.0,2.0,3.0,1.0,3.0,2.0,3.0,3.0,2.0,3.0,1.0,3.0,2.0,3.0,3.0,2.0,3.0,3.0,1.0,3.0,2.0,3.0,3.0,1.0,3.0,3.0,3.0,3.0,3.0,3.0,3.0,3.0,3.0,2.0,3.0,3.0,3.0,3.0,3.0,2.0,3.0,3.0,3.0,2.0,3.0,3.0,2.0,3.0,2.0,1.0,3.0,3.0,1.0,3.0,3.0,3.0,3.0,3.0,3.0,2.0,3.0,3.0,2.0,3.0,3.0],\"xaxis\":\"x\",\"yaxis\":\"y\",\"type\":\"histogram\"},{\"alignmentgroup\":\"True\",\"bingroup\":\"x\",\"hovertemplate\":\"Survived=1.0<br>Pclass=%{x}<br>count=%{y}<extra></extra>\",\"legendgroup\":\"1.0\",\"marker\":{\"color\":\"#EF553B\",\"pattern\":{\"shape\":\"\"}},\"name\":\"1.0\",\"offsetgroup\":\"1.0\",\"orientation\":\"v\",\"showlegend\":true,\"x\":[1.0,3.0,1.0,3.0,2.0,3.0,1.0,2.0,2.0,3.0,2.0,3.0,1.0,3.0,3.0,1.0,3.0,3.0,3.0,2.0,3.0,3.0,1.0,2.0,1.0,2.0,2.0,1.0,3.0,2.0,3.0,3.0,2.0,3.0,3.0,3.0,2.0,3.0,1.0,1.0,2.0,3.0,3.0,3.0,2.0,3.0,3.0,3.0,2.0,1.0,3.0,3.0,3.0,1.0,3.0,2.0,3.0,1.0,3.0,2.0,3.0,3.0,1.0,2.0,3.0,2.0,1.0,1.0,3.0,3.0,3.0,3.0,1.0,2.0,1.0,3.0,1.0,3.0,1.0,2.0,1.0,3.0,2.0,3.0,2.0,1.0,3.0,1.0,1.0,1.0,2.0,3.0,3.0,1.0,1.0,3.0,2.0,3.0,1.0,3.0,3.0,3.0,2.0,3.0,1.0,1.0,1.0,1.0,3.0,3.0,2.0,1.0,1.0,1.0,1.0,1.0,1.0,3.0,2.0,1.0,1.0,2.0,2.0,1.0,2.0,3.0,1.0,3.0,1.0,1.0,3.0,2.0,1.0,2.0,2.0,3.0,3.0,1.0,3.0,3.0,1.0,3.0,3.0,1.0,1.0,1.0,3.0,1.0,3.0,1.0,2.0,2.0,1.0,3.0,1.0,3.0,2.0,3.0,2.0,1.0,3.0,2.0,2.0,2.0,2.0,3.0,1.0,3.0,2.0,1.0,2.0,2.0,2.0,3.0,1.0,2.0,1.0,3.0,1.0,1.0,3.0,1.0,2.0,1.0,3.0,2.0,2.0,3.0,3.0,1.0,1.0,3.0,1.0,1.0,2.0,1.0,3.0,3.0,1.0,1.0,2.0,2.0,1.0,1.0,2.0,2.0,3.0,2.0,1.0,1.0,1.0,2.0,2.0,2.0,2.0,1.0,3.0,3.0,1.0,1.0,3.0,3.0,2.0,1.0,1.0,3.0,2.0,1.0,3.0,2.0,1.0,1.0,1.0,1.0,2.0,1.0,2.0,1.0,1.0,2.0,1.0,3.0,2.0,2.0,1.0,3.0,1.0,1.0,1.0,2.0,1.0,3.0,3.0,1.0,1.0,3.0,2.0,3.0,1.0,3.0,1.0,2.0,2.0,3.0,1.0,1.0,1.0,1.0,3.0,3.0,3.0,1.0,1.0,2.0,1.0,1.0,3.0,1.0,1.0,1.0,2.0,2.0,1.0,2.0,3.0,1.0,1.0,1.0,1.0,3.0,2.0,2.0,3.0,2.0,2.0,1.0,3.0,1.0,1.0,2.0,3.0,1.0,3.0,1.0,3.0,3.0,1.0,3.0,2.0,1.0,3.0,3.0,1.0,1.0,3.0,3.0,2.0,3.0,1.0,3.0,2.0,1.0,3.0,1.0,1.0,1.0,1.0,3.0,1.0,1.0,3.0,1.0,2.0,2.0,3.0,1.0,2.0,3.0,1.0,2.0,1.0,1.0],\"xaxis\":\"x\",\"yaxis\":\"y\",\"type\":\"histogram\"}],                        {\"template\":{\"data\":{\"bar\":[{\"error_x\":{\"color\":\"#2a3f5f\"},\"error_y\":{\"color\":\"#2a3f5f\"},\"marker\":{\"line\":{\"color\":\"#E5ECF6\",\"width\":0.5},\"pattern\":{\"fillmode\":\"overlay\",\"size\":10,\"solidity\":0.2}},\"type\":\"bar\"}],\"barpolar\":[{\"marker\":{\"line\":{\"color\":\"#E5ECF6\",\"width\":0.5},\"pattern\":{\"fillmode\":\"overlay\",\"size\":10,\"solidity\":0.2}},\"type\":\"barpolar\"}],\"carpet\":[{\"aaxis\":{\"endlinecolor\":\"#2a3f5f\",\"gridcolor\":\"white\",\"linecolor\":\"white\",\"minorgridcolor\":\"white\",\"startlinecolor\":\"#2a3f5f\"},\"baxis\":{\"endlinecolor\":\"#2a3f5f\",\"gridcolor\":\"white\",\"linecolor\":\"white\",\"minorgridcolor\":\"white\",\"startlinecolor\":\"#2a3f5f\"},\"type\":\"carpet\"}],\"choropleth\":[{\"colorbar\":{\"outlinewidth\":0,\"ticks\":\"\"},\"type\":\"choropleth\"}],\"contour\":[{\"colorbar\":{\"outlinewidth\":0,\"ticks\":\"\"},\"colorscale\":[[0.0,\"#0d0887\"],[0.1111111111111111,\"#46039f\"],[0.2222222222222222,\"#7201a8\"],[0.3333333333333333,\"#9c179e\"],[0.4444444444444444,\"#bd3786\"],[0.5555555555555556,\"#d8576b\"],[0.6666666666666666,\"#ed7953\"],[0.7777777777777778,\"#fb9f3a\"],[0.8888888888888888,\"#fdca26\"],[1.0,\"#f0f921\"]],\"type\":\"contour\"}],\"contourcarpet\":[{\"colorbar\":{\"outlinewidth\":0,\"ticks\":\"\"},\"type\":\"contourcarpet\"}],\"heatmap\":[{\"colorbar\":{\"outlinewidth\":0,\"ticks\":\"\"},\"colorscale\":[[0.0,\"#0d0887\"],[0.1111111111111111,\"#46039f\"],[0.2222222222222222,\"#7201a8\"],[0.3333333333333333,\"#9c179e\"],[0.4444444444444444,\"#bd3786\"],[0.5555555555555556,\"#d8576b\"],[0.6666666666666666,\"#ed7953\"],[0.7777777777777778,\"#fb9f3a\"],[0.8888888888888888,\"#fdca26\"],[1.0,\"#f0f921\"]],\"type\":\"heatmap\"}],\"heatmapgl\":[{\"colorbar\":{\"outlinewidth\":0,\"ticks\":\"\"},\"colorscale\":[[0.0,\"#0d0887\"],[0.1111111111111111,\"#46039f\"],[0.2222222222222222,\"#7201a8\"],[0.3333333333333333,\"#9c179e\"],[0.4444444444444444,\"#bd3786\"],[0.5555555555555556,\"#d8576b\"],[0.6666666666666666,\"#ed7953\"],[0.7777777777777778,\"#fb9f3a\"],[0.8888888888888888,\"#fdca26\"],[1.0,\"#f0f921\"]],\"type\":\"heatmapgl\"}],\"histogram\":[{\"marker\":{\"pattern\":{\"fillmode\":\"overlay\",\"size\":10,\"solidity\":0.2}},\"type\":\"histogram\"}],\"histogram2d\":[{\"colorbar\":{\"outlinewidth\":0,\"ticks\":\"\"},\"colorscale\":[[0.0,\"#0d0887\"],[0.1111111111111111,\"#46039f\"],[0.2222222222222222,\"#7201a8\"],[0.3333333333333333,\"#9c179e\"],[0.4444444444444444,\"#bd3786\"],[0.5555555555555556,\"#d8576b\"],[0.6666666666666666,\"#ed7953\"],[0.7777777777777778,\"#fb9f3a\"],[0.8888888888888888,\"#fdca26\"],[1.0,\"#f0f921\"]],\"type\":\"histogram2d\"}],\"histogram2dcontour\":[{\"colorbar\":{\"outlinewidth\":0,\"ticks\":\"\"},\"colorscale\":[[0.0,\"#0d0887\"],[0.1111111111111111,\"#46039f\"],[0.2222222222222222,\"#7201a8\"],[0.3333333333333333,\"#9c179e\"],[0.4444444444444444,\"#bd3786\"],[0.5555555555555556,\"#d8576b\"],[0.6666666666666666,\"#ed7953\"],[0.7777777777777778,\"#fb9f3a\"],[0.8888888888888888,\"#fdca26\"],[1.0,\"#f0f921\"]],\"type\":\"histogram2dcontour\"}],\"mesh3d\":[{\"colorbar\":{\"outlinewidth\":0,\"ticks\":\"\"},\"type\":\"mesh3d\"}],\"parcoords\":[{\"line\":{\"colorbar\":{\"outlinewidth\":0,\"ticks\":\"\"}},\"type\":\"parcoords\"}],\"pie\":[{\"automargin\":true,\"type\":\"pie\"}],\"scatter\":[{\"marker\":{\"colorbar\":{\"outlinewidth\":0,\"ticks\":\"\"}},\"type\":\"scatter\"}],\"scatter3d\":[{\"line\":{\"colorbar\":{\"outlinewidth\":0,\"ticks\":\"\"}},\"marker\":{\"colorbar\":{\"outlinewidth\":0,\"ticks\":\"\"}},\"type\":\"scatter3d\"}],\"scattercarpet\":[{\"marker\":{\"colorbar\":{\"outlinewidth\":0,\"ticks\":\"\"}},\"type\":\"scattercarpet\"}],\"scattergeo\":[{\"marker\":{\"colorbar\":{\"outlinewidth\":0,\"ticks\":\"\"}},\"type\":\"scattergeo\"}],\"scattergl\":[{\"marker\":{\"colorbar\":{\"outlinewidth\":0,\"ticks\":\"\"}},\"type\":\"scattergl\"}],\"scattermapbox\":[{\"marker\":{\"colorbar\":{\"outlinewidth\":0,\"ticks\":\"\"}},\"type\":\"scattermapbox\"}],\"scatterpolar\":[{\"marker\":{\"colorbar\":{\"outlinewidth\":0,\"ticks\":\"\"}},\"type\":\"scatterpolar\"}],\"scatterpolargl\":[{\"marker\":{\"colorbar\":{\"outlinewidth\":0,\"ticks\":\"\"}},\"type\":\"scatterpolargl\"}],\"scatterternary\":[{\"marker\":{\"colorbar\":{\"outlinewidth\":0,\"ticks\":\"\"}},\"type\":\"scatterternary\"}],\"surface\":[{\"colorbar\":{\"outlinewidth\":0,\"ticks\":\"\"},\"colorscale\":[[0.0,\"#0d0887\"],[0.1111111111111111,\"#46039f\"],[0.2222222222222222,\"#7201a8\"],[0.3333333333333333,\"#9c179e\"],[0.4444444444444444,\"#bd3786\"],[0.5555555555555556,\"#d8576b\"],[0.6666666666666666,\"#ed7953\"],[0.7777777777777778,\"#fb9f3a\"],[0.8888888888888888,\"#fdca26\"],[1.0,\"#f0f921\"]],\"type\":\"surface\"}],\"table\":[{\"cells\":{\"fill\":{\"color\":\"#EBF0F8\"},\"line\":{\"color\":\"white\"}},\"header\":{\"fill\":{\"color\":\"#C8D4E3\"},\"line\":{\"color\":\"white\"}},\"type\":\"table\"}]},\"layout\":{\"annotationdefaults\":{\"arrowcolor\":\"#2a3f5f\",\"arrowhead\":0,\"arrowwidth\":1},\"autotypenumbers\":\"strict\",\"coloraxis\":{\"colorbar\":{\"outlinewidth\":0,\"ticks\":\"\"}},\"colorscale\":{\"diverging\":[[0,\"#8e0152\"],[0.1,\"#c51b7d\"],[0.2,\"#de77ae\"],[0.3,\"#f1b6da\"],[0.4,\"#fde0ef\"],[0.5,\"#f7f7f7\"],[0.6,\"#e6f5d0\"],[0.7,\"#b8e186\"],[0.8,\"#7fbc41\"],[0.9,\"#4d9221\"],[1,\"#276419\"]],\"sequential\":[[0.0,\"#0d0887\"],[0.1111111111111111,\"#46039f\"],[0.2222222222222222,\"#7201a8\"],[0.3333333333333333,\"#9c179e\"],[0.4444444444444444,\"#bd3786\"],[0.5555555555555556,\"#d8576b\"],[0.6666666666666666,\"#ed7953\"],[0.7777777777777778,\"#fb9f3a\"],[0.8888888888888888,\"#fdca26\"],[1.0,\"#f0f921\"]],\"sequentialminus\":[[0.0,\"#0d0887\"],[0.1111111111111111,\"#46039f\"],[0.2222222222222222,\"#7201a8\"],[0.3333333333333333,\"#9c179e\"],[0.4444444444444444,\"#bd3786\"],[0.5555555555555556,\"#d8576b\"],[0.6666666666666666,\"#ed7953\"],[0.7777777777777778,\"#fb9f3a\"],[0.8888888888888888,\"#fdca26\"],[1.0,\"#f0f921\"]]},\"colorway\":[\"#636efa\",\"#EF553B\",\"#00cc96\",\"#ab63fa\",\"#FFA15A\",\"#19d3f3\",\"#FF6692\",\"#B6E880\",\"#FF97FF\",\"#FECB52\"],\"font\":{\"color\":\"#2a3f5f\"},\"geo\":{\"bgcolor\":\"white\",\"lakecolor\":\"white\",\"landcolor\":\"#E5ECF6\",\"showlakes\":true,\"showland\":true,\"subunitcolor\":\"white\"},\"hoverlabel\":{\"align\":\"left\"},\"hovermode\":\"closest\",\"mapbox\":{\"style\":\"light\"},\"paper_bgcolor\":\"white\",\"plot_bgcolor\":\"#E5ECF6\",\"polar\":{\"angularaxis\":{\"gridcolor\":\"white\",\"linecolor\":\"white\",\"ticks\":\"\"},\"bgcolor\":\"#E5ECF6\",\"radialaxis\":{\"gridcolor\":\"white\",\"linecolor\":\"white\",\"ticks\":\"\"}},\"scene\":{\"xaxis\":{\"backgroundcolor\":\"#E5ECF6\",\"gridcolor\":\"white\",\"gridwidth\":2,\"linecolor\":\"white\",\"showbackground\":true,\"ticks\":\"\",\"zerolinecolor\":\"white\"},\"yaxis\":{\"backgroundcolor\":\"#E5ECF6\",\"gridcolor\":\"white\",\"gridwidth\":2,\"linecolor\":\"white\",\"showbackground\":true,\"ticks\":\"\",\"zerolinecolor\":\"white\"},\"zaxis\":{\"backgroundcolor\":\"#E5ECF6\",\"gridcolor\":\"white\",\"gridwidth\":2,\"linecolor\":\"white\",\"showbackground\":true,\"ticks\":\"\",\"zerolinecolor\":\"white\"}},\"shapedefaults\":{\"line\":{\"color\":\"#2a3f5f\"}},\"ternary\":{\"aaxis\":{\"gridcolor\":\"white\",\"linecolor\":\"white\",\"ticks\":\"\"},\"baxis\":{\"gridcolor\":\"white\",\"linecolor\":\"white\",\"ticks\":\"\"},\"bgcolor\":\"#E5ECF6\",\"caxis\":{\"gridcolor\":\"white\",\"linecolor\":\"white\",\"ticks\":\"\"}},\"title\":{\"x\":0.05},\"xaxis\":{\"automargin\":true,\"gridcolor\":\"white\",\"linecolor\":\"white\",\"ticks\":\"\",\"title\":{\"standoff\":15},\"zerolinecolor\":\"white\",\"zerolinewidth\":2},\"yaxis\":{\"automargin\":true,\"gridcolor\":\"white\",\"linecolor\":\"white\",\"ticks\":\"\",\"title\":{\"standoff\":15},\"zerolinecolor\":\"white\",\"zerolinewidth\":2}}},\"xaxis\":{\"anchor\":\"y\",\"domain\":[0.0,1.0],\"title\":{\"text\":\"Pclass\"}},\"yaxis\":{\"anchor\":\"x\",\"domain\":[0.0,1.0],\"title\":{\"text\":\"count\"}},\"legend\":{\"title\":{\"text\":\"Survived\"},\"tracegroupgap\":0},\"margin\":{\"t\":60},\"barmode\":\"relative\"},                        {\"responsive\": true}                    ).then(function(){\n",
       "                            \n",
       "var gd = document.getElementById('e7bf3a8e-5e99-4ff8-87fd-f8ea3e3e83c0');\n",
       "var x = new MutationObserver(function (mutations, observer) {{\n",
       "        var display = window.getComputedStyle(gd).display;\n",
       "        if (!display || display === 'none') {{\n",
       "            console.log([gd, 'removed!']);\n",
       "            Plotly.purge(gd);\n",
       "            observer.disconnect();\n",
       "        }}\n",
       "}});\n",
       "\n",
       "// Listen for the removal of the full notebook cells\n",
       "var notebookContainer = gd.closest('#notebook-container');\n",
       "if (notebookContainer) {{\n",
       "    x.observe(notebookContainer, {childList: true});\n",
       "}}\n",
       "\n",
       "// Listen for the clearing of the current output cell\n",
       "var outputEl = gd.closest('.output');\n",
       "if (outputEl) {{\n",
       "    x.observe(outputEl, {childList: true});\n",
       "}}\n",
       "\n",
       "                        })                };                });            </script>        </div>"
      ]
     },
     "metadata": {},
     "output_type": "display_data"
    },
    {
     "data": {
      "application/vnd.plotly.v1+json": {
       "config": {
        "plotlyServerURL": "https://plot.ly"
       },
       "data": [
        {
         "alignmentgroup": "True",
         "bingroup": "x",
         "hovertemplate": "Survived=0.0<br>Age=%{x}<br>count=%{y}<extra></extra>",
         "legendgroup": "0.0",
         "marker": {
          "color": "#636efa",
          "pattern": {
           "shape": ""
          }
         },
         "name": "0.0",
         "offsetgroup": "0.0",
         "orientation": "v",
         "showlegend": true,
         "type": "histogram",
         "x": [
          22,
          35,
          26.5,
          54,
          2,
          20,
          39,
          14,
          2,
          31,
          35,
          8,
          37.75,
          19,
          33,
          40,
          66,
          28,
          42,
          21,
          18,
          40,
          27,
          33,
          27.5,
          34,
          15.5,
          18,
          7,
          21,
          65,
          28.5,
          11,
          22,
          45,
          4,
          35,
          19,
          26,
          32,
          16,
          21,
          26,
          25,
          33,
          27.5,
          22,
          28,
          16,
          27.5,
          24,
          29,
          20,
          46,
          26,
          59,
          27.5,
          71,
          34,
          28,
          33,
          21,
          33,
          37,
          28,
          38,
          47,
          14.5,
          22,
          20,
          17,
          21,
          70.5,
          29,
          24,
          2,
          21,
          27.5,
          32.5,
          54,
          67.75,
          45,
          33,
          20,
          47,
          25,
          23,
          37,
          16,
          24,
          15,
          19,
          18,
          19,
          9,
          36.5,
          42,
          51,
          55.5,
          40.5,
          40.5,
          51,
          30,
          25,
          45.5,
          44,
          26,
          17,
          1,
          45,
          55.5,
          28,
          61,
          4,
          21,
          56,
          18,
          27.5,
          50,
          30,
          36,
          45.5,
          35,
          9,
          51,
          40,
          36,
          19,
          67.75,
          42,
          24,
          28,
          45.5,
          34,
          45.5,
          2,
          32,
          24,
          22,
          30,
          25.5,
          42,
          30,
          27,
          51,
          33,
          22,
          20.5,
          18,
          25,
          29,
          59,
          24,
          33,
          44,
          19,
          33,
          30.75,
          29,
          22,
          30,
          44,
          25,
          54,
          40.5,
          29,
          62,
          30,
          41,
          67.75,
          52,
          40,
          33,
          36,
          16,
          55.5,
          37,
          45,
          38,
          7,
          65,
          28,
          16,
          55.5,
          33,
          22,
          36,
          24,
          24,
          35,
          23.5,
          2,
          19,
          27.5,
          30,
          26,
          28,
          43,
          54,
          22,
          27,
          45.5,
          61,
          45.5,
          38,
          16,
          33,
          29,
          45,
          28,
          25,
          36,
          42,
          23,
          58,
          15,
          25,
          37.75,
          28,
          38,
          40,
          29,
          45,
          35,
          34,
          30,
          18,
          19,
          22,
          3,
          27,
          20,
          19,
          32,
          33,
          18,
          1,
          23,
          28,
          22,
          31,
          46,
          23,
          26,
          21,
          28,
          20,
          34,
          51,
          21,
          25,
          33,
          32,
          38,
          25.5,
          30,
          10,
          33,
          21,
          29,
          28,
          18,
          40.5,
          67.75,
          17,
          50,
          21,
          64,
          31,
          20,
          25,
          36,
          17,
          30,
          27.5,
          65,
          67.75,
          34,
          47,
          48,
          27.5,
          38,
          38,
          56,
          23,
          40.5,
          38,
          22,
          50.5,
          34,
          29,
          22,
          9,
          38,
          50,
          25,
          58,
          30,
          17,
          21,
          55,
          71,
          21,
          22.5,
          20,
          25,
          24,
          17,
          21,
          33,
          37,
          18,
          28,
          27.5,
          24,
          47,
          37.5,
          32,
          22,
          37.75,
          25.25,
          40.5,
          40,
          39,
          23,
          25.25,
          17,
          30,
          45,
          22.5,
          9,
          11,
          50,
          64,
          33,
          27,
          34,
          62,
          40,
          67.75,
          40,
          28,
          27.5,
          25.5,
          24,
          19,
          29,
          25.25,
          16,
          19,
          30.75,
          54,
          36,
          17,
          47,
          22,
          27.5,
          35,
          47,
          43.5,
          37,
          36,
          49,
          37.75,
          33,
          30.5,
          44,
          36,
          30,
          39,
          22,
          67.75,
          35,
          34,
          26,
          26,
          27,
          21,
          21,
          61,
          57,
          26,
          23,
          51,
          39.5,
          9,
          32,
          31,
          41,
          27,
          20,
          2,
          19,
          32,
          33,
          21,
          18,
          24,
          33,
          32,
          23,
          58,
          40,
          47,
          36,
          32,
          25,
          27.5,
          43,
          31,
          70,
          38,
          18,
          24.5,
          43,
          25.5,
          20,
          14,
          60,
          25,
          14,
          19,
          18,
          25,
          60,
          52,
          44,
          49,
          42,
          18,
          25,
          26,
          39,
          63.5,
          29,
          52,
          19,
          24.75,
          33,
          17,
          34,
          50,
          20,
          25,
          25,
          11,
          38,
          23,
          23,
          28.5,
          48,
          33,
          33,
          36,
          24,
          70,
          16,
          19,
          31,
          33,
          23,
          28,
          18,
          34,
          22.5,
          41,
          16,
          41.5,
          30.5,
          30,
          32,
          24,
          48,
          57,
          37.75,
          18,
          67.75,
          23,
          29,
          33,
          25,
          25,
          8,
          46,
          67.75,
          16,
          45.5,
          55.5,
          25,
          39,
          30,
          30,
          34,
          31,
          39,
          18,
          39,
          26,
          39,
          35,
          6,
          30.5,
          39.5,
          23,
          31,
          43,
          10,
          38,
          2,
          32.5,
          30,
          25.25,
          23,
          18,
          21,
          27.5,
          20,
          16,
          34.5,
          17,
          42,
          45.5,
          35,
          28,
          4,
          74,
          9,
          44,
          25.25,
          41,
          21,
          45.5,
          24,
          31,
          22,
          26,
          33,
          47,
          20,
          19,
          33,
          33,
          22,
          28,
          25,
          39,
          27,
          20,
          32
         ],
         "xaxis": "x",
         "yaxis": "y"
        },
        {
         "alignmentgroup": "True",
         "bingroup": "x",
         "hovertemplate": "Survived=1.0<br>Age=%{x}<br>count=%{y}<extra></extra>",
         "legendgroup": "1.0",
         "marker": {
          "color": "#EF553B",
          "pattern": {
           "shape": ""
          }
         },
         "name": "1.0",
         "offsetgroup": "1.0",
         "orientation": "v",
         "showlegend": true,
         "type": "histogram",
         "x": [
          38,
          26,
          35,
          27,
          14,
          4,
          58,
          55,
          38,
          14,
          34,
          15,
          28,
          38,
          22.5,
          40,
          19,
          21,
          14,
          3,
          19,
          19,
          49,
          29,
          42,
          21,
          5,
          38,
          11.5,
          29,
          17,
          32,
          0.83,
          30,
          29,
          22,
          17,
          33,
          23,
          23,
          34,
          21,
          24,
          29,
          32.5,
          12,
          24,
          4,
          29,
          19,
          22,
          24,
          27,
          22,
          16,
          40,
          9,
          30.5,
          1,
          1,
          4,
          19.5,
          45,
          32,
          19,
          3,
          44,
          58,
          19,
          18,
          26,
          16,
          40,
          35,
          31,
          27,
          32,
          16,
          38,
          19,
          35,
          5,
          8,
          19.5,
          24,
          37,
          29,
          32,
          30,
          35,
          50,
          3,
          25,
          58,
          35,
          25,
          41,
          19,
          63,
          35,
          19,
          30,
          42,
          22,
          26,
          19,
          39.5,
          50,
          19,
          27,
          29,
          0.92,
          28,
          17,
          30,
          24,
          18,
          26,
          24,
          31,
          40,
          30,
          22,
          36,
          36,
          31,
          16,
          16,
          40.5,
          41,
          45,
          2,
          24,
          24,
          40,
          25,
          3,
          22,
          22.5,
          22.5,
          60,
          14,
          19,
          24,
          25,
          29.5,
          22,
          42,
          1,
          35,
          36,
          17,
          36,
          21,
          23,
          24,
          28,
          39,
          3,
          33,
          44,
          34,
          18,
          28,
          19,
          32,
          28,
          25,
          42,
          14,
          24,
          45,
          28,
          31.5,
          4,
          13,
          34,
          5,
          52,
          49,
          29,
          44,
          50,
          48,
          0.75,
          33,
          23,
          2,
          63,
          25,
          35,
          9,
          54,
          16,
          33,
          39.5,
          26,
          29,
          36,
          54,
          34,
          36,
          30,
          44,
          50,
          2,
          19,
          7,
          30,
          22,
          36,
          32,
          19,
          38,
          8,
          17,
          22,
          22,
          48,
          39,
          36,
          32,
          62,
          53,
          36,
          19,
          34,
          39,
          32,
          25,
          39,
          18,
          60,
          52,
          20,
          49,
          24,
          35,
          27,
          22,
          40,
          19.5,
          24,
          4,
          42,
          20,
          21,
          80,
          32,
          28,
          24,
          29,
          0.75,
          48,
          56,
          23,
          18,
          22.5,
          50,
          20,
          35,
          40,
          31,
          18,
          36,
          27,
          15,
          31,
          4,
          29,
          19,
          18,
          35,
          45,
          42,
          22,
          11.5,
          24,
          48,
          38,
          27,
          6,
          27,
          30,
          19,
          29,
          35,
          53,
          21,
          31,
          30,
          4,
          6,
          48,
          0.67,
          33,
          20,
          36,
          51,
          54,
          5,
          43,
          13,
          17,
          18,
          1,
          49,
          31,
          31,
          11,
          0.42,
          27,
          33,
          52,
          27,
          27,
          1,
          25,
          62,
          15,
          0.83,
          39,
          32,
          53,
          30,
          34,
          16,
          18,
          45,
          51,
          24,
          48,
          42,
          27,
          4,
          47,
          28,
          15,
          56,
          25,
          19,
          26
         ],
         "xaxis": "x",
         "yaxis": "y"
        }
       ],
       "layout": {
        "barmode": "relative",
        "legend": {
         "title": {
          "text": "Survived"
         },
         "tracegroupgap": 0
        },
        "margin": {
         "t": 60
        },
        "template": {
         "data": {
          "bar": [
           {
            "error_x": {
             "color": "#2a3f5f"
            },
            "error_y": {
             "color": "#2a3f5f"
            },
            "marker": {
             "line": {
              "color": "#E5ECF6",
              "width": 0.5
             },
             "pattern": {
              "fillmode": "overlay",
              "size": 10,
              "solidity": 0.2
             }
            },
            "type": "bar"
           }
          ],
          "barpolar": [
           {
            "marker": {
             "line": {
              "color": "#E5ECF6",
              "width": 0.5
             },
             "pattern": {
              "fillmode": "overlay",
              "size": 10,
              "solidity": 0.2
             }
            },
            "type": "barpolar"
           }
          ],
          "carpet": [
           {
            "aaxis": {
             "endlinecolor": "#2a3f5f",
             "gridcolor": "white",
             "linecolor": "white",
             "minorgridcolor": "white",
             "startlinecolor": "#2a3f5f"
            },
            "baxis": {
             "endlinecolor": "#2a3f5f",
             "gridcolor": "white",
             "linecolor": "white",
             "minorgridcolor": "white",
             "startlinecolor": "#2a3f5f"
            },
            "type": "carpet"
           }
          ],
          "choropleth": [
           {
            "colorbar": {
             "outlinewidth": 0,
             "ticks": ""
            },
            "type": "choropleth"
           }
          ],
          "contour": [
           {
            "colorbar": {
             "outlinewidth": 0,
             "ticks": ""
            },
            "colorscale": [
             [
              0,
              "#0d0887"
             ],
             [
              0.1111111111111111,
              "#46039f"
             ],
             [
              0.2222222222222222,
              "#7201a8"
             ],
             [
              0.3333333333333333,
              "#9c179e"
             ],
             [
              0.4444444444444444,
              "#bd3786"
             ],
             [
              0.5555555555555556,
              "#d8576b"
             ],
             [
              0.6666666666666666,
              "#ed7953"
             ],
             [
              0.7777777777777778,
              "#fb9f3a"
             ],
             [
              0.8888888888888888,
              "#fdca26"
             ],
             [
              1,
              "#f0f921"
             ]
            ],
            "type": "contour"
           }
          ],
          "contourcarpet": [
           {
            "colorbar": {
             "outlinewidth": 0,
             "ticks": ""
            },
            "type": "contourcarpet"
           }
          ],
          "heatmap": [
           {
            "colorbar": {
             "outlinewidth": 0,
             "ticks": ""
            },
            "colorscale": [
             [
              0,
              "#0d0887"
             ],
             [
              0.1111111111111111,
              "#46039f"
             ],
             [
              0.2222222222222222,
              "#7201a8"
             ],
             [
              0.3333333333333333,
              "#9c179e"
             ],
             [
              0.4444444444444444,
              "#bd3786"
             ],
             [
              0.5555555555555556,
              "#d8576b"
             ],
             [
              0.6666666666666666,
              "#ed7953"
             ],
             [
              0.7777777777777778,
              "#fb9f3a"
             ],
             [
              0.8888888888888888,
              "#fdca26"
             ],
             [
              1,
              "#f0f921"
             ]
            ],
            "type": "heatmap"
           }
          ],
          "heatmapgl": [
           {
            "colorbar": {
             "outlinewidth": 0,
             "ticks": ""
            },
            "colorscale": [
             [
              0,
              "#0d0887"
             ],
             [
              0.1111111111111111,
              "#46039f"
             ],
             [
              0.2222222222222222,
              "#7201a8"
             ],
             [
              0.3333333333333333,
              "#9c179e"
             ],
             [
              0.4444444444444444,
              "#bd3786"
             ],
             [
              0.5555555555555556,
              "#d8576b"
             ],
             [
              0.6666666666666666,
              "#ed7953"
             ],
             [
              0.7777777777777778,
              "#fb9f3a"
             ],
             [
              0.8888888888888888,
              "#fdca26"
             ],
             [
              1,
              "#f0f921"
             ]
            ],
            "type": "heatmapgl"
           }
          ],
          "histogram": [
           {
            "marker": {
             "pattern": {
              "fillmode": "overlay",
              "size": 10,
              "solidity": 0.2
             }
            },
            "type": "histogram"
           }
          ],
          "histogram2d": [
           {
            "colorbar": {
             "outlinewidth": 0,
             "ticks": ""
            },
            "colorscale": [
             [
              0,
              "#0d0887"
             ],
             [
              0.1111111111111111,
              "#46039f"
             ],
             [
              0.2222222222222222,
              "#7201a8"
             ],
             [
              0.3333333333333333,
              "#9c179e"
             ],
             [
              0.4444444444444444,
              "#bd3786"
             ],
             [
              0.5555555555555556,
              "#d8576b"
             ],
             [
              0.6666666666666666,
              "#ed7953"
             ],
             [
              0.7777777777777778,
              "#fb9f3a"
             ],
             [
              0.8888888888888888,
              "#fdca26"
             ],
             [
              1,
              "#f0f921"
             ]
            ],
            "type": "histogram2d"
           }
          ],
          "histogram2dcontour": [
           {
            "colorbar": {
             "outlinewidth": 0,
             "ticks": ""
            },
            "colorscale": [
             [
              0,
              "#0d0887"
             ],
             [
              0.1111111111111111,
              "#46039f"
             ],
             [
              0.2222222222222222,
              "#7201a8"
             ],
             [
              0.3333333333333333,
              "#9c179e"
             ],
             [
              0.4444444444444444,
              "#bd3786"
             ],
             [
              0.5555555555555556,
              "#d8576b"
             ],
             [
              0.6666666666666666,
              "#ed7953"
             ],
             [
              0.7777777777777778,
              "#fb9f3a"
             ],
             [
              0.8888888888888888,
              "#fdca26"
             ],
             [
              1,
              "#f0f921"
             ]
            ],
            "type": "histogram2dcontour"
           }
          ],
          "mesh3d": [
           {
            "colorbar": {
             "outlinewidth": 0,
             "ticks": ""
            },
            "type": "mesh3d"
           }
          ],
          "parcoords": [
           {
            "line": {
             "colorbar": {
              "outlinewidth": 0,
              "ticks": ""
             }
            },
            "type": "parcoords"
           }
          ],
          "pie": [
           {
            "automargin": true,
            "type": "pie"
           }
          ],
          "scatter": [
           {
            "marker": {
             "colorbar": {
              "outlinewidth": 0,
              "ticks": ""
             }
            },
            "type": "scatter"
           }
          ],
          "scatter3d": [
           {
            "line": {
             "colorbar": {
              "outlinewidth": 0,
              "ticks": ""
             }
            },
            "marker": {
             "colorbar": {
              "outlinewidth": 0,
              "ticks": ""
             }
            },
            "type": "scatter3d"
           }
          ],
          "scattercarpet": [
           {
            "marker": {
             "colorbar": {
              "outlinewidth": 0,
              "ticks": ""
             }
            },
            "type": "scattercarpet"
           }
          ],
          "scattergeo": [
           {
            "marker": {
             "colorbar": {
              "outlinewidth": 0,
              "ticks": ""
             }
            },
            "type": "scattergeo"
           }
          ],
          "scattergl": [
           {
            "marker": {
             "colorbar": {
              "outlinewidth": 0,
              "ticks": ""
             }
            },
            "type": "scattergl"
           }
          ],
          "scattermapbox": [
           {
            "marker": {
             "colorbar": {
              "outlinewidth": 0,
              "ticks": ""
             }
            },
            "type": "scattermapbox"
           }
          ],
          "scatterpolar": [
           {
            "marker": {
             "colorbar": {
              "outlinewidth": 0,
              "ticks": ""
             }
            },
            "type": "scatterpolar"
           }
          ],
          "scatterpolargl": [
           {
            "marker": {
             "colorbar": {
              "outlinewidth": 0,
              "ticks": ""
             }
            },
            "type": "scatterpolargl"
           }
          ],
          "scatterternary": [
           {
            "marker": {
             "colorbar": {
              "outlinewidth": 0,
              "ticks": ""
             }
            },
            "type": "scatterternary"
           }
          ],
          "surface": [
           {
            "colorbar": {
             "outlinewidth": 0,
             "ticks": ""
            },
            "colorscale": [
             [
              0,
              "#0d0887"
             ],
             [
              0.1111111111111111,
              "#46039f"
             ],
             [
              0.2222222222222222,
              "#7201a8"
             ],
             [
              0.3333333333333333,
              "#9c179e"
             ],
             [
              0.4444444444444444,
              "#bd3786"
             ],
             [
              0.5555555555555556,
              "#d8576b"
             ],
             [
              0.6666666666666666,
              "#ed7953"
             ],
             [
              0.7777777777777778,
              "#fb9f3a"
             ],
             [
              0.8888888888888888,
              "#fdca26"
             ],
             [
              1,
              "#f0f921"
             ]
            ],
            "type": "surface"
           }
          ],
          "table": [
           {
            "cells": {
             "fill": {
              "color": "#EBF0F8"
             },
             "line": {
              "color": "white"
             }
            },
            "header": {
             "fill": {
              "color": "#C8D4E3"
             },
             "line": {
              "color": "white"
             }
            },
            "type": "table"
           }
          ]
         },
         "layout": {
          "annotationdefaults": {
           "arrowcolor": "#2a3f5f",
           "arrowhead": 0,
           "arrowwidth": 1
          },
          "autotypenumbers": "strict",
          "coloraxis": {
           "colorbar": {
            "outlinewidth": 0,
            "ticks": ""
           }
          },
          "colorscale": {
           "diverging": [
            [
             0,
             "#8e0152"
            ],
            [
             0.1,
             "#c51b7d"
            ],
            [
             0.2,
             "#de77ae"
            ],
            [
             0.3,
             "#f1b6da"
            ],
            [
             0.4,
             "#fde0ef"
            ],
            [
             0.5,
             "#f7f7f7"
            ],
            [
             0.6,
             "#e6f5d0"
            ],
            [
             0.7,
             "#b8e186"
            ],
            [
             0.8,
             "#7fbc41"
            ],
            [
             0.9,
             "#4d9221"
            ],
            [
             1,
             "#276419"
            ]
           ],
           "sequential": [
            [
             0,
             "#0d0887"
            ],
            [
             0.1111111111111111,
             "#46039f"
            ],
            [
             0.2222222222222222,
             "#7201a8"
            ],
            [
             0.3333333333333333,
             "#9c179e"
            ],
            [
             0.4444444444444444,
             "#bd3786"
            ],
            [
             0.5555555555555556,
             "#d8576b"
            ],
            [
             0.6666666666666666,
             "#ed7953"
            ],
            [
             0.7777777777777778,
             "#fb9f3a"
            ],
            [
             0.8888888888888888,
             "#fdca26"
            ],
            [
             1,
             "#f0f921"
            ]
           ],
           "sequentialminus": [
            [
             0,
             "#0d0887"
            ],
            [
             0.1111111111111111,
             "#46039f"
            ],
            [
             0.2222222222222222,
             "#7201a8"
            ],
            [
             0.3333333333333333,
             "#9c179e"
            ],
            [
             0.4444444444444444,
             "#bd3786"
            ],
            [
             0.5555555555555556,
             "#d8576b"
            ],
            [
             0.6666666666666666,
             "#ed7953"
            ],
            [
             0.7777777777777778,
             "#fb9f3a"
            ],
            [
             0.8888888888888888,
             "#fdca26"
            ],
            [
             1,
             "#f0f921"
            ]
           ]
          },
          "colorway": [
           "#636efa",
           "#EF553B",
           "#00cc96",
           "#ab63fa",
           "#FFA15A",
           "#19d3f3",
           "#FF6692",
           "#B6E880",
           "#FF97FF",
           "#FECB52"
          ],
          "font": {
           "color": "#2a3f5f"
          },
          "geo": {
           "bgcolor": "white",
           "lakecolor": "white",
           "landcolor": "#E5ECF6",
           "showlakes": true,
           "showland": true,
           "subunitcolor": "white"
          },
          "hoverlabel": {
           "align": "left"
          },
          "hovermode": "closest",
          "mapbox": {
           "style": "light"
          },
          "paper_bgcolor": "white",
          "plot_bgcolor": "#E5ECF6",
          "polar": {
           "angularaxis": {
            "gridcolor": "white",
            "linecolor": "white",
            "ticks": ""
           },
           "bgcolor": "#E5ECF6",
           "radialaxis": {
            "gridcolor": "white",
            "linecolor": "white",
            "ticks": ""
           }
          },
          "scene": {
           "xaxis": {
            "backgroundcolor": "#E5ECF6",
            "gridcolor": "white",
            "gridwidth": 2,
            "linecolor": "white",
            "showbackground": true,
            "ticks": "",
            "zerolinecolor": "white"
           },
           "yaxis": {
            "backgroundcolor": "#E5ECF6",
            "gridcolor": "white",
            "gridwidth": 2,
            "linecolor": "white",
            "showbackground": true,
            "ticks": "",
            "zerolinecolor": "white"
           },
           "zaxis": {
            "backgroundcolor": "#E5ECF6",
            "gridcolor": "white",
            "gridwidth": 2,
            "linecolor": "white",
            "showbackground": true,
            "ticks": "",
            "zerolinecolor": "white"
           }
          },
          "shapedefaults": {
           "line": {
            "color": "#2a3f5f"
           }
          },
          "ternary": {
           "aaxis": {
            "gridcolor": "white",
            "linecolor": "white",
            "ticks": ""
           },
           "baxis": {
            "gridcolor": "white",
            "linecolor": "white",
            "ticks": ""
           },
           "bgcolor": "#E5ECF6",
           "caxis": {
            "gridcolor": "white",
            "linecolor": "white",
            "ticks": ""
           }
          },
          "title": {
           "x": 0.05
          },
          "xaxis": {
           "automargin": true,
           "gridcolor": "white",
           "linecolor": "white",
           "ticks": "",
           "title": {
            "standoff": 15
           },
           "zerolinecolor": "white",
           "zerolinewidth": 2
          },
          "yaxis": {
           "automargin": true,
           "gridcolor": "white",
           "linecolor": "white",
           "ticks": "",
           "title": {
            "standoff": 15
           },
           "zerolinecolor": "white",
           "zerolinewidth": 2
          }
         }
        },
        "xaxis": {
         "anchor": "y",
         "domain": [
          0,
          1
         ],
         "title": {
          "text": "Age"
         }
        },
        "yaxis": {
         "anchor": "x",
         "domain": [
          0,
          1
         ],
         "title": {
          "text": "count"
         }
        }
       }
      },
      "text/html": [
       "<div>                            <div id=\"36a80696-eaee-4d88-b3f0-89b378cced51\" class=\"plotly-graph-div\" style=\"height:525px; width:100%;\"></div>            <script type=\"text/javascript\">                require([\"plotly\"], function(Plotly) {                    window.PLOTLYENV=window.PLOTLYENV || {};                                    if (document.getElementById(\"36a80696-eaee-4d88-b3f0-89b378cced51\")) {                    Plotly.newPlot(                        \"36a80696-eaee-4d88-b3f0-89b378cced51\",                        [{\"alignmentgroup\":\"True\",\"bingroup\":\"x\",\"hovertemplate\":\"Survived=0.0<br>Age=%{x}<br>count=%{y}<extra></extra>\",\"legendgroup\":\"0.0\",\"marker\":{\"color\":\"#636efa\",\"pattern\":{\"shape\":\"\"}},\"name\":\"0.0\",\"offsetgroup\":\"0.0\",\"orientation\":\"v\",\"showlegend\":true,\"x\":[22.0,35.0,26.5,54.0,2.0,20.0,39.0,14.0,2.0,31.0,35.0,8.0,37.75,19.0,33.0,40.0,66.0,28.0,42.0,21.0,18.0,40.0,27.0,33.0,27.5,34.0,15.5,18.0,7.0,21.0,65.0,28.5,11.0,22.0,45.0,4.0,35.0,19.0,26.0,32.0,16.0,21.0,26.0,25.0,33.0,27.5,22.0,28.0,16.0,27.5,24.0,29.0,20.0,46.0,26.0,59.0,27.5,71.0,34.0,28.0,33.0,21.0,33.0,37.0,28.0,38.0,47.0,14.5,22.0,20.0,17.0,21.0,70.5,29.0,24.0,2.0,21.0,27.5,32.5,54.0,67.75,45.0,33.0,20.0,47.0,25.0,23.0,37.0,16.0,24.0,15.0,19.0,18.0,19.0,9.0,36.5,42.0,51.0,55.5,40.5,40.5,51.0,30.0,25.0,45.5,44.0,26.0,17.0,1.0,45.0,55.5,28.0,61.0,4.0,21.0,56.0,18.0,27.5,50.0,30.0,36.0,45.5,35.0,9.0,51.0,40.0,36.0,19.0,67.75,42.0,24.0,28.0,45.5,34.0,45.5,2.0,32.0,24.0,22.0,30.0,25.5,42.0,30.0,27.0,51.0,33.0,22.0,20.5,18.0,25.0,29.0,59.0,24.0,33.0,44.0,19.0,33.0,30.75,29.0,22.0,30.0,44.0,25.0,54.0,40.5,29.0,62.0,30.0,41.0,67.75,52.0,40.0,33.0,36.0,16.0,55.5,37.0,45.0,38.0,7.0,65.0,28.0,16.0,55.5,33.0,22.0,36.0,24.0,24.0,35.0,23.5,2.0,19.0,27.5,30.0,26.0,28.0,43.0,54.0,22.0,27.0,45.5,61.0,45.5,38.0,16.0,33.0,29.0,45.0,28.0,25.0,36.0,42.0,23.0,58.0,15.0,25.0,37.75,28.0,38.0,40.0,29.0,45.0,35.0,34.0,30.0,18.0,19.0,22.0,3.0,27.0,20.0,19.0,32.0,33.0,18.0,1.0,23.0,28.0,22.0,31.0,46.0,23.0,26.0,21.0,28.0,20.0,34.0,51.0,21.0,25.0,33.0,32.0,38.0,25.5,30.0,10.0,33.0,21.0,29.0,28.0,18.0,40.5,67.75,17.0,50.0,21.0,64.0,31.0,20.0,25.0,36.0,17.0,30.0,27.5,65.0,67.75,34.0,47.0,48.0,27.5,38.0,38.0,56.0,23.0,40.5,38.0,22.0,50.5,34.0,29.0,22.0,9.0,38.0,50.0,25.0,58.0,30.0,17.0,21.0,55.0,71.0,21.0,22.5,20.0,25.0,24.0,17.0,21.0,33.0,37.0,18.0,28.0,27.5,24.0,47.0,37.5,32.0,22.0,37.75,25.25,40.5,40.0,39.0,23.0,25.25,17.0,30.0,45.0,22.5,9.0,11.0,50.0,64.0,33.0,27.0,34.0,62.0,40.0,67.75,40.0,28.0,27.5,25.5,24.0,19.0,29.0,25.25,16.0,19.0,30.75,54.0,36.0,17.0,47.0,22.0,27.5,35.0,47.0,43.5,37.0,36.0,49.0,37.75,33.0,30.5,44.0,36.0,30.0,39.0,22.0,67.75,35.0,34.0,26.0,26.0,27.0,21.0,21.0,61.0,57.0,26.0,23.0,51.0,39.5,9.0,32.0,31.0,41.0,27.0,20.0,2.0,19.0,32.0,33.0,21.0,18.0,24.0,33.0,32.0,23.0,58.0,40.0,47.0,36.0,32.0,25.0,27.5,43.0,31.0,70.0,38.0,18.0,24.5,43.0,25.5,20.0,14.0,60.0,25.0,14.0,19.0,18.0,25.0,60.0,52.0,44.0,49.0,42.0,18.0,25.0,26.0,39.0,63.5,29.0,52.0,19.0,24.75,33.0,17.0,34.0,50.0,20.0,25.0,25.0,11.0,38.0,23.0,23.0,28.5,48.0,33.0,33.0,36.0,24.0,70.0,16.0,19.0,31.0,33.0,23.0,28.0,18.0,34.0,22.5,41.0,16.0,41.5,30.5,30.0,32.0,24.0,48.0,57.0,37.75,18.0,67.75,23.0,29.0,33.0,25.0,25.0,8.0,46.0,67.75,16.0,45.5,55.5,25.0,39.0,30.0,30.0,34.0,31.0,39.0,18.0,39.0,26.0,39.0,35.0,6.0,30.5,39.5,23.0,31.0,43.0,10.0,38.0,2.0,32.5,30.0,25.25,23.0,18.0,21.0,27.5,20.0,16.0,34.5,17.0,42.0,45.5,35.0,28.0,4.0,74.0,9.0,44.0,25.25,41.0,21.0,45.5,24.0,31.0,22.0,26.0,33.0,47.0,20.0,19.0,33.0,33.0,22.0,28.0,25.0,39.0,27.0,20.0,32.0],\"xaxis\":\"x\",\"yaxis\":\"y\",\"type\":\"histogram\"},{\"alignmentgroup\":\"True\",\"bingroup\":\"x\",\"hovertemplate\":\"Survived=1.0<br>Age=%{x}<br>count=%{y}<extra></extra>\",\"legendgroup\":\"1.0\",\"marker\":{\"color\":\"#EF553B\",\"pattern\":{\"shape\":\"\"}},\"name\":\"1.0\",\"offsetgroup\":\"1.0\",\"orientation\":\"v\",\"showlegend\":true,\"x\":[38.0,26.0,35.0,27.0,14.0,4.0,58.0,55.0,38.0,14.0,34.0,15.0,28.0,38.0,22.5,40.0,19.0,21.0,14.0,3.0,19.0,19.0,49.0,29.0,42.0,21.0,5.0,38.0,11.5,29.0,17.0,32.0,0.83,30.0,29.0,22.0,17.0,33.0,23.0,23.0,34.0,21.0,24.0,29.0,32.5,12.0,24.0,4.0,29.0,19.0,22.0,24.0,27.0,22.0,16.0,40.0,9.0,30.5,1.0,1.0,4.0,19.5,45.0,32.0,19.0,3.0,44.0,58.0,19.0,18.0,26.0,16.0,40.0,35.0,31.0,27.0,32.0,16.0,38.0,19.0,35.0,5.0,8.0,19.5,24.0,37.0,29.0,32.0,30.0,35.0,50.0,3.0,25.0,58.0,35.0,25.0,41.0,19.0,63.0,35.0,19.0,30.0,42.0,22.0,26.0,19.0,39.5,50.0,19.0,27.0,29.0,0.92,28.0,17.0,30.0,24.0,18.0,26.0,24.0,31.0,40.0,30.0,22.0,36.0,36.0,31.0,16.0,16.0,40.5,41.0,45.0,2.0,24.0,24.0,40.0,25.0,3.0,22.0,22.5,22.5,60.0,14.0,19.0,24.0,25.0,29.5,22.0,42.0,1.0,35.0,36.0,17.0,36.0,21.0,23.0,24.0,28.0,39.0,3.0,33.0,44.0,34.0,18.0,28.0,19.0,32.0,28.0,25.0,42.0,14.0,24.0,45.0,28.0,31.5,4.0,13.0,34.0,5.0,52.0,49.0,29.0,44.0,50.0,48.0,0.75,33.0,23.0,2.0,63.0,25.0,35.0,9.0,54.0,16.0,33.0,39.5,26.0,29.0,36.0,54.0,34.0,36.0,30.0,44.0,50.0,2.0,19.0,7.0,30.0,22.0,36.0,32.0,19.0,38.0,8.0,17.0,22.0,22.0,48.0,39.0,36.0,32.0,62.0,53.0,36.0,19.0,34.0,39.0,32.0,25.0,39.0,18.0,60.0,52.0,20.0,49.0,24.0,35.0,27.0,22.0,40.0,19.5,24.0,4.0,42.0,20.0,21.0,80.0,32.0,28.0,24.0,29.0,0.75,48.0,56.0,23.0,18.0,22.5,50.0,20.0,35.0,40.0,31.0,18.0,36.0,27.0,15.0,31.0,4.0,29.0,19.0,18.0,35.0,45.0,42.0,22.0,11.5,24.0,48.0,38.0,27.0,6.0,27.0,30.0,19.0,29.0,35.0,53.0,21.0,31.0,30.0,4.0,6.0,48.0,0.67,33.0,20.0,36.0,51.0,54.0,5.0,43.0,13.0,17.0,18.0,1.0,49.0,31.0,31.0,11.0,0.42,27.0,33.0,52.0,27.0,27.0,1.0,25.0,62.0,15.0,0.83,39.0,32.0,53.0,30.0,34.0,16.0,18.0,45.0,51.0,24.0,48.0,42.0,27.0,4.0,47.0,28.0,15.0,56.0,25.0,19.0,26.0],\"xaxis\":\"x\",\"yaxis\":\"y\",\"type\":\"histogram\"}],                        {\"template\":{\"data\":{\"bar\":[{\"error_x\":{\"color\":\"#2a3f5f\"},\"error_y\":{\"color\":\"#2a3f5f\"},\"marker\":{\"line\":{\"color\":\"#E5ECF6\",\"width\":0.5},\"pattern\":{\"fillmode\":\"overlay\",\"size\":10,\"solidity\":0.2}},\"type\":\"bar\"}],\"barpolar\":[{\"marker\":{\"line\":{\"color\":\"#E5ECF6\",\"width\":0.5},\"pattern\":{\"fillmode\":\"overlay\",\"size\":10,\"solidity\":0.2}},\"type\":\"barpolar\"}],\"carpet\":[{\"aaxis\":{\"endlinecolor\":\"#2a3f5f\",\"gridcolor\":\"white\",\"linecolor\":\"white\",\"minorgridcolor\":\"white\",\"startlinecolor\":\"#2a3f5f\"},\"baxis\":{\"endlinecolor\":\"#2a3f5f\",\"gridcolor\":\"white\",\"linecolor\":\"white\",\"minorgridcolor\":\"white\",\"startlinecolor\":\"#2a3f5f\"},\"type\":\"carpet\"}],\"choropleth\":[{\"colorbar\":{\"outlinewidth\":0,\"ticks\":\"\"},\"type\":\"choropleth\"}],\"contour\":[{\"colorbar\":{\"outlinewidth\":0,\"ticks\":\"\"},\"colorscale\":[[0.0,\"#0d0887\"],[0.1111111111111111,\"#46039f\"],[0.2222222222222222,\"#7201a8\"],[0.3333333333333333,\"#9c179e\"],[0.4444444444444444,\"#bd3786\"],[0.5555555555555556,\"#d8576b\"],[0.6666666666666666,\"#ed7953\"],[0.7777777777777778,\"#fb9f3a\"],[0.8888888888888888,\"#fdca26\"],[1.0,\"#f0f921\"]],\"type\":\"contour\"}],\"contourcarpet\":[{\"colorbar\":{\"outlinewidth\":0,\"ticks\":\"\"},\"type\":\"contourcarpet\"}],\"heatmap\":[{\"colorbar\":{\"outlinewidth\":0,\"ticks\":\"\"},\"colorscale\":[[0.0,\"#0d0887\"],[0.1111111111111111,\"#46039f\"],[0.2222222222222222,\"#7201a8\"],[0.3333333333333333,\"#9c179e\"],[0.4444444444444444,\"#bd3786\"],[0.5555555555555556,\"#d8576b\"],[0.6666666666666666,\"#ed7953\"],[0.7777777777777778,\"#fb9f3a\"],[0.8888888888888888,\"#fdca26\"],[1.0,\"#f0f921\"]],\"type\":\"heatmap\"}],\"heatmapgl\":[{\"colorbar\":{\"outlinewidth\":0,\"ticks\":\"\"},\"colorscale\":[[0.0,\"#0d0887\"],[0.1111111111111111,\"#46039f\"],[0.2222222222222222,\"#7201a8\"],[0.3333333333333333,\"#9c179e\"],[0.4444444444444444,\"#bd3786\"],[0.5555555555555556,\"#d8576b\"],[0.6666666666666666,\"#ed7953\"],[0.7777777777777778,\"#fb9f3a\"],[0.8888888888888888,\"#fdca26\"],[1.0,\"#f0f921\"]],\"type\":\"heatmapgl\"}],\"histogram\":[{\"marker\":{\"pattern\":{\"fillmode\":\"overlay\",\"size\":10,\"solidity\":0.2}},\"type\":\"histogram\"}],\"histogram2d\":[{\"colorbar\":{\"outlinewidth\":0,\"ticks\":\"\"},\"colorscale\":[[0.0,\"#0d0887\"],[0.1111111111111111,\"#46039f\"],[0.2222222222222222,\"#7201a8\"],[0.3333333333333333,\"#9c179e\"],[0.4444444444444444,\"#bd3786\"],[0.5555555555555556,\"#d8576b\"],[0.6666666666666666,\"#ed7953\"],[0.7777777777777778,\"#fb9f3a\"],[0.8888888888888888,\"#fdca26\"],[1.0,\"#f0f921\"]],\"type\":\"histogram2d\"}],\"histogram2dcontour\":[{\"colorbar\":{\"outlinewidth\":0,\"ticks\":\"\"},\"colorscale\":[[0.0,\"#0d0887\"],[0.1111111111111111,\"#46039f\"],[0.2222222222222222,\"#7201a8\"],[0.3333333333333333,\"#9c179e\"],[0.4444444444444444,\"#bd3786\"],[0.5555555555555556,\"#d8576b\"],[0.6666666666666666,\"#ed7953\"],[0.7777777777777778,\"#fb9f3a\"],[0.8888888888888888,\"#fdca26\"],[1.0,\"#f0f921\"]],\"type\":\"histogram2dcontour\"}],\"mesh3d\":[{\"colorbar\":{\"outlinewidth\":0,\"ticks\":\"\"},\"type\":\"mesh3d\"}],\"parcoords\":[{\"line\":{\"colorbar\":{\"outlinewidth\":0,\"ticks\":\"\"}},\"type\":\"parcoords\"}],\"pie\":[{\"automargin\":true,\"type\":\"pie\"}],\"scatter\":[{\"marker\":{\"colorbar\":{\"outlinewidth\":0,\"ticks\":\"\"}},\"type\":\"scatter\"}],\"scatter3d\":[{\"line\":{\"colorbar\":{\"outlinewidth\":0,\"ticks\":\"\"}},\"marker\":{\"colorbar\":{\"outlinewidth\":0,\"ticks\":\"\"}},\"type\":\"scatter3d\"}],\"scattercarpet\":[{\"marker\":{\"colorbar\":{\"outlinewidth\":0,\"ticks\":\"\"}},\"type\":\"scattercarpet\"}],\"scattergeo\":[{\"marker\":{\"colorbar\":{\"outlinewidth\":0,\"ticks\":\"\"}},\"type\":\"scattergeo\"}],\"scattergl\":[{\"marker\":{\"colorbar\":{\"outlinewidth\":0,\"ticks\":\"\"}},\"type\":\"scattergl\"}],\"scattermapbox\":[{\"marker\":{\"colorbar\":{\"outlinewidth\":0,\"ticks\":\"\"}},\"type\":\"scattermapbox\"}],\"scatterpolar\":[{\"marker\":{\"colorbar\":{\"outlinewidth\":0,\"ticks\":\"\"}},\"type\":\"scatterpolar\"}],\"scatterpolargl\":[{\"marker\":{\"colorbar\":{\"outlinewidth\":0,\"ticks\":\"\"}},\"type\":\"scatterpolargl\"}],\"scatterternary\":[{\"marker\":{\"colorbar\":{\"outlinewidth\":0,\"ticks\":\"\"}},\"type\":\"scatterternary\"}],\"surface\":[{\"colorbar\":{\"outlinewidth\":0,\"ticks\":\"\"},\"colorscale\":[[0.0,\"#0d0887\"],[0.1111111111111111,\"#46039f\"],[0.2222222222222222,\"#7201a8\"],[0.3333333333333333,\"#9c179e\"],[0.4444444444444444,\"#bd3786\"],[0.5555555555555556,\"#d8576b\"],[0.6666666666666666,\"#ed7953\"],[0.7777777777777778,\"#fb9f3a\"],[0.8888888888888888,\"#fdca26\"],[1.0,\"#f0f921\"]],\"type\":\"surface\"}],\"table\":[{\"cells\":{\"fill\":{\"color\":\"#EBF0F8\"},\"line\":{\"color\":\"white\"}},\"header\":{\"fill\":{\"color\":\"#C8D4E3\"},\"line\":{\"color\":\"white\"}},\"type\":\"table\"}]},\"layout\":{\"annotationdefaults\":{\"arrowcolor\":\"#2a3f5f\",\"arrowhead\":0,\"arrowwidth\":1},\"autotypenumbers\":\"strict\",\"coloraxis\":{\"colorbar\":{\"outlinewidth\":0,\"ticks\":\"\"}},\"colorscale\":{\"diverging\":[[0,\"#8e0152\"],[0.1,\"#c51b7d\"],[0.2,\"#de77ae\"],[0.3,\"#f1b6da\"],[0.4,\"#fde0ef\"],[0.5,\"#f7f7f7\"],[0.6,\"#e6f5d0\"],[0.7,\"#b8e186\"],[0.8,\"#7fbc41\"],[0.9,\"#4d9221\"],[1,\"#276419\"]],\"sequential\":[[0.0,\"#0d0887\"],[0.1111111111111111,\"#46039f\"],[0.2222222222222222,\"#7201a8\"],[0.3333333333333333,\"#9c179e\"],[0.4444444444444444,\"#bd3786\"],[0.5555555555555556,\"#d8576b\"],[0.6666666666666666,\"#ed7953\"],[0.7777777777777778,\"#fb9f3a\"],[0.8888888888888888,\"#fdca26\"],[1.0,\"#f0f921\"]],\"sequentialminus\":[[0.0,\"#0d0887\"],[0.1111111111111111,\"#46039f\"],[0.2222222222222222,\"#7201a8\"],[0.3333333333333333,\"#9c179e\"],[0.4444444444444444,\"#bd3786\"],[0.5555555555555556,\"#d8576b\"],[0.6666666666666666,\"#ed7953\"],[0.7777777777777778,\"#fb9f3a\"],[0.8888888888888888,\"#fdca26\"],[1.0,\"#f0f921\"]]},\"colorway\":[\"#636efa\",\"#EF553B\",\"#00cc96\",\"#ab63fa\",\"#FFA15A\",\"#19d3f3\",\"#FF6692\",\"#B6E880\",\"#FF97FF\",\"#FECB52\"],\"font\":{\"color\":\"#2a3f5f\"},\"geo\":{\"bgcolor\":\"white\",\"lakecolor\":\"white\",\"landcolor\":\"#E5ECF6\",\"showlakes\":true,\"showland\":true,\"subunitcolor\":\"white\"},\"hoverlabel\":{\"align\":\"left\"},\"hovermode\":\"closest\",\"mapbox\":{\"style\":\"light\"},\"paper_bgcolor\":\"white\",\"plot_bgcolor\":\"#E5ECF6\",\"polar\":{\"angularaxis\":{\"gridcolor\":\"white\",\"linecolor\":\"white\",\"ticks\":\"\"},\"bgcolor\":\"#E5ECF6\",\"radialaxis\":{\"gridcolor\":\"white\",\"linecolor\":\"white\",\"ticks\":\"\"}},\"scene\":{\"xaxis\":{\"backgroundcolor\":\"#E5ECF6\",\"gridcolor\":\"white\",\"gridwidth\":2,\"linecolor\":\"white\",\"showbackground\":true,\"ticks\":\"\",\"zerolinecolor\":\"white\"},\"yaxis\":{\"backgroundcolor\":\"#E5ECF6\",\"gridcolor\":\"white\",\"gridwidth\":2,\"linecolor\":\"white\",\"showbackground\":true,\"ticks\":\"\",\"zerolinecolor\":\"white\"},\"zaxis\":{\"backgroundcolor\":\"#E5ECF6\",\"gridcolor\":\"white\",\"gridwidth\":2,\"linecolor\":\"white\",\"showbackground\":true,\"ticks\":\"\",\"zerolinecolor\":\"white\"}},\"shapedefaults\":{\"line\":{\"color\":\"#2a3f5f\"}},\"ternary\":{\"aaxis\":{\"gridcolor\":\"white\",\"linecolor\":\"white\",\"ticks\":\"\"},\"baxis\":{\"gridcolor\":\"white\",\"linecolor\":\"white\",\"ticks\":\"\"},\"bgcolor\":\"#E5ECF6\",\"caxis\":{\"gridcolor\":\"white\",\"linecolor\":\"white\",\"ticks\":\"\"}},\"title\":{\"x\":0.05},\"xaxis\":{\"automargin\":true,\"gridcolor\":\"white\",\"linecolor\":\"white\",\"ticks\":\"\",\"title\":{\"standoff\":15},\"zerolinecolor\":\"white\",\"zerolinewidth\":2},\"yaxis\":{\"automargin\":true,\"gridcolor\":\"white\",\"linecolor\":\"white\",\"ticks\":\"\",\"title\":{\"standoff\":15},\"zerolinecolor\":\"white\",\"zerolinewidth\":2}}},\"xaxis\":{\"anchor\":\"y\",\"domain\":[0.0,1.0],\"title\":{\"text\":\"Age\"}},\"yaxis\":{\"anchor\":\"x\",\"domain\":[0.0,1.0],\"title\":{\"text\":\"count\"}},\"legend\":{\"title\":{\"text\":\"Survived\"},\"tracegroupgap\":0},\"margin\":{\"t\":60},\"barmode\":\"relative\"},                        {\"responsive\": true}                    ).then(function(){\n",
       "                            \n",
       "var gd = document.getElementById('36a80696-eaee-4d88-b3f0-89b378cced51');\n",
       "var x = new MutationObserver(function (mutations, observer) {{\n",
       "        var display = window.getComputedStyle(gd).display;\n",
       "        if (!display || display === 'none') {{\n",
       "            console.log([gd, 'removed!']);\n",
       "            Plotly.purge(gd);\n",
       "            observer.disconnect();\n",
       "        }}\n",
       "}});\n",
       "\n",
       "// Listen for the removal of the full notebook cells\n",
       "var notebookContainer = gd.closest('#notebook-container');\n",
       "if (notebookContainer) {{\n",
       "    x.observe(notebookContainer, {childList: true});\n",
       "}}\n",
       "\n",
       "// Listen for the clearing of the current output cell\n",
       "var outputEl = gd.closest('.output');\n",
       "if (outputEl) {{\n",
       "    x.observe(outputEl, {childList: true});\n",
       "}}\n",
       "\n",
       "                        })                };                });            </script>        </div>"
      ]
     },
     "metadata": {},
     "output_type": "display_data"
    },
    {
     "data": {
      "application/vnd.plotly.v1+json": {
       "config": {
        "plotlyServerURL": "https://plot.ly"
       },
       "data": [
        {
         "alignmentgroup": "True",
         "bingroup": "x",
         "hovertemplate": "Survived=0.0<br>SibSp=%{x}<br>count=%{y}<extra></extra>",
         "legendgroup": "0.0",
         "marker": {
          "color": "#636efa",
          "pattern": {
           "shape": ""
          }
         },
         "name": "0.0",
         "offsetgroup": "0.0",
         "orientation": "v",
         "showlegend": true,
         "type": "histogram",
         "x": [
          1,
          0,
          0,
          0,
          3,
          0,
          1,
          0,
          4,
          1,
          0,
          3,
          0,
          3,
          0,
          0,
          0,
          1,
          1,
          0,
          2,
          1,
          1,
          0,
          0,
          1,
          2,
          1,
          4,
          0,
          0,
          0,
          5,
          0,
          1,
          3,
          0,
          0,
          2,
          0,
          5,
          0,
          1,
          0,
          0,
          0,
          0,
          0,
          1,
          0,
          0,
          0,
          0,
          1,
          1,
          0,
          0,
          0,
          1,
          0,
          0,
          0,
          0,
          2,
          0,
          0,
          0,
          1,
          0,
          1,
          0,
          0,
          0,
          1,
          0,
          4,
          2,
          0,
          1,
          0,
          0,
          0,
          0,
          0,
          1,
          0,
          0,
          1,
          0,
          0,
          0,
          0,
          0,
          1,
          2,
          0,
          0,
          0,
          0,
          0,
          0,
          0,
          0,
          0,
          8,
          0,
          0,
          0,
          4,
          1,
          0,
          0,
          0,
          4,
          0,
          0,
          1,
          3,
          0,
          0,
          0,
          8,
          0,
          4,
          0,
          1,
          0,
          0,
          0,
          0,
          0,
          0,
          8,
          0,
          0,
          0,
          1,
          0,
          0,
          0,
          1,
          1,
          0,
          0,
          0,
          0,
          0,
          0,
          0,
          3,
          0,
          0,
          0,
          0,
          1,
          0,
          0,
          1,
          0,
          0,
          0,
          2,
          0,
          1,
          0,
          1,
          0,
          1,
          0,
          0,
          1,
          0,
          0,
          0,
          4,
          0,
          0,
          0,
          0,
          4,
          0,
          0,
          0,
          0,
          0,
          0,
          0,
          0,
          0,
          0,
          0,
          1,
          0,
          0,
          1,
          1,
          0,
          1,
          0,
          0,
          0,
          8,
          0,
          0,
          0,
          2,
          0,
          1,
          0,
          0,
          0,
          0,
          0,
          0,
          0,
          1,
          1,
          0,
          0,
          0,
          1,
          1,
          0,
          0,
          1,
          0,
          1,
          0,
          0,
          3,
          0,
          0,
          0,
          0,
          0,
          0,
          5,
          0,
          2,
          0,
          0,
          0,
          0,
          0,
          1,
          1,
          0,
          1,
          0,
          0,
          3,
          0,
          0,
          0,
          0,
          0,
          0,
          0,
          0,
          0,
          1,
          1,
          0,
          0,
          0,
          1,
          2,
          1,
          0,
          0,
          1,
          1,
          1,
          0,
          0,
          0,
          0,
          0,
          0,
          0,
          0,
          0,
          0,
          0,
          0,
          0,
          0,
          0,
          0,
          1,
          1,
          0,
          5,
          0,
          0,
          3,
          0,
          0,
          1,
          0,
          0,
          0,
          0,
          0,
          0,
          1,
          0,
          0,
          0,
          0,
          0,
          1,
          0,
          0,
          0,
          0,
          0,
          0,
          0,
          0,
          0,
          0,
          0,
          0,
          2,
          0,
          1,
          0,
          0,
          0,
          4,
          4,
          1,
          0,
          1,
          0,
          0,
          0,
          0,
          0,
          0,
          0,
          0,
          0,
          2,
          0,
          0,
          0,
          0,
          0,
          1,
          0,
          0,
          0,
          0,
          0,
          0,
          0,
          0,
          0,
          1,
          1,
          0,
          0,
          0,
          0,
          0,
          1,
          0,
          1,
          0,
          0,
          0,
          1,
          1,
          0,
          1,
          0,
          0,
          0,
          0,
          0,
          0,
          0,
          0,
          3,
          0,
          1,
          0,
          1,
          0,
          3,
          0,
          0,
          0,
          0,
          0,
          2,
          0,
          1,
          0,
          0,
          0,
          0,
          0,
          2,
          0,
          0,
          0,
          1,
          0,
          0,
          0,
          0,
          1,
          0,
          0,
          5,
          1,
          1,
          4,
          0,
          0,
          0,
          0,
          0,
          0,
          1,
          0,
          0,
          0,
          1,
          0,
          0,
          0,
          0,
          0,
          0,
          0,
          1,
          0,
          0,
          0,
          1,
          1,
          0,
          0,
          0,
          0,
          0,
          1,
          0,
          0,
          1,
          1,
          1,
          1,
          1,
          0,
          0,
          0,
          0,
          0,
          0,
          0,
          0,
          0,
          0,
          0,
          1,
          0,
          0,
          0,
          0,
          0,
          0,
          0,
          0,
          0,
          1,
          0,
          0,
          4,
          0,
          0,
          0,
          8,
          0,
          0,
          0,
          0,
          1,
          0,
          0,
          0,
          0,
          0,
          0,
          0,
          0,
          4,
          0,
          0,
          0,
          1,
          0,
          3,
          0,
          4,
          0,
          0,
          0,
          0,
          0,
          0,
          0,
          0,
          0,
          0,
          0,
          0,
          8,
          0,
          0,
          4,
          0,
          1,
          1,
          0,
          2,
          1,
          8,
          0,
          0,
          0,
          0,
          0,
          0,
          0,
          0,
          0,
          0,
          0,
          0,
          0,
          0,
          0,
          1,
          0
         ],
         "xaxis": "x",
         "yaxis": "y"
        },
        {
         "alignmentgroup": "True",
         "bingroup": "x",
         "hovertemplate": "Survived=1.0<br>SibSp=%{x}<br>count=%{y}<extra></extra>",
         "legendgroup": "1.0",
         "marker": {
          "color": "#EF553B",
          "pattern": {
           "shape": ""
          }
         },
         "name": "1.0",
         "offsetgroup": "1.0",
         "orientation": "v",
         "showlegend": true,
         "type": "histogram",
         "x": [
          1,
          0,
          1,
          0,
          1,
          1,
          0,
          0,
          0,
          0,
          0,
          0,
          0,
          1,
          0,
          1,
          0,
          0,
          1,
          1,
          0,
          0,
          1,
          1,
          0,
          0,
          1,
          0,
          1,
          0,
          4,
          0,
          0,
          0,
          0,
          0,
          0,
          3,
          3,
          0,
          0,
          0,
          0,
          1,
          0,
          1,
          0,
          1,
          1,
          0,
          0,
          1,
          0,
          1,
          0,
          0,
          0,
          0,
          1,
          2,
          0,
          1,
          0,
          0,
          1,
          1,
          0,
          0,
          0,
          0,
          0,
          0,
          0,
          0,
          1,
          0,
          0,
          0,
          1,
          0,
          1,
          4,
          0,
          1,
          0,
          1,
          0,
          0,
          0,
          0,
          0,
          4,
          1,
          0,
          0,
          0,
          0,
          0,
          1,
          1,
          0,
          0,
          0,
          0,
          0,
          1,
          0,
          0,
          0,
          2,
          0,
          1,
          0,
          1,
          0,
          0,
          2,
          0,
          1,
          0,
          1,
          0,
          1,
          0,
          0,
          1,
          0,
          2,
          1,
          0,
          0,
          1,
          3,
          0,
          0,
          1,
          1,
          0,
          0,
          0,
          1,
          0,
          0,
          0,
          1,
          1,
          0,
          0,
          0,
          1,
          0,
          0,
          1,
          0,
          1,
          0,
          0,
          0,
          1,
          1,
          0,
          1,
          0,
          1,
          0,
          0,
          0,
          1,
          1,
          1,
          2,
          1,
          0,
          0,
          0,
          0,
          0,
          2,
          0,
          1,
          0,
          1,
          0,
          0,
          2,
          1,
          0,
          0,
          0,
          1,
          1,
          1,
          1,
          0,
          0,
          0,
          0,
          0,
          0,
          1,
          0,
          1,
          0,
          0,
          0,
          1,
          0,
          0,
          0,
          0,
          0,
          1,
          1,
          0,
          1,
          0,
          0,
          0,
          1,
          1,
          1,
          0,
          0,
          2,
          0,
          0,
          0,
          1,
          0,
          1,
          1,
          0,
          1,
          1,
          0,
          1,
          2,
          0,
          0,
          1,
          0,
          1,
          1,
          2,
          1,
          1,
          0,
          0,
          0,
          0,
          0,
          0,
          2,
          1,
          0,
          0,
          0,
          0,
          2,
          1,
          1,
          1,
          0,
          0,
          0,
          0,
          0,
          1,
          0,
          0,
          0,
          1,
          0,
          0,
          0,
          0,
          1,
          0,
          1,
          0,
          0,
          0,
          1,
          3,
          0,
          0,
          0,
          0,
          2,
          0,
          0,
          1,
          0,
          1,
          1,
          0,
          0,
          1,
          1,
          1,
          0,
          0,
          0,
          1,
          0,
          1,
          0,
          0,
          1,
          1,
          0,
          0,
          1,
          1,
          0,
          0,
          0,
          0,
          0,
          1,
          1,
          1,
          0,
          0,
          0,
          1,
          0,
          0,
          1,
          0,
          0,
          0,
          0,
          1,
          1,
          1,
          1,
          0,
          0,
          0,
          0,
          0
         ],
         "xaxis": "x",
         "yaxis": "y"
        }
       ],
       "layout": {
        "barmode": "relative",
        "legend": {
         "title": {
          "text": "Survived"
         },
         "tracegroupgap": 0
        },
        "margin": {
         "t": 60
        },
        "template": {
         "data": {
          "bar": [
           {
            "error_x": {
             "color": "#2a3f5f"
            },
            "error_y": {
             "color": "#2a3f5f"
            },
            "marker": {
             "line": {
              "color": "#E5ECF6",
              "width": 0.5
             },
             "pattern": {
              "fillmode": "overlay",
              "size": 10,
              "solidity": 0.2
             }
            },
            "type": "bar"
           }
          ],
          "barpolar": [
           {
            "marker": {
             "line": {
              "color": "#E5ECF6",
              "width": 0.5
             },
             "pattern": {
              "fillmode": "overlay",
              "size": 10,
              "solidity": 0.2
             }
            },
            "type": "barpolar"
           }
          ],
          "carpet": [
           {
            "aaxis": {
             "endlinecolor": "#2a3f5f",
             "gridcolor": "white",
             "linecolor": "white",
             "minorgridcolor": "white",
             "startlinecolor": "#2a3f5f"
            },
            "baxis": {
             "endlinecolor": "#2a3f5f",
             "gridcolor": "white",
             "linecolor": "white",
             "minorgridcolor": "white",
             "startlinecolor": "#2a3f5f"
            },
            "type": "carpet"
           }
          ],
          "choropleth": [
           {
            "colorbar": {
             "outlinewidth": 0,
             "ticks": ""
            },
            "type": "choropleth"
           }
          ],
          "contour": [
           {
            "colorbar": {
             "outlinewidth": 0,
             "ticks": ""
            },
            "colorscale": [
             [
              0,
              "#0d0887"
             ],
             [
              0.1111111111111111,
              "#46039f"
             ],
             [
              0.2222222222222222,
              "#7201a8"
             ],
             [
              0.3333333333333333,
              "#9c179e"
             ],
             [
              0.4444444444444444,
              "#bd3786"
             ],
             [
              0.5555555555555556,
              "#d8576b"
             ],
             [
              0.6666666666666666,
              "#ed7953"
             ],
             [
              0.7777777777777778,
              "#fb9f3a"
             ],
             [
              0.8888888888888888,
              "#fdca26"
             ],
             [
              1,
              "#f0f921"
             ]
            ],
            "type": "contour"
           }
          ],
          "contourcarpet": [
           {
            "colorbar": {
             "outlinewidth": 0,
             "ticks": ""
            },
            "type": "contourcarpet"
           }
          ],
          "heatmap": [
           {
            "colorbar": {
             "outlinewidth": 0,
             "ticks": ""
            },
            "colorscale": [
             [
              0,
              "#0d0887"
             ],
             [
              0.1111111111111111,
              "#46039f"
             ],
             [
              0.2222222222222222,
              "#7201a8"
             ],
             [
              0.3333333333333333,
              "#9c179e"
             ],
             [
              0.4444444444444444,
              "#bd3786"
             ],
             [
              0.5555555555555556,
              "#d8576b"
             ],
             [
              0.6666666666666666,
              "#ed7953"
             ],
             [
              0.7777777777777778,
              "#fb9f3a"
             ],
             [
              0.8888888888888888,
              "#fdca26"
             ],
             [
              1,
              "#f0f921"
             ]
            ],
            "type": "heatmap"
           }
          ],
          "heatmapgl": [
           {
            "colorbar": {
             "outlinewidth": 0,
             "ticks": ""
            },
            "colorscale": [
             [
              0,
              "#0d0887"
             ],
             [
              0.1111111111111111,
              "#46039f"
             ],
             [
              0.2222222222222222,
              "#7201a8"
             ],
             [
              0.3333333333333333,
              "#9c179e"
             ],
             [
              0.4444444444444444,
              "#bd3786"
             ],
             [
              0.5555555555555556,
              "#d8576b"
             ],
             [
              0.6666666666666666,
              "#ed7953"
             ],
             [
              0.7777777777777778,
              "#fb9f3a"
             ],
             [
              0.8888888888888888,
              "#fdca26"
             ],
             [
              1,
              "#f0f921"
             ]
            ],
            "type": "heatmapgl"
           }
          ],
          "histogram": [
           {
            "marker": {
             "pattern": {
              "fillmode": "overlay",
              "size": 10,
              "solidity": 0.2
             }
            },
            "type": "histogram"
           }
          ],
          "histogram2d": [
           {
            "colorbar": {
             "outlinewidth": 0,
             "ticks": ""
            },
            "colorscale": [
             [
              0,
              "#0d0887"
             ],
             [
              0.1111111111111111,
              "#46039f"
             ],
             [
              0.2222222222222222,
              "#7201a8"
             ],
             [
              0.3333333333333333,
              "#9c179e"
             ],
             [
              0.4444444444444444,
              "#bd3786"
             ],
             [
              0.5555555555555556,
              "#d8576b"
             ],
             [
              0.6666666666666666,
              "#ed7953"
             ],
             [
              0.7777777777777778,
              "#fb9f3a"
             ],
             [
              0.8888888888888888,
              "#fdca26"
             ],
             [
              1,
              "#f0f921"
             ]
            ],
            "type": "histogram2d"
           }
          ],
          "histogram2dcontour": [
           {
            "colorbar": {
             "outlinewidth": 0,
             "ticks": ""
            },
            "colorscale": [
             [
              0,
              "#0d0887"
             ],
             [
              0.1111111111111111,
              "#46039f"
             ],
             [
              0.2222222222222222,
              "#7201a8"
             ],
             [
              0.3333333333333333,
              "#9c179e"
             ],
             [
              0.4444444444444444,
              "#bd3786"
             ],
             [
              0.5555555555555556,
              "#d8576b"
             ],
             [
              0.6666666666666666,
              "#ed7953"
             ],
             [
              0.7777777777777778,
              "#fb9f3a"
             ],
             [
              0.8888888888888888,
              "#fdca26"
             ],
             [
              1,
              "#f0f921"
             ]
            ],
            "type": "histogram2dcontour"
           }
          ],
          "mesh3d": [
           {
            "colorbar": {
             "outlinewidth": 0,
             "ticks": ""
            },
            "type": "mesh3d"
           }
          ],
          "parcoords": [
           {
            "line": {
             "colorbar": {
              "outlinewidth": 0,
              "ticks": ""
             }
            },
            "type": "parcoords"
           }
          ],
          "pie": [
           {
            "automargin": true,
            "type": "pie"
           }
          ],
          "scatter": [
           {
            "marker": {
             "colorbar": {
              "outlinewidth": 0,
              "ticks": ""
             }
            },
            "type": "scatter"
           }
          ],
          "scatter3d": [
           {
            "line": {
             "colorbar": {
              "outlinewidth": 0,
              "ticks": ""
             }
            },
            "marker": {
             "colorbar": {
              "outlinewidth": 0,
              "ticks": ""
             }
            },
            "type": "scatter3d"
           }
          ],
          "scattercarpet": [
           {
            "marker": {
             "colorbar": {
              "outlinewidth": 0,
              "ticks": ""
             }
            },
            "type": "scattercarpet"
           }
          ],
          "scattergeo": [
           {
            "marker": {
             "colorbar": {
              "outlinewidth": 0,
              "ticks": ""
             }
            },
            "type": "scattergeo"
           }
          ],
          "scattergl": [
           {
            "marker": {
             "colorbar": {
              "outlinewidth": 0,
              "ticks": ""
             }
            },
            "type": "scattergl"
           }
          ],
          "scattermapbox": [
           {
            "marker": {
             "colorbar": {
              "outlinewidth": 0,
              "ticks": ""
             }
            },
            "type": "scattermapbox"
           }
          ],
          "scatterpolar": [
           {
            "marker": {
             "colorbar": {
              "outlinewidth": 0,
              "ticks": ""
             }
            },
            "type": "scatterpolar"
           }
          ],
          "scatterpolargl": [
           {
            "marker": {
             "colorbar": {
              "outlinewidth": 0,
              "ticks": ""
             }
            },
            "type": "scatterpolargl"
           }
          ],
          "scatterternary": [
           {
            "marker": {
             "colorbar": {
              "outlinewidth": 0,
              "ticks": ""
             }
            },
            "type": "scatterternary"
           }
          ],
          "surface": [
           {
            "colorbar": {
             "outlinewidth": 0,
             "ticks": ""
            },
            "colorscale": [
             [
              0,
              "#0d0887"
             ],
             [
              0.1111111111111111,
              "#46039f"
             ],
             [
              0.2222222222222222,
              "#7201a8"
             ],
             [
              0.3333333333333333,
              "#9c179e"
             ],
             [
              0.4444444444444444,
              "#bd3786"
             ],
             [
              0.5555555555555556,
              "#d8576b"
             ],
             [
              0.6666666666666666,
              "#ed7953"
             ],
             [
              0.7777777777777778,
              "#fb9f3a"
             ],
             [
              0.8888888888888888,
              "#fdca26"
             ],
             [
              1,
              "#f0f921"
             ]
            ],
            "type": "surface"
           }
          ],
          "table": [
           {
            "cells": {
             "fill": {
              "color": "#EBF0F8"
             },
             "line": {
              "color": "white"
             }
            },
            "header": {
             "fill": {
              "color": "#C8D4E3"
             },
             "line": {
              "color": "white"
             }
            },
            "type": "table"
           }
          ]
         },
         "layout": {
          "annotationdefaults": {
           "arrowcolor": "#2a3f5f",
           "arrowhead": 0,
           "arrowwidth": 1
          },
          "autotypenumbers": "strict",
          "coloraxis": {
           "colorbar": {
            "outlinewidth": 0,
            "ticks": ""
           }
          },
          "colorscale": {
           "diverging": [
            [
             0,
             "#8e0152"
            ],
            [
             0.1,
             "#c51b7d"
            ],
            [
             0.2,
             "#de77ae"
            ],
            [
             0.3,
             "#f1b6da"
            ],
            [
             0.4,
             "#fde0ef"
            ],
            [
             0.5,
             "#f7f7f7"
            ],
            [
             0.6,
             "#e6f5d0"
            ],
            [
             0.7,
             "#b8e186"
            ],
            [
             0.8,
             "#7fbc41"
            ],
            [
             0.9,
             "#4d9221"
            ],
            [
             1,
             "#276419"
            ]
           ],
           "sequential": [
            [
             0,
             "#0d0887"
            ],
            [
             0.1111111111111111,
             "#46039f"
            ],
            [
             0.2222222222222222,
             "#7201a8"
            ],
            [
             0.3333333333333333,
             "#9c179e"
            ],
            [
             0.4444444444444444,
             "#bd3786"
            ],
            [
             0.5555555555555556,
             "#d8576b"
            ],
            [
             0.6666666666666666,
             "#ed7953"
            ],
            [
             0.7777777777777778,
             "#fb9f3a"
            ],
            [
             0.8888888888888888,
             "#fdca26"
            ],
            [
             1,
             "#f0f921"
            ]
           ],
           "sequentialminus": [
            [
             0,
             "#0d0887"
            ],
            [
             0.1111111111111111,
             "#46039f"
            ],
            [
             0.2222222222222222,
             "#7201a8"
            ],
            [
             0.3333333333333333,
             "#9c179e"
            ],
            [
             0.4444444444444444,
             "#bd3786"
            ],
            [
             0.5555555555555556,
             "#d8576b"
            ],
            [
             0.6666666666666666,
             "#ed7953"
            ],
            [
             0.7777777777777778,
             "#fb9f3a"
            ],
            [
             0.8888888888888888,
             "#fdca26"
            ],
            [
             1,
             "#f0f921"
            ]
           ]
          },
          "colorway": [
           "#636efa",
           "#EF553B",
           "#00cc96",
           "#ab63fa",
           "#FFA15A",
           "#19d3f3",
           "#FF6692",
           "#B6E880",
           "#FF97FF",
           "#FECB52"
          ],
          "font": {
           "color": "#2a3f5f"
          },
          "geo": {
           "bgcolor": "white",
           "lakecolor": "white",
           "landcolor": "#E5ECF6",
           "showlakes": true,
           "showland": true,
           "subunitcolor": "white"
          },
          "hoverlabel": {
           "align": "left"
          },
          "hovermode": "closest",
          "mapbox": {
           "style": "light"
          },
          "paper_bgcolor": "white",
          "plot_bgcolor": "#E5ECF6",
          "polar": {
           "angularaxis": {
            "gridcolor": "white",
            "linecolor": "white",
            "ticks": ""
           },
           "bgcolor": "#E5ECF6",
           "radialaxis": {
            "gridcolor": "white",
            "linecolor": "white",
            "ticks": ""
           }
          },
          "scene": {
           "xaxis": {
            "backgroundcolor": "#E5ECF6",
            "gridcolor": "white",
            "gridwidth": 2,
            "linecolor": "white",
            "showbackground": true,
            "ticks": "",
            "zerolinecolor": "white"
           },
           "yaxis": {
            "backgroundcolor": "#E5ECF6",
            "gridcolor": "white",
            "gridwidth": 2,
            "linecolor": "white",
            "showbackground": true,
            "ticks": "",
            "zerolinecolor": "white"
           },
           "zaxis": {
            "backgroundcolor": "#E5ECF6",
            "gridcolor": "white",
            "gridwidth": 2,
            "linecolor": "white",
            "showbackground": true,
            "ticks": "",
            "zerolinecolor": "white"
           }
          },
          "shapedefaults": {
           "line": {
            "color": "#2a3f5f"
           }
          },
          "ternary": {
           "aaxis": {
            "gridcolor": "white",
            "linecolor": "white",
            "ticks": ""
           },
           "baxis": {
            "gridcolor": "white",
            "linecolor": "white",
            "ticks": ""
           },
           "bgcolor": "#E5ECF6",
           "caxis": {
            "gridcolor": "white",
            "linecolor": "white",
            "ticks": ""
           }
          },
          "title": {
           "x": 0.05
          },
          "xaxis": {
           "automargin": true,
           "gridcolor": "white",
           "linecolor": "white",
           "ticks": "",
           "title": {
            "standoff": 15
           },
           "zerolinecolor": "white",
           "zerolinewidth": 2
          },
          "yaxis": {
           "automargin": true,
           "gridcolor": "white",
           "linecolor": "white",
           "ticks": "",
           "title": {
            "standoff": 15
           },
           "zerolinecolor": "white",
           "zerolinewidth": 2
          }
         }
        },
        "xaxis": {
         "anchor": "y",
         "domain": [
          0,
          1
         ],
         "title": {
          "text": "SibSp"
         }
        },
        "yaxis": {
         "anchor": "x",
         "domain": [
          0,
          1
         ],
         "title": {
          "text": "count"
         }
        }
       }
      },
      "text/html": [
       "<div>                            <div id=\"5edcec29-824d-49f4-9515-60809f1113d2\" class=\"plotly-graph-div\" style=\"height:525px; width:100%;\"></div>            <script type=\"text/javascript\">                require([\"plotly\"], function(Plotly) {                    window.PLOTLYENV=window.PLOTLYENV || {};                                    if (document.getElementById(\"5edcec29-824d-49f4-9515-60809f1113d2\")) {                    Plotly.newPlot(                        \"5edcec29-824d-49f4-9515-60809f1113d2\",                        [{\"alignmentgroup\":\"True\",\"bingroup\":\"x\",\"hovertemplate\":\"Survived=0.0<br>SibSp=%{x}<br>count=%{y}<extra></extra>\",\"legendgroup\":\"0.0\",\"marker\":{\"color\":\"#636efa\",\"pattern\":{\"shape\":\"\"}},\"name\":\"0.0\",\"offsetgroup\":\"0.0\",\"orientation\":\"v\",\"showlegend\":true,\"x\":[1.0,0.0,0.0,0.0,3.0,0.0,1.0,0.0,4.0,1.0,0.0,3.0,0.0,3.0,0.0,0.0,0.0,1.0,1.0,0.0,2.0,1.0,1.0,0.0,0.0,1.0,2.0,1.0,4.0,0.0,0.0,0.0,5.0,0.0,1.0,3.0,0.0,0.0,2.0,0.0,5.0,0.0,1.0,0.0,0.0,0.0,0.0,0.0,1.0,0.0,0.0,0.0,0.0,1.0,1.0,0.0,0.0,0.0,1.0,0.0,0.0,0.0,0.0,2.0,0.0,0.0,0.0,1.0,0.0,1.0,0.0,0.0,0.0,1.0,0.0,4.0,2.0,0.0,1.0,0.0,0.0,0.0,0.0,0.0,1.0,0.0,0.0,1.0,0.0,0.0,0.0,0.0,0.0,1.0,2.0,0.0,0.0,0.0,0.0,0.0,0.0,0.0,0.0,0.0,8.0,0.0,0.0,0.0,4.0,1.0,0.0,0.0,0.0,4.0,0.0,0.0,1.0,3.0,0.0,0.0,0.0,8.0,0.0,4.0,0.0,1.0,0.0,0.0,0.0,0.0,0.0,0.0,8.0,0.0,0.0,0.0,1.0,0.0,0.0,0.0,1.0,1.0,0.0,0.0,0.0,0.0,0.0,0.0,0.0,3.0,0.0,0.0,0.0,0.0,1.0,0.0,0.0,1.0,0.0,0.0,0.0,2.0,0.0,1.0,0.0,1.0,0.0,1.0,0.0,0.0,1.0,0.0,0.0,0.0,4.0,0.0,0.0,0.0,0.0,4.0,0.0,0.0,0.0,0.0,0.0,0.0,0.0,0.0,0.0,0.0,0.0,1.0,0.0,0.0,1.0,1.0,0.0,1.0,0.0,0.0,0.0,8.0,0.0,0.0,0.0,2.0,0.0,1.0,0.0,0.0,0.0,0.0,0.0,0.0,0.0,1.0,1.0,0.0,0.0,0.0,1.0,1.0,0.0,0.0,1.0,0.0,1.0,0.0,0.0,3.0,0.0,0.0,0.0,0.0,0.0,0.0,5.0,0.0,2.0,0.0,0.0,0.0,0.0,0.0,1.0,1.0,0.0,1.0,0.0,0.0,3.0,0.0,0.0,0.0,0.0,0.0,0.0,0.0,0.0,0.0,1.0,1.0,0.0,0.0,0.0,1.0,2.0,1.0,0.0,0.0,1.0,1.0,1.0,0.0,0.0,0.0,0.0,0.0,0.0,0.0,0.0,0.0,0.0,0.0,0.0,0.0,0.0,0.0,0.0,1.0,1.0,0.0,5.0,0.0,0.0,3.0,0.0,0.0,1.0,0.0,0.0,0.0,0.0,0.0,0.0,1.0,0.0,0.0,0.0,0.0,0.0,1.0,0.0,0.0,0.0,0.0,0.0,0.0,0.0,0.0,0.0,0.0,0.0,0.0,2.0,0.0,1.0,0.0,0.0,0.0,4.0,4.0,1.0,0.0,1.0,0.0,0.0,0.0,0.0,0.0,0.0,0.0,0.0,0.0,2.0,0.0,0.0,0.0,0.0,0.0,1.0,0.0,0.0,0.0,0.0,0.0,0.0,0.0,0.0,0.0,1.0,1.0,0.0,0.0,0.0,0.0,0.0,1.0,0.0,1.0,0.0,0.0,0.0,1.0,1.0,0.0,1.0,0.0,0.0,0.0,0.0,0.0,0.0,0.0,0.0,3.0,0.0,1.0,0.0,1.0,0.0,3.0,0.0,0.0,0.0,0.0,0.0,2.0,0.0,1.0,0.0,0.0,0.0,0.0,0.0,2.0,0.0,0.0,0.0,1.0,0.0,0.0,0.0,0.0,1.0,0.0,0.0,5.0,1.0,1.0,4.0,0.0,0.0,0.0,0.0,0.0,0.0,1.0,0.0,0.0,0.0,1.0,0.0,0.0,0.0,0.0,0.0,0.0,0.0,1.0,0.0,0.0,0.0,1.0,1.0,0.0,0.0,0.0,0.0,0.0,1.0,0.0,0.0,1.0,1.0,1.0,1.0,1.0,0.0,0.0,0.0,0.0,0.0,0.0,0.0,0.0,0.0,0.0,0.0,1.0,0.0,0.0,0.0,0.0,0.0,0.0,0.0,0.0,0.0,1.0,0.0,0.0,4.0,0.0,0.0,0.0,8.0,0.0,0.0,0.0,0.0,1.0,0.0,0.0,0.0,0.0,0.0,0.0,0.0,0.0,4.0,0.0,0.0,0.0,1.0,0.0,3.0,0.0,4.0,0.0,0.0,0.0,0.0,0.0,0.0,0.0,0.0,0.0,0.0,0.0,0.0,8.0,0.0,0.0,4.0,0.0,1.0,1.0,0.0,2.0,1.0,8.0,0.0,0.0,0.0,0.0,0.0,0.0,0.0,0.0,0.0,0.0,0.0,0.0,0.0,0.0,0.0,1.0,0.0],\"xaxis\":\"x\",\"yaxis\":\"y\",\"type\":\"histogram\"},{\"alignmentgroup\":\"True\",\"bingroup\":\"x\",\"hovertemplate\":\"Survived=1.0<br>SibSp=%{x}<br>count=%{y}<extra></extra>\",\"legendgroup\":\"1.0\",\"marker\":{\"color\":\"#EF553B\",\"pattern\":{\"shape\":\"\"}},\"name\":\"1.0\",\"offsetgroup\":\"1.0\",\"orientation\":\"v\",\"showlegend\":true,\"x\":[1.0,0.0,1.0,0.0,1.0,1.0,0.0,0.0,0.0,0.0,0.0,0.0,0.0,1.0,0.0,1.0,0.0,0.0,1.0,1.0,0.0,0.0,1.0,1.0,0.0,0.0,1.0,0.0,1.0,0.0,4.0,0.0,0.0,0.0,0.0,0.0,0.0,3.0,3.0,0.0,0.0,0.0,0.0,1.0,0.0,1.0,0.0,1.0,1.0,0.0,0.0,1.0,0.0,1.0,0.0,0.0,0.0,0.0,1.0,2.0,0.0,1.0,0.0,0.0,1.0,1.0,0.0,0.0,0.0,0.0,0.0,0.0,0.0,0.0,1.0,0.0,0.0,0.0,1.0,0.0,1.0,4.0,0.0,1.0,0.0,1.0,0.0,0.0,0.0,0.0,0.0,4.0,1.0,0.0,0.0,0.0,0.0,0.0,1.0,1.0,0.0,0.0,0.0,0.0,0.0,1.0,0.0,0.0,0.0,2.0,0.0,1.0,0.0,1.0,0.0,0.0,2.0,0.0,1.0,0.0,1.0,0.0,1.0,0.0,0.0,1.0,0.0,2.0,1.0,0.0,0.0,1.0,3.0,0.0,0.0,1.0,1.0,0.0,0.0,0.0,1.0,0.0,0.0,0.0,1.0,1.0,0.0,0.0,0.0,1.0,0.0,0.0,1.0,0.0,1.0,0.0,0.0,0.0,1.0,1.0,0.0,1.0,0.0,1.0,0.0,0.0,0.0,1.0,1.0,1.0,2.0,1.0,0.0,0.0,0.0,0.0,0.0,2.0,0.0,1.0,0.0,1.0,0.0,0.0,2.0,1.0,0.0,0.0,0.0,1.0,1.0,1.0,1.0,0.0,0.0,0.0,0.0,0.0,0.0,1.0,0.0,1.0,0.0,0.0,0.0,1.0,0.0,0.0,0.0,0.0,0.0,1.0,1.0,0.0,1.0,0.0,0.0,0.0,1.0,1.0,1.0,0.0,0.0,2.0,0.0,0.0,0.0,1.0,0.0,1.0,1.0,0.0,1.0,1.0,0.0,1.0,2.0,0.0,0.0,1.0,0.0,1.0,1.0,2.0,1.0,1.0,0.0,0.0,0.0,0.0,0.0,0.0,2.0,1.0,0.0,0.0,0.0,0.0,2.0,1.0,1.0,1.0,0.0,0.0,0.0,0.0,0.0,1.0,0.0,0.0,0.0,1.0,0.0,0.0,0.0,0.0,1.0,0.0,1.0,0.0,0.0,0.0,1.0,3.0,0.0,0.0,0.0,0.0,2.0,0.0,0.0,1.0,0.0,1.0,1.0,0.0,0.0,1.0,1.0,1.0,0.0,0.0,0.0,1.0,0.0,1.0,0.0,0.0,1.0,1.0,0.0,0.0,1.0,1.0,0.0,0.0,0.0,0.0,0.0,1.0,1.0,1.0,0.0,0.0,0.0,1.0,0.0,0.0,1.0,0.0,0.0,0.0,0.0,1.0,1.0,1.0,1.0,0.0,0.0,0.0,0.0,0.0],\"xaxis\":\"x\",\"yaxis\":\"y\",\"type\":\"histogram\"}],                        {\"template\":{\"data\":{\"bar\":[{\"error_x\":{\"color\":\"#2a3f5f\"},\"error_y\":{\"color\":\"#2a3f5f\"},\"marker\":{\"line\":{\"color\":\"#E5ECF6\",\"width\":0.5},\"pattern\":{\"fillmode\":\"overlay\",\"size\":10,\"solidity\":0.2}},\"type\":\"bar\"}],\"barpolar\":[{\"marker\":{\"line\":{\"color\":\"#E5ECF6\",\"width\":0.5},\"pattern\":{\"fillmode\":\"overlay\",\"size\":10,\"solidity\":0.2}},\"type\":\"barpolar\"}],\"carpet\":[{\"aaxis\":{\"endlinecolor\":\"#2a3f5f\",\"gridcolor\":\"white\",\"linecolor\":\"white\",\"minorgridcolor\":\"white\",\"startlinecolor\":\"#2a3f5f\"},\"baxis\":{\"endlinecolor\":\"#2a3f5f\",\"gridcolor\":\"white\",\"linecolor\":\"white\",\"minorgridcolor\":\"white\",\"startlinecolor\":\"#2a3f5f\"},\"type\":\"carpet\"}],\"choropleth\":[{\"colorbar\":{\"outlinewidth\":0,\"ticks\":\"\"},\"type\":\"choropleth\"}],\"contour\":[{\"colorbar\":{\"outlinewidth\":0,\"ticks\":\"\"},\"colorscale\":[[0.0,\"#0d0887\"],[0.1111111111111111,\"#46039f\"],[0.2222222222222222,\"#7201a8\"],[0.3333333333333333,\"#9c179e\"],[0.4444444444444444,\"#bd3786\"],[0.5555555555555556,\"#d8576b\"],[0.6666666666666666,\"#ed7953\"],[0.7777777777777778,\"#fb9f3a\"],[0.8888888888888888,\"#fdca26\"],[1.0,\"#f0f921\"]],\"type\":\"contour\"}],\"contourcarpet\":[{\"colorbar\":{\"outlinewidth\":0,\"ticks\":\"\"},\"type\":\"contourcarpet\"}],\"heatmap\":[{\"colorbar\":{\"outlinewidth\":0,\"ticks\":\"\"},\"colorscale\":[[0.0,\"#0d0887\"],[0.1111111111111111,\"#46039f\"],[0.2222222222222222,\"#7201a8\"],[0.3333333333333333,\"#9c179e\"],[0.4444444444444444,\"#bd3786\"],[0.5555555555555556,\"#d8576b\"],[0.6666666666666666,\"#ed7953\"],[0.7777777777777778,\"#fb9f3a\"],[0.8888888888888888,\"#fdca26\"],[1.0,\"#f0f921\"]],\"type\":\"heatmap\"}],\"heatmapgl\":[{\"colorbar\":{\"outlinewidth\":0,\"ticks\":\"\"},\"colorscale\":[[0.0,\"#0d0887\"],[0.1111111111111111,\"#46039f\"],[0.2222222222222222,\"#7201a8\"],[0.3333333333333333,\"#9c179e\"],[0.4444444444444444,\"#bd3786\"],[0.5555555555555556,\"#d8576b\"],[0.6666666666666666,\"#ed7953\"],[0.7777777777777778,\"#fb9f3a\"],[0.8888888888888888,\"#fdca26\"],[1.0,\"#f0f921\"]],\"type\":\"heatmapgl\"}],\"histogram\":[{\"marker\":{\"pattern\":{\"fillmode\":\"overlay\",\"size\":10,\"solidity\":0.2}},\"type\":\"histogram\"}],\"histogram2d\":[{\"colorbar\":{\"outlinewidth\":0,\"ticks\":\"\"},\"colorscale\":[[0.0,\"#0d0887\"],[0.1111111111111111,\"#46039f\"],[0.2222222222222222,\"#7201a8\"],[0.3333333333333333,\"#9c179e\"],[0.4444444444444444,\"#bd3786\"],[0.5555555555555556,\"#d8576b\"],[0.6666666666666666,\"#ed7953\"],[0.7777777777777778,\"#fb9f3a\"],[0.8888888888888888,\"#fdca26\"],[1.0,\"#f0f921\"]],\"type\":\"histogram2d\"}],\"histogram2dcontour\":[{\"colorbar\":{\"outlinewidth\":0,\"ticks\":\"\"},\"colorscale\":[[0.0,\"#0d0887\"],[0.1111111111111111,\"#46039f\"],[0.2222222222222222,\"#7201a8\"],[0.3333333333333333,\"#9c179e\"],[0.4444444444444444,\"#bd3786\"],[0.5555555555555556,\"#d8576b\"],[0.6666666666666666,\"#ed7953\"],[0.7777777777777778,\"#fb9f3a\"],[0.8888888888888888,\"#fdca26\"],[1.0,\"#f0f921\"]],\"type\":\"histogram2dcontour\"}],\"mesh3d\":[{\"colorbar\":{\"outlinewidth\":0,\"ticks\":\"\"},\"type\":\"mesh3d\"}],\"parcoords\":[{\"line\":{\"colorbar\":{\"outlinewidth\":0,\"ticks\":\"\"}},\"type\":\"parcoords\"}],\"pie\":[{\"automargin\":true,\"type\":\"pie\"}],\"scatter\":[{\"marker\":{\"colorbar\":{\"outlinewidth\":0,\"ticks\":\"\"}},\"type\":\"scatter\"}],\"scatter3d\":[{\"line\":{\"colorbar\":{\"outlinewidth\":0,\"ticks\":\"\"}},\"marker\":{\"colorbar\":{\"outlinewidth\":0,\"ticks\":\"\"}},\"type\":\"scatter3d\"}],\"scattercarpet\":[{\"marker\":{\"colorbar\":{\"outlinewidth\":0,\"ticks\":\"\"}},\"type\":\"scattercarpet\"}],\"scattergeo\":[{\"marker\":{\"colorbar\":{\"outlinewidth\":0,\"ticks\":\"\"}},\"type\":\"scattergeo\"}],\"scattergl\":[{\"marker\":{\"colorbar\":{\"outlinewidth\":0,\"ticks\":\"\"}},\"type\":\"scattergl\"}],\"scattermapbox\":[{\"marker\":{\"colorbar\":{\"outlinewidth\":0,\"ticks\":\"\"}},\"type\":\"scattermapbox\"}],\"scatterpolar\":[{\"marker\":{\"colorbar\":{\"outlinewidth\":0,\"ticks\":\"\"}},\"type\":\"scatterpolar\"}],\"scatterpolargl\":[{\"marker\":{\"colorbar\":{\"outlinewidth\":0,\"ticks\":\"\"}},\"type\":\"scatterpolargl\"}],\"scatterternary\":[{\"marker\":{\"colorbar\":{\"outlinewidth\":0,\"ticks\":\"\"}},\"type\":\"scatterternary\"}],\"surface\":[{\"colorbar\":{\"outlinewidth\":0,\"ticks\":\"\"},\"colorscale\":[[0.0,\"#0d0887\"],[0.1111111111111111,\"#46039f\"],[0.2222222222222222,\"#7201a8\"],[0.3333333333333333,\"#9c179e\"],[0.4444444444444444,\"#bd3786\"],[0.5555555555555556,\"#d8576b\"],[0.6666666666666666,\"#ed7953\"],[0.7777777777777778,\"#fb9f3a\"],[0.8888888888888888,\"#fdca26\"],[1.0,\"#f0f921\"]],\"type\":\"surface\"}],\"table\":[{\"cells\":{\"fill\":{\"color\":\"#EBF0F8\"},\"line\":{\"color\":\"white\"}},\"header\":{\"fill\":{\"color\":\"#C8D4E3\"},\"line\":{\"color\":\"white\"}},\"type\":\"table\"}]},\"layout\":{\"annotationdefaults\":{\"arrowcolor\":\"#2a3f5f\",\"arrowhead\":0,\"arrowwidth\":1},\"autotypenumbers\":\"strict\",\"coloraxis\":{\"colorbar\":{\"outlinewidth\":0,\"ticks\":\"\"}},\"colorscale\":{\"diverging\":[[0,\"#8e0152\"],[0.1,\"#c51b7d\"],[0.2,\"#de77ae\"],[0.3,\"#f1b6da\"],[0.4,\"#fde0ef\"],[0.5,\"#f7f7f7\"],[0.6,\"#e6f5d0\"],[0.7,\"#b8e186\"],[0.8,\"#7fbc41\"],[0.9,\"#4d9221\"],[1,\"#276419\"]],\"sequential\":[[0.0,\"#0d0887\"],[0.1111111111111111,\"#46039f\"],[0.2222222222222222,\"#7201a8\"],[0.3333333333333333,\"#9c179e\"],[0.4444444444444444,\"#bd3786\"],[0.5555555555555556,\"#d8576b\"],[0.6666666666666666,\"#ed7953\"],[0.7777777777777778,\"#fb9f3a\"],[0.8888888888888888,\"#fdca26\"],[1.0,\"#f0f921\"]],\"sequentialminus\":[[0.0,\"#0d0887\"],[0.1111111111111111,\"#46039f\"],[0.2222222222222222,\"#7201a8\"],[0.3333333333333333,\"#9c179e\"],[0.4444444444444444,\"#bd3786\"],[0.5555555555555556,\"#d8576b\"],[0.6666666666666666,\"#ed7953\"],[0.7777777777777778,\"#fb9f3a\"],[0.8888888888888888,\"#fdca26\"],[1.0,\"#f0f921\"]]},\"colorway\":[\"#636efa\",\"#EF553B\",\"#00cc96\",\"#ab63fa\",\"#FFA15A\",\"#19d3f3\",\"#FF6692\",\"#B6E880\",\"#FF97FF\",\"#FECB52\"],\"font\":{\"color\":\"#2a3f5f\"},\"geo\":{\"bgcolor\":\"white\",\"lakecolor\":\"white\",\"landcolor\":\"#E5ECF6\",\"showlakes\":true,\"showland\":true,\"subunitcolor\":\"white\"},\"hoverlabel\":{\"align\":\"left\"},\"hovermode\":\"closest\",\"mapbox\":{\"style\":\"light\"},\"paper_bgcolor\":\"white\",\"plot_bgcolor\":\"#E5ECF6\",\"polar\":{\"angularaxis\":{\"gridcolor\":\"white\",\"linecolor\":\"white\",\"ticks\":\"\"},\"bgcolor\":\"#E5ECF6\",\"radialaxis\":{\"gridcolor\":\"white\",\"linecolor\":\"white\",\"ticks\":\"\"}},\"scene\":{\"xaxis\":{\"backgroundcolor\":\"#E5ECF6\",\"gridcolor\":\"white\",\"gridwidth\":2,\"linecolor\":\"white\",\"showbackground\":true,\"ticks\":\"\",\"zerolinecolor\":\"white\"},\"yaxis\":{\"backgroundcolor\":\"#E5ECF6\",\"gridcolor\":\"white\",\"gridwidth\":2,\"linecolor\":\"white\",\"showbackground\":true,\"ticks\":\"\",\"zerolinecolor\":\"white\"},\"zaxis\":{\"backgroundcolor\":\"#E5ECF6\",\"gridcolor\":\"white\",\"gridwidth\":2,\"linecolor\":\"white\",\"showbackground\":true,\"ticks\":\"\",\"zerolinecolor\":\"white\"}},\"shapedefaults\":{\"line\":{\"color\":\"#2a3f5f\"}},\"ternary\":{\"aaxis\":{\"gridcolor\":\"white\",\"linecolor\":\"white\",\"ticks\":\"\"},\"baxis\":{\"gridcolor\":\"white\",\"linecolor\":\"white\",\"ticks\":\"\"},\"bgcolor\":\"#E5ECF6\",\"caxis\":{\"gridcolor\":\"white\",\"linecolor\":\"white\",\"ticks\":\"\"}},\"title\":{\"x\":0.05},\"xaxis\":{\"automargin\":true,\"gridcolor\":\"white\",\"linecolor\":\"white\",\"ticks\":\"\",\"title\":{\"standoff\":15},\"zerolinecolor\":\"white\",\"zerolinewidth\":2},\"yaxis\":{\"automargin\":true,\"gridcolor\":\"white\",\"linecolor\":\"white\",\"ticks\":\"\",\"title\":{\"standoff\":15},\"zerolinecolor\":\"white\",\"zerolinewidth\":2}}},\"xaxis\":{\"anchor\":\"y\",\"domain\":[0.0,1.0],\"title\":{\"text\":\"SibSp\"}},\"yaxis\":{\"anchor\":\"x\",\"domain\":[0.0,1.0],\"title\":{\"text\":\"count\"}},\"legend\":{\"title\":{\"text\":\"Survived\"},\"tracegroupgap\":0},\"margin\":{\"t\":60},\"barmode\":\"relative\"},                        {\"responsive\": true}                    ).then(function(){\n",
       "                            \n",
       "var gd = document.getElementById('5edcec29-824d-49f4-9515-60809f1113d2');\n",
       "var x = new MutationObserver(function (mutations, observer) {{\n",
       "        var display = window.getComputedStyle(gd).display;\n",
       "        if (!display || display === 'none') {{\n",
       "            console.log([gd, 'removed!']);\n",
       "            Plotly.purge(gd);\n",
       "            observer.disconnect();\n",
       "        }}\n",
       "}});\n",
       "\n",
       "// Listen for the removal of the full notebook cells\n",
       "var notebookContainer = gd.closest('#notebook-container');\n",
       "if (notebookContainer) {{\n",
       "    x.observe(notebookContainer, {childList: true});\n",
       "}}\n",
       "\n",
       "// Listen for the clearing of the current output cell\n",
       "var outputEl = gd.closest('.output');\n",
       "if (outputEl) {{\n",
       "    x.observe(outputEl, {childList: true});\n",
       "}}\n",
       "\n",
       "                        })                };                });            </script>        </div>"
      ]
     },
     "metadata": {},
     "output_type": "display_data"
    },
    {
     "data": {
      "application/vnd.plotly.v1+json": {
       "config": {
        "plotlyServerURL": "https://plot.ly"
       },
       "data": [
        {
         "alignmentgroup": "True",
         "bingroup": "x",
         "hovertemplate": "Survived=0.0<br>Parch=%{x}<br>count=%{y}<extra></extra>",
         "legendgroup": "0.0",
         "marker": {
          "color": "#636efa",
          "pattern": {
           "shape": ""
          }
         },
         "name": "0.0",
         "offsetgroup": "0.0",
         "orientation": "v",
         "showlegend": true,
         "type": "histogram",
         "x": [
          0,
          0,
          0,
          0,
          1,
          0,
          5,
          0,
          1,
          0,
          0,
          1,
          0,
          2,
          0,
          0,
          0,
          0,
          0,
          0,
          0,
          0,
          0,
          0,
          0,
          0,
          0,
          0,
          1,
          0,
          1,
          0,
          2,
          0,
          0,
          2,
          0,
          0,
          0,
          0,
          2,
          0,
          0,
          0,
          0,
          0,
          0,
          0,
          3,
          0,
          0,
          0,
          0,
          0,
          2,
          0,
          0,
          0,
          0,
          0,
          0,
          1,
          0,
          0,
          0,
          0,
          0,
          0,
          0,
          0,
          0,
          0,
          0,
          0,
          1,
          2,
          0,
          0,
          0,
          1,
          0,
          0,
          0,
          0,
          0,
          0,
          0,
          0,
          0,
          0,
          2,
          0,
          0,
          1,
          2,
          2,
          0,
          0,
          0,
          2,
          0,
          1,
          0,
          0,
          2,
          1,
          0,
          0,
          1,
          4,
          0,
          0,
          0,
          1,
          0,
          0,
          1,
          1,
          0,
          0,
          0,
          2,
          0,
          2,
          0,
          1,
          0,
          0,
          0,
          1,
          0,
          0,
          2,
          0,
          0,
          1,
          0,
          0,
          0,
          0,
          0,
          0,
          0,
          0,
          0,
          0,
          0,
          0,
          0,
          1,
          0,
          0,
          0,
          0,
          0,
          0,
          0,
          0,
          0,
          0,
          0,
          0,
          0,
          0,
          0,
          1,
          0,
          0,
          2,
          0,
          1,
          0,
          0,
          0,
          1,
          0,
          1,
          0,
          0,
          1,
          0,
          0,
          0,
          0,
          0,
          0,
          0,
          0,
          0,
          0,
          0,
          2,
          0,
          0,
          0,
          1,
          0,
          1,
          0,
          0,
          0,
          2,
          0,
          0,
          1,
          0,
          0,
          0,
          0,
          0,
          0,
          0,
          0,
          0,
          0,
          1,
          0,
          0,
          0,
          0,
          4,
          0,
          1,
          0,
          0,
          0,
          0,
          0,
          0,
          1,
          2,
          0,
          0,
          0,
          0,
          0,
          2,
          0,
          0,
          0,
          0,
          0,
          0,
          0,
          0,
          0,
          0,
          0,
          0,
          0,
          1,
          0,
          0,
          0,
          0,
          0,
          2,
          0,
          0,
          0,
          1,
          1,
          0,
          0,
          0,
          0,
          2,
          4,
          0,
          0,
          0,
          2,
          0,
          0,
          0,
          0,
          0,
          0,
          0,
          0,
          0,
          0,
          0,
          0,
          0,
          0,
          0,
          0,
          0,
          0,
          0,
          0,
          2,
          0,
          0,
          1,
          0,
          0,
          0,
          0,
          0,
          0,
          0,
          0,
          0,
          2,
          0,
          0,
          0,
          0,
          0,
          0,
          0,
          0,
          0,
          0,
          0,
          0,
          0,
          0,
          0,
          0,
          0,
          0,
          1,
          0,
          1,
          0,
          0,
          0,
          2,
          2,
          0,
          0,
          1,
          0,
          0,
          0,
          0,
          0,
          0,
          0,
          0,
          0,
          0,
          0,
          4,
          0,
          0,
          0,
          0,
          0,
          0,
          0,
          0,
          0,
          0,
          0,
          0,
          2,
          0,
          1,
          0,
          0,
          0,
          0,
          0,
          0,
          0,
          5,
          0,
          0,
          0,
          1,
          0,
          0,
          0,
          0,
          0,
          0,
          0,
          0,
          0,
          0,
          0,
          2,
          0,
          1,
          5,
          0,
          0,
          2,
          0,
          0,
          0,
          0,
          0,
          0,
          0,
          1,
          0,
          2,
          0,
          0,
          0,
          0,
          0,
          0,
          0,
          0,
          0,
          0,
          0,
          0,
          6,
          0,
          0,
          2,
          1,
          2,
          1,
          0,
          0,
          0,
          0,
          0,
          0,
          1,
          0,
          1,
          0,
          0,
          0,
          0,
          0,
          0,
          0,
          0,
          0,
          0,
          0,
          0,
          0,
          0,
          0,
          0,
          0,
          0,
          0,
          0,
          3,
          0,
          0,
          0,
          0,
          1,
          1,
          0,
          0,
          0,
          0,
          0,
          0,
          0,
          0,
          0,
          0,
          0,
          0,
          0,
          0,
          0,
          0,
          0,
          0,
          0,
          0,
          0,
          0,
          2,
          0,
          0,
          1,
          0,
          0,
          0,
          2,
          0,
          0,
          0,
          0,
          1,
          0,
          0,
          0,
          0,
          0,
          0,
          0,
          0,
          2,
          0,
          0,
          0,
          1,
          0,
          2,
          0,
          1,
          0,
          0,
          0,
          0,
          0,
          0,
          0,
          0,
          0,
          0,
          0,
          0,
          2,
          0,
          1,
          2,
          0,
          1,
          0,
          0,
          0,
          0,
          2,
          0,
          0,
          0,
          0,
          0,
          0,
          0,
          0,
          0,
          0,
          0,
          0,
          0,
          5,
          0,
          2,
          0
         ],
         "xaxis": "x",
         "yaxis": "y"
        },
        {
         "alignmentgroup": "True",
         "bingroup": "x",
         "hovertemplate": "Survived=1.0<br>Parch=%{x}<br>count=%{y}<extra></extra>",
         "legendgroup": "1.0",
         "marker": {
          "color": "#EF553B",
          "pattern": {
           "shape": ""
          }
         },
         "name": "1.0",
         "offsetgroup": "1.0",
         "orientation": "v",
         "showlegend": true,
         "type": "histogram",
         "x": [
          0,
          0,
          0,
          2,
          0,
          1,
          0,
          0,
          0,
          0,
          0,
          0,
          0,
          5,
          0,
          0,
          0,
          0,
          0,
          2,
          0,
          0,
          0,
          0,
          0,
          0,
          2,
          0,
          1,
          0,
          2,
          0,
          2,
          0,
          0,
          0,
          0,
          0,
          2,
          1,
          1,
          0,
          0,
          0,
          0,
          0,
          0,
          1,
          0,
          2,
          0,
          0,
          0,
          0,
          0,
          0,
          2,
          1,
          1,
          1,
          2,
          0,
          0,
          0,
          0,
          1,
          0,
          0,
          0,
          0,
          0,
          0,
          0,
          0,
          0,
          0,
          0,
          0,
          0,
          0,
          0,
          2,
          2,
          0,
          2,
          1,
          2,
          0,
          0,
          0,
          1,
          2,
          0,
          1,
          0,
          0,
          1,
          0,
          0,
          1,
          0,
          0,
          0,
          0,
          0,
          0,
          0,
          1,
          0,
          0,
          0,
          2,
          0,
          0,
          0,
          0,
          2,
          0,
          0,
          2,
          1,
          0,
          1,
          0,
          0,
          1,
          1,
          0,
          0,
          0,
          0,
          1,
          2,
          0,
          0,
          0,
          1,
          1,
          0,
          0,
          0,
          0,
          0,
          0,
          0,
          0,
          0,
          0,
          2,
          0,
          0,
          0,
          2,
          0,
          0,
          2,
          0,
          0,
          1,
          0,
          0,
          1,
          2,
          0,
          0,
          0,
          0,
          0,
          0,
          2,
          3,
          1,
          0,
          0,
          2,
          1,
          0,
          1,
          0,
          0,
          0,
          0,
          0,
          0,
          1,
          2,
          0,
          1,
          0,
          0,
          0,
          1,
          0,
          0,
          2,
          0,
          0,
          0,
          0,
          0,
          0,
          0,
          0,
          1,
          0,
          1,
          2,
          2,
          0,
          2,
          2,
          0,
          0,
          0,
          1,
          2,
          0,
          0,
          0,
          1,
          0,
          0,
          0,
          0,
          0,
          0,
          0,
          0,
          0,
          1,
          1,
          2,
          1,
          0,
          0,
          0,
          1,
          0,
          0,
          2,
          0,
          0,
          2,
          1,
          0,
          1,
          0,
          0,
          0,
          0,
          0,
          0,
          1,
          0,
          0,
          0,
          1,
          0,
          0,
          0,
          0,
          1,
          0,
          0,
          1,
          0,
          1,
          0,
          1,
          0,
          0,
          0,
          0,
          0,
          0,
          0,
          1,
          0,
          0,
          0,
          0,
          1,
          0,
          0,
          0,
          0,
          0,
          0,
          2,
          0,
          0,
          1,
          1,
          2,
          1,
          0,
          0,
          2,
          0,
          3,
          0,
          1,
          0,
          0,
          0,
          2,
          0,
          0,
          1,
          2,
          1,
          0,
          0,
          1,
          0,
          1,
          2,
          0,
          0,
          0,
          1,
          1,
          0,
          0,
          0,
          0,
          1,
          1,
          1,
          0,
          3,
          0,
          0,
          0,
          1,
          1,
          0,
          0,
          1,
          1,
          0,
          0
         ],
         "xaxis": "x",
         "yaxis": "y"
        }
       ],
       "layout": {
        "barmode": "relative",
        "legend": {
         "title": {
          "text": "Survived"
         },
         "tracegroupgap": 0
        },
        "margin": {
         "t": 60
        },
        "template": {
         "data": {
          "bar": [
           {
            "error_x": {
             "color": "#2a3f5f"
            },
            "error_y": {
             "color": "#2a3f5f"
            },
            "marker": {
             "line": {
              "color": "#E5ECF6",
              "width": 0.5
             },
             "pattern": {
              "fillmode": "overlay",
              "size": 10,
              "solidity": 0.2
             }
            },
            "type": "bar"
           }
          ],
          "barpolar": [
           {
            "marker": {
             "line": {
              "color": "#E5ECF6",
              "width": 0.5
             },
             "pattern": {
              "fillmode": "overlay",
              "size": 10,
              "solidity": 0.2
             }
            },
            "type": "barpolar"
           }
          ],
          "carpet": [
           {
            "aaxis": {
             "endlinecolor": "#2a3f5f",
             "gridcolor": "white",
             "linecolor": "white",
             "minorgridcolor": "white",
             "startlinecolor": "#2a3f5f"
            },
            "baxis": {
             "endlinecolor": "#2a3f5f",
             "gridcolor": "white",
             "linecolor": "white",
             "minorgridcolor": "white",
             "startlinecolor": "#2a3f5f"
            },
            "type": "carpet"
           }
          ],
          "choropleth": [
           {
            "colorbar": {
             "outlinewidth": 0,
             "ticks": ""
            },
            "type": "choropleth"
           }
          ],
          "contour": [
           {
            "colorbar": {
             "outlinewidth": 0,
             "ticks": ""
            },
            "colorscale": [
             [
              0,
              "#0d0887"
             ],
             [
              0.1111111111111111,
              "#46039f"
             ],
             [
              0.2222222222222222,
              "#7201a8"
             ],
             [
              0.3333333333333333,
              "#9c179e"
             ],
             [
              0.4444444444444444,
              "#bd3786"
             ],
             [
              0.5555555555555556,
              "#d8576b"
             ],
             [
              0.6666666666666666,
              "#ed7953"
             ],
             [
              0.7777777777777778,
              "#fb9f3a"
             ],
             [
              0.8888888888888888,
              "#fdca26"
             ],
             [
              1,
              "#f0f921"
             ]
            ],
            "type": "contour"
           }
          ],
          "contourcarpet": [
           {
            "colorbar": {
             "outlinewidth": 0,
             "ticks": ""
            },
            "type": "contourcarpet"
           }
          ],
          "heatmap": [
           {
            "colorbar": {
             "outlinewidth": 0,
             "ticks": ""
            },
            "colorscale": [
             [
              0,
              "#0d0887"
             ],
             [
              0.1111111111111111,
              "#46039f"
             ],
             [
              0.2222222222222222,
              "#7201a8"
             ],
             [
              0.3333333333333333,
              "#9c179e"
             ],
             [
              0.4444444444444444,
              "#bd3786"
             ],
             [
              0.5555555555555556,
              "#d8576b"
             ],
             [
              0.6666666666666666,
              "#ed7953"
             ],
             [
              0.7777777777777778,
              "#fb9f3a"
             ],
             [
              0.8888888888888888,
              "#fdca26"
             ],
             [
              1,
              "#f0f921"
             ]
            ],
            "type": "heatmap"
           }
          ],
          "heatmapgl": [
           {
            "colorbar": {
             "outlinewidth": 0,
             "ticks": ""
            },
            "colorscale": [
             [
              0,
              "#0d0887"
             ],
             [
              0.1111111111111111,
              "#46039f"
             ],
             [
              0.2222222222222222,
              "#7201a8"
             ],
             [
              0.3333333333333333,
              "#9c179e"
             ],
             [
              0.4444444444444444,
              "#bd3786"
             ],
             [
              0.5555555555555556,
              "#d8576b"
             ],
             [
              0.6666666666666666,
              "#ed7953"
             ],
             [
              0.7777777777777778,
              "#fb9f3a"
             ],
             [
              0.8888888888888888,
              "#fdca26"
             ],
             [
              1,
              "#f0f921"
             ]
            ],
            "type": "heatmapgl"
           }
          ],
          "histogram": [
           {
            "marker": {
             "pattern": {
              "fillmode": "overlay",
              "size": 10,
              "solidity": 0.2
             }
            },
            "type": "histogram"
           }
          ],
          "histogram2d": [
           {
            "colorbar": {
             "outlinewidth": 0,
             "ticks": ""
            },
            "colorscale": [
             [
              0,
              "#0d0887"
             ],
             [
              0.1111111111111111,
              "#46039f"
             ],
             [
              0.2222222222222222,
              "#7201a8"
             ],
             [
              0.3333333333333333,
              "#9c179e"
             ],
             [
              0.4444444444444444,
              "#bd3786"
             ],
             [
              0.5555555555555556,
              "#d8576b"
             ],
             [
              0.6666666666666666,
              "#ed7953"
             ],
             [
              0.7777777777777778,
              "#fb9f3a"
             ],
             [
              0.8888888888888888,
              "#fdca26"
             ],
             [
              1,
              "#f0f921"
             ]
            ],
            "type": "histogram2d"
           }
          ],
          "histogram2dcontour": [
           {
            "colorbar": {
             "outlinewidth": 0,
             "ticks": ""
            },
            "colorscale": [
             [
              0,
              "#0d0887"
             ],
             [
              0.1111111111111111,
              "#46039f"
             ],
             [
              0.2222222222222222,
              "#7201a8"
             ],
             [
              0.3333333333333333,
              "#9c179e"
             ],
             [
              0.4444444444444444,
              "#bd3786"
             ],
             [
              0.5555555555555556,
              "#d8576b"
             ],
             [
              0.6666666666666666,
              "#ed7953"
             ],
             [
              0.7777777777777778,
              "#fb9f3a"
             ],
             [
              0.8888888888888888,
              "#fdca26"
             ],
             [
              1,
              "#f0f921"
             ]
            ],
            "type": "histogram2dcontour"
           }
          ],
          "mesh3d": [
           {
            "colorbar": {
             "outlinewidth": 0,
             "ticks": ""
            },
            "type": "mesh3d"
           }
          ],
          "parcoords": [
           {
            "line": {
             "colorbar": {
              "outlinewidth": 0,
              "ticks": ""
             }
            },
            "type": "parcoords"
           }
          ],
          "pie": [
           {
            "automargin": true,
            "type": "pie"
           }
          ],
          "scatter": [
           {
            "marker": {
             "colorbar": {
              "outlinewidth": 0,
              "ticks": ""
             }
            },
            "type": "scatter"
           }
          ],
          "scatter3d": [
           {
            "line": {
             "colorbar": {
              "outlinewidth": 0,
              "ticks": ""
             }
            },
            "marker": {
             "colorbar": {
              "outlinewidth": 0,
              "ticks": ""
             }
            },
            "type": "scatter3d"
           }
          ],
          "scattercarpet": [
           {
            "marker": {
             "colorbar": {
              "outlinewidth": 0,
              "ticks": ""
             }
            },
            "type": "scattercarpet"
           }
          ],
          "scattergeo": [
           {
            "marker": {
             "colorbar": {
              "outlinewidth": 0,
              "ticks": ""
             }
            },
            "type": "scattergeo"
           }
          ],
          "scattergl": [
           {
            "marker": {
             "colorbar": {
              "outlinewidth": 0,
              "ticks": ""
             }
            },
            "type": "scattergl"
           }
          ],
          "scattermapbox": [
           {
            "marker": {
             "colorbar": {
              "outlinewidth": 0,
              "ticks": ""
             }
            },
            "type": "scattermapbox"
           }
          ],
          "scatterpolar": [
           {
            "marker": {
             "colorbar": {
              "outlinewidth": 0,
              "ticks": ""
             }
            },
            "type": "scatterpolar"
           }
          ],
          "scatterpolargl": [
           {
            "marker": {
             "colorbar": {
              "outlinewidth": 0,
              "ticks": ""
             }
            },
            "type": "scatterpolargl"
           }
          ],
          "scatterternary": [
           {
            "marker": {
             "colorbar": {
              "outlinewidth": 0,
              "ticks": ""
             }
            },
            "type": "scatterternary"
           }
          ],
          "surface": [
           {
            "colorbar": {
             "outlinewidth": 0,
             "ticks": ""
            },
            "colorscale": [
             [
              0,
              "#0d0887"
             ],
             [
              0.1111111111111111,
              "#46039f"
             ],
             [
              0.2222222222222222,
              "#7201a8"
             ],
             [
              0.3333333333333333,
              "#9c179e"
             ],
             [
              0.4444444444444444,
              "#bd3786"
             ],
             [
              0.5555555555555556,
              "#d8576b"
             ],
             [
              0.6666666666666666,
              "#ed7953"
             ],
             [
              0.7777777777777778,
              "#fb9f3a"
             ],
             [
              0.8888888888888888,
              "#fdca26"
             ],
             [
              1,
              "#f0f921"
             ]
            ],
            "type": "surface"
           }
          ],
          "table": [
           {
            "cells": {
             "fill": {
              "color": "#EBF0F8"
             },
             "line": {
              "color": "white"
             }
            },
            "header": {
             "fill": {
              "color": "#C8D4E3"
             },
             "line": {
              "color": "white"
             }
            },
            "type": "table"
           }
          ]
         },
         "layout": {
          "annotationdefaults": {
           "arrowcolor": "#2a3f5f",
           "arrowhead": 0,
           "arrowwidth": 1
          },
          "autotypenumbers": "strict",
          "coloraxis": {
           "colorbar": {
            "outlinewidth": 0,
            "ticks": ""
           }
          },
          "colorscale": {
           "diverging": [
            [
             0,
             "#8e0152"
            ],
            [
             0.1,
             "#c51b7d"
            ],
            [
             0.2,
             "#de77ae"
            ],
            [
             0.3,
             "#f1b6da"
            ],
            [
             0.4,
             "#fde0ef"
            ],
            [
             0.5,
             "#f7f7f7"
            ],
            [
             0.6,
             "#e6f5d0"
            ],
            [
             0.7,
             "#b8e186"
            ],
            [
             0.8,
             "#7fbc41"
            ],
            [
             0.9,
             "#4d9221"
            ],
            [
             1,
             "#276419"
            ]
           ],
           "sequential": [
            [
             0,
             "#0d0887"
            ],
            [
             0.1111111111111111,
             "#46039f"
            ],
            [
             0.2222222222222222,
             "#7201a8"
            ],
            [
             0.3333333333333333,
             "#9c179e"
            ],
            [
             0.4444444444444444,
             "#bd3786"
            ],
            [
             0.5555555555555556,
             "#d8576b"
            ],
            [
             0.6666666666666666,
             "#ed7953"
            ],
            [
             0.7777777777777778,
             "#fb9f3a"
            ],
            [
             0.8888888888888888,
             "#fdca26"
            ],
            [
             1,
             "#f0f921"
            ]
           ],
           "sequentialminus": [
            [
             0,
             "#0d0887"
            ],
            [
             0.1111111111111111,
             "#46039f"
            ],
            [
             0.2222222222222222,
             "#7201a8"
            ],
            [
             0.3333333333333333,
             "#9c179e"
            ],
            [
             0.4444444444444444,
             "#bd3786"
            ],
            [
             0.5555555555555556,
             "#d8576b"
            ],
            [
             0.6666666666666666,
             "#ed7953"
            ],
            [
             0.7777777777777778,
             "#fb9f3a"
            ],
            [
             0.8888888888888888,
             "#fdca26"
            ],
            [
             1,
             "#f0f921"
            ]
           ]
          },
          "colorway": [
           "#636efa",
           "#EF553B",
           "#00cc96",
           "#ab63fa",
           "#FFA15A",
           "#19d3f3",
           "#FF6692",
           "#B6E880",
           "#FF97FF",
           "#FECB52"
          ],
          "font": {
           "color": "#2a3f5f"
          },
          "geo": {
           "bgcolor": "white",
           "lakecolor": "white",
           "landcolor": "#E5ECF6",
           "showlakes": true,
           "showland": true,
           "subunitcolor": "white"
          },
          "hoverlabel": {
           "align": "left"
          },
          "hovermode": "closest",
          "mapbox": {
           "style": "light"
          },
          "paper_bgcolor": "white",
          "plot_bgcolor": "#E5ECF6",
          "polar": {
           "angularaxis": {
            "gridcolor": "white",
            "linecolor": "white",
            "ticks": ""
           },
           "bgcolor": "#E5ECF6",
           "radialaxis": {
            "gridcolor": "white",
            "linecolor": "white",
            "ticks": ""
           }
          },
          "scene": {
           "xaxis": {
            "backgroundcolor": "#E5ECF6",
            "gridcolor": "white",
            "gridwidth": 2,
            "linecolor": "white",
            "showbackground": true,
            "ticks": "",
            "zerolinecolor": "white"
           },
           "yaxis": {
            "backgroundcolor": "#E5ECF6",
            "gridcolor": "white",
            "gridwidth": 2,
            "linecolor": "white",
            "showbackground": true,
            "ticks": "",
            "zerolinecolor": "white"
           },
           "zaxis": {
            "backgroundcolor": "#E5ECF6",
            "gridcolor": "white",
            "gridwidth": 2,
            "linecolor": "white",
            "showbackground": true,
            "ticks": "",
            "zerolinecolor": "white"
           }
          },
          "shapedefaults": {
           "line": {
            "color": "#2a3f5f"
           }
          },
          "ternary": {
           "aaxis": {
            "gridcolor": "white",
            "linecolor": "white",
            "ticks": ""
           },
           "baxis": {
            "gridcolor": "white",
            "linecolor": "white",
            "ticks": ""
           },
           "bgcolor": "#E5ECF6",
           "caxis": {
            "gridcolor": "white",
            "linecolor": "white",
            "ticks": ""
           }
          },
          "title": {
           "x": 0.05
          },
          "xaxis": {
           "automargin": true,
           "gridcolor": "white",
           "linecolor": "white",
           "ticks": "",
           "title": {
            "standoff": 15
           },
           "zerolinecolor": "white",
           "zerolinewidth": 2
          },
          "yaxis": {
           "automargin": true,
           "gridcolor": "white",
           "linecolor": "white",
           "ticks": "",
           "title": {
            "standoff": 15
           },
           "zerolinecolor": "white",
           "zerolinewidth": 2
          }
         }
        },
        "xaxis": {
         "anchor": "y",
         "domain": [
          0,
          1
         ],
         "title": {
          "text": "Parch"
         }
        },
        "yaxis": {
         "anchor": "x",
         "domain": [
          0,
          1
         ],
         "title": {
          "text": "count"
         }
        }
       }
      },
      "text/html": [
       "<div>                            <div id=\"3a78c783-7835-4123-a9b6-6377ddd28505\" class=\"plotly-graph-div\" style=\"height:525px; width:100%;\"></div>            <script type=\"text/javascript\">                require([\"plotly\"], function(Plotly) {                    window.PLOTLYENV=window.PLOTLYENV || {};                                    if (document.getElementById(\"3a78c783-7835-4123-a9b6-6377ddd28505\")) {                    Plotly.newPlot(                        \"3a78c783-7835-4123-a9b6-6377ddd28505\",                        [{\"alignmentgroup\":\"True\",\"bingroup\":\"x\",\"hovertemplate\":\"Survived=0.0<br>Parch=%{x}<br>count=%{y}<extra></extra>\",\"legendgroup\":\"0.0\",\"marker\":{\"color\":\"#636efa\",\"pattern\":{\"shape\":\"\"}},\"name\":\"0.0\",\"offsetgroup\":\"0.0\",\"orientation\":\"v\",\"showlegend\":true,\"x\":[0.0,0.0,0.0,0.0,1.0,0.0,5.0,0.0,1.0,0.0,0.0,1.0,0.0,2.0,0.0,0.0,0.0,0.0,0.0,0.0,0.0,0.0,0.0,0.0,0.0,0.0,0.0,0.0,1.0,0.0,1.0,0.0,2.0,0.0,0.0,2.0,0.0,0.0,0.0,0.0,2.0,0.0,0.0,0.0,0.0,0.0,0.0,0.0,3.0,0.0,0.0,0.0,0.0,0.0,2.0,0.0,0.0,0.0,0.0,0.0,0.0,1.0,0.0,0.0,0.0,0.0,0.0,0.0,0.0,0.0,0.0,0.0,0.0,0.0,1.0,2.0,0.0,0.0,0.0,1.0,0.0,0.0,0.0,0.0,0.0,0.0,0.0,0.0,0.0,0.0,2.0,0.0,0.0,1.0,2.0,2.0,0.0,0.0,0.0,2.0,0.0,1.0,0.0,0.0,2.0,1.0,0.0,0.0,1.0,4.0,0.0,0.0,0.0,1.0,0.0,0.0,1.0,1.0,0.0,0.0,0.0,2.0,0.0,2.0,0.0,1.0,0.0,0.0,0.0,1.0,0.0,0.0,2.0,0.0,0.0,1.0,0.0,0.0,0.0,0.0,0.0,0.0,0.0,0.0,0.0,0.0,0.0,0.0,0.0,1.0,0.0,0.0,0.0,0.0,0.0,0.0,0.0,0.0,0.0,0.0,0.0,0.0,0.0,0.0,0.0,1.0,0.0,0.0,2.0,0.0,1.0,0.0,0.0,0.0,1.0,0.0,1.0,0.0,0.0,1.0,0.0,0.0,0.0,0.0,0.0,0.0,0.0,0.0,0.0,0.0,0.0,2.0,0.0,0.0,0.0,1.0,0.0,1.0,0.0,0.0,0.0,2.0,0.0,0.0,1.0,0.0,0.0,0.0,0.0,0.0,0.0,0.0,0.0,0.0,0.0,1.0,0.0,0.0,0.0,0.0,4.0,0.0,1.0,0.0,0.0,0.0,0.0,0.0,0.0,1.0,2.0,0.0,0.0,0.0,0.0,0.0,2.0,0.0,0.0,0.0,0.0,0.0,0.0,0.0,0.0,0.0,0.0,0.0,0.0,0.0,1.0,0.0,0.0,0.0,0.0,0.0,2.0,0.0,0.0,0.0,1.0,1.0,0.0,0.0,0.0,0.0,2.0,4.0,0.0,0.0,0.0,2.0,0.0,0.0,0.0,0.0,0.0,0.0,0.0,0.0,0.0,0.0,0.0,0.0,0.0,0.0,0.0,0.0,0.0,0.0,0.0,0.0,2.0,0.0,0.0,1.0,0.0,0.0,0.0,0.0,0.0,0.0,0.0,0.0,0.0,2.0,0.0,0.0,0.0,0.0,0.0,0.0,0.0,0.0,0.0,0.0,0.0,0.0,0.0,0.0,0.0,0.0,0.0,0.0,1.0,0.0,1.0,0.0,0.0,0.0,2.0,2.0,0.0,0.0,1.0,0.0,0.0,0.0,0.0,0.0,0.0,0.0,0.0,0.0,0.0,0.0,4.0,0.0,0.0,0.0,0.0,0.0,0.0,0.0,0.0,0.0,0.0,0.0,0.0,2.0,0.0,1.0,0.0,0.0,0.0,0.0,0.0,0.0,0.0,5.0,0.0,0.0,0.0,1.0,0.0,0.0,0.0,0.0,0.0,0.0,0.0,0.0,0.0,0.0,0.0,2.0,0.0,1.0,5.0,0.0,0.0,2.0,0.0,0.0,0.0,0.0,0.0,0.0,0.0,1.0,0.0,2.0,0.0,0.0,0.0,0.0,0.0,0.0,0.0,0.0,0.0,0.0,0.0,0.0,6.0,0.0,0.0,2.0,1.0,2.0,1.0,0.0,0.0,0.0,0.0,0.0,0.0,1.0,0.0,1.0,0.0,0.0,0.0,0.0,0.0,0.0,0.0,0.0,0.0,0.0,0.0,0.0,0.0,0.0,0.0,0.0,0.0,0.0,0.0,0.0,3.0,0.0,0.0,0.0,0.0,1.0,1.0,0.0,0.0,0.0,0.0,0.0,0.0,0.0,0.0,0.0,0.0,0.0,0.0,0.0,0.0,0.0,0.0,0.0,0.0,0.0,0.0,0.0,0.0,2.0,0.0,0.0,1.0,0.0,0.0,0.0,2.0,0.0,0.0,0.0,0.0,1.0,0.0,0.0,0.0,0.0,0.0,0.0,0.0,0.0,2.0,0.0,0.0,0.0,1.0,0.0,2.0,0.0,1.0,0.0,0.0,0.0,0.0,0.0,0.0,0.0,0.0,0.0,0.0,0.0,0.0,2.0,0.0,1.0,2.0,0.0,1.0,0.0,0.0,0.0,0.0,2.0,0.0,0.0,0.0,0.0,0.0,0.0,0.0,0.0,0.0,0.0,0.0,0.0,0.0,5.0,0.0,2.0,0.0],\"xaxis\":\"x\",\"yaxis\":\"y\",\"type\":\"histogram\"},{\"alignmentgroup\":\"True\",\"bingroup\":\"x\",\"hovertemplate\":\"Survived=1.0<br>Parch=%{x}<br>count=%{y}<extra></extra>\",\"legendgroup\":\"1.0\",\"marker\":{\"color\":\"#EF553B\",\"pattern\":{\"shape\":\"\"}},\"name\":\"1.0\",\"offsetgroup\":\"1.0\",\"orientation\":\"v\",\"showlegend\":true,\"x\":[0.0,0.0,0.0,2.0,0.0,1.0,0.0,0.0,0.0,0.0,0.0,0.0,0.0,5.0,0.0,0.0,0.0,0.0,0.0,2.0,0.0,0.0,0.0,0.0,0.0,0.0,2.0,0.0,1.0,0.0,2.0,0.0,2.0,0.0,0.0,0.0,0.0,0.0,2.0,1.0,1.0,0.0,0.0,0.0,0.0,0.0,0.0,1.0,0.0,2.0,0.0,0.0,0.0,0.0,0.0,0.0,2.0,1.0,1.0,1.0,2.0,0.0,0.0,0.0,0.0,1.0,0.0,0.0,0.0,0.0,0.0,0.0,0.0,0.0,0.0,0.0,0.0,0.0,0.0,0.0,0.0,2.0,2.0,0.0,2.0,1.0,2.0,0.0,0.0,0.0,1.0,2.0,0.0,1.0,0.0,0.0,1.0,0.0,0.0,1.0,0.0,0.0,0.0,0.0,0.0,0.0,0.0,1.0,0.0,0.0,0.0,2.0,0.0,0.0,0.0,0.0,2.0,0.0,0.0,2.0,1.0,0.0,1.0,0.0,0.0,1.0,1.0,0.0,0.0,0.0,0.0,1.0,2.0,0.0,0.0,0.0,1.0,1.0,0.0,0.0,0.0,0.0,0.0,0.0,0.0,0.0,0.0,0.0,2.0,0.0,0.0,0.0,2.0,0.0,0.0,2.0,0.0,0.0,1.0,0.0,0.0,1.0,2.0,0.0,0.0,0.0,0.0,0.0,0.0,2.0,3.0,1.0,0.0,0.0,2.0,1.0,0.0,1.0,0.0,0.0,0.0,0.0,0.0,0.0,1.0,2.0,0.0,1.0,0.0,0.0,0.0,1.0,0.0,0.0,2.0,0.0,0.0,0.0,0.0,0.0,0.0,0.0,0.0,1.0,0.0,1.0,2.0,2.0,0.0,2.0,2.0,0.0,0.0,0.0,1.0,2.0,0.0,0.0,0.0,1.0,0.0,0.0,0.0,0.0,0.0,0.0,0.0,0.0,0.0,1.0,1.0,2.0,1.0,0.0,0.0,0.0,1.0,0.0,0.0,2.0,0.0,0.0,2.0,1.0,0.0,1.0,0.0,0.0,0.0,0.0,0.0,0.0,1.0,0.0,0.0,0.0,1.0,0.0,0.0,0.0,0.0,1.0,0.0,0.0,1.0,0.0,1.0,0.0,1.0,0.0,0.0,0.0,0.0,0.0,0.0,0.0,1.0,0.0,0.0,0.0,0.0,1.0,0.0,0.0,0.0,0.0,0.0,0.0,2.0,0.0,0.0,1.0,1.0,2.0,1.0,0.0,0.0,2.0,0.0,3.0,0.0,1.0,0.0,0.0,0.0,2.0,0.0,0.0,1.0,2.0,1.0,0.0,0.0,1.0,0.0,1.0,2.0,0.0,0.0,0.0,1.0,1.0,0.0,0.0,0.0,0.0,1.0,1.0,1.0,0.0,3.0,0.0,0.0,0.0,1.0,1.0,0.0,0.0,1.0,1.0,0.0,0.0],\"xaxis\":\"x\",\"yaxis\":\"y\",\"type\":\"histogram\"}],                        {\"template\":{\"data\":{\"bar\":[{\"error_x\":{\"color\":\"#2a3f5f\"},\"error_y\":{\"color\":\"#2a3f5f\"},\"marker\":{\"line\":{\"color\":\"#E5ECF6\",\"width\":0.5},\"pattern\":{\"fillmode\":\"overlay\",\"size\":10,\"solidity\":0.2}},\"type\":\"bar\"}],\"barpolar\":[{\"marker\":{\"line\":{\"color\":\"#E5ECF6\",\"width\":0.5},\"pattern\":{\"fillmode\":\"overlay\",\"size\":10,\"solidity\":0.2}},\"type\":\"barpolar\"}],\"carpet\":[{\"aaxis\":{\"endlinecolor\":\"#2a3f5f\",\"gridcolor\":\"white\",\"linecolor\":\"white\",\"minorgridcolor\":\"white\",\"startlinecolor\":\"#2a3f5f\"},\"baxis\":{\"endlinecolor\":\"#2a3f5f\",\"gridcolor\":\"white\",\"linecolor\":\"white\",\"minorgridcolor\":\"white\",\"startlinecolor\":\"#2a3f5f\"},\"type\":\"carpet\"}],\"choropleth\":[{\"colorbar\":{\"outlinewidth\":0,\"ticks\":\"\"},\"type\":\"choropleth\"}],\"contour\":[{\"colorbar\":{\"outlinewidth\":0,\"ticks\":\"\"},\"colorscale\":[[0.0,\"#0d0887\"],[0.1111111111111111,\"#46039f\"],[0.2222222222222222,\"#7201a8\"],[0.3333333333333333,\"#9c179e\"],[0.4444444444444444,\"#bd3786\"],[0.5555555555555556,\"#d8576b\"],[0.6666666666666666,\"#ed7953\"],[0.7777777777777778,\"#fb9f3a\"],[0.8888888888888888,\"#fdca26\"],[1.0,\"#f0f921\"]],\"type\":\"contour\"}],\"contourcarpet\":[{\"colorbar\":{\"outlinewidth\":0,\"ticks\":\"\"},\"type\":\"contourcarpet\"}],\"heatmap\":[{\"colorbar\":{\"outlinewidth\":0,\"ticks\":\"\"},\"colorscale\":[[0.0,\"#0d0887\"],[0.1111111111111111,\"#46039f\"],[0.2222222222222222,\"#7201a8\"],[0.3333333333333333,\"#9c179e\"],[0.4444444444444444,\"#bd3786\"],[0.5555555555555556,\"#d8576b\"],[0.6666666666666666,\"#ed7953\"],[0.7777777777777778,\"#fb9f3a\"],[0.8888888888888888,\"#fdca26\"],[1.0,\"#f0f921\"]],\"type\":\"heatmap\"}],\"heatmapgl\":[{\"colorbar\":{\"outlinewidth\":0,\"ticks\":\"\"},\"colorscale\":[[0.0,\"#0d0887\"],[0.1111111111111111,\"#46039f\"],[0.2222222222222222,\"#7201a8\"],[0.3333333333333333,\"#9c179e\"],[0.4444444444444444,\"#bd3786\"],[0.5555555555555556,\"#d8576b\"],[0.6666666666666666,\"#ed7953\"],[0.7777777777777778,\"#fb9f3a\"],[0.8888888888888888,\"#fdca26\"],[1.0,\"#f0f921\"]],\"type\":\"heatmapgl\"}],\"histogram\":[{\"marker\":{\"pattern\":{\"fillmode\":\"overlay\",\"size\":10,\"solidity\":0.2}},\"type\":\"histogram\"}],\"histogram2d\":[{\"colorbar\":{\"outlinewidth\":0,\"ticks\":\"\"},\"colorscale\":[[0.0,\"#0d0887\"],[0.1111111111111111,\"#46039f\"],[0.2222222222222222,\"#7201a8\"],[0.3333333333333333,\"#9c179e\"],[0.4444444444444444,\"#bd3786\"],[0.5555555555555556,\"#d8576b\"],[0.6666666666666666,\"#ed7953\"],[0.7777777777777778,\"#fb9f3a\"],[0.8888888888888888,\"#fdca26\"],[1.0,\"#f0f921\"]],\"type\":\"histogram2d\"}],\"histogram2dcontour\":[{\"colorbar\":{\"outlinewidth\":0,\"ticks\":\"\"},\"colorscale\":[[0.0,\"#0d0887\"],[0.1111111111111111,\"#46039f\"],[0.2222222222222222,\"#7201a8\"],[0.3333333333333333,\"#9c179e\"],[0.4444444444444444,\"#bd3786\"],[0.5555555555555556,\"#d8576b\"],[0.6666666666666666,\"#ed7953\"],[0.7777777777777778,\"#fb9f3a\"],[0.8888888888888888,\"#fdca26\"],[1.0,\"#f0f921\"]],\"type\":\"histogram2dcontour\"}],\"mesh3d\":[{\"colorbar\":{\"outlinewidth\":0,\"ticks\":\"\"},\"type\":\"mesh3d\"}],\"parcoords\":[{\"line\":{\"colorbar\":{\"outlinewidth\":0,\"ticks\":\"\"}},\"type\":\"parcoords\"}],\"pie\":[{\"automargin\":true,\"type\":\"pie\"}],\"scatter\":[{\"marker\":{\"colorbar\":{\"outlinewidth\":0,\"ticks\":\"\"}},\"type\":\"scatter\"}],\"scatter3d\":[{\"line\":{\"colorbar\":{\"outlinewidth\":0,\"ticks\":\"\"}},\"marker\":{\"colorbar\":{\"outlinewidth\":0,\"ticks\":\"\"}},\"type\":\"scatter3d\"}],\"scattercarpet\":[{\"marker\":{\"colorbar\":{\"outlinewidth\":0,\"ticks\":\"\"}},\"type\":\"scattercarpet\"}],\"scattergeo\":[{\"marker\":{\"colorbar\":{\"outlinewidth\":0,\"ticks\":\"\"}},\"type\":\"scattergeo\"}],\"scattergl\":[{\"marker\":{\"colorbar\":{\"outlinewidth\":0,\"ticks\":\"\"}},\"type\":\"scattergl\"}],\"scattermapbox\":[{\"marker\":{\"colorbar\":{\"outlinewidth\":0,\"ticks\":\"\"}},\"type\":\"scattermapbox\"}],\"scatterpolar\":[{\"marker\":{\"colorbar\":{\"outlinewidth\":0,\"ticks\":\"\"}},\"type\":\"scatterpolar\"}],\"scatterpolargl\":[{\"marker\":{\"colorbar\":{\"outlinewidth\":0,\"ticks\":\"\"}},\"type\":\"scatterpolargl\"}],\"scatterternary\":[{\"marker\":{\"colorbar\":{\"outlinewidth\":0,\"ticks\":\"\"}},\"type\":\"scatterternary\"}],\"surface\":[{\"colorbar\":{\"outlinewidth\":0,\"ticks\":\"\"},\"colorscale\":[[0.0,\"#0d0887\"],[0.1111111111111111,\"#46039f\"],[0.2222222222222222,\"#7201a8\"],[0.3333333333333333,\"#9c179e\"],[0.4444444444444444,\"#bd3786\"],[0.5555555555555556,\"#d8576b\"],[0.6666666666666666,\"#ed7953\"],[0.7777777777777778,\"#fb9f3a\"],[0.8888888888888888,\"#fdca26\"],[1.0,\"#f0f921\"]],\"type\":\"surface\"}],\"table\":[{\"cells\":{\"fill\":{\"color\":\"#EBF0F8\"},\"line\":{\"color\":\"white\"}},\"header\":{\"fill\":{\"color\":\"#C8D4E3\"},\"line\":{\"color\":\"white\"}},\"type\":\"table\"}]},\"layout\":{\"annotationdefaults\":{\"arrowcolor\":\"#2a3f5f\",\"arrowhead\":0,\"arrowwidth\":1},\"autotypenumbers\":\"strict\",\"coloraxis\":{\"colorbar\":{\"outlinewidth\":0,\"ticks\":\"\"}},\"colorscale\":{\"diverging\":[[0,\"#8e0152\"],[0.1,\"#c51b7d\"],[0.2,\"#de77ae\"],[0.3,\"#f1b6da\"],[0.4,\"#fde0ef\"],[0.5,\"#f7f7f7\"],[0.6,\"#e6f5d0\"],[0.7,\"#b8e186\"],[0.8,\"#7fbc41\"],[0.9,\"#4d9221\"],[1,\"#276419\"]],\"sequential\":[[0.0,\"#0d0887\"],[0.1111111111111111,\"#46039f\"],[0.2222222222222222,\"#7201a8\"],[0.3333333333333333,\"#9c179e\"],[0.4444444444444444,\"#bd3786\"],[0.5555555555555556,\"#d8576b\"],[0.6666666666666666,\"#ed7953\"],[0.7777777777777778,\"#fb9f3a\"],[0.8888888888888888,\"#fdca26\"],[1.0,\"#f0f921\"]],\"sequentialminus\":[[0.0,\"#0d0887\"],[0.1111111111111111,\"#46039f\"],[0.2222222222222222,\"#7201a8\"],[0.3333333333333333,\"#9c179e\"],[0.4444444444444444,\"#bd3786\"],[0.5555555555555556,\"#d8576b\"],[0.6666666666666666,\"#ed7953\"],[0.7777777777777778,\"#fb9f3a\"],[0.8888888888888888,\"#fdca26\"],[1.0,\"#f0f921\"]]},\"colorway\":[\"#636efa\",\"#EF553B\",\"#00cc96\",\"#ab63fa\",\"#FFA15A\",\"#19d3f3\",\"#FF6692\",\"#B6E880\",\"#FF97FF\",\"#FECB52\"],\"font\":{\"color\":\"#2a3f5f\"},\"geo\":{\"bgcolor\":\"white\",\"lakecolor\":\"white\",\"landcolor\":\"#E5ECF6\",\"showlakes\":true,\"showland\":true,\"subunitcolor\":\"white\"},\"hoverlabel\":{\"align\":\"left\"},\"hovermode\":\"closest\",\"mapbox\":{\"style\":\"light\"},\"paper_bgcolor\":\"white\",\"plot_bgcolor\":\"#E5ECF6\",\"polar\":{\"angularaxis\":{\"gridcolor\":\"white\",\"linecolor\":\"white\",\"ticks\":\"\"},\"bgcolor\":\"#E5ECF6\",\"radialaxis\":{\"gridcolor\":\"white\",\"linecolor\":\"white\",\"ticks\":\"\"}},\"scene\":{\"xaxis\":{\"backgroundcolor\":\"#E5ECF6\",\"gridcolor\":\"white\",\"gridwidth\":2,\"linecolor\":\"white\",\"showbackground\":true,\"ticks\":\"\",\"zerolinecolor\":\"white\"},\"yaxis\":{\"backgroundcolor\":\"#E5ECF6\",\"gridcolor\":\"white\",\"gridwidth\":2,\"linecolor\":\"white\",\"showbackground\":true,\"ticks\":\"\",\"zerolinecolor\":\"white\"},\"zaxis\":{\"backgroundcolor\":\"#E5ECF6\",\"gridcolor\":\"white\",\"gridwidth\":2,\"linecolor\":\"white\",\"showbackground\":true,\"ticks\":\"\",\"zerolinecolor\":\"white\"}},\"shapedefaults\":{\"line\":{\"color\":\"#2a3f5f\"}},\"ternary\":{\"aaxis\":{\"gridcolor\":\"white\",\"linecolor\":\"white\",\"ticks\":\"\"},\"baxis\":{\"gridcolor\":\"white\",\"linecolor\":\"white\",\"ticks\":\"\"},\"bgcolor\":\"#E5ECF6\",\"caxis\":{\"gridcolor\":\"white\",\"linecolor\":\"white\",\"ticks\":\"\"}},\"title\":{\"x\":0.05},\"xaxis\":{\"automargin\":true,\"gridcolor\":\"white\",\"linecolor\":\"white\",\"ticks\":\"\",\"title\":{\"standoff\":15},\"zerolinecolor\":\"white\",\"zerolinewidth\":2},\"yaxis\":{\"automargin\":true,\"gridcolor\":\"white\",\"linecolor\":\"white\",\"ticks\":\"\",\"title\":{\"standoff\":15},\"zerolinecolor\":\"white\",\"zerolinewidth\":2}}},\"xaxis\":{\"anchor\":\"y\",\"domain\":[0.0,1.0],\"title\":{\"text\":\"Parch\"}},\"yaxis\":{\"anchor\":\"x\",\"domain\":[0.0,1.0],\"title\":{\"text\":\"count\"}},\"legend\":{\"title\":{\"text\":\"Survived\"},\"tracegroupgap\":0},\"margin\":{\"t\":60},\"barmode\":\"relative\"},                        {\"responsive\": true}                    ).then(function(){\n",
       "                            \n",
       "var gd = document.getElementById('3a78c783-7835-4123-a9b6-6377ddd28505');\n",
       "var x = new MutationObserver(function (mutations, observer) {{\n",
       "        var display = window.getComputedStyle(gd).display;\n",
       "        if (!display || display === 'none') {{\n",
       "            console.log([gd, 'removed!']);\n",
       "            Plotly.purge(gd);\n",
       "            observer.disconnect();\n",
       "        }}\n",
       "}});\n",
       "\n",
       "// Listen for the removal of the full notebook cells\n",
       "var notebookContainer = gd.closest('#notebook-container');\n",
       "if (notebookContainer) {{\n",
       "    x.observe(notebookContainer, {childList: true});\n",
       "}}\n",
       "\n",
       "// Listen for the clearing of the current output cell\n",
       "var outputEl = gd.closest('.output');\n",
       "if (outputEl) {{\n",
       "    x.observe(outputEl, {childList: true});\n",
       "}}\n",
       "\n",
       "                        })                };                });            </script>        </div>"
      ]
     },
     "metadata": {},
     "output_type": "display_data"
    },
    {
     "data": {
      "application/vnd.plotly.v1+json": {
       "config": {
        "plotlyServerURL": "https://plot.ly"
       },
       "data": [
        {
         "alignmentgroup": "True",
         "bingroup": "x",
         "hovertemplate": "Survived=0.0<br>Fare=%{x}<br>count=%{y}<extra></extra>",
         "legendgroup": "0.0",
         "marker": {
          "color": "#636efa",
          "pattern": {
           "shape": ""
          }
         },
         "name": "0.0",
         "offsetgroup": "0.0",
         "orientation": "v",
         "showlegend": true,
         "type": "histogram",
         "x": [
          7.25,
          8.05,
          8.4583,
          51.8625,
          21.075,
          8.05,
          31.275,
          7.8542,
          29.125,
          18,
          26,
          21.075,
          7.225,
          263,
          7.8958,
          27.7208,
          10.5,
          82.1708,
          52,
          8.05,
          18,
          9.475,
          21,
          7.8958,
          8.05,
          15.5,
          21.6792,
          17.8,
          39.6875,
          7.8,
          61.9792,
          7.2292,
          46.9,
          7.2292,
          83.475,
          27.9,
          27.7208,
          8.1583,
          8.6625,
          10.5,
          46.9,
          73.5,
          14.4542,
          7.65,
          7.8958,
          8.05,
          9,
          47.1,
          34.375,
          8.05,
          8.05,
          8.05,
          7.8542,
          61.175,
          20.575,
          7.25,
          8.05,
          34.6542,
          26,
          7.8958,
          7.8958,
          77.2875,
          8.6542,
          7.925,
          7.8958,
          7.8958,
          52,
          14.4542,
          8.05,
          9.825,
          14.4583,
          7.925,
          7.75,
          21,
          247.5208,
          31.275,
          73.5,
          8.05,
          30.0708,
          77.2875,
          7.75,
          6.975,
          7.8958,
          7.05,
          14.5,
          13,
          15.0458,
          53.1,
          9.2167,
          79.2,
          15.2458,
          6.75,
          11.5,
          36.75,
          34.375,
          26,
          13,
          12.525,
          8.05,
          14.5,
          7.3125,
          61.3792,
          8.05,
          8.6625,
          69.55,
          16.1,
          7.775,
          8.6625,
          39.6875,
          27.9,
          25.925,
          56.4958,
          33.5,
          29.125,
          7.925,
          30.6958,
          7.8542,
          25.4667,
          28.7125,
          13,
          0,
          69.55,
          15.05,
          31.3875,
          50,
          15.5,
          7.8958,
          13,
          7.75,
          8.4042,
          13,
          9.5,
          69.55,
          6.4958,
          7.225,
          10.4625,
          15.85,
          7.05,
          7.25,
          13,
          7.75,
          27,
          10.5,
          13,
          8.05,
          7.8958,
          9.35,
          7.25,
          13,
          25.4667,
          7.775,
          13.5,
          10.5,
          7.55,
          26,
          10.5,
          12.275,
          14.4542,
          10.5,
          7.125,
          7.225,
          90,
          7.775,
          26,
          7.25,
          10.4625,
          26.55,
          16.1,
          20.2125,
          7.75,
          79.65,
          0,
          7.75,
          10.5,
          39.6875,
          31,
          29.7,
          7.75,
          0,
          29.125,
          7.75,
          7.8542,
          9.5,
          26,
          8.6625,
          7.8958,
          12.875,
          8.85,
          7.8958,
          27.7208,
          7.2292,
          151.55,
          0,
          8.05,
          24,
          26,
          7.8958,
          26.25,
          14,
          7.25,
          7.8958,
          69.55,
          6.2375,
          28.5,
          153.4625,
          18,
          7.8958,
          66.6,
          35.5,
          13,
          13,
          13,
          8.6625,
          9.225,
          35,
          7.2292,
          17.8,
          7.225,
          9.5,
          13,
          27.9,
          27.7208,
          14.4542,
          7.05,
          15.5,
          7.25,
          6.4958,
          8.05,
          135.6333,
          21.075,
          211.5,
          4.0125,
          7.775,
          7.925,
          7.8958,
          73.5,
          46.9,
          7.7292,
          7.925,
          7.7958,
          7.8542,
          26,
          10.5,
          8.05,
          9.825,
          15.85,
          8.6625,
          21,
          7.75,
          7.775,
          25.4667,
          7.8958,
          6.8583,
          0,
          8.05,
          13,
          24.15,
          7.8958,
          7.7333,
          7.875,
          14.4,
          20.2125,
          7.25,
          7.75,
          7.125,
          55.9,
          34.375,
          263,
          10.5,
          9.5,
          7.775,
          27.75,
          19.9667,
          27.75,
          8.05,
          26.55,
          7.75,
          8.05,
          38.5,
          13,
          8.05,
          7.05,
          0,
          26.55,
          7.725,
          7.25,
          8.6625,
          9.8375,
          52,
          21,
          7.0458,
          7.5208,
          46.9,
          0,
          8.05,
          25.4667,
          29.7,
          8.05,
          19.9667,
          7.25,
          30.5,
          49.5042,
          8.05,
          14.4583,
          15.1,
          151.55,
          7.7958,
          8.6625,
          7.75,
          7.6292,
          9.5875,
          108.9,
          22.525,
          8.05,
          7.4958,
          34.0208,
          24.15,
          7.8958,
          7.8958,
          7.225,
          7.2292,
          7.75,
          221.7792,
          7.925,
          11.5,
          7.2292,
          7.2292,
          8.6625,
          26.55,
          14.5,
          31.275,
          31.275,
          106.425,
          26,
          20.525,
          26,
          7.8292,
          26.55,
          227.525,
          7.75,
          7.8958,
          13.5,
          8.05,
          8.05,
          24.15,
          7.8958,
          21.075,
          7.2292,
          8.05,
          14.5,
          14.4583,
          26,
          40.125,
          8.7125,
          15,
          8.05,
          8.05,
          7.125,
          7.25,
          7.75,
          26,
          24.15,
          0,
          7.225,
          7.8958,
          42.4,
          8.05,
          15.55,
          7.8958,
          31.275,
          7.05,
          7.75,
          8.05,
          14.4,
          16.1,
          10.5,
          14.4542,
          7.8542,
          16.1,
          32.3208,
          12.35,
          7.8958,
          7.7333,
          7.0542,
          0,
          27.9,
          7.925,
          26.25,
          39.6875,
          16.1,
          7.8542,
          27.9,
          7.8958,
          7.55,
          7.8958,
          8.4333,
          6.75,
          73.5,
          7.8958,
          15.5,
          13,
          113.275,
          7.225,
          25.5875,
          7.4958,
          73.5,
          13,
          7.775,
          8.05,
          52,
          10.5,
          0,
          7.775,
          8.05,
          46.9,
          8.1375,
          9.225,
          46.9,
          39,
          41.5792,
          39.6875,
          10.1708,
          7.7958,
          7.225,
          26.55,
          13.5,
          8.05,
          110.8833,
          7.65,
          14.4542,
          7.7417,
          7.8542,
          26,
          26.55,
          9.4833,
          13,
          7.65,
          15.5,
          7.775,
          7.0542,
          13,
          13,
          8.6625,
          26,
          7.925,
          18.7875,
          0,
          13,
          13,
          16.1,
          34.375,
          7.8958,
          7.8958,
          78.85,
          16.1,
          71,
          20.25,
          53.1,
          7.75,
          9.5,
          7.8958,
          7.7958,
          11.5,
          8.05,
          14.5,
          7.125,
          7.775,
          39.6,
          7.75,
          24.15,
          8.3625,
          9.5,
          7.8542,
          10.5,
          7.225,
          7.75,
          7.75,
          7.7375,
          30,
          23.45,
          7.05,
          7.25,
          29.125,
          79.2,
          7.75,
          26,
          69.55,
          30.6958,
          7.8958,
          13,
          7.2292,
          24.15,
          13,
          7.775,
          0,
          7.775,
          13,
          7.8875,
          24.15,
          10.5,
          31.275,
          8.05,
          0,
          7.925,
          37.0042,
          6.45,
          27.9,
          0,
          39.6875,
          6.95,
          56.4958,
          7.2292,
          7.8542,
          8.3,
          8.6625,
          8.05,
          7.925,
          10.5,
          6.4375,
          8.6625,
          7.55,
          69.55,
          7.8958,
          33,
          31.275,
          7.775,
          15.2458,
          26,
          7.2292,
          14.1083,
          11.5,
          69.55,
          13,
          50.4958,
          9.5,
          7.8958,
          5,
          9,
          9.8458,
          7.8958,
          7.8958,
          7.8958,
          10.5167,
          10.5,
          7.05,
          29.125,
          13,
          23.45,
          7.75
         ],
         "xaxis": "x",
         "yaxis": "y"
        },
        {
         "alignmentgroup": "True",
         "bingroup": "x",
         "hovertemplate": "Survived=1.0<br>Fare=%{x}<br>count=%{y}<extra></extra>",
         "legendgroup": "1.0",
         "marker": {
          "color": "#EF553B",
          "pattern": {
           "shape": ""
          }
         },
         "name": "1.0",
         "offsetgroup": "1.0",
         "orientation": "v",
         "showlegend": true,
         "type": "histogram",
         "x": [
          71.2833,
          7.925,
          53.1,
          11.1333,
          30.0708,
          16.7,
          26.55,
          16,
          13,
          7.225,
          13,
          8.0292,
          35.5,
          31.3875,
          7.8792,
          146.5208,
          7.75,
          7.2292,
          11.2417,
          41.5792,
          7.8792,
          7.75,
          76.7292,
          26,
          35.5,
          10.5,
          27.75,
          80,
          15.2458,
          10.5,
          7.925,
          56.4958,
          29,
          12.475,
          9.5,
          7.7875,
          10.5,
          15.85,
          263,
          63.3583,
          23,
          7.65,
          7.775,
          24.15,
          13,
          11.2417,
          7.1417,
          22.3583,
          26,
          26.2833,
          7.75,
          15.85,
          7.7958,
          66.6,
          7.7333,
          15.75,
          20.525,
          55,
          11.1333,
          39,
          22.025,
          15.5,
          26.55,
          13,
          7.8542,
          26,
          27.7208,
          146.5208,
          7.75,
          8.05,
          18.7875,
          7.75,
          31,
          21,
          113.275,
          7.925,
          76.2917,
          8.05,
          90,
          10.5,
          83.475,
          31.3875,
          26.25,
          15.5,
          14.5,
          52.5542,
          15.2458,
          79.2,
          86.5,
          512.3292,
          26,
          31.3875,
          7.775,
          153.4625,
          135.6333,
          0,
          19.5,
          7.75,
          77.9583,
          20.25,
          8.05,
          9.5,
          13,
          7.75,
          78.85,
          91.0792,
          30.5,
          247.5208,
          7.75,
          23.25,
          12.35,
          151.55,
          110.8833,
          108.9,
          56.9292,
          83.1583,
          262.375,
          7.8542,
          26,
          164.8667,
          134.5,
          12.35,
          29,
          135.6333,
          13,
          20.525,
          57.9792,
          23.25,
          133.65,
          134.5,
          8.05,
          26,
          263,
          13,
          13,
          16.1,
          15.9,
          55,
          7.8792,
          7.8792,
          75.25,
          7.2292,
          7.75,
          69.3,
          55.4417,
          82.1708,
          7.25,
          227.525,
          15.7417,
          52,
          13,
          12,
          120,
          7.7958,
          113.275,
          16.7,
          12.65,
          7.925,
          18.75,
          90,
          7.925,
          32.5,
          13,
          26,
          26,
          8.05,
          26.55,
          16.1,
          26,
          120,
          18.75,
          26.25,
          13,
          8.1125,
          81.8583,
          19.5,
          26.55,
          19.2583,
          30.5,
          89.1042,
          7.8958,
          51.8625,
          10.5,
          26.55,
          19.2583,
          27.75,
          13.7917,
          12.2875,
          9.5875,
          91.0792,
          90,
          15.9,
          78.2667,
          86.5,
          26,
          26.55,
          56.4958,
          7.75,
          26.2875,
          59.4,
          10.5,
          26,
          93.5,
          57.9792,
          10.5,
          26,
          22.3583,
          26.25,
          106.425,
          49.5,
          71,
          26,
          26,
          13.8625,
          36.75,
          110.8833,
          7.225,
          7.775,
          39.6,
          79.65,
          17.4,
          7.8542,
          10.5,
          51.4792,
          26.3875,
          7.75,
          13,
          55.9,
          7.925,
          30,
          110.8833,
          79.65,
          79.2,
          78.2667,
          33,
          56.9292,
          27,
          26.55,
          30.5,
          41.5792,
          153.4625,
          15.5,
          65,
          39,
          52.5542,
          15.7417,
          77.9583,
          30,
          30.5,
          13,
          69.3,
          56.4958,
          19.2583,
          76.7292,
          35.5,
          7.55,
          23,
          7.8292,
          133.65,
          7.925,
          52,
          39,
          13,
          9.8417,
          512.3292,
          76.7292,
          211.3375,
          57,
          13.4167,
          56.4958,
          7.7333,
          227.525,
          26.2875,
          13.5,
          26.2875,
          151.55,
          15.2458,
          49.5042,
          52,
          227.525,
          10.5,
          33,
          53.1,
          21,
          7.7375,
          211.3375,
          512.3292,
          30,
          262.375,
          7.925,
          13,
          23,
          12.475,
          65,
          14.5,
          86.5,
          7.2292,
          120,
          77.9583,
          23,
          12.475,
          211.3375,
          7.2292,
          57,
          7.4958,
          20.575,
          25.9292,
          8.6833,
          26.25,
          120,
          8.5167,
          6.975,
          53.1,
          93.5,
          8.6625,
          12.475,
          37.0042,
          7.75,
          80,
          14.4542,
          18.75,
          83.1583,
          56.4958,
          29.7,
          31,
          89.1042,
          39.4,
          9.35,
          164.8667,
          26.55,
          19.2583,
          25.9292,
          13,
          13.8583,
          11.1333,
          52.5542,
          24,
          7.225,
          83.1583,
          26,
          30,
          30
         ],
         "xaxis": "x",
         "yaxis": "y"
        }
       ],
       "layout": {
        "barmode": "relative",
        "legend": {
         "title": {
          "text": "Survived"
         },
         "tracegroupgap": 0
        },
        "margin": {
         "t": 60
        },
        "template": {
         "data": {
          "bar": [
           {
            "error_x": {
             "color": "#2a3f5f"
            },
            "error_y": {
             "color": "#2a3f5f"
            },
            "marker": {
             "line": {
              "color": "#E5ECF6",
              "width": 0.5
             },
             "pattern": {
              "fillmode": "overlay",
              "size": 10,
              "solidity": 0.2
             }
            },
            "type": "bar"
           }
          ],
          "barpolar": [
           {
            "marker": {
             "line": {
              "color": "#E5ECF6",
              "width": 0.5
             },
             "pattern": {
              "fillmode": "overlay",
              "size": 10,
              "solidity": 0.2
             }
            },
            "type": "barpolar"
           }
          ],
          "carpet": [
           {
            "aaxis": {
             "endlinecolor": "#2a3f5f",
             "gridcolor": "white",
             "linecolor": "white",
             "minorgridcolor": "white",
             "startlinecolor": "#2a3f5f"
            },
            "baxis": {
             "endlinecolor": "#2a3f5f",
             "gridcolor": "white",
             "linecolor": "white",
             "minorgridcolor": "white",
             "startlinecolor": "#2a3f5f"
            },
            "type": "carpet"
           }
          ],
          "choropleth": [
           {
            "colorbar": {
             "outlinewidth": 0,
             "ticks": ""
            },
            "type": "choropleth"
           }
          ],
          "contour": [
           {
            "colorbar": {
             "outlinewidth": 0,
             "ticks": ""
            },
            "colorscale": [
             [
              0,
              "#0d0887"
             ],
             [
              0.1111111111111111,
              "#46039f"
             ],
             [
              0.2222222222222222,
              "#7201a8"
             ],
             [
              0.3333333333333333,
              "#9c179e"
             ],
             [
              0.4444444444444444,
              "#bd3786"
             ],
             [
              0.5555555555555556,
              "#d8576b"
             ],
             [
              0.6666666666666666,
              "#ed7953"
             ],
             [
              0.7777777777777778,
              "#fb9f3a"
             ],
             [
              0.8888888888888888,
              "#fdca26"
             ],
             [
              1,
              "#f0f921"
             ]
            ],
            "type": "contour"
           }
          ],
          "contourcarpet": [
           {
            "colorbar": {
             "outlinewidth": 0,
             "ticks": ""
            },
            "type": "contourcarpet"
           }
          ],
          "heatmap": [
           {
            "colorbar": {
             "outlinewidth": 0,
             "ticks": ""
            },
            "colorscale": [
             [
              0,
              "#0d0887"
             ],
             [
              0.1111111111111111,
              "#46039f"
             ],
             [
              0.2222222222222222,
              "#7201a8"
             ],
             [
              0.3333333333333333,
              "#9c179e"
             ],
             [
              0.4444444444444444,
              "#bd3786"
             ],
             [
              0.5555555555555556,
              "#d8576b"
             ],
             [
              0.6666666666666666,
              "#ed7953"
             ],
             [
              0.7777777777777778,
              "#fb9f3a"
             ],
             [
              0.8888888888888888,
              "#fdca26"
             ],
             [
              1,
              "#f0f921"
             ]
            ],
            "type": "heatmap"
           }
          ],
          "heatmapgl": [
           {
            "colorbar": {
             "outlinewidth": 0,
             "ticks": ""
            },
            "colorscale": [
             [
              0,
              "#0d0887"
             ],
             [
              0.1111111111111111,
              "#46039f"
             ],
             [
              0.2222222222222222,
              "#7201a8"
             ],
             [
              0.3333333333333333,
              "#9c179e"
             ],
             [
              0.4444444444444444,
              "#bd3786"
             ],
             [
              0.5555555555555556,
              "#d8576b"
             ],
             [
              0.6666666666666666,
              "#ed7953"
             ],
             [
              0.7777777777777778,
              "#fb9f3a"
             ],
             [
              0.8888888888888888,
              "#fdca26"
             ],
             [
              1,
              "#f0f921"
             ]
            ],
            "type": "heatmapgl"
           }
          ],
          "histogram": [
           {
            "marker": {
             "pattern": {
              "fillmode": "overlay",
              "size": 10,
              "solidity": 0.2
             }
            },
            "type": "histogram"
           }
          ],
          "histogram2d": [
           {
            "colorbar": {
             "outlinewidth": 0,
             "ticks": ""
            },
            "colorscale": [
             [
              0,
              "#0d0887"
             ],
             [
              0.1111111111111111,
              "#46039f"
             ],
             [
              0.2222222222222222,
              "#7201a8"
             ],
             [
              0.3333333333333333,
              "#9c179e"
             ],
             [
              0.4444444444444444,
              "#bd3786"
             ],
             [
              0.5555555555555556,
              "#d8576b"
             ],
             [
              0.6666666666666666,
              "#ed7953"
             ],
             [
              0.7777777777777778,
              "#fb9f3a"
             ],
             [
              0.8888888888888888,
              "#fdca26"
             ],
             [
              1,
              "#f0f921"
             ]
            ],
            "type": "histogram2d"
           }
          ],
          "histogram2dcontour": [
           {
            "colorbar": {
             "outlinewidth": 0,
             "ticks": ""
            },
            "colorscale": [
             [
              0,
              "#0d0887"
             ],
             [
              0.1111111111111111,
              "#46039f"
             ],
             [
              0.2222222222222222,
              "#7201a8"
             ],
             [
              0.3333333333333333,
              "#9c179e"
             ],
             [
              0.4444444444444444,
              "#bd3786"
             ],
             [
              0.5555555555555556,
              "#d8576b"
             ],
             [
              0.6666666666666666,
              "#ed7953"
             ],
             [
              0.7777777777777778,
              "#fb9f3a"
             ],
             [
              0.8888888888888888,
              "#fdca26"
             ],
             [
              1,
              "#f0f921"
             ]
            ],
            "type": "histogram2dcontour"
           }
          ],
          "mesh3d": [
           {
            "colorbar": {
             "outlinewidth": 0,
             "ticks": ""
            },
            "type": "mesh3d"
           }
          ],
          "parcoords": [
           {
            "line": {
             "colorbar": {
              "outlinewidth": 0,
              "ticks": ""
             }
            },
            "type": "parcoords"
           }
          ],
          "pie": [
           {
            "automargin": true,
            "type": "pie"
           }
          ],
          "scatter": [
           {
            "marker": {
             "colorbar": {
              "outlinewidth": 0,
              "ticks": ""
             }
            },
            "type": "scatter"
           }
          ],
          "scatter3d": [
           {
            "line": {
             "colorbar": {
              "outlinewidth": 0,
              "ticks": ""
             }
            },
            "marker": {
             "colorbar": {
              "outlinewidth": 0,
              "ticks": ""
             }
            },
            "type": "scatter3d"
           }
          ],
          "scattercarpet": [
           {
            "marker": {
             "colorbar": {
              "outlinewidth": 0,
              "ticks": ""
             }
            },
            "type": "scattercarpet"
           }
          ],
          "scattergeo": [
           {
            "marker": {
             "colorbar": {
              "outlinewidth": 0,
              "ticks": ""
             }
            },
            "type": "scattergeo"
           }
          ],
          "scattergl": [
           {
            "marker": {
             "colorbar": {
              "outlinewidth": 0,
              "ticks": ""
             }
            },
            "type": "scattergl"
           }
          ],
          "scattermapbox": [
           {
            "marker": {
             "colorbar": {
              "outlinewidth": 0,
              "ticks": ""
             }
            },
            "type": "scattermapbox"
           }
          ],
          "scatterpolar": [
           {
            "marker": {
             "colorbar": {
              "outlinewidth": 0,
              "ticks": ""
             }
            },
            "type": "scatterpolar"
           }
          ],
          "scatterpolargl": [
           {
            "marker": {
             "colorbar": {
              "outlinewidth": 0,
              "ticks": ""
             }
            },
            "type": "scatterpolargl"
           }
          ],
          "scatterternary": [
           {
            "marker": {
             "colorbar": {
              "outlinewidth": 0,
              "ticks": ""
             }
            },
            "type": "scatterternary"
           }
          ],
          "surface": [
           {
            "colorbar": {
             "outlinewidth": 0,
             "ticks": ""
            },
            "colorscale": [
             [
              0,
              "#0d0887"
             ],
             [
              0.1111111111111111,
              "#46039f"
             ],
             [
              0.2222222222222222,
              "#7201a8"
             ],
             [
              0.3333333333333333,
              "#9c179e"
             ],
             [
              0.4444444444444444,
              "#bd3786"
             ],
             [
              0.5555555555555556,
              "#d8576b"
             ],
             [
              0.6666666666666666,
              "#ed7953"
             ],
             [
              0.7777777777777778,
              "#fb9f3a"
             ],
             [
              0.8888888888888888,
              "#fdca26"
             ],
             [
              1,
              "#f0f921"
             ]
            ],
            "type": "surface"
           }
          ],
          "table": [
           {
            "cells": {
             "fill": {
              "color": "#EBF0F8"
             },
             "line": {
              "color": "white"
             }
            },
            "header": {
             "fill": {
              "color": "#C8D4E3"
             },
             "line": {
              "color": "white"
             }
            },
            "type": "table"
           }
          ]
         },
         "layout": {
          "annotationdefaults": {
           "arrowcolor": "#2a3f5f",
           "arrowhead": 0,
           "arrowwidth": 1
          },
          "autotypenumbers": "strict",
          "coloraxis": {
           "colorbar": {
            "outlinewidth": 0,
            "ticks": ""
           }
          },
          "colorscale": {
           "diverging": [
            [
             0,
             "#8e0152"
            ],
            [
             0.1,
             "#c51b7d"
            ],
            [
             0.2,
             "#de77ae"
            ],
            [
             0.3,
             "#f1b6da"
            ],
            [
             0.4,
             "#fde0ef"
            ],
            [
             0.5,
             "#f7f7f7"
            ],
            [
             0.6,
             "#e6f5d0"
            ],
            [
             0.7,
             "#b8e186"
            ],
            [
             0.8,
             "#7fbc41"
            ],
            [
             0.9,
             "#4d9221"
            ],
            [
             1,
             "#276419"
            ]
           ],
           "sequential": [
            [
             0,
             "#0d0887"
            ],
            [
             0.1111111111111111,
             "#46039f"
            ],
            [
             0.2222222222222222,
             "#7201a8"
            ],
            [
             0.3333333333333333,
             "#9c179e"
            ],
            [
             0.4444444444444444,
             "#bd3786"
            ],
            [
             0.5555555555555556,
             "#d8576b"
            ],
            [
             0.6666666666666666,
             "#ed7953"
            ],
            [
             0.7777777777777778,
             "#fb9f3a"
            ],
            [
             0.8888888888888888,
             "#fdca26"
            ],
            [
             1,
             "#f0f921"
            ]
           ],
           "sequentialminus": [
            [
             0,
             "#0d0887"
            ],
            [
             0.1111111111111111,
             "#46039f"
            ],
            [
             0.2222222222222222,
             "#7201a8"
            ],
            [
             0.3333333333333333,
             "#9c179e"
            ],
            [
             0.4444444444444444,
             "#bd3786"
            ],
            [
             0.5555555555555556,
             "#d8576b"
            ],
            [
             0.6666666666666666,
             "#ed7953"
            ],
            [
             0.7777777777777778,
             "#fb9f3a"
            ],
            [
             0.8888888888888888,
             "#fdca26"
            ],
            [
             1,
             "#f0f921"
            ]
           ]
          },
          "colorway": [
           "#636efa",
           "#EF553B",
           "#00cc96",
           "#ab63fa",
           "#FFA15A",
           "#19d3f3",
           "#FF6692",
           "#B6E880",
           "#FF97FF",
           "#FECB52"
          ],
          "font": {
           "color": "#2a3f5f"
          },
          "geo": {
           "bgcolor": "white",
           "lakecolor": "white",
           "landcolor": "#E5ECF6",
           "showlakes": true,
           "showland": true,
           "subunitcolor": "white"
          },
          "hoverlabel": {
           "align": "left"
          },
          "hovermode": "closest",
          "mapbox": {
           "style": "light"
          },
          "paper_bgcolor": "white",
          "plot_bgcolor": "#E5ECF6",
          "polar": {
           "angularaxis": {
            "gridcolor": "white",
            "linecolor": "white",
            "ticks": ""
           },
           "bgcolor": "#E5ECF6",
           "radialaxis": {
            "gridcolor": "white",
            "linecolor": "white",
            "ticks": ""
           }
          },
          "scene": {
           "xaxis": {
            "backgroundcolor": "#E5ECF6",
            "gridcolor": "white",
            "gridwidth": 2,
            "linecolor": "white",
            "showbackground": true,
            "ticks": "",
            "zerolinecolor": "white"
           },
           "yaxis": {
            "backgroundcolor": "#E5ECF6",
            "gridcolor": "white",
            "gridwidth": 2,
            "linecolor": "white",
            "showbackground": true,
            "ticks": "",
            "zerolinecolor": "white"
           },
           "zaxis": {
            "backgroundcolor": "#E5ECF6",
            "gridcolor": "white",
            "gridwidth": 2,
            "linecolor": "white",
            "showbackground": true,
            "ticks": "",
            "zerolinecolor": "white"
           }
          },
          "shapedefaults": {
           "line": {
            "color": "#2a3f5f"
           }
          },
          "ternary": {
           "aaxis": {
            "gridcolor": "white",
            "linecolor": "white",
            "ticks": ""
           },
           "baxis": {
            "gridcolor": "white",
            "linecolor": "white",
            "ticks": ""
           },
           "bgcolor": "#E5ECF6",
           "caxis": {
            "gridcolor": "white",
            "linecolor": "white",
            "ticks": ""
           }
          },
          "title": {
           "x": 0.05
          },
          "xaxis": {
           "automargin": true,
           "gridcolor": "white",
           "linecolor": "white",
           "ticks": "",
           "title": {
            "standoff": 15
           },
           "zerolinecolor": "white",
           "zerolinewidth": 2
          },
          "yaxis": {
           "automargin": true,
           "gridcolor": "white",
           "linecolor": "white",
           "ticks": "",
           "title": {
            "standoff": 15
           },
           "zerolinecolor": "white",
           "zerolinewidth": 2
          }
         }
        },
        "xaxis": {
         "anchor": "y",
         "domain": [
          0,
          1
         ],
         "title": {
          "text": "Fare"
         }
        },
        "yaxis": {
         "anchor": "x",
         "domain": [
          0,
          1
         ],
         "title": {
          "text": "count"
         }
        }
       }
      },
      "text/html": [
       "<div>                            <div id=\"5ceb3890-1c68-4e94-bdcb-4ba15c07580b\" class=\"plotly-graph-div\" style=\"height:525px; width:100%;\"></div>            <script type=\"text/javascript\">                require([\"plotly\"], function(Plotly) {                    window.PLOTLYENV=window.PLOTLYENV || {};                                    if (document.getElementById(\"5ceb3890-1c68-4e94-bdcb-4ba15c07580b\")) {                    Plotly.newPlot(                        \"5ceb3890-1c68-4e94-bdcb-4ba15c07580b\",                        [{\"alignmentgroup\":\"True\",\"bingroup\":\"x\",\"hovertemplate\":\"Survived=0.0<br>Fare=%{x}<br>count=%{y}<extra></extra>\",\"legendgroup\":\"0.0\",\"marker\":{\"color\":\"#636efa\",\"pattern\":{\"shape\":\"\"}},\"name\":\"0.0\",\"offsetgroup\":\"0.0\",\"orientation\":\"v\",\"showlegend\":true,\"x\":[7.25,8.05,8.4583,51.8625,21.075,8.05,31.275,7.8542,29.125,18.0,26.0,21.075,7.225,263.0,7.8958,27.7208,10.5,82.1708,52.0,8.05,18.0,9.475,21.0,7.8958,8.05,15.5,21.6792,17.8,39.6875,7.8,61.9792,7.2292,46.9,7.2292,83.475,27.9,27.7208,8.1583,8.6625,10.5,46.9,73.5,14.4542,7.65,7.8958,8.05,9.0,47.1,34.375,8.05,8.05,8.05,7.8542,61.175,20.575,7.25,8.05,34.6542,26.0,7.8958,7.8958,77.2875,8.6542,7.925,7.8958,7.8958,52.0,14.4542,8.05,9.825,14.4583,7.925,7.75,21.0,247.5208,31.275,73.5,8.05,30.0708,77.2875,7.75,6.975,7.8958,7.05,14.5,13.0,15.0458,53.1,9.2167,79.2,15.2458,6.75,11.5,36.75,34.375,26.0,13.0,12.525,8.05,14.5,7.3125,61.3792,8.05,8.6625,69.55,16.1,7.775,8.6625,39.6875,27.9,25.925,56.4958,33.5,29.125,7.925,30.6958,7.8542,25.4667,28.7125,13.0,0.0,69.55,15.05,31.3875,50.0,15.5,7.8958,13.0,7.75,8.4042,13.0,9.5,69.55,6.4958,7.225,10.4625,15.85,7.05,7.25,13.0,7.75,27.0,10.5,13.0,8.05,7.8958,9.35,7.25,13.0,25.4667,7.775,13.5,10.5,7.55,26.0,10.5,12.275,14.4542,10.5,7.125,7.225,90.0,7.775,26.0,7.25,10.4625,26.55,16.1,20.2125,7.75,79.65,0.0,7.75,10.5,39.6875,31.0,29.7,7.75,0.0,29.125,7.75,7.8542,9.5,26.0,8.6625,7.8958,12.875,8.85,7.8958,27.7208,7.2292,151.55,0.0,8.05,24.0,26.0,7.8958,26.25,14.0,7.25,7.8958,69.55,6.2375,28.5,153.4625,18.0,7.8958,66.6,35.5,13.0,13.0,13.0,8.6625,9.225,35.0,7.2292,17.8,7.225,9.5,13.0,27.9,27.7208,14.4542,7.05,15.5,7.25,6.4958,8.05,135.6333,21.075,211.5,4.0125,7.775,7.925,7.8958,73.5,46.9,7.7292,7.925,7.7958,7.8542,26.0,10.5,8.05,9.825,15.85,8.6625,21.0,7.75,7.775,25.4667,7.8958,6.8583,0.0,8.05,13.0,24.15,7.8958,7.7333,7.875,14.4,20.2125,7.25,7.75,7.125,55.9,34.375,263.0,10.5,9.5,7.775,27.75,19.9667,27.75,8.05,26.55,7.75,8.05,38.5,13.0,8.05,7.05,0.0,26.55,7.725,7.25,8.6625,9.8375,52.0,21.0,7.0458,7.5208,46.9,0.0,8.05,25.4667,29.7,8.05,19.9667,7.25,30.5,49.5042,8.05,14.4583,15.1,151.55,7.7958,8.6625,7.75,7.6292,9.5875,108.9,22.525,8.05,7.4958,34.0208,24.15,7.8958,7.8958,7.225,7.2292,7.75,221.7792,7.925,11.5,7.2292,7.2292,8.6625,26.55,14.5,31.275,31.275,106.425,26.0,20.525,26.0,7.8292,26.55,227.525,7.75,7.8958,13.5,8.05,8.05,24.15,7.8958,21.075,7.2292,8.05,14.5,14.4583,26.0,40.125,8.7125,15.0,8.05,8.05,7.125,7.25,7.75,26.0,24.15,0.0,7.225,7.8958,42.4,8.05,15.55,7.8958,31.275,7.05,7.75,8.05,14.4,16.1,10.5,14.4542,7.8542,16.1,32.3208,12.35,7.8958,7.7333,7.0542,0.0,27.9,7.925,26.25,39.6875,16.1,7.8542,27.9,7.8958,7.55,7.8958,8.4333,6.75,73.5,7.8958,15.5,13.0,113.275,7.225,25.5875,7.4958,73.5,13.0,7.775,8.05,52.0,10.5,0.0,7.775,8.05,46.9,8.1375,9.225,46.9,39.0,41.5792,39.6875,10.1708,7.7958,7.225,26.55,13.5,8.05,110.8833,7.65,14.4542,7.7417,7.8542,26.0,26.55,9.4833,13.0,7.65,15.5,7.775,7.0542,13.0,13.0,8.6625,26.0,7.925,18.7875,0.0,13.0,13.0,16.1,34.375,7.8958,7.8958,78.85,16.1,71.0,20.25,53.1,7.75,9.5,7.8958,7.7958,11.5,8.05,14.5,7.125,7.775,39.6,7.75,24.15,8.3625,9.5,7.8542,10.5,7.225,7.75,7.75,7.7375,30.0,23.45,7.05,7.25,29.125,79.2,7.75,26.0,69.55,30.6958,7.8958,13.0,7.2292,24.15,13.0,7.775,0.0,7.775,13.0,7.8875,24.15,10.5,31.275,8.05,0.0,7.925,37.0042,6.45,27.9,0.0,39.6875,6.95,56.4958,7.2292,7.8542,8.3,8.6625,8.05,7.925,10.5,6.4375,8.6625,7.55,69.55,7.8958,33.0,31.275,7.775,15.2458,26.0,7.2292,14.1083,11.5,69.55,13.0,50.4958,9.5,7.8958,5.0,9.0,9.8458,7.8958,7.8958,7.8958,10.5167,10.5,7.05,29.125,13.0,23.45,7.75],\"xaxis\":\"x\",\"yaxis\":\"y\",\"type\":\"histogram\"},{\"alignmentgroup\":\"True\",\"bingroup\":\"x\",\"hovertemplate\":\"Survived=1.0<br>Fare=%{x}<br>count=%{y}<extra></extra>\",\"legendgroup\":\"1.0\",\"marker\":{\"color\":\"#EF553B\",\"pattern\":{\"shape\":\"\"}},\"name\":\"1.0\",\"offsetgroup\":\"1.0\",\"orientation\":\"v\",\"showlegend\":true,\"x\":[71.2833,7.925,53.1,11.1333,30.0708,16.7,26.55,16.0,13.0,7.225,13.0,8.0292,35.5,31.3875,7.8792,146.5208,7.75,7.2292,11.2417,41.5792,7.8792,7.75,76.7292,26.0,35.5,10.5,27.75,80.0,15.2458,10.5,7.925,56.4958,29.0,12.475,9.5,7.7875,10.5,15.85,263.0,63.3583,23.0,7.65,7.775,24.15,13.0,11.2417,7.1417,22.3583,26.0,26.2833,7.75,15.85,7.7958,66.6,7.7333,15.75,20.525,55.0,11.1333,39.0,22.025,15.5,26.55,13.0,7.8542,26.0,27.7208,146.5208,7.75,8.05,18.7875,7.75,31.0,21.0,113.275,7.925,76.2917,8.05,90.0,10.5,83.475,31.3875,26.25,15.5,14.5,52.5542,15.2458,79.2,86.5,512.3292,26.0,31.3875,7.775,153.4625,135.6333,0.0,19.5,7.75,77.9583,20.25,8.05,9.5,13.0,7.75,78.85,91.0792,30.5,247.5208,7.75,23.25,12.35,151.55,110.8833,108.9,56.9292,83.1583,262.375,7.8542,26.0,164.8667,134.5,12.35,29.0,135.6333,13.0,20.525,57.9792,23.25,133.65,134.5,8.05,26.0,263.0,13.0,13.0,16.1,15.9,55.0,7.8792,7.8792,75.25,7.2292,7.75,69.3,55.4417,82.1708,7.25,227.525,15.7417,52.0,13.0,12.0,120.0,7.7958,113.275,16.7,12.65,7.925,18.75,90.0,7.925,32.5,13.0,26.0,26.0,8.05,26.55,16.1,26.0,120.0,18.75,26.25,13.0,8.1125,81.8583,19.5,26.55,19.2583,30.5,89.1042,7.8958,51.8625,10.5,26.55,19.2583,27.75,13.7917,12.2875,9.5875,91.0792,90.0,15.9,78.2667,86.5,26.0,26.55,56.4958,7.75,26.2875,59.4,10.5,26.0,93.5,57.9792,10.5,26.0,22.3583,26.25,106.425,49.5,71.0,26.0,26.0,13.8625,36.75,110.8833,7.225,7.775,39.6,79.65,17.4,7.8542,10.5,51.4792,26.3875,7.75,13.0,55.9,7.925,30.0,110.8833,79.65,79.2,78.2667,33.0,56.9292,27.0,26.55,30.5,41.5792,153.4625,15.5,65.0,39.0,52.5542,15.7417,77.9583,30.0,30.5,13.0,69.3,56.4958,19.2583,76.7292,35.5,7.55,23.0,7.8292,133.65,7.925,52.0,39.0,13.0,9.8417,512.3292,76.7292,211.3375,57.0,13.4167,56.4958,7.7333,227.525,26.2875,13.5,26.2875,151.55,15.2458,49.5042,52.0,227.525,10.5,33.0,53.1,21.0,7.7375,211.3375,512.3292,30.0,262.375,7.925,13.0,23.0,12.475,65.0,14.5,86.5,7.2292,120.0,77.9583,23.0,12.475,211.3375,7.2292,57.0,7.4958,20.575,25.9292,8.6833,26.25,120.0,8.5167,6.975,53.1,93.5,8.6625,12.475,37.0042,7.75,80.0,14.4542,18.75,83.1583,56.4958,29.7,31.0,89.1042,39.4,9.35,164.8667,26.55,19.2583,25.9292,13.0,13.8583,11.1333,52.5542,24.0,7.225,83.1583,26.0,30.0,30.0],\"xaxis\":\"x\",\"yaxis\":\"y\",\"type\":\"histogram\"}],                        {\"template\":{\"data\":{\"bar\":[{\"error_x\":{\"color\":\"#2a3f5f\"},\"error_y\":{\"color\":\"#2a3f5f\"},\"marker\":{\"line\":{\"color\":\"#E5ECF6\",\"width\":0.5},\"pattern\":{\"fillmode\":\"overlay\",\"size\":10,\"solidity\":0.2}},\"type\":\"bar\"}],\"barpolar\":[{\"marker\":{\"line\":{\"color\":\"#E5ECF6\",\"width\":0.5},\"pattern\":{\"fillmode\":\"overlay\",\"size\":10,\"solidity\":0.2}},\"type\":\"barpolar\"}],\"carpet\":[{\"aaxis\":{\"endlinecolor\":\"#2a3f5f\",\"gridcolor\":\"white\",\"linecolor\":\"white\",\"minorgridcolor\":\"white\",\"startlinecolor\":\"#2a3f5f\"},\"baxis\":{\"endlinecolor\":\"#2a3f5f\",\"gridcolor\":\"white\",\"linecolor\":\"white\",\"minorgridcolor\":\"white\",\"startlinecolor\":\"#2a3f5f\"},\"type\":\"carpet\"}],\"choropleth\":[{\"colorbar\":{\"outlinewidth\":0,\"ticks\":\"\"},\"type\":\"choropleth\"}],\"contour\":[{\"colorbar\":{\"outlinewidth\":0,\"ticks\":\"\"},\"colorscale\":[[0.0,\"#0d0887\"],[0.1111111111111111,\"#46039f\"],[0.2222222222222222,\"#7201a8\"],[0.3333333333333333,\"#9c179e\"],[0.4444444444444444,\"#bd3786\"],[0.5555555555555556,\"#d8576b\"],[0.6666666666666666,\"#ed7953\"],[0.7777777777777778,\"#fb9f3a\"],[0.8888888888888888,\"#fdca26\"],[1.0,\"#f0f921\"]],\"type\":\"contour\"}],\"contourcarpet\":[{\"colorbar\":{\"outlinewidth\":0,\"ticks\":\"\"},\"type\":\"contourcarpet\"}],\"heatmap\":[{\"colorbar\":{\"outlinewidth\":0,\"ticks\":\"\"},\"colorscale\":[[0.0,\"#0d0887\"],[0.1111111111111111,\"#46039f\"],[0.2222222222222222,\"#7201a8\"],[0.3333333333333333,\"#9c179e\"],[0.4444444444444444,\"#bd3786\"],[0.5555555555555556,\"#d8576b\"],[0.6666666666666666,\"#ed7953\"],[0.7777777777777778,\"#fb9f3a\"],[0.8888888888888888,\"#fdca26\"],[1.0,\"#f0f921\"]],\"type\":\"heatmap\"}],\"heatmapgl\":[{\"colorbar\":{\"outlinewidth\":0,\"ticks\":\"\"},\"colorscale\":[[0.0,\"#0d0887\"],[0.1111111111111111,\"#46039f\"],[0.2222222222222222,\"#7201a8\"],[0.3333333333333333,\"#9c179e\"],[0.4444444444444444,\"#bd3786\"],[0.5555555555555556,\"#d8576b\"],[0.6666666666666666,\"#ed7953\"],[0.7777777777777778,\"#fb9f3a\"],[0.8888888888888888,\"#fdca26\"],[1.0,\"#f0f921\"]],\"type\":\"heatmapgl\"}],\"histogram\":[{\"marker\":{\"pattern\":{\"fillmode\":\"overlay\",\"size\":10,\"solidity\":0.2}},\"type\":\"histogram\"}],\"histogram2d\":[{\"colorbar\":{\"outlinewidth\":0,\"ticks\":\"\"},\"colorscale\":[[0.0,\"#0d0887\"],[0.1111111111111111,\"#46039f\"],[0.2222222222222222,\"#7201a8\"],[0.3333333333333333,\"#9c179e\"],[0.4444444444444444,\"#bd3786\"],[0.5555555555555556,\"#d8576b\"],[0.6666666666666666,\"#ed7953\"],[0.7777777777777778,\"#fb9f3a\"],[0.8888888888888888,\"#fdca26\"],[1.0,\"#f0f921\"]],\"type\":\"histogram2d\"}],\"histogram2dcontour\":[{\"colorbar\":{\"outlinewidth\":0,\"ticks\":\"\"},\"colorscale\":[[0.0,\"#0d0887\"],[0.1111111111111111,\"#46039f\"],[0.2222222222222222,\"#7201a8\"],[0.3333333333333333,\"#9c179e\"],[0.4444444444444444,\"#bd3786\"],[0.5555555555555556,\"#d8576b\"],[0.6666666666666666,\"#ed7953\"],[0.7777777777777778,\"#fb9f3a\"],[0.8888888888888888,\"#fdca26\"],[1.0,\"#f0f921\"]],\"type\":\"histogram2dcontour\"}],\"mesh3d\":[{\"colorbar\":{\"outlinewidth\":0,\"ticks\":\"\"},\"type\":\"mesh3d\"}],\"parcoords\":[{\"line\":{\"colorbar\":{\"outlinewidth\":0,\"ticks\":\"\"}},\"type\":\"parcoords\"}],\"pie\":[{\"automargin\":true,\"type\":\"pie\"}],\"scatter\":[{\"marker\":{\"colorbar\":{\"outlinewidth\":0,\"ticks\":\"\"}},\"type\":\"scatter\"}],\"scatter3d\":[{\"line\":{\"colorbar\":{\"outlinewidth\":0,\"ticks\":\"\"}},\"marker\":{\"colorbar\":{\"outlinewidth\":0,\"ticks\":\"\"}},\"type\":\"scatter3d\"}],\"scattercarpet\":[{\"marker\":{\"colorbar\":{\"outlinewidth\":0,\"ticks\":\"\"}},\"type\":\"scattercarpet\"}],\"scattergeo\":[{\"marker\":{\"colorbar\":{\"outlinewidth\":0,\"ticks\":\"\"}},\"type\":\"scattergeo\"}],\"scattergl\":[{\"marker\":{\"colorbar\":{\"outlinewidth\":0,\"ticks\":\"\"}},\"type\":\"scattergl\"}],\"scattermapbox\":[{\"marker\":{\"colorbar\":{\"outlinewidth\":0,\"ticks\":\"\"}},\"type\":\"scattermapbox\"}],\"scatterpolar\":[{\"marker\":{\"colorbar\":{\"outlinewidth\":0,\"ticks\":\"\"}},\"type\":\"scatterpolar\"}],\"scatterpolargl\":[{\"marker\":{\"colorbar\":{\"outlinewidth\":0,\"ticks\":\"\"}},\"type\":\"scatterpolargl\"}],\"scatterternary\":[{\"marker\":{\"colorbar\":{\"outlinewidth\":0,\"ticks\":\"\"}},\"type\":\"scatterternary\"}],\"surface\":[{\"colorbar\":{\"outlinewidth\":0,\"ticks\":\"\"},\"colorscale\":[[0.0,\"#0d0887\"],[0.1111111111111111,\"#46039f\"],[0.2222222222222222,\"#7201a8\"],[0.3333333333333333,\"#9c179e\"],[0.4444444444444444,\"#bd3786\"],[0.5555555555555556,\"#d8576b\"],[0.6666666666666666,\"#ed7953\"],[0.7777777777777778,\"#fb9f3a\"],[0.8888888888888888,\"#fdca26\"],[1.0,\"#f0f921\"]],\"type\":\"surface\"}],\"table\":[{\"cells\":{\"fill\":{\"color\":\"#EBF0F8\"},\"line\":{\"color\":\"white\"}},\"header\":{\"fill\":{\"color\":\"#C8D4E3\"},\"line\":{\"color\":\"white\"}},\"type\":\"table\"}]},\"layout\":{\"annotationdefaults\":{\"arrowcolor\":\"#2a3f5f\",\"arrowhead\":0,\"arrowwidth\":1},\"autotypenumbers\":\"strict\",\"coloraxis\":{\"colorbar\":{\"outlinewidth\":0,\"ticks\":\"\"}},\"colorscale\":{\"diverging\":[[0,\"#8e0152\"],[0.1,\"#c51b7d\"],[0.2,\"#de77ae\"],[0.3,\"#f1b6da\"],[0.4,\"#fde0ef\"],[0.5,\"#f7f7f7\"],[0.6,\"#e6f5d0\"],[0.7,\"#b8e186\"],[0.8,\"#7fbc41\"],[0.9,\"#4d9221\"],[1,\"#276419\"]],\"sequential\":[[0.0,\"#0d0887\"],[0.1111111111111111,\"#46039f\"],[0.2222222222222222,\"#7201a8\"],[0.3333333333333333,\"#9c179e\"],[0.4444444444444444,\"#bd3786\"],[0.5555555555555556,\"#d8576b\"],[0.6666666666666666,\"#ed7953\"],[0.7777777777777778,\"#fb9f3a\"],[0.8888888888888888,\"#fdca26\"],[1.0,\"#f0f921\"]],\"sequentialminus\":[[0.0,\"#0d0887\"],[0.1111111111111111,\"#46039f\"],[0.2222222222222222,\"#7201a8\"],[0.3333333333333333,\"#9c179e\"],[0.4444444444444444,\"#bd3786\"],[0.5555555555555556,\"#d8576b\"],[0.6666666666666666,\"#ed7953\"],[0.7777777777777778,\"#fb9f3a\"],[0.8888888888888888,\"#fdca26\"],[1.0,\"#f0f921\"]]},\"colorway\":[\"#636efa\",\"#EF553B\",\"#00cc96\",\"#ab63fa\",\"#FFA15A\",\"#19d3f3\",\"#FF6692\",\"#B6E880\",\"#FF97FF\",\"#FECB52\"],\"font\":{\"color\":\"#2a3f5f\"},\"geo\":{\"bgcolor\":\"white\",\"lakecolor\":\"white\",\"landcolor\":\"#E5ECF6\",\"showlakes\":true,\"showland\":true,\"subunitcolor\":\"white\"},\"hoverlabel\":{\"align\":\"left\"},\"hovermode\":\"closest\",\"mapbox\":{\"style\":\"light\"},\"paper_bgcolor\":\"white\",\"plot_bgcolor\":\"#E5ECF6\",\"polar\":{\"angularaxis\":{\"gridcolor\":\"white\",\"linecolor\":\"white\",\"ticks\":\"\"},\"bgcolor\":\"#E5ECF6\",\"radialaxis\":{\"gridcolor\":\"white\",\"linecolor\":\"white\",\"ticks\":\"\"}},\"scene\":{\"xaxis\":{\"backgroundcolor\":\"#E5ECF6\",\"gridcolor\":\"white\",\"gridwidth\":2,\"linecolor\":\"white\",\"showbackground\":true,\"ticks\":\"\",\"zerolinecolor\":\"white\"},\"yaxis\":{\"backgroundcolor\":\"#E5ECF6\",\"gridcolor\":\"white\",\"gridwidth\":2,\"linecolor\":\"white\",\"showbackground\":true,\"ticks\":\"\",\"zerolinecolor\":\"white\"},\"zaxis\":{\"backgroundcolor\":\"#E5ECF6\",\"gridcolor\":\"white\",\"gridwidth\":2,\"linecolor\":\"white\",\"showbackground\":true,\"ticks\":\"\",\"zerolinecolor\":\"white\"}},\"shapedefaults\":{\"line\":{\"color\":\"#2a3f5f\"}},\"ternary\":{\"aaxis\":{\"gridcolor\":\"white\",\"linecolor\":\"white\",\"ticks\":\"\"},\"baxis\":{\"gridcolor\":\"white\",\"linecolor\":\"white\",\"ticks\":\"\"},\"bgcolor\":\"#E5ECF6\",\"caxis\":{\"gridcolor\":\"white\",\"linecolor\":\"white\",\"ticks\":\"\"}},\"title\":{\"x\":0.05},\"xaxis\":{\"automargin\":true,\"gridcolor\":\"white\",\"linecolor\":\"white\",\"ticks\":\"\",\"title\":{\"standoff\":15},\"zerolinecolor\":\"white\",\"zerolinewidth\":2},\"yaxis\":{\"automargin\":true,\"gridcolor\":\"white\",\"linecolor\":\"white\",\"ticks\":\"\",\"title\":{\"standoff\":15},\"zerolinecolor\":\"white\",\"zerolinewidth\":2}}},\"xaxis\":{\"anchor\":\"y\",\"domain\":[0.0,1.0],\"title\":{\"text\":\"Fare\"}},\"yaxis\":{\"anchor\":\"x\",\"domain\":[0.0,1.0],\"title\":{\"text\":\"count\"}},\"legend\":{\"title\":{\"text\":\"Survived\"},\"tracegroupgap\":0},\"margin\":{\"t\":60},\"barmode\":\"relative\"},                        {\"responsive\": true}                    ).then(function(){\n",
       "                            \n",
       "var gd = document.getElementById('5ceb3890-1c68-4e94-bdcb-4ba15c07580b');\n",
       "var x = new MutationObserver(function (mutations, observer) {{\n",
       "        var display = window.getComputedStyle(gd).display;\n",
       "        if (!display || display === 'none') {{\n",
       "            console.log([gd, 'removed!']);\n",
       "            Plotly.purge(gd);\n",
       "            observer.disconnect();\n",
       "        }}\n",
       "}});\n",
       "\n",
       "// Listen for the removal of the full notebook cells\n",
       "var notebookContainer = gd.closest('#notebook-container');\n",
       "if (notebookContainer) {{\n",
       "    x.observe(notebookContainer, {childList: true});\n",
       "}}\n",
       "\n",
       "// Listen for the clearing of the current output cell\n",
       "var outputEl = gd.closest('.output');\n",
       "if (outputEl) {{\n",
       "    x.observe(outputEl, {childList: true});\n",
       "}}\n",
       "\n",
       "                        })                };                });            </script>        </div>"
      ]
     },
     "metadata": {},
     "output_type": "display_data"
    },
    {
     "data": {
      "application/vnd.plotly.v1+json": {
       "config": {
        "plotlyServerURL": "https://plot.ly"
       },
       "data": [
        {
         "alignmentgroup": "True",
         "bingroup": "x",
         "hovertemplate": "Survived=0.0<br>Sex=%{x}<br>count=%{y}<extra></extra>",
         "legendgroup": "0.0",
         "marker": {
          "color": "#636efa",
          "pattern": {
           "shape": ""
          }
         },
         "name": "0.0",
         "offsetgroup": "0.0",
         "orientation": "v",
         "showlegend": true,
         "type": "histogram",
         "x": [
          "male",
          "male",
          "male",
          "male",
          "male",
          "male",
          "male",
          "female",
          "male",
          "female",
          "male",
          "female",
          "male",
          "male",
          "male",
          "male",
          "male",
          "male",
          "male",
          "male",
          "female",
          "female",
          "female",
          "male",
          "male",
          "male",
          "male",
          "female",
          "male",
          "male",
          "male",
          "male",
          "male",
          "male",
          "male",
          "male",
          "male",
          "male",
          "male",
          "male",
          "female",
          "male",
          "male",
          "male",
          "male",
          "male",
          "male",
          "male",
          "male",
          "male",
          "male",
          "male",
          "male",
          "male",
          "male",
          "male",
          "male",
          "male",
          "male",
          "female",
          "male",
          "male",
          "male",
          "male",
          "male",
          "male",
          "male",
          "female",
          "male",
          "female",
          "female",
          "male",
          "male",
          "male",
          "male",
          "female",
          "male",
          "male",
          "male",
          "male",
          "male",
          "male",
          "male",
          "male",
          "female",
          "male",
          "male",
          "male",
          "male",
          "male",
          "female",
          "male",
          "male",
          "male",
          "female",
          "male",
          "male",
          "male",
          "male",
          "male",
          "male",
          "male",
          "male",
          "male",
          "male",
          "male",
          "male",
          "male",
          "male",
          "female",
          "male",
          "male",
          "male",
          "male",
          "male",
          "male",
          "male",
          "male",
          "female",
          "male",
          "male",
          "female",
          "male",
          "male",
          "male",
          "male",
          "male",
          "male",
          "male",
          "male",
          "female",
          "male",
          "male",
          "male",
          "male",
          "female",
          "male",
          "male",
          "male",
          "male",
          "male",
          "male",
          "male",
          "male",
          "male",
          "male",
          "male",
          "male",
          "male",
          "female",
          "male",
          "male",
          "male",
          "female",
          "male",
          "male",
          "male",
          "female",
          "male",
          "male",
          "male",
          "male",
          "female",
          "male",
          "male",
          "female",
          "male",
          "male",
          "female",
          "male",
          "male",
          "male",
          "female",
          "male",
          "male",
          "male",
          "male",
          "female",
          "male",
          "male",
          "male",
          "male",
          "male",
          "male",
          "male",
          "male",
          "male",
          "female",
          "male",
          "male",
          "male",
          "female",
          "male",
          "male",
          "male",
          "female",
          "male",
          "male",
          "male",
          "male",
          "male",
          "male",
          "male",
          "male",
          "male",
          "male",
          "male",
          "male",
          "male",
          "male",
          "male",
          "male",
          "male",
          "male",
          "male",
          "male",
          "male",
          "male",
          "male",
          "female",
          "male",
          "male",
          "female",
          "male",
          "male",
          "male",
          "male",
          "male",
          "male",
          "female",
          "male",
          "male",
          "male",
          "male",
          "male",
          "male",
          "male",
          "male",
          "male",
          "male",
          "female",
          "male",
          "male",
          "male",
          "female",
          "male",
          "female",
          "male",
          "male",
          "male",
          "female",
          "male",
          "male",
          "male",
          "female",
          "male",
          "female",
          "male",
          "male",
          "male",
          "female",
          "male",
          "male",
          "male",
          "male",
          "male",
          "female",
          "male",
          "male",
          "male",
          "male",
          "male",
          "male",
          "male",
          "male",
          "male",
          "male",
          "male",
          "male",
          "male",
          "male",
          "male",
          "male",
          "male",
          "male",
          "male",
          "male",
          "female",
          "male",
          "male",
          "male",
          "male",
          "male",
          "male",
          "male",
          "female",
          "male",
          "male",
          "male",
          "male",
          "male",
          "male",
          "male",
          "male",
          "male",
          "female",
          "male",
          "male",
          "female",
          "female",
          "female",
          "male",
          "male",
          "male",
          "male",
          "male",
          "male",
          "male",
          "male",
          "male",
          "male",
          "male",
          "male",
          "male",
          "male",
          "male",
          "male",
          "female",
          "male",
          "male",
          "female",
          "female",
          "male",
          "male",
          "male",
          "male",
          "male",
          "male",
          "male",
          "male",
          "male",
          "male",
          "male",
          "female",
          "male",
          "male",
          "female",
          "male",
          "male",
          "male",
          "female",
          "male",
          "male",
          "male",
          "male",
          "male",
          "male",
          "male",
          "male",
          "female",
          "male",
          "male",
          "male",
          "male",
          "male",
          "male",
          "male",
          "male",
          "male",
          "female",
          "male",
          "male",
          "male",
          "male",
          "female",
          "male",
          "male",
          "male",
          "male",
          "male",
          "male",
          "male",
          "male",
          "male",
          "male",
          "female",
          "male",
          "male",
          "female",
          "male",
          "male",
          "female",
          "male",
          "male",
          "male",
          "male",
          "female",
          "male",
          "male",
          "female",
          "male",
          "male",
          "male",
          "male",
          "male",
          "male",
          "male",
          "male",
          "male",
          "male",
          "male",
          "male",
          "male",
          "male",
          "female",
          "female",
          "male",
          "male",
          "male",
          "male",
          "male",
          "male",
          "male",
          "male",
          "male",
          "male",
          "male",
          "male",
          "male",
          "female",
          "male",
          "male",
          "male",
          "male",
          "male",
          "male",
          "male",
          "male",
          "male",
          "male",
          "male",
          "male",
          "male",
          "male",
          "female",
          "male",
          "male",
          "male",
          "male",
          "male",
          "female",
          "male",
          "male",
          "male",
          "male",
          "male",
          "male",
          "male",
          "male",
          "male",
          "male",
          "male",
          "male",
          "male",
          "male",
          "male",
          "male",
          "male",
          "female",
          "male",
          "male",
          "male",
          "male",
          "female",
          "male",
          "male",
          "male",
          "male",
          "male",
          "male",
          "male",
          "male",
          "male",
          "male",
          "male",
          "male",
          "female",
          "male",
          "male",
          "male",
          "male",
          "female",
          "male",
          "male",
          "male",
          "female",
          "male",
          "male",
          "male",
          "male",
          "female",
          "male",
          "male",
          "female",
          "male",
          "male",
          "male",
          "male",
          "male",
          "male",
          "male",
          "male",
          "male",
          "male",
          "male",
          "male",
          "male",
          "male",
          "male",
          "male",
          "male",
          "male",
          "male",
          "male",
          "male",
          "male",
          "female",
          "female",
          "male",
          "male",
          "male",
          "female",
          "male",
          "male",
          "male",
          "male",
          "male",
          "male",
          "male",
          "male",
          "male",
          "male",
          "female",
          "male",
          "male",
          "female",
          "male",
          "female",
          "male"
         ],
         "xaxis": "x",
         "yaxis": "y"
        },
        {
         "alignmentgroup": "True",
         "bingroup": "x",
         "hovertemplate": "Survived=1.0<br>Sex=%{x}<br>count=%{y}<extra></extra>",
         "legendgroup": "1.0",
         "marker": {
          "color": "#EF553B",
          "pattern": {
           "shape": ""
          }
         },
         "name": "1.0",
         "offsetgroup": "1.0",
         "orientation": "v",
         "showlegend": true,
         "type": "histogram",
         "x": [
          "female",
          "female",
          "female",
          "female",
          "female",
          "female",
          "female",
          "female",
          "male",
          "female",
          "male",
          "female",
          "male",
          "female",
          "female",
          "female",
          "female",
          "male",
          "female",
          "female",
          "female",
          "female",
          "female",
          "female",
          "male",
          "female",
          "female",
          "female",
          "male",
          "female",
          "female",
          "male",
          "male",
          "female",
          "male",
          "female",
          "female",
          "female",
          "female",
          "male",
          "female",
          "female",
          "male",
          "female",
          "female",
          "male",
          "male",
          "female",
          "female",
          "female",
          "female",
          "female",
          "male",
          "female",
          "female",
          "female",
          "male",
          "female",
          "female",
          "male",
          "female",
          "female",
          "male",
          "female",
          "female",
          "male",
          "female",
          "female",
          "female",
          "male",
          "male",
          "female",
          "male",
          "female",
          "female",
          "female",
          "female",
          "male",
          "male",
          "male",
          "female",
          "female",
          "female",
          "female",
          "female",
          "male",
          "female",
          "female",
          "female",
          "female",
          "female",
          "male",
          "male",
          "female",
          "female",
          "male",
          "female",
          "female",
          "female",
          "female",
          "male",
          "male",
          "male",
          "female",
          "female",
          "female",
          "male",
          "female",
          "female",
          "male",
          "female",
          "male",
          "female",
          "female",
          "female",
          "female",
          "female",
          "female",
          "female",
          "female",
          "female",
          "female",
          "female",
          "female",
          "female",
          "female",
          "female",
          "female",
          "female",
          "female",
          "male",
          "male",
          "female",
          "female",
          "female",
          "female",
          "male",
          "female",
          "female",
          "female",
          "female",
          "female",
          "female",
          "female",
          "male",
          "female",
          "female",
          "female",
          "female",
          "female",
          "female",
          "female",
          "male",
          "male",
          "female",
          "female",
          "female",
          "male",
          "male",
          "female",
          "male",
          "female",
          "female",
          "female",
          "female",
          "male",
          "male",
          "female",
          "female",
          "female",
          "female",
          "female",
          "female",
          "male",
          "male",
          "female",
          "male",
          "female",
          "male",
          "male",
          "male",
          "female",
          "female",
          "male",
          "female",
          "female",
          "female",
          "female",
          "female",
          "male",
          "female",
          "male",
          "female",
          "female",
          "female",
          "male",
          "male",
          "male",
          "male",
          "female",
          "female",
          "female",
          "female",
          "female",
          "female",
          "female",
          "female",
          "female",
          "female",
          "female",
          "female",
          "male",
          "female",
          "male",
          "male",
          "male",
          "male",
          "female",
          "female",
          "female",
          "female",
          "male",
          "male",
          "female",
          "male",
          "female",
          "female",
          "female",
          "male",
          "female",
          "female",
          "female",
          "male",
          "female",
          "female",
          "male",
          "female",
          "male",
          "male",
          "female",
          "female",
          "female",
          "female",
          "female",
          "male",
          "male",
          "female",
          "male",
          "male",
          "female",
          "female",
          "male",
          "female",
          "male",
          "male",
          "female",
          "female",
          "female",
          "male",
          "male",
          "female",
          "female",
          "male",
          "female",
          "male",
          "male",
          "female",
          "male",
          "female",
          "male",
          "female",
          "female",
          "male",
          "female",
          "male",
          "female",
          "male",
          "female",
          "male",
          "female",
          "female",
          "female",
          "male",
          "female",
          "female",
          "female",
          "male",
          "male",
          "female",
          "male",
          "female",
          "female",
          "male",
          "female",
          "male",
          "female",
          "male",
          "female",
          "female",
          "female",
          "female",
          "female",
          "female",
          "female",
          "female",
          "male",
          "female",
          "female",
          "female",
          "male",
          "male",
          "male",
          "female",
          "female",
          "male",
          "female",
          "male",
          "male",
          "female",
          "female",
          "male",
          "female",
          "male",
          "male",
          "female",
          "female",
          "female",
          "female",
          "female",
          "male",
          "female",
          "female",
          "female",
          "female",
          "male",
          "female",
          "female",
          "female",
          "female",
          "female",
          "female",
          "male"
         ],
         "xaxis": "x",
         "yaxis": "y"
        }
       ],
       "layout": {
        "barmode": "relative",
        "legend": {
         "title": {
          "text": "Survived"
         },
         "tracegroupgap": 0
        },
        "margin": {
         "t": 60
        },
        "template": {
         "data": {
          "bar": [
           {
            "error_x": {
             "color": "#2a3f5f"
            },
            "error_y": {
             "color": "#2a3f5f"
            },
            "marker": {
             "line": {
              "color": "#E5ECF6",
              "width": 0.5
             },
             "pattern": {
              "fillmode": "overlay",
              "size": 10,
              "solidity": 0.2
             }
            },
            "type": "bar"
           }
          ],
          "barpolar": [
           {
            "marker": {
             "line": {
              "color": "#E5ECF6",
              "width": 0.5
             },
             "pattern": {
              "fillmode": "overlay",
              "size": 10,
              "solidity": 0.2
             }
            },
            "type": "barpolar"
           }
          ],
          "carpet": [
           {
            "aaxis": {
             "endlinecolor": "#2a3f5f",
             "gridcolor": "white",
             "linecolor": "white",
             "minorgridcolor": "white",
             "startlinecolor": "#2a3f5f"
            },
            "baxis": {
             "endlinecolor": "#2a3f5f",
             "gridcolor": "white",
             "linecolor": "white",
             "minorgridcolor": "white",
             "startlinecolor": "#2a3f5f"
            },
            "type": "carpet"
           }
          ],
          "choropleth": [
           {
            "colorbar": {
             "outlinewidth": 0,
             "ticks": ""
            },
            "type": "choropleth"
           }
          ],
          "contour": [
           {
            "colorbar": {
             "outlinewidth": 0,
             "ticks": ""
            },
            "colorscale": [
             [
              0,
              "#0d0887"
             ],
             [
              0.1111111111111111,
              "#46039f"
             ],
             [
              0.2222222222222222,
              "#7201a8"
             ],
             [
              0.3333333333333333,
              "#9c179e"
             ],
             [
              0.4444444444444444,
              "#bd3786"
             ],
             [
              0.5555555555555556,
              "#d8576b"
             ],
             [
              0.6666666666666666,
              "#ed7953"
             ],
             [
              0.7777777777777778,
              "#fb9f3a"
             ],
             [
              0.8888888888888888,
              "#fdca26"
             ],
             [
              1,
              "#f0f921"
             ]
            ],
            "type": "contour"
           }
          ],
          "contourcarpet": [
           {
            "colorbar": {
             "outlinewidth": 0,
             "ticks": ""
            },
            "type": "contourcarpet"
           }
          ],
          "heatmap": [
           {
            "colorbar": {
             "outlinewidth": 0,
             "ticks": ""
            },
            "colorscale": [
             [
              0,
              "#0d0887"
             ],
             [
              0.1111111111111111,
              "#46039f"
             ],
             [
              0.2222222222222222,
              "#7201a8"
             ],
             [
              0.3333333333333333,
              "#9c179e"
             ],
             [
              0.4444444444444444,
              "#bd3786"
             ],
             [
              0.5555555555555556,
              "#d8576b"
             ],
             [
              0.6666666666666666,
              "#ed7953"
             ],
             [
              0.7777777777777778,
              "#fb9f3a"
             ],
             [
              0.8888888888888888,
              "#fdca26"
             ],
             [
              1,
              "#f0f921"
             ]
            ],
            "type": "heatmap"
           }
          ],
          "heatmapgl": [
           {
            "colorbar": {
             "outlinewidth": 0,
             "ticks": ""
            },
            "colorscale": [
             [
              0,
              "#0d0887"
             ],
             [
              0.1111111111111111,
              "#46039f"
             ],
             [
              0.2222222222222222,
              "#7201a8"
             ],
             [
              0.3333333333333333,
              "#9c179e"
             ],
             [
              0.4444444444444444,
              "#bd3786"
             ],
             [
              0.5555555555555556,
              "#d8576b"
             ],
             [
              0.6666666666666666,
              "#ed7953"
             ],
             [
              0.7777777777777778,
              "#fb9f3a"
             ],
             [
              0.8888888888888888,
              "#fdca26"
             ],
             [
              1,
              "#f0f921"
             ]
            ],
            "type": "heatmapgl"
           }
          ],
          "histogram": [
           {
            "marker": {
             "pattern": {
              "fillmode": "overlay",
              "size": 10,
              "solidity": 0.2
             }
            },
            "type": "histogram"
           }
          ],
          "histogram2d": [
           {
            "colorbar": {
             "outlinewidth": 0,
             "ticks": ""
            },
            "colorscale": [
             [
              0,
              "#0d0887"
             ],
             [
              0.1111111111111111,
              "#46039f"
             ],
             [
              0.2222222222222222,
              "#7201a8"
             ],
             [
              0.3333333333333333,
              "#9c179e"
             ],
             [
              0.4444444444444444,
              "#bd3786"
             ],
             [
              0.5555555555555556,
              "#d8576b"
             ],
             [
              0.6666666666666666,
              "#ed7953"
             ],
             [
              0.7777777777777778,
              "#fb9f3a"
             ],
             [
              0.8888888888888888,
              "#fdca26"
             ],
             [
              1,
              "#f0f921"
             ]
            ],
            "type": "histogram2d"
           }
          ],
          "histogram2dcontour": [
           {
            "colorbar": {
             "outlinewidth": 0,
             "ticks": ""
            },
            "colorscale": [
             [
              0,
              "#0d0887"
             ],
             [
              0.1111111111111111,
              "#46039f"
             ],
             [
              0.2222222222222222,
              "#7201a8"
             ],
             [
              0.3333333333333333,
              "#9c179e"
             ],
             [
              0.4444444444444444,
              "#bd3786"
             ],
             [
              0.5555555555555556,
              "#d8576b"
             ],
             [
              0.6666666666666666,
              "#ed7953"
             ],
             [
              0.7777777777777778,
              "#fb9f3a"
             ],
             [
              0.8888888888888888,
              "#fdca26"
             ],
             [
              1,
              "#f0f921"
             ]
            ],
            "type": "histogram2dcontour"
           }
          ],
          "mesh3d": [
           {
            "colorbar": {
             "outlinewidth": 0,
             "ticks": ""
            },
            "type": "mesh3d"
           }
          ],
          "parcoords": [
           {
            "line": {
             "colorbar": {
              "outlinewidth": 0,
              "ticks": ""
             }
            },
            "type": "parcoords"
           }
          ],
          "pie": [
           {
            "automargin": true,
            "type": "pie"
           }
          ],
          "scatter": [
           {
            "marker": {
             "colorbar": {
              "outlinewidth": 0,
              "ticks": ""
             }
            },
            "type": "scatter"
           }
          ],
          "scatter3d": [
           {
            "line": {
             "colorbar": {
              "outlinewidth": 0,
              "ticks": ""
             }
            },
            "marker": {
             "colorbar": {
              "outlinewidth": 0,
              "ticks": ""
             }
            },
            "type": "scatter3d"
           }
          ],
          "scattercarpet": [
           {
            "marker": {
             "colorbar": {
              "outlinewidth": 0,
              "ticks": ""
             }
            },
            "type": "scattercarpet"
           }
          ],
          "scattergeo": [
           {
            "marker": {
             "colorbar": {
              "outlinewidth": 0,
              "ticks": ""
             }
            },
            "type": "scattergeo"
           }
          ],
          "scattergl": [
           {
            "marker": {
             "colorbar": {
              "outlinewidth": 0,
              "ticks": ""
             }
            },
            "type": "scattergl"
           }
          ],
          "scattermapbox": [
           {
            "marker": {
             "colorbar": {
              "outlinewidth": 0,
              "ticks": ""
             }
            },
            "type": "scattermapbox"
           }
          ],
          "scatterpolar": [
           {
            "marker": {
             "colorbar": {
              "outlinewidth": 0,
              "ticks": ""
             }
            },
            "type": "scatterpolar"
           }
          ],
          "scatterpolargl": [
           {
            "marker": {
             "colorbar": {
              "outlinewidth": 0,
              "ticks": ""
             }
            },
            "type": "scatterpolargl"
           }
          ],
          "scatterternary": [
           {
            "marker": {
             "colorbar": {
              "outlinewidth": 0,
              "ticks": ""
             }
            },
            "type": "scatterternary"
           }
          ],
          "surface": [
           {
            "colorbar": {
             "outlinewidth": 0,
             "ticks": ""
            },
            "colorscale": [
             [
              0,
              "#0d0887"
             ],
             [
              0.1111111111111111,
              "#46039f"
             ],
             [
              0.2222222222222222,
              "#7201a8"
             ],
             [
              0.3333333333333333,
              "#9c179e"
             ],
             [
              0.4444444444444444,
              "#bd3786"
             ],
             [
              0.5555555555555556,
              "#d8576b"
             ],
             [
              0.6666666666666666,
              "#ed7953"
             ],
             [
              0.7777777777777778,
              "#fb9f3a"
             ],
             [
              0.8888888888888888,
              "#fdca26"
             ],
             [
              1,
              "#f0f921"
             ]
            ],
            "type": "surface"
           }
          ],
          "table": [
           {
            "cells": {
             "fill": {
              "color": "#EBF0F8"
             },
             "line": {
              "color": "white"
             }
            },
            "header": {
             "fill": {
              "color": "#C8D4E3"
             },
             "line": {
              "color": "white"
             }
            },
            "type": "table"
           }
          ]
         },
         "layout": {
          "annotationdefaults": {
           "arrowcolor": "#2a3f5f",
           "arrowhead": 0,
           "arrowwidth": 1
          },
          "autotypenumbers": "strict",
          "coloraxis": {
           "colorbar": {
            "outlinewidth": 0,
            "ticks": ""
           }
          },
          "colorscale": {
           "diverging": [
            [
             0,
             "#8e0152"
            ],
            [
             0.1,
             "#c51b7d"
            ],
            [
             0.2,
             "#de77ae"
            ],
            [
             0.3,
             "#f1b6da"
            ],
            [
             0.4,
             "#fde0ef"
            ],
            [
             0.5,
             "#f7f7f7"
            ],
            [
             0.6,
             "#e6f5d0"
            ],
            [
             0.7,
             "#b8e186"
            ],
            [
             0.8,
             "#7fbc41"
            ],
            [
             0.9,
             "#4d9221"
            ],
            [
             1,
             "#276419"
            ]
           ],
           "sequential": [
            [
             0,
             "#0d0887"
            ],
            [
             0.1111111111111111,
             "#46039f"
            ],
            [
             0.2222222222222222,
             "#7201a8"
            ],
            [
             0.3333333333333333,
             "#9c179e"
            ],
            [
             0.4444444444444444,
             "#bd3786"
            ],
            [
             0.5555555555555556,
             "#d8576b"
            ],
            [
             0.6666666666666666,
             "#ed7953"
            ],
            [
             0.7777777777777778,
             "#fb9f3a"
            ],
            [
             0.8888888888888888,
             "#fdca26"
            ],
            [
             1,
             "#f0f921"
            ]
           ],
           "sequentialminus": [
            [
             0,
             "#0d0887"
            ],
            [
             0.1111111111111111,
             "#46039f"
            ],
            [
             0.2222222222222222,
             "#7201a8"
            ],
            [
             0.3333333333333333,
             "#9c179e"
            ],
            [
             0.4444444444444444,
             "#bd3786"
            ],
            [
             0.5555555555555556,
             "#d8576b"
            ],
            [
             0.6666666666666666,
             "#ed7953"
            ],
            [
             0.7777777777777778,
             "#fb9f3a"
            ],
            [
             0.8888888888888888,
             "#fdca26"
            ],
            [
             1,
             "#f0f921"
            ]
           ]
          },
          "colorway": [
           "#636efa",
           "#EF553B",
           "#00cc96",
           "#ab63fa",
           "#FFA15A",
           "#19d3f3",
           "#FF6692",
           "#B6E880",
           "#FF97FF",
           "#FECB52"
          ],
          "font": {
           "color": "#2a3f5f"
          },
          "geo": {
           "bgcolor": "white",
           "lakecolor": "white",
           "landcolor": "#E5ECF6",
           "showlakes": true,
           "showland": true,
           "subunitcolor": "white"
          },
          "hoverlabel": {
           "align": "left"
          },
          "hovermode": "closest",
          "mapbox": {
           "style": "light"
          },
          "paper_bgcolor": "white",
          "plot_bgcolor": "#E5ECF6",
          "polar": {
           "angularaxis": {
            "gridcolor": "white",
            "linecolor": "white",
            "ticks": ""
           },
           "bgcolor": "#E5ECF6",
           "radialaxis": {
            "gridcolor": "white",
            "linecolor": "white",
            "ticks": ""
           }
          },
          "scene": {
           "xaxis": {
            "backgroundcolor": "#E5ECF6",
            "gridcolor": "white",
            "gridwidth": 2,
            "linecolor": "white",
            "showbackground": true,
            "ticks": "",
            "zerolinecolor": "white"
           },
           "yaxis": {
            "backgroundcolor": "#E5ECF6",
            "gridcolor": "white",
            "gridwidth": 2,
            "linecolor": "white",
            "showbackground": true,
            "ticks": "",
            "zerolinecolor": "white"
           },
           "zaxis": {
            "backgroundcolor": "#E5ECF6",
            "gridcolor": "white",
            "gridwidth": 2,
            "linecolor": "white",
            "showbackground": true,
            "ticks": "",
            "zerolinecolor": "white"
           }
          },
          "shapedefaults": {
           "line": {
            "color": "#2a3f5f"
           }
          },
          "ternary": {
           "aaxis": {
            "gridcolor": "white",
            "linecolor": "white",
            "ticks": ""
           },
           "baxis": {
            "gridcolor": "white",
            "linecolor": "white",
            "ticks": ""
           },
           "bgcolor": "#E5ECF6",
           "caxis": {
            "gridcolor": "white",
            "linecolor": "white",
            "ticks": ""
           }
          },
          "title": {
           "x": 0.05
          },
          "xaxis": {
           "automargin": true,
           "gridcolor": "white",
           "linecolor": "white",
           "ticks": "",
           "title": {
            "standoff": 15
           },
           "zerolinecolor": "white",
           "zerolinewidth": 2
          },
          "yaxis": {
           "automargin": true,
           "gridcolor": "white",
           "linecolor": "white",
           "ticks": "",
           "title": {
            "standoff": 15
           },
           "zerolinecolor": "white",
           "zerolinewidth": 2
          }
         }
        },
        "xaxis": {
         "anchor": "y",
         "domain": [
          0,
          1
         ],
         "title": {
          "text": "Sex"
         }
        },
        "yaxis": {
         "anchor": "x",
         "domain": [
          0,
          1
         ],
         "title": {
          "text": "count"
         }
        }
       }
      },
      "text/html": [
       "<div>                            <div id=\"8b9bae1b-7bf5-40da-ab9f-78703c620b5b\" class=\"plotly-graph-div\" style=\"height:525px; width:100%;\"></div>            <script type=\"text/javascript\">                require([\"plotly\"], function(Plotly) {                    window.PLOTLYENV=window.PLOTLYENV || {};                                    if (document.getElementById(\"8b9bae1b-7bf5-40da-ab9f-78703c620b5b\")) {                    Plotly.newPlot(                        \"8b9bae1b-7bf5-40da-ab9f-78703c620b5b\",                        [{\"alignmentgroup\":\"True\",\"bingroup\":\"x\",\"hovertemplate\":\"Survived=0.0<br>Sex=%{x}<br>count=%{y}<extra></extra>\",\"legendgroup\":\"0.0\",\"marker\":{\"color\":\"#636efa\",\"pattern\":{\"shape\":\"\"}},\"name\":\"0.0\",\"offsetgroup\":\"0.0\",\"orientation\":\"v\",\"showlegend\":true,\"x\":[\"male\",\"male\",\"male\",\"male\",\"male\",\"male\",\"male\",\"female\",\"male\",\"female\",\"male\",\"female\",\"male\",\"male\",\"male\",\"male\",\"male\",\"male\",\"male\",\"male\",\"female\",\"female\",\"female\",\"male\",\"male\",\"male\",\"male\",\"female\",\"male\",\"male\",\"male\",\"male\",\"male\",\"male\",\"male\",\"male\",\"male\",\"male\",\"male\",\"male\",\"female\",\"male\",\"male\",\"male\",\"male\",\"male\",\"male\",\"male\",\"male\",\"male\",\"male\",\"male\",\"male\",\"male\",\"male\",\"male\",\"male\",\"male\",\"male\",\"female\",\"male\",\"male\",\"male\",\"male\",\"male\",\"male\",\"male\",\"female\",\"male\",\"female\",\"female\",\"male\",\"male\",\"male\",\"male\",\"female\",\"male\",\"male\",\"male\",\"male\",\"male\",\"male\",\"male\",\"male\",\"female\",\"male\",\"male\",\"male\",\"male\",\"male\",\"female\",\"male\",\"male\",\"male\",\"female\",\"male\",\"male\",\"male\",\"male\",\"male\",\"male\",\"male\",\"male\",\"male\",\"male\",\"male\",\"male\",\"male\",\"male\",\"female\",\"male\",\"male\",\"male\",\"male\",\"male\",\"male\",\"male\",\"male\",\"female\",\"male\",\"male\",\"female\",\"male\",\"male\",\"male\",\"male\",\"male\",\"male\",\"male\",\"male\",\"female\",\"male\",\"male\",\"male\",\"male\",\"female\",\"male\",\"male\",\"male\",\"male\",\"male\",\"male\",\"male\",\"male\",\"male\",\"male\",\"male\",\"male\",\"male\",\"female\",\"male\",\"male\",\"male\",\"female\",\"male\",\"male\",\"male\",\"female\",\"male\",\"male\",\"male\",\"male\",\"female\",\"male\",\"male\",\"female\",\"male\",\"male\",\"female\",\"male\",\"male\",\"male\",\"female\",\"male\",\"male\",\"male\",\"male\",\"female\",\"male\",\"male\",\"male\",\"male\",\"male\",\"male\",\"male\",\"male\",\"male\",\"female\",\"male\",\"male\",\"male\",\"female\",\"male\",\"male\",\"male\",\"female\",\"male\",\"male\",\"male\",\"male\",\"male\",\"male\",\"male\",\"male\",\"male\",\"male\",\"male\",\"male\",\"male\",\"male\",\"male\",\"male\",\"male\",\"male\",\"male\",\"male\",\"male\",\"male\",\"male\",\"female\",\"male\",\"male\",\"female\",\"male\",\"male\",\"male\",\"male\",\"male\",\"male\",\"female\",\"male\",\"male\",\"male\",\"male\",\"male\",\"male\",\"male\",\"male\",\"male\",\"male\",\"female\",\"male\",\"male\",\"male\",\"female\",\"male\",\"female\",\"male\",\"male\",\"male\",\"female\",\"male\",\"male\",\"male\",\"female\",\"male\",\"female\",\"male\",\"male\",\"male\",\"female\",\"male\",\"male\",\"male\",\"male\",\"male\",\"female\",\"male\",\"male\",\"male\",\"male\",\"male\",\"male\",\"male\",\"male\",\"male\",\"male\",\"male\",\"male\",\"male\",\"male\",\"male\",\"male\",\"male\",\"male\",\"male\",\"male\",\"female\",\"male\",\"male\",\"male\",\"male\",\"male\",\"male\",\"male\",\"female\",\"male\",\"male\",\"male\",\"male\",\"male\",\"male\",\"male\",\"male\",\"male\",\"female\",\"male\",\"male\",\"female\",\"female\",\"female\",\"male\",\"male\",\"male\",\"male\",\"male\",\"male\",\"male\",\"male\",\"male\",\"male\",\"male\",\"male\",\"male\",\"male\",\"male\",\"male\",\"female\",\"male\",\"male\",\"female\",\"female\",\"male\",\"male\",\"male\",\"male\",\"male\",\"male\",\"male\",\"male\",\"male\",\"male\",\"male\",\"female\",\"male\",\"male\",\"female\",\"male\",\"male\",\"male\",\"female\",\"male\",\"male\",\"male\",\"male\",\"male\",\"male\",\"male\",\"male\",\"female\",\"male\",\"male\",\"male\",\"male\",\"male\",\"male\",\"male\",\"male\",\"male\",\"female\",\"male\",\"male\",\"male\",\"male\",\"female\",\"male\",\"male\",\"male\",\"male\",\"male\",\"male\",\"male\",\"male\",\"male\",\"male\",\"female\",\"male\",\"male\",\"female\",\"male\",\"male\",\"female\",\"male\",\"male\",\"male\",\"male\",\"female\",\"male\",\"male\",\"female\",\"male\",\"male\",\"male\",\"male\",\"male\",\"male\",\"male\",\"male\",\"male\",\"male\",\"male\",\"male\",\"male\",\"male\",\"female\",\"female\",\"male\",\"male\",\"male\",\"male\",\"male\",\"male\",\"male\",\"male\",\"male\",\"male\",\"male\",\"male\",\"male\",\"female\",\"male\",\"male\",\"male\",\"male\",\"male\",\"male\",\"male\",\"male\",\"male\",\"male\",\"male\",\"male\",\"male\",\"male\",\"female\",\"male\",\"male\",\"male\",\"male\",\"male\",\"female\",\"male\",\"male\",\"male\",\"male\",\"male\",\"male\",\"male\",\"male\",\"male\",\"male\",\"male\",\"male\",\"male\",\"male\",\"male\",\"male\",\"male\",\"female\",\"male\",\"male\",\"male\",\"male\",\"female\",\"male\",\"male\",\"male\",\"male\",\"male\",\"male\",\"male\",\"male\",\"male\",\"male\",\"male\",\"male\",\"female\",\"male\",\"male\",\"male\",\"male\",\"female\",\"male\",\"male\",\"male\",\"female\",\"male\",\"male\",\"male\",\"male\",\"female\",\"male\",\"male\",\"female\",\"male\",\"male\",\"male\",\"male\",\"male\",\"male\",\"male\",\"male\",\"male\",\"male\",\"male\",\"male\",\"male\",\"male\",\"male\",\"male\",\"male\",\"male\",\"male\",\"male\",\"male\",\"male\",\"female\",\"female\",\"male\",\"male\",\"male\",\"female\",\"male\",\"male\",\"male\",\"male\",\"male\",\"male\",\"male\",\"male\",\"male\",\"male\",\"female\",\"male\",\"male\",\"female\",\"male\",\"female\",\"male\"],\"xaxis\":\"x\",\"yaxis\":\"y\",\"type\":\"histogram\"},{\"alignmentgroup\":\"True\",\"bingroup\":\"x\",\"hovertemplate\":\"Survived=1.0<br>Sex=%{x}<br>count=%{y}<extra></extra>\",\"legendgroup\":\"1.0\",\"marker\":{\"color\":\"#EF553B\",\"pattern\":{\"shape\":\"\"}},\"name\":\"1.0\",\"offsetgroup\":\"1.0\",\"orientation\":\"v\",\"showlegend\":true,\"x\":[\"female\",\"female\",\"female\",\"female\",\"female\",\"female\",\"female\",\"female\",\"male\",\"female\",\"male\",\"female\",\"male\",\"female\",\"female\",\"female\",\"female\",\"male\",\"female\",\"female\",\"female\",\"female\",\"female\",\"female\",\"male\",\"female\",\"female\",\"female\",\"male\",\"female\",\"female\",\"male\",\"male\",\"female\",\"male\",\"female\",\"female\",\"female\",\"female\",\"male\",\"female\",\"female\",\"male\",\"female\",\"female\",\"male\",\"male\",\"female\",\"female\",\"female\",\"female\",\"female\",\"male\",\"female\",\"female\",\"female\",\"male\",\"female\",\"female\",\"male\",\"female\",\"female\",\"male\",\"female\",\"female\",\"male\",\"female\",\"female\",\"female\",\"male\",\"male\",\"female\",\"male\",\"female\",\"female\",\"female\",\"female\",\"male\",\"male\",\"male\",\"female\",\"female\",\"female\",\"female\",\"female\",\"male\",\"female\",\"female\",\"female\",\"female\",\"female\",\"male\",\"male\",\"female\",\"female\",\"male\",\"female\",\"female\",\"female\",\"female\",\"male\",\"male\",\"male\",\"female\",\"female\",\"female\",\"male\",\"female\",\"female\",\"male\",\"female\",\"male\",\"female\",\"female\",\"female\",\"female\",\"female\",\"female\",\"female\",\"female\",\"female\",\"female\",\"female\",\"female\",\"female\",\"female\",\"female\",\"female\",\"female\",\"female\",\"male\",\"male\",\"female\",\"female\",\"female\",\"female\",\"male\",\"female\",\"female\",\"female\",\"female\",\"female\",\"female\",\"female\",\"male\",\"female\",\"female\",\"female\",\"female\",\"female\",\"female\",\"female\",\"male\",\"male\",\"female\",\"female\",\"female\",\"male\",\"male\",\"female\",\"male\",\"female\",\"female\",\"female\",\"female\",\"male\",\"male\",\"female\",\"female\",\"female\",\"female\",\"female\",\"female\",\"male\",\"male\",\"female\",\"male\",\"female\",\"male\",\"male\",\"male\",\"female\",\"female\",\"male\",\"female\",\"female\",\"female\",\"female\",\"female\",\"male\",\"female\",\"male\",\"female\",\"female\",\"female\",\"male\",\"male\",\"male\",\"male\",\"female\",\"female\",\"female\",\"female\",\"female\",\"female\",\"female\",\"female\",\"female\",\"female\",\"female\",\"female\",\"male\",\"female\",\"male\",\"male\",\"male\",\"male\",\"female\",\"female\",\"female\",\"female\",\"male\",\"male\",\"female\",\"male\",\"female\",\"female\",\"female\",\"male\",\"female\",\"female\",\"female\",\"male\",\"female\",\"female\",\"male\",\"female\",\"male\",\"male\",\"female\",\"female\",\"female\",\"female\",\"female\",\"male\",\"male\",\"female\",\"male\",\"male\",\"female\",\"female\",\"male\",\"female\",\"male\",\"male\",\"female\",\"female\",\"female\",\"male\",\"male\",\"female\",\"female\",\"male\",\"female\",\"male\",\"male\",\"female\",\"male\",\"female\",\"male\",\"female\",\"female\",\"male\",\"female\",\"male\",\"female\",\"male\",\"female\",\"male\",\"female\",\"female\",\"female\",\"male\",\"female\",\"female\",\"female\",\"male\",\"male\",\"female\",\"male\",\"female\",\"female\",\"male\",\"female\",\"male\",\"female\",\"male\",\"female\",\"female\",\"female\",\"female\",\"female\",\"female\",\"female\",\"female\",\"male\",\"female\",\"female\",\"female\",\"male\",\"male\",\"male\",\"female\",\"female\",\"male\",\"female\",\"male\",\"male\",\"female\",\"female\",\"male\",\"female\",\"male\",\"male\",\"female\",\"female\",\"female\",\"female\",\"female\",\"male\",\"female\",\"female\",\"female\",\"female\",\"male\",\"female\",\"female\",\"female\",\"female\",\"female\",\"female\",\"male\"],\"xaxis\":\"x\",\"yaxis\":\"y\",\"type\":\"histogram\"}],                        {\"template\":{\"data\":{\"bar\":[{\"error_x\":{\"color\":\"#2a3f5f\"},\"error_y\":{\"color\":\"#2a3f5f\"},\"marker\":{\"line\":{\"color\":\"#E5ECF6\",\"width\":0.5},\"pattern\":{\"fillmode\":\"overlay\",\"size\":10,\"solidity\":0.2}},\"type\":\"bar\"}],\"barpolar\":[{\"marker\":{\"line\":{\"color\":\"#E5ECF6\",\"width\":0.5},\"pattern\":{\"fillmode\":\"overlay\",\"size\":10,\"solidity\":0.2}},\"type\":\"barpolar\"}],\"carpet\":[{\"aaxis\":{\"endlinecolor\":\"#2a3f5f\",\"gridcolor\":\"white\",\"linecolor\":\"white\",\"minorgridcolor\":\"white\",\"startlinecolor\":\"#2a3f5f\"},\"baxis\":{\"endlinecolor\":\"#2a3f5f\",\"gridcolor\":\"white\",\"linecolor\":\"white\",\"minorgridcolor\":\"white\",\"startlinecolor\":\"#2a3f5f\"},\"type\":\"carpet\"}],\"choropleth\":[{\"colorbar\":{\"outlinewidth\":0,\"ticks\":\"\"},\"type\":\"choropleth\"}],\"contour\":[{\"colorbar\":{\"outlinewidth\":0,\"ticks\":\"\"},\"colorscale\":[[0.0,\"#0d0887\"],[0.1111111111111111,\"#46039f\"],[0.2222222222222222,\"#7201a8\"],[0.3333333333333333,\"#9c179e\"],[0.4444444444444444,\"#bd3786\"],[0.5555555555555556,\"#d8576b\"],[0.6666666666666666,\"#ed7953\"],[0.7777777777777778,\"#fb9f3a\"],[0.8888888888888888,\"#fdca26\"],[1.0,\"#f0f921\"]],\"type\":\"contour\"}],\"contourcarpet\":[{\"colorbar\":{\"outlinewidth\":0,\"ticks\":\"\"},\"type\":\"contourcarpet\"}],\"heatmap\":[{\"colorbar\":{\"outlinewidth\":0,\"ticks\":\"\"},\"colorscale\":[[0.0,\"#0d0887\"],[0.1111111111111111,\"#46039f\"],[0.2222222222222222,\"#7201a8\"],[0.3333333333333333,\"#9c179e\"],[0.4444444444444444,\"#bd3786\"],[0.5555555555555556,\"#d8576b\"],[0.6666666666666666,\"#ed7953\"],[0.7777777777777778,\"#fb9f3a\"],[0.8888888888888888,\"#fdca26\"],[1.0,\"#f0f921\"]],\"type\":\"heatmap\"}],\"heatmapgl\":[{\"colorbar\":{\"outlinewidth\":0,\"ticks\":\"\"},\"colorscale\":[[0.0,\"#0d0887\"],[0.1111111111111111,\"#46039f\"],[0.2222222222222222,\"#7201a8\"],[0.3333333333333333,\"#9c179e\"],[0.4444444444444444,\"#bd3786\"],[0.5555555555555556,\"#d8576b\"],[0.6666666666666666,\"#ed7953\"],[0.7777777777777778,\"#fb9f3a\"],[0.8888888888888888,\"#fdca26\"],[1.0,\"#f0f921\"]],\"type\":\"heatmapgl\"}],\"histogram\":[{\"marker\":{\"pattern\":{\"fillmode\":\"overlay\",\"size\":10,\"solidity\":0.2}},\"type\":\"histogram\"}],\"histogram2d\":[{\"colorbar\":{\"outlinewidth\":0,\"ticks\":\"\"},\"colorscale\":[[0.0,\"#0d0887\"],[0.1111111111111111,\"#46039f\"],[0.2222222222222222,\"#7201a8\"],[0.3333333333333333,\"#9c179e\"],[0.4444444444444444,\"#bd3786\"],[0.5555555555555556,\"#d8576b\"],[0.6666666666666666,\"#ed7953\"],[0.7777777777777778,\"#fb9f3a\"],[0.8888888888888888,\"#fdca26\"],[1.0,\"#f0f921\"]],\"type\":\"histogram2d\"}],\"histogram2dcontour\":[{\"colorbar\":{\"outlinewidth\":0,\"ticks\":\"\"},\"colorscale\":[[0.0,\"#0d0887\"],[0.1111111111111111,\"#46039f\"],[0.2222222222222222,\"#7201a8\"],[0.3333333333333333,\"#9c179e\"],[0.4444444444444444,\"#bd3786\"],[0.5555555555555556,\"#d8576b\"],[0.6666666666666666,\"#ed7953\"],[0.7777777777777778,\"#fb9f3a\"],[0.8888888888888888,\"#fdca26\"],[1.0,\"#f0f921\"]],\"type\":\"histogram2dcontour\"}],\"mesh3d\":[{\"colorbar\":{\"outlinewidth\":0,\"ticks\":\"\"},\"type\":\"mesh3d\"}],\"parcoords\":[{\"line\":{\"colorbar\":{\"outlinewidth\":0,\"ticks\":\"\"}},\"type\":\"parcoords\"}],\"pie\":[{\"automargin\":true,\"type\":\"pie\"}],\"scatter\":[{\"marker\":{\"colorbar\":{\"outlinewidth\":0,\"ticks\":\"\"}},\"type\":\"scatter\"}],\"scatter3d\":[{\"line\":{\"colorbar\":{\"outlinewidth\":0,\"ticks\":\"\"}},\"marker\":{\"colorbar\":{\"outlinewidth\":0,\"ticks\":\"\"}},\"type\":\"scatter3d\"}],\"scattercarpet\":[{\"marker\":{\"colorbar\":{\"outlinewidth\":0,\"ticks\":\"\"}},\"type\":\"scattercarpet\"}],\"scattergeo\":[{\"marker\":{\"colorbar\":{\"outlinewidth\":0,\"ticks\":\"\"}},\"type\":\"scattergeo\"}],\"scattergl\":[{\"marker\":{\"colorbar\":{\"outlinewidth\":0,\"ticks\":\"\"}},\"type\":\"scattergl\"}],\"scattermapbox\":[{\"marker\":{\"colorbar\":{\"outlinewidth\":0,\"ticks\":\"\"}},\"type\":\"scattermapbox\"}],\"scatterpolar\":[{\"marker\":{\"colorbar\":{\"outlinewidth\":0,\"ticks\":\"\"}},\"type\":\"scatterpolar\"}],\"scatterpolargl\":[{\"marker\":{\"colorbar\":{\"outlinewidth\":0,\"ticks\":\"\"}},\"type\":\"scatterpolargl\"}],\"scatterternary\":[{\"marker\":{\"colorbar\":{\"outlinewidth\":0,\"ticks\":\"\"}},\"type\":\"scatterternary\"}],\"surface\":[{\"colorbar\":{\"outlinewidth\":0,\"ticks\":\"\"},\"colorscale\":[[0.0,\"#0d0887\"],[0.1111111111111111,\"#46039f\"],[0.2222222222222222,\"#7201a8\"],[0.3333333333333333,\"#9c179e\"],[0.4444444444444444,\"#bd3786\"],[0.5555555555555556,\"#d8576b\"],[0.6666666666666666,\"#ed7953\"],[0.7777777777777778,\"#fb9f3a\"],[0.8888888888888888,\"#fdca26\"],[1.0,\"#f0f921\"]],\"type\":\"surface\"}],\"table\":[{\"cells\":{\"fill\":{\"color\":\"#EBF0F8\"},\"line\":{\"color\":\"white\"}},\"header\":{\"fill\":{\"color\":\"#C8D4E3\"},\"line\":{\"color\":\"white\"}},\"type\":\"table\"}]},\"layout\":{\"annotationdefaults\":{\"arrowcolor\":\"#2a3f5f\",\"arrowhead\":0,\"arrowwidth\":1},\"autotypenumbers\":\"strict\",\"coloraxis\":{\"colorbar\":{\"outlinewidth\":0,\"ticks\":\"\"}},\"colorscale\":{\"diverging\":[[0,\"#8e0152\"],[0.1,\"#c51b7d\"],[0.2,\"#de77ae\"],[0.3,\"#f1b6da\"],[0.4,\"#fde0ef\"],[0.5,\"#f7f7f7\"],[0.6,\"#e6f5d0\"],[0.7,\"#b8e186\"],[0.8,\"#7fbc41\"],[0.9,\"#4d9221\"],[1,\"#276419\"]],\"sequential\":[[0.0,\"#0d0887\"],[0.1111111111111111,\"#46039f\"],[0.2222222222222222,\"#7201a8\"],[0.3333333333333333,\"#9c179e\"],[0.4444444444444444,\"#bd3786\"],[0.5555555555555556,\"#d8576b\"],[0.6666666666666666,\"#ed7953\"],[0.7777777777777778,\"#fb9f3a\"],[0.8888888888888888,\"#fdca26\"],[1.0,\"#f0f921\"]],\"sequentialminus\":[[0.0,\"#0d0887\"],[0.1111111111111111,\"#46039f\"],[0.2222222222222222,\"#7201a8\"],[0.3333333333333333,\"#9c179e\"],[0.4444444444444444,\"#bd3786\"],[0.5555555555555556,\"#d8576b\"],[0.6666666666666666,\"#ed7953\"],[0.7777777777777778,\"#fb9f3a\"],[0.8888888888888888,\"#fdca26\"],[1.0,\"#f0f921\"]]},\"colorway\":[\"#636efa\",\"#EF553B\",\"#00cc96\",\"#ab63fa\",\"#FFA15A\",\"#19d3f3\",\"#FF6692\",\"#B6E880\",\"#FF97FF\",\"#FECB52\"],\"font\":{\"color\":\"#2a3f5f\"},\"geo\":{\"bgcolor\":\"white\",\"lakecolor\":\"white\",\"landcolor\":\"#E5ECF6\",\"showlakes\":true,\"showland\":true,\"subunitcolor\":\"white\"},\"hoverlabel\":{\"align\":\"left\"},\"hovermode\":\"closest\",\"mapbox\":{\"style\":\"light\"},\"paper_bgcolor\":\"white\",\"plot_bgcolor\":\"#E5ECF6\",\"polar\":{\"angularaxis\":{\"gridcolor\":\"white\",\"linecolor\":\"white\",\"ticks\":\"\"},\"bgcolor\":\"#E5ECF6\",\"radialaxis\":{\"gridcolor\":\"white\",\"linecolor\":\"white\",\"ticks\":\"\"}},\"scene\":{\"xaxis\":{\"backgroundcolor\":\"#E5ECF6\",\"gridcolor\":\"white\",\"gridwidth\":2,\"linecolor\":\"white\",\"showbackground\":true,\"ticks\":\"\",\"zerolinecolor\":\"white\"},\"yaxis\":{\"backgroundcolor\":\"#E5ECF6\",\"gridcolor\":\"white\",\"gridwidth\":2,\"linecolor\":\"white\",\"showbackground\":true,\"ticks\":\"\",\"zerolinecolor\":\"white\"},\"zaxis\":{\"backgroundcolor\":\"#E5ECF6\",\"gridcolor\":\"white\",\"gridwidth\":2,\"linecolor\":\"white\",\"showbackground\":true,\"ticks\":\"\",\"zerolinecolor\":\"white\"}},\"shapedefaults\":{\"line\":{\"color\":\"#2a3f5f\"}},\"ternary\":{\"aaxis\":{\"gridcolor\":\"white\",\"linecolor\":\"white\",\"ticks\":\"\"},\"baxis\":{\"gridcolor\":\"white\",\"linecolor\":\"white\",\"ticks\":\"\"},\"bgcolor\":\"#E5ECF6\",\"caxis\":{\"gridcolor\":\"white\",\"linecolor\":\"white\",\"ticks\":\"\"}},\"title\":{\"x\":0.05},\"xaxis\":{\"automargin\":true,\"gridcolor\":\"white\",\"linecolor\":\"white\",\"ticks\":\"\",\"title\":{\"standoff\":15},\"zerolinecolor\":\"white\",\"zerolinewidth\":2},\"yaxis\":{\"automargin\":true,\"gridcolor\":\"white\",\"linecolor\":\"white\",\"ticks\":\"\",\"title\":{\"standoff\":15},\"zerolinecolor\":\"white\",\"zerolinewidth\":2}}},\"xaxis\":{\"anchor\":\"y\",\"domain\":[0.0,1.0],\"title\":{\"text\":\"Sex\"}},\"yaxis\":{\"anchor\":\"x\",\"domain\":[0.0,1.0],\"title\":{\"text\":\"count\"}},\"legend\":{\"title\":{\"text\":\"Survived\"},\"tracegroupgap\":0},\"margin\":{\"t\":60},\"barmode\":\"relative\"},                        {\"responsive\": true}                    ).then(function(){\n",
       "                            \n",
       "var gd = document.getElementById('8b9bae1b-7bf5-40da-ab9f-78703c620b5b');\n",
       "var x = new MutationObserver(function (mutations, observer) {{\n",
       "        var display = window.getComputedStyle(gd).display;\n",
       "        if (!display || display === 'none') {{\n",
       "            console.log([gd, 'removed!']);\n",
       "            Plotly.purge(gd);\n",
       "            observer.disconnect();\n",
       "        }}\n",
       "}});\n",
       "\n",
       "// Listen for the removal of the full notebook cells\n",
       "var notebookContainer = gd.closest('#notebook-container');\n",
       "if (notebookContainer) {{\n",
       "    x.observe(notebookContainer, {childList: true});\n",
       "}}\n",
       "\n",
       "// Listen for the clearing of the current output cell\n",
       "var outputEl = gd.closest('.output');\n",
       "if (outputEl) {{\n",
       "    x.observe(outputEl, {childList: true});\n",
       "}}\n",
       "\n",
       "                        })                };                });            </script>        </div>"
      ]
     },
     "metadata": {},
     "output_type": "display_data"
    },
    {
     "data": {
      "application/vnd.plotly.v1+json": {
       "config": {
        "plotlyServerURL": "https://plot.ly"
       },
       "data": [
        {
         "alignmentgroup": "True",
         "bingroup": "x",
         "hovertemplate": "Survived=0.0<br>Embarked=%{x}<br>count=%{y}<extra></extra>",
         "legendgroup": "0.0",
         "marker": {
          "color": "#636efa",
          "pattern": {
           "shape": ""
          }
         },
         "name": "0.0",
         "offsetgroup": "0.0",
         "orientation": "v",
         "showlegend": true,
         "type": "histogram",
         "x": [
          "S",
          "S",
          "Q",
          "S",
          "S",
          "S",
          "S",
          "S",
          "Q",
          "S",
          "S",
          "S",
          "C",
          "S",
          "S",
          "C",
          "S",
          "C",
          "S",
          "S",
          "S",
          "S",
          "S",
          "C",
          "S",
          "Q",
          "C",
          "S",
          "S",
          "S",
          "C",
          "C",
          "S",
          "C",
          "S",
          "S",
          "C",
          "S",
          "S",
          "S",
          "S",
          "S",
          "C",
          "S",
          "S",
          "S",
          "S",
          "S",
          "S",
          "S",
          "S",
          "S",
          "S",
          "S",
          "S",
          "S",
          "S",
          "C",
          "S",
          "S",
          "S",
          "S",
          "S",
          "S",
          "S",
          "S",
          "S",
          "C",
          "S",
          "S",
          "C",
          "S",
          "Q",
          "S",
          "C",
          "S",
          "S",
          "S",
          "C",
          "S",
          "Q",
          "S",
          "C",
          "S",
          "S",
          "S",
          "C",
          "S",
          "S",
          "C",
          "C",
          "Q",
          "S",
          "S",
          "S",
          "S",
          "S",
          "S",
          "S",
          "S",
          "S",
          "C",
          "S",
          "S",
          "S",
          "S",
          "S",
          "S",
          "S",
          "S",
          "S",
          "S",
          "S",
          "Q",
          "S",
          "C",
          "S",
          "S",
          "C",
          "S",
          "S",
          "S",
          "C",
          "S",
          "S",
          "Q",
          "S",
          "S",
          "Q",
          "S",
          "S",
          "S",
          "S",
          "S",
          "C",
          "S",
          "S",
          "S",
          "S",
          "S",
          "Q",
          "S",
          "S",
          "S",
          "S",
          "S",
          "S",
          "S",
          "S",
          "S",
          "S",
          "S",
          "S",
          "S",
          "S",
          "S",
          "S",
          "C",
          "S",
          "S",
          "C",
          "Q",
          "S",
          "S",
          "S",
          "S",
          "S",
          "S",
          "S",
          "Q",
          "S",
          "S",
          "Q",
          "S",
          "S",
          "S",
          "C",
          "S",
          "S",
          "Q",
          "Q",
          "S",
          "S",
          "S",
          "C",
          "S",
          "C",
          "S",
          "S",
          "C",
          "C",
          "S",
          "S",
          "S",
          "C",
          "S",
          "S",
          "S",
          "S",
          "S",
          "S",
          "S",
          "S",
          "S",
          "S",
          "S",
          "S",
          "S",
          "S",
          "S",
          "S",
          "S",
          "S",
          "S",
          "S",
          "C",
          "S",
          "C",
          "S",
          "S",
          "S",
          "C",
          "C",
          "S",
          "Q",
          "S",
          "S",
          "S",
          "C",
          "S",
          "C",
          "C",
          "S",
          "S",
          "S",
          "S",
          "S",
          "Q",
          "S",
          "S",
          "S",
          "S",
          "S",
          "S",
          "S",
          "S",
          "S",
          "S",
          "S",
          "S",
          "S",
          "S",
          "Q",
          "S",
          "S",
          "S",
          "S",
          "C",
          "Q",
          "S",
          "S",
          "S",
          "S",
          "Q",
          "S",
          "S",
          "S",
          "S",
          "S",
          "S",
          "S",
          "S",
          "S",
          "C",
          "S",
          "S",
          "Q",
          "S",
          "S",
          "S",
          "S",
          "S",
          "S",
          "S",
          "Q",
          "S",
          "S",
          "S",
          "S",
          "S",
          "S",
          "S",
          "S",
          "S",
          "S",
          "S",
          "C",
          "S",
          "S",
          "S",
          "S",
          "C",
          "S",
          "C",
          "S",
          "S",
          "S",
          "S",
          "Q",
          "Q",
          "S",
          "C",
          "S",
          "S",
          "S",
          "S",
          "Q",
          "S",
          "S",
          "C",
          "C",
          "Q",
          "S",
          "S",
          "S",
          "C",
          "C",
          "S",
          "S",
          "S",
          "S",
          "S",
          "C",
          "S",
          "S",
          "S",
          "Q",
          "S",
          "C",
          "Q",
          "S",
          "S",
          "S",
          "S",
          "S",
          "S",
          "S",
          "C",
          "S",
          "S",
          "C",
          "S",
          "C",
          "C",
          "S",
          "S",
          "S",
          "S",
          "S",
          "Q",
          "S",
          "S",
          "S",
          "C",
          "S",
          "S",
          "S",
          "S",
          "S",
          "S",
          "S",
          "Q",
          "S",
          "S",
          "S",
          "S",
          "C",
          "S",
          "S",
          "S",
          "Q",
          "S",
          "Q",
          "S",
          "S",
          "S",
          "S",
          "S",
          "S",
          "S",
          "S",
          "S",
          "S",
          "S",
          "S",
          "S",
          "Q",
          "S",
          "S",
          "Q",
          "S",
          "C",
          "C",
          "S",
          "S",
          "S",
          "S",
          "S",
          "S",
          "S",
          "S",
          "S",
          "S",
          "S",
          "S",
          "Q",
          "S",
          "S",
          "S",
          "C",
          "S",
          "S",
          "S",
          "C",
          "S",
          "S",
          "S",
          "C",
          "S",
          "C",
          "Q",
          "S",
          "S",
          "S",
          "S",
          "S",
          "S",
          "Q",
          "S",
          "S",
          "S",
          "S",
          "S",
          "S",
          "S",
          "C",
          "S",
          "S",
          "S",
          "S",
          "S",
          "S",
          "S",
          "S",
          "S",
          "S",
          "S",
          "S",
          "Q",
          "S",
          "S",
          "S",
          "S",
          "S",
          "S",
          "S",
          "S",
          "C",
          "Q",
          "Q",
          "S",
          "S",
          "S",
          "S",
          "C",
          "S",
          "Q",
          "Q",
          "S",
          "S",
          "S",
          "S",
          "Q",
          "C",
          "Q",
          "S",
          "S",
          "C",
          "S",
          "S",
          "C",
          "S",
          "S",
          "S",
          "S",
          "S",
          "S",
          "S",
          "S",
          "S",
          "S",
          "S",
          "S",
          "S",
          "C",
          "S",
          "S",
          "S",
          "S",
          "Q",
          "S",
          "C",
          "S",
          "S",
          "S",
          "S",
          "S",
          "S",
          "C",
          "S",
          "S",
          "S",
          "C",
          "S",
          "S",
          "S",
          "C",
          "S",
          "C",
          "S",
          "S",
          "S",
          "S",
          "S",
          "S",
          "S",
          "S",
          "S",
          "S",
          "S",
          "S",
          "S",
          "S",
          "S",
          "S",
          "Q",
          "S",
          "S",
          "Q"
         ],
         "xaxis": "x",
         "yaxis": "y"
        },
        {
         "alignmentgroup": "True",
         "bingroup": "x",
         "hovertemplate": "Survived=1.0<br>Embarked=%{x}<br>count=%{y}<extra></extra>",
         "legendgroup": "1.0",
         "marker": {
          "color": "#EF553B",
          "pattern": {
           "shape": ""
          }
         },
         "name": "1.0",
         "offsetgroup": "1.0",
         "orientation": "v",
         "showlegend": true,
         "type": "histogram",
         "x": [
          "C",
          "S",
          "S",
          "S",
          "C",
          "S",
          "S",
          "S",
          "S",
          "C",
          "S",
          "Q",
          "S",
          "S",
          "Q",
          "C",
          "Q",
          "C",
          "C",
          "C",
          "Q",
          "Q",
          "C",
          "S",
          "S",
          "S",
          "S",
          null,
          "C",
          "S",
          "S",
          "S",
          "S",
          "S",
          "S",
          "Q",
          "S",
          "S",
          "S",
          "C",
          "S",
          "S",
          "S",
          "Q",
          "S",
          "C",
          "S",
          "C",
          "S",
          "S",
          "S",
          "S",
          "S",
          "S",
          "Q",
          "S",
          "S",
          "S",
          "S",
          "S",
          "S",
          "Q",
          "S",
          "S",
          "S",
          "S",
          "C",
          "C",
          "Q",
          "S",
          "C",
          "Q",
          "C",
          "S",
          "C",
          "S",
          "C",
          "S",
          "S",
          "S",
          "S",
          "S",
          "S",
          "Q",
          "S",
          "S",
          "C",
          "C",
          "S",
          "C",
          "S",
          "S",
          "S",
          "S",
          "S",
          "S",
          "S",
          "Q",
          "S",
          "S",
          "S",
          "S",
          "S",
          "Q",
          "S",
          "C",
          "S",
          "C",
          "Q",
          "Q",
          "Q",
          "S",
          "C",
          "C",
          "C",
          "C",
          "C",
          "S",
          "S",
          "S",
          "C",
          "Q",
          "S",
          "C",
          "S",
          "S",
          "C",
          "Q",
          "S",
          "C",
          "S",
          "S",
          "S",
          "S",
          "S",
          "S",
          "S",
          "S",
          "Q",
          "Q",
          "C",
          "C",
          "Q",
          "C",
          "C",
          "C",
          "S",
          "C",
          "C",
          "S",
          "S",
          "C",
          "S",
          "S",
          "C",
          "S",
          "S",
          "S",
          "S",
          "Q",
          "S",
          "S",
          "S",
          "S",
          "S",
          "S",
          "S",
          "S",
          "S",
          "S",
          "S",
          "S",
          "S",
          "S",
          "S",
          "S",
          "S",
          "C",
          "S",
          "C",
          "C",
          "S",
          "S",
          "S",
          "C",
          "S",
          "C",
          "S",
          "S",
          "C",
          "S",
          "S",
          "C",
          "S",
          "S",
          "S",
          "S",
          "Q",
          "S",
          "C",
          "S",
          "S",
          "S",
          "C",
          "S",
          "S",
          "C",
          "S",
          "C",
          "C",
          "S",
          "S",
          "S",
          "C",
          "S",
          "C",
          "C",
          "S",
          "C",
          "S",
          "S",
          "S",
          "S",
          "S",
          "S",
          "Q",
          "S",
          "S",
          "S",
          "S",
          "C",
          "S",
          "C",
          "C",
          "S",
          "C",
          "S",
          "C",
          "S",
          "C",
          "S",
          "Q",
          "S",
          "S",
          "S",
          "C",
          "S",
          "S",
          "C",
          "S",
          "C",
          "S",
          "C",
          "C",
          "C",
          "S",
          "S",
          "Q",
          "S",
          "S",
          "S",
          "S",
          "S",
          "S",
          "C",
          "C",
          "S",
          "S",
          "C",
          "S",
          "Q",
          "C",
          "S",
          "S",
          "S",
          "S",
          "C",
          "C",
          "S",
          "C",
          "S",
          "S",
          "S",
          "S",
          "Q",
          "S",
          "C",
          "S",
          "C",
          "S",
          "S",
          "S",
          "S",
          "S",
          "S",
          "S",
          "C",
          "S",
          "S",
          "S",
          "S",
          "S",
          "C",
          "S",
          "S",
          "S",
          "S",
          "S",
          "S",
          "S",
          "C",
          "S",
          "S",
          "S",
          "S",
          "S",
          "C",
          "Q",
          null,
          "C",
          "S",
          "C",
          "S",
          "C",
          "C",
          "C",
          "S",
          "S",
          "S",
          "S",
          "C",
          "S",
          "S",
          "C",
          "S",
          "S",
          "C",
          "C",
          "C",
          "S",
          "S",
          "C"
         ],
         "xaxis": "x",
         "yaxis": "y"
        }
       ],
       "layout": {
        "barmode": "relative",
        "legend": {
         "title": {
          "text": "Survived"
         },
         "tracegroupgap": 0
        },
        "margin": {
         "t": 60
        },
        "template": {
         "data": {
          "bar": [
           {
            "error_x": {
             "color": "#2a3f5f"
            },
            "error_y": {
             "color": "#2a3f5f"
            },
            "marker": {
             "line": {
              "color": "#E5ECF6",
              "width": 0.5
             },
             "pattern": {
              "fillmode": "overlay",
              "size": 10,
              "solidity": 0.2
             }
            },
            "type": "bar"
           }
          ],
          "barpolar": [
           {
            "marker": {
             "line": {
              "color": "#E5ECF6",
              "width": 0.5
             },
             "pattern": {
              "fillmode": "overlay",
              "size": 10,
              "solidity": 0.2
             }
            },
            "type": "barpolar"
           }
          ],
          "carpet": [
           {
            "aaxis": {
             "endlinecolor": "#2a3f5f",
             "gridcolor": "white",
             "linecolor": "white",
             "minorgridcolor": "white",
             "startlinecolor": "#2a3f5f"
            },
            "baxis": {
             "endlinecolor": "#2a3f5f",
             "gridcolor": "white",
             "linecolor": "white",
             "minorgridcolor": "white",
             "startlinecolor": "#2a3f5f"
            },
            "type": "carpet"
           }
          ],
          "choropleth": [
           {
            "colorbar": {
             "outlinewidth": 0,
             "ticks": ""
            },
            "type": "choropleth"
           }
          ],
          "contour": [
           {
            "colorbar": {
             "outlinewidth": 0,
             "ticks": ""
            },
            "colorscale": [
             [
              0,
              "#0d0887"
             ],
             [
              0.1111111111111111,
              "#46039f"
             ],
             [
              0.2222222222222222,
              "#7201a8"
             ],
             [
              0.3333333333333333,
              "#9c179e"
             ],
             [
              0.4444444444444444,
              "#bd3786"
             ],
             [
              0.5555555555555556,
              "#d8576b"
             ],
             [
              0.6666666666666666,
              "#ed7953"
             ],
             [
              0.7777777777777778,
              "#fb9f3a"
             ],
             [
              0.8888888888888888,
              "#fdca26"
             ],
             [
              1,
              "#f0f921"
             ]
            ],
            "type": "contour"
           }
          ],
          "contourcarpet": [
           {
            "colorbar": {
             "outlinewidth": 0,
             "ticks": ""
            },
            "type": "contourcarpet"
           }
          ],
          "heatmap": [
           {
            "colorbar": {
             "outlinewidth": 0,
             "ticks": ""
            },
            "colorscale": [
             [
              0,
              "#0d0887"
             ],
             [
              0.1111111111111111,
              "#46039f"
             ],
             [
              0.2222222222222222,
              "#7201a8"
             ],
             [
              0.3333333333333333,
              "#9c179e"
             ],
             [
              0.4444444444444444,
              "#bd3786"
             ],
             [
              0.5555555555555556,
              "#d8576b"
             ],
             [
              0.6666666666666666,
              "#ed7953"
             ],
             [
              0.7777777777777778,
              "#fb9f3a"
             ],
             [
              0.8888888888888888,
              "#fdca26"
             ],
             [
              1,
              "#f0f921"
             ]
            ],
            "type": "heatmap"
           }
          ],
          "heatmapgl": [
           {
            "colorbar": {
             "outlinewidth": 0,
             "ticks": ""
            },
            "colorscale": [
             [
              0,
              "#0d0887"
             ],
             [
              0.1111111111111111,
              "#46039f"
             ],
             [
              0.2222222222222222,
              "#7201a8"
             ],
             [
              0.3333333333333333,
              "#9c179e"
             ],
             [
              0.4444444444444444,
              "#bd3786"
             ],
             [
              0.5555555555555556,
              "#d8576b"
             ],
             [
              0.6666666666666666,
              "#ed7953"
             ],
             [
              0.7777777777777778,
              "#fb9f3a"
             ],
             [
              0.8888888888888888,
              "#fdca26"
             ],
             [
              1,
              "#f0f921"
             ]
            ],
            "type": "heatmapgl"
           }
          ],
          "histogram": [
           {
            "marker": {
             "pattern": {
              "fillmode": "overlay",
              "size": 10,
              "solidity": 0.2
             }
            },
            "type": "histogram"
           }
          ],
          "histogram2d": [
           {
            "colorbar": {
             "outlinewidth": 0,
             "ticks": ""
            },
            "colorscale": [
             [
              0,
              "#0d0887"
             ],
             [
              0.1111111111111111,
              "#46039f"
             ],
             [
              0.2222222222222222,
              "#7201a8"
             ],
             [
              0.3333333333333333,
              "#9c179e"
             ],
             [
              0.4444444444444444,
              "#bd3786"
             ],
             [
              0.5555555555555556,
              "#d8576b"
             ],
             [
              0.6666666666666666,
              "#ed7953"
             ],
             [
              0.7777777777777778,
              "#fb9f3a"
             ],
             [
              0.8888888888888888,
              "#fdca26"
             ],
             [
              1,
              "#f0f921"
             ]
            ],
            "type": "histogram2d"
           }
          ],
          "histogram2dcontour": [
           {
            "colorbar": {
             "outlinewidth": 0,
             "ticks": ""
            },
            "colorscale": [
             [
              0,
              "#0d0887"
             ],
             [
              0.1111111111111111,
              "#46039f"
             ],
             [
              0.2222222222222222,
              "#7201a8"
             ],
             [
              0.3333333333333333,
              "#9c179e"
             ],
             [
              0.4444444444444444,
              "#bd3786"
             ],
             [
              0.5555555555555556,
              "#d8576b"
             ],
             [
              0.6666666666666666,
              "#ed7953"
             ],
             [
              0.7777777777777778,
              "#fb9f3a"
             ],
             [
              0.8888888888888888,
              "#fdca26"
             ],
             [
              1,
              "#f0f921"
             ]
            ],
            "type": "histogram2dcontour"
           }
          ],
          "mesh3d": [
           {
            "colorbar": {
             "outlinewidth": 0,
             "ticks": ""
            },
            "type": "mesh3d"
           }
          ],
          "parcoords": [
           {
            "line": {
             "colorbar": {
              "outlinewidth": 0,
              "ticks": ""
             }
            },
            "type": "parcoords"
           }
          ],
          "pie": [
           {
            "automargin": true,
            "type": "pie"
           }
          ],
          "scatter": [
           {
            "marker": {
             "colorbar": {
              "outlinewidth": 0,
              "ticks": ""
             }
            },
            "type": "scatter"
           }
          ],
          "scatter3d": [
           {
            "line": {
             "colorbar": {
              "outlinewidth": 0,
              "ticks": ""
             }
            },
            "marker": {
             "colorbar": {
              "outlinewidth": 0,
              "ticks": ""
             }
            },
            "type": "scatter3d"
           }
          ],
          "scattercarpet": [
           {
            "marker": {
             "colorbar": {
              "outlinewidth": 0,
              "ticks": ""
             }
            },
            "type": "scattercarpet"
           }
          ],
          "scattergeo": [
           {
            "marker": {
             "colorbar": {
              "outlinewidth": 0,
              "ticks": ""
             }
            },
            "type": "scattergeo"
           }
          ],
          "scattergl": [
           {
            "marker": {
             "colorbar": {
              "outlinewidth": 0,
              "ticks": ""
             }
            },
            "type": "scattergl"
           }
          ],
          "scattermapbox": [
           {
            "marker": {
             "colorbar": {
              "outlinewidth": 0,
              "ticks": ""
             }
            },
            "type": "scattermapbox"
           }
          ],
          "scatterpolar": [
           {
            "marker": {
             "colorbar": {
              "outlinewidth": 0,
              "ticks": ""
             }
            },
            "type": "scatterpolar"
           }
          ],
          "scatterpolargl": [
           {
            "marker": {
             "colorbar": {
              "outlinewidth": 0,
              "ticks": ""
             }
            },
            "type": "scatterpolargl"
           }
          ],
          "scatterternary": [
           {
            "marker": {
             "colorbar": {
              "outlinewidth": 0,
              "ticks": ""
             }
            },
            "type": "scatterternary"
           }
          ],
          "surface": [
           {
            "colorbar": {
             "outlinewidth": 0,
             "ticks": ""
            },
            "colorscale": [
             [
              0,
              "#0d0887"
             ],
             [
              0.1111111111111111,
              "#46039f"
             ],
             [
              0.2222222222222222,
              "#7201a8"
             ],
             [
              0.3333333333333333,
              "#9c179e"
             ],
             [
              0.4444444444444444,
              "#bd3786"
             ],
             [
              0.5555555555555556,
              "#d8576b"
             ],
             [
              0.6666666666666666,
              "#ed7953"
             ],
             [
              0.7777777777777778,
              "#fb9f3a"
             ],
             [
              0.8888888888888888,
              "#fdca26"
             ],
             [
              1,
              "#f0f921"
             ]
            ],
            "type": "surface"
           }
          ],
          "table": [
           {
            "cells": {
             "fill": {
              "color": "#EBF0F8"
             },
             "line": {
              "color": "white"
             }
            },
            "header": {
             "fill": {
              "color": "#C8D4E3"
             },
             "line": {
              "color": "white"
             }
            },
            "type": "table"
           }
          ]
         },
         "layout": {
          "annotationdefaults": {
           "arrowcolor": "#2a3f5f",
           "arrowhead": 0,
           "arrowwidth": 1
          },
          "autotypenumbers": "strict",
          "coloraxis": {
           "colorbar": {
            "outlinewidth": 0,
            "ticks": ""
           }
          },
          "colorscale": {
           "diverging": [
            [
             0,
             "#8e0152"
            ],
            [
             0.1,
             "#c51b7d"
            ],
            [
             0.2,
             "#de77ae"
            ],
            [
             0.3,
             "#f1b6da"
            ],
            [
             0.4,
             "#fde0ef"
            ],
            [
             0.5,
             "#f7f7f7"
            ],
            [
             0.6,
             "#e6f5d0"
            ],
            [
             0.7,
             "#b8e186"
            ],
            [
             0.8,
             "#7fbc41"
            ],
            [
             0.9,
             "#4d9221"
            ],
            [
             1,
             "#276419"
            ]
           ],
           "sequential": [
            [
             0,
             "#0d0887"
            ],
            [
             0.1111111111111111,
             "#46039f"
            ],
            [
             0.2222222222222222,
             "#7201a8"
            ],
            [
             0.3333333333333333,
             "#9c179e"
            ],
            [
             0.4444444444444444,
             "#bd3786"
            ],
            [
             0.5555555555555556,
             "#d8576b"
            ],
            [
             0.6666666666666666,
             "#ed7953"
            ],
            [
             0.7777777777777778,
             "#fb9f3a"
            ],
            [
             0.8888888888888888,
             "#fdca26"
            ],
            [
             1,
             "#f0f921"
            ]
           ],
           "sequentialminus": [
            [
             0,
             "#0d0887"
            ],
            [
             0.1111111111111111,
             "#46039f"
            ],
            [
             0.2222222222222222,
             "#7201a8"
            ],
            [
             0.3333333333333333,
             "#9c179e"
            ],
            [
             0.4444444444444444,
             "#bd3786"
            ],
            [
             0.5555555555555556,
             "#d8576b"
            ],
            [
             0.6666666666666666,
             "#ed7953"
            ],
            [
             0.7777777777777778,
             "#fb9f3a"
            ],
            [
             0.8888888888888888,
             "#fdca26"
            ],
            [
             1,
             "#f0f921"
            ]
           ]
          },
          "colorway": [
           "#636efa",
           "#EF553B",
           "#00cc96",
           "#ab63fa",
           "#FFA15A",
           "#19d3f3",
           "#FF6692",
           "#B6E880",
           "#FF97FF",
           "#FECB52"
          ],
          "font": {
           "color": "#2a3f5f"
          },
          "geo": {
           "bgcolor": "white",
           "lakecolor": "white",
           "landcolor": "#E5ECF6",
           "showlakes": true,
           "showland": true,
           "subunitcolor": "white"
          },
          "hoverlabel": {
           "align": "left"
          },
          "hovermode": "closest",
          "mapbox": {
           "style": "light"
          },
          "paper_bgcolor": "white",
          "plot_bgcolor": "#E5ECF6",
          "polar": {
           "angularaxis": {
            "gridcolor": "white",
            "linecolor": "white",
            "ticks": ""
           },
           "bgcolor": "#E5ECF6",
           "radialaxis": {
            "gridcolor": "white",
            "linecolor": "white",
            "ticks": ""
           }
          },
          "scene": {
           "xaxis": {
            "backgroundcolor": "#E5ECF6",
            "gridcolor": "white",
            "gridwidth": 2,
            "linecolor": "white",
            "showbackground": true,
            "ticks": "",
            "zerolinecolor": "white"
           },
           "yaxis": {
            "backgroundcolor": "#E5ECF6",
            "gridcolor": "white",
            "gridwidth": 2,
            "linecolor": "white",
            "showbackground": true,
            "ticks": "",
            "zerolinecolor": "white"
           },
           "zaxis": {
            "backgroundcolor": "#E5ECF6",
            "gridcolor": "white",
            "gridwidth": 2,
            "linecolor": "white",
            "showbackground": true,
            "ticks": "",
            "zerolinecolor": "white"
           }
          },
          "shapedefaults": {
           "line": {
            "color": "#2a3f5f"
           }
          },
          "ternary": {
           "aaxis": {
            "gridcolor": "white",
            "linecolor": "white",
            "ticks": ""
           },
           "baxis": {
            "gridcolor": "white",
            "linecolor": "white",
            "ticks": ""
           },
           "bgcolor": "#E5ECF6",
           "caxis": {
            "gridcolor": "white",
            "linecolor": "white",
            "ticks": ""
           }
          },
          "title": {
           "x": 0.05
          },
          "xaxis": {
           "automargin": true,
           "gridcolor": "white",
           "linecolor": "white",
           "ticks": "",
           "title": {
            "standoff": 15
           },
           "zerolinecolor": "white",
           "zerolinewidth": 2
          },
          "yaxis": {
           "automargin": true,
           "gridcolor": "white",
           "linecolor": "white",
           "ticks": "",
           "title": {
            "standoff": 15
           },
           "zerolinecolor": "white",
           "zerolinewidth": 2
          }
         }
        },
        "xaxis": {
         "anchor": "y",
         "domain": [
          0,
          1
         ],
         "title": {
          "text": "Embarked"
         }
        },
        "yaxis": {
         "anchor": "x",
         "domain": [
          0,
          1
         ],
         "title": {
          "text": "count"
         }
        }
       }
      },
      "text/html": [
       "<div>                            <div id=\"38b7b24f-2a7e-43e3-a226-14c567b1463f\" class=\"plotly-graph-div\" style=\"height:525px; width:100%;\"></div>            <script type=\"text/javascript\">                require([\"plotly\"], function(Plotly) {                    window.PLOTLYENV=window.PLOTLYENV || {};                                    if (document.getElementById(\"38b7b24f-2a7e-43e3-a226-14c567b1463f\")) {                    Plotly.newPlot(                        \"38b7b24f-2a7e-43e3-a226-14c567b1463f\",                        [{\"alignmentgroup\":\"True\",\"bingroup\":\"x\",\"hovertemplate\":\"Survived=0.0<br>Embarked=%{x}<br>count=%{y}<extra></extra>\",\"legendgroup\":\"0.0\",\"marker\":{\"color\":\"#636efa\",\"pattern\":{\"shape\":\"\"}},\"name\":\"0.0\",\"offsetgroup\":\"0.0\",\"orientation\":\"v\",\"showlegend\":true,\"x\":[\"S\",\"S\",\"Q\",\"S\",\"S\",\"S\",\"S\",\"S\",\"Q\",\"S\",\"S\",\"S\",\"C\",\"S\",\"S\",\"C\",\"S\",\"C\",\"S\",\"S\",\"S\",\"S\",\"S\",\"C\",\"S\",\"Q\",\"C\",\"S\",\"S\",\"S\",\"C\",\"C\",\"S\",\"C\",\"S\",\"S\",\"C\",\"S\",\"S\",\"S\",\"S\",\"S\",\"C\",\"S\",\"S\",\"S\",\"S\",\"S\",\"S\",\"S\",\"S\",\"S\",\"S\",\"S\",\"S\",\"S\",\"S\",\"C\",\"S\",\"S\",\"S\",\"S\",\"S\",\"S\",\"S\",\"S\",\"S\",\"C\",\"S\",\"S\",\"C\",\"S\",\"Q\",\"S\",\"C\",\"S\",\"S\",\"S\",\"C\",\"S\",\"Q\",\"S\",\"C\",\"S\",\"S\",\"S\",\"C\",\"S\",\"S\",\"C\",\"C\",\"Q\",\"S\",\"S\",\"S\",\"S\",\"S\",\"S\",\"S\",\"S\",\"S\",\"C\",\"S\",\"S\",\"S\",\"S\",\"S\",\"S\",\"S\",\"S\",\"S\",\"S\",\"S\",\"Q\",\"S\",\"C\",\"S\",\"S\",\"C\",\"S\",\"S\",\"S\",\"C\",\"S\",\"S\",\"Q\",\"S\",\"S\",\"Q\",\"S\",\"S\",\"S\",\"S\",\"S\",\"C\",\"S\",\"S\",\"S\",\"S\",\"S\",\"Q\",\"S\",\"S\",\"S\",\"S\",\"S\",\"S\",\"S\",\"S\",\"S\",\"S\",\"S\",\"S\",\"S\",\"S\",\"S\",\"S\",\"C\",\"S\",\"S\",\"C\",\"Q\",\"S\",\"S\",\"S\",\"S\",\"S\",\"S\",\"S\",\"Q\",\"S\",\"S\",\"Q\",\"S\",\"S\",\"S\",\"C\",\"S\",\"S\",\"Q\",\"Q\",\"S\",\"S\",\"S\",\"C\",\"S\",\"C\",\"S\",\"S\",\"C\",\"C\",\"S\",\"S\",\"S\",\"C\",\"S\",\"S\",\"S\",\"S\",\"S\",\"S\",\"S\",\"S\",\"S\",\"S\",\"S\",\"S\",\"S\",\"S\",\"S\",\"S\",\"S\",\"S\",\"S\",\"S\",\"C\",\"S\",\"C\",\"S\",\"S\",\"S\",\"C\",\"C\",\"S\",\"Q\",\"S\",\"S\",\"S\",\"C\",\"S\",\"C\",\"C\",\"S\",\"S\",\"S\",\"S\",\"S\",\"Q\",\"S\",\"S\",\"S\",\"S\",\"S\",\"S\",\"S\",\"S\",\"S\",\"S\",\"S\",\"S\",\"S\",\"S\",\"Q\",\"S\",\"S\",\"S\",\"S\",\"C\",\"Q\",\"S\",\"S\",\"S\",\"S\",\"Q\",\"S\",\"S\",\"S\",\"S\",\"S\",\"S\",\"S\",\"S\",\"S\",\"C\",\"S\",\"S\",\"Q\",\"S\",\"S\",\"S\",\"S\",\"S\",\"S\",\"S\",\"Q\",\"S\",\"S\",\"S\",\"S\",\"S\",\"S\",\"S\",\"S\",\"S\",\"S\",\"S\",\"C\",\"S\",\"S\",\"S\",\"S\",\"C\",\"S\",\"C\",\"S\",\"S\",\"S\",\"S\",\"Q\",\"Q\",\"S\",\"C\",\"S\",\"S\",\"S\",\"S\",\"Q\",\"S\",\"S\",\"C\",\"C\",\"Q\",\"S\",\"S\",\"S\",\"C\",\"C\",\"S\",\"S\",\"S\",\"S\",\"S\",\"C\",\"S\",\"S\",\"S\",\"Q\",\"S\",\"C\",\"Q\",\"S\",\"S\",\"S\",\"S\",\"S\",\"S\",\"S\",\"C\",\"S\",\"S\",\"C\",\"S\",\"C\",\"C\",\"S\",\"S\",\"S\",\"S\",\"S\",\"Q\",\"S\",\"S\",\"S\",\"C\",\"S\",\"S\",\"S\",\"S\",\"S\",\"S\",\"S\",\"Q\",\"S\",\"S\",\"S\",\"S\",\"C\",\"S\",\"S\",\"S\",\"Q\",\"S\",\"Q\",\"S\",\"S\",\"S\",\"S\",\"S\",\"S\",\"S\",\"S\",\"S\",\"S\",\"S\",\"S\",\"S\",\"Q\",\"S\",\"S\",\"Q\",\"S\",\"C\",\"C\",\"S\",\"S\",\"S\",\"S\",\"S\",\"S\",\"S\",\"S\",\"S\",\"S\",\"S\",\"S\",\"Q\",\"S\",\"S\",\"S\",\"C\",\"S\",\"S\",\"S\",\"C\",\"S\",\"S\",\"S\",\"C\",\"S\",\"C\",\"Q\",\"S\",\"S\",\"S\",\"S\",\"S\",\"S\",\"Q\",\"S\",\"S\",\"S\",\"S\",\"S\",\"S\",\"S\",\"C\",\"S\",\"S\",\"S\",\"S\",\"S\",\"S\",\"S\",\"S\",\"S\",\"S\",\"S\",\"S\",\"Q\",\"S\",\"S\",\"S\",\"S\",\"S\",\"S\",\"S\",\"S\",\"C\",\"Q\",\"Q\",\"S\",\"S\",\"S\",\"S\",\"C\",\"S\",\"Q\",\"Q\",\"S\",\"S\",\"S\",\"S\",\"Q\",\"C\",\"Q\",\"S\",\"S\",\"C\",\"S\",\"S\",\"C\",\"S\",\"S\",\"S\",\"S\",\"S\",\"S\",\"S\",\"S\",\"S\",\"S\",\"S\",\"S\",\"S\",\"C\",\"S\",\"S\",\"S\",\"S\",\"Q\",\"S\",\"C\",\"S\",\"S\",\"S\",\"S\",\"S\",\"S\",\"C\",\"S\",\"S\",\"S\",\"C\",\"S\",\"S\",\"S\",\"C\",\"S\",\"C\",\"S\",\"S\",\"S\",\"S\",\"S\",\"S\",\"S\",\"S\",\"S\",\"S\",\"S\",\"S\",\"S\",\"S\",\"S\",\"S\",\"Q\",\"S\",\"S\",\"Q\"],\"xaxis\":\"x\",\"yaxis\":\"y\",\"type\":\"histogram\"},{\"alignmentgroup\":\"True\",\"bingroup\":\"x\",\"hovertemplate\":\"Survived=1.0<br>Embarked=%{x}<br>count=%{y}<extra></extra>\",\"legendgroup\":\"1.0\",\"marker\":{\"color\":\"#EF553B\",\"pattern\":{\"shape\":\"\"}},\"name\":\"1.0\",\"offsetgroup\":\"1.0\",\"orientation\":\"v\",\"showlegend\":true,\"x\":[\"C\",\"S\",\"S\",\"S\",\"C\",\"S\",\"S\",\"S\",\"S\",\"C\",\"S\",\"Q\",\"S\",\"S\",\"Q\",\"C\",\"Q\",\"C\",\"C\",\"C\",\"Q\",\"Q\",\"C\",\"S\",\"S\",\"S\",\"S\",null,\"C\",\"S\",\"S\",\"S\",\"S\",\"S\",\"S\",\"Q\",\"S\",\"S\",\"S\",\"C\",\"S\",\"S\",\"S\",\"Q\",\"S\",\"C\",\"S\",\"C\",\"S\",\"S\",\"S\",\"S\",\"S\",\"S\",\"Q\",\"S\",\"S\",\"S\",\"S\",\"S\",\"S\",\"Q\",\"S\",\"S\",\"S\",\"S\",\"C\",\"C\",\"Q\",\"S\",\"C\",\"Q\",\"C\",\"S\",\"C\",\"S\",\"C\",\"S\",\"S\",\"S\",\"S\",\"S\",\"S\",\"Q\",\"S\",\"S\",\"C\",\"C\",\"S\",\"C\",\"S\",\"S\",\"S\",\"S\",\"S\",\"S\",\"S\",\"Q\",\"S\",\"S\",\"S\",\"S\",\"S\",\"Q\",\"S\",\"C\",\"S\",\"C\",\"Q\",\"Q\",\"Q\",\"S\",\"C\",\"C\",\"C\",\"C\",\"C\",\"S\",\"S\",\"S\",\"C\",\"Q\",\"S\",\"C\",\"S\",\"S\",\"C\",\"Q\",\"S\",\"C\",\"S\",\"S\",\"S\",\"S\",\"S\",\"S\",\"S\",\"S\",\"Q\",\"Q\",\"C\",\"C\",\"Q\",\"C\",\"C\",\"C\",\"S\",\"C\",\"C\",\"S\",\"S\",\"C\",\"S\",\"S\",\"C\",\"S\",\"S\",\"S\",\"S\",\"Q\",\"S\",\"S\",\"S\",\"S\",\"S\",\"S\",\"S\",\"S\",\"S\",\"S\",\"S\",\"S\",\"S\",\"S\",\"S\",\"S\",\"S\",\"C\",\"S\",\"C\",\"C\",\"S\",\"S\",\"S\",\"C\",\"S\",\"C\",\"S\",\"S\",\"C\",\"S\",\"S\",\"C\",\"S\",\"S\",\"S\",\"S\",\"Q\",\"S\",\"C\",\"S\",\"S\",\"S\",\"C\",\"S\",\"S\",\"C\",\"S\",\"C\",\"C\",\"S\",\"S\",\"S\",\"C\",\"S\",\"C\",\"C\",\"S\",\"C\",\"S\",\"S\",\"S\",\"S\",\"S\",\"S\",\"Q\",\"S\",\"S\",\"S\",\"S\",\"C\",\"S\",\"C\",\"C\",\"S\",\"C\",\"S\",\"C\",\"S\",\"C\",\"S\",\"Q\",\"S\",\"S\",\"S\",\"C\",\"S\",\"S\",\"C\",\"S\",\"C\",\"S\",\"C\",\"C\",\"C\",\"S\",\"S\",\"Q\",\"S\",\"S\",\"S\",\"S\",\"S\",\"S\",\"C\",\"C\",\"S\",\"S\",\"C\",\"S\",\"Q\",\"C\",\"S\",\"S\",\"S\",\"S\",\"C\",\"C\",\"S\",\"C\",\"S\",\"S\",\"S\",\"S\",\"Q\",\"S\",\"C\",\"S\",\"C\",\"S\",\"S\",\"S\",\"S\",\"S\",\"S\",\"S\",\"C\",\"S\",\"S\",\"S\",\"S\",\"S\",\"C\",\"S\",\"S\",\"S\",\"S\",\"S\",\"S\",\"S\",\"C\",\"S\",\"S\",\"S\",\"S\",\"S\",\"C\",\"Q\",null,\"C\",\"S\",\"C\",\"S\",\"C\",\"C\",\"C\",\"S\",\"S\",\"S\",\"S\",\"C\",\"S\",\"S\",\"C\",\"S\",\"S\",\"C\",\"C\",\"C\",\"S\",\"S\",\"C\"],\"xaxis\":\"x\",\"yaxis\":\"y\",\"type\":\"histogram\"}],                        {\"template\":{\"data\":{\"bar\":[{\"error_x\":{\"color\":\"#2a3f5f\"},\"error_y\":{\"color\":\"#2a3f5f\"},\"marker\":{\"line\":{\"color\":\"#E5ECF6\",\"width\":0.5},\"pattern\":{\"fillmode\":\"overlay\",\"size\":10,\"solidity\":0.2}},\"type\":\"bar\"}],\"barpolar\":[{\"marker\":{\"line\":{\"color\":\"#E5ECF6\",\"width\":0.5},\"pattern\":{\"fillmode\":\"overlay\",\"size\":10,\"solidity\":0.2}},\"type\":\"barpolar\"}],\"carpet\":[{\"aaxis\":{\"endlinecolor\":\"#2a3f5f\",\"gridcolor\":\"white\",\"linecolor\":\"white\",\"minorgridcolor\":\"white\",\"startlinecolor\":\"#2a3f5f\"},\"baxis\":{\"endlinecolor\":\"#2a3f5f\",\"gridcolor\":\"white\",\"linecolor\":\"white\",\"minorgridcolor\":\"white\",\"startlinecolor\":\"#2a3f5f\"},\"type\":\"carpet\"}],\"choropleth\":[{\"colorbar\":{\"outlinewidth\":0,\"ticks\":\"\"},\"type\":\"choropleth\"}],\"contour\":[{\"colorbar\":{\"outlinewidth\":0,\"ticks\":\"\"},\"colorscale\":[[0.0,\"#0d0887\"],[0.1111111111111111,\"#46039f\"],[0.2222222222222222,\"#7201a8\"],[0.3333333333333333,\"#9c179e\"],[0.4444444444444444,\"#bd3786\"],[0.5555555555555556,\"#d8576b\"],[0.6666666666666666,\"#ed7953\"],[0.7777777777777778,\"#fb9f3a\"],[0.8888888888888888,\"#fdca26\"],[1.0,\"#f0f921\"]],\"type\":\"contour\"}],\"contourcarpet\":[{\"colorbar\":{\"outlinewidth\":0,\"ticks\":\"\"},\"type\":\"contourcarpet\"}],\"heatmap\":[{\"colorbar\":{\"outlinewidth\":0,\"ticks\":\"\"},\"colorscale\":[[0.0,\"#0d0887\"],[0.1111111111111111,\"#46039f\"],[0.2222222222222222,\"#7201a8\"],[0.3333333333333333,\"#9c179e\"],[0.4444444444444444,\"#bd3786\"],[0.5555555555555556,\"#d8576b\"],[0.6666666666666666,\"#ed7953\"],[0.7777777777777778,\"#fb9f3a\"],[0.8888888888888888,\"#fdca26\"],[1.0,\"#f0f921\"]],\"type\":\"heatmap\"}],\"heatmapgl\":[{\"colorbar\":{\"outlinewidth\":0,\"ticks\":\"\"},\"colorscale\":[[0.0,\"#0d0887\"],[0.1111111111111111,\"#46039f\"],[0.2222222222222222,\"#7201a8\"],[0.3333333333333333,\"#9c179e\"],[0.4444444444444444,\"#bd3786\"],[0.5555555555555556,\"#d8576b\"],[0.6666666666666666,\"#ed7953\"],[0.7777777777777778,\"#fb9f3a\"],[0.8888888888888888,\"#fdca26\"],[1.0,\"#f0f921\"]],\"type\":\"heatmapgl\"}],\"histogram\":[{\"marker\":{\"pattern\":{\"fillmode\":\"overlay\",\"size\":10,\"solidity\":0.2}},\"type\":\"histogram\"}],\"histogram2d\":[{\"colorbar\":{\"outlinewidth\":0,\"ticks\":\"\"},\"colorscale\":[[0.0,\"#0d0887\"],[0.1111111111111111,\"#46039f\"],[0.2222222222222222,\"#7201a8\"],[0.3333333333333333,\"#9c179e\"],[0.4444444444444444,\"#bd3786\"],[0.5555555555555556,\"#d8576b\"],[0.6666666666666666,\"#ed7953\"],[0.7777777777777778,\"#fb9f3a\"],[0.8888888888888888,\"#fdca26\"],[1.0,\"#f0f921\"]],\"type\":\"histogram2d\"}],\"histogram2dcontour\":[{\"colorbar\":{\"outlinewidth\":0,\"ticks\":\"\"},\"colorscale\":[[0.0,\"#0d0887\"],[0.1111111111111111,\"#46039f\"],[0.2222222222222222,\"#7201a8\"],[0.3333333333333333,\"#9c179e\"],[0.4444444444444444,\"#bd3786\"],[0.5555555555555556,\"#d8576b\"],[0.6666666666666666,\"#ed7953\"],[0.7777777777777778,\"#fb9f3a\"],[0.8888888888888888,\"#fdca26\"],[1.0,\"#f0f921\"]],\"type\":\"histogram2dcontour\"}],\"mesh3d\":[{\"colorbar\":{\"outlinewidth\":0,\"ticks\":\"\"},\"type\":\"mesh3d\"}],\"parcoords\":[{\"line\":{\"colorbar\":{\"outlinewidth\":0,\"ticks\":\"\"}},\"type\":\"parcoords\"}],\"pie\":[{\"automargin\":true,\"type\":\"pie\"}],\"scatter\":[{\"marker\":{\"colorbar\":{\"outlinewidth\":0,\"ticks\":\"\"}},\"type\":\"scatter\"}],\"scatter3d\":[{\"line\":{\"colorbar\":{\"outlinewidth\":0,\"ticks\":\"\"}},\"marker\":{\"colorbar\":{\"outlinewidth\":0,\"ticks\":\"\"}},\"type\":\"scatter3d\"}],\"scattercarpet\":[{\"marker\":{\"colorbar\":{\"outlinewidth\":0,\"ticks\":\"\"}},\"type\":\"scattercarpet\"}],\"scattergeo\":[{\"marker\":{\"colorbar\":{\"outlinewidth\":0,\"ticks\":\"\"}},\"type\":\"scattergeo\"}],\"scattergl\":[{\"marker\":{\"colorbar\":{\"outlinewidth\":0,\"ticks\":\"\"}},\"type\":\"scattergl\"}],\"scattermapbox\":[{\"marker\":{\"colorbar\":{\"outlinewidth\":0,\"ticks\":\"\"}},\"type\":\"scattermapbox\"}],\"scatterpolar\":[{\"marker\":{\"colorbar\":{\"outlinewidth\":0,\"ticks\":\"\"}},\"type\":\"scatterpolar\"}],\"scatterpolargl\":[{\"marker\":{\"colorbar\":{\"outlinewidth\":0,\"ticks\":\"\"}},\"type\":\"scatterpolargl\"}],\"scatterternary\":[{\"marker\":{\"colorbar\":{\"outlinewidth\":0,\"ticks\":\"\"}},\"type\":\"scatterternary\"}],\"surface\":[{\"colorbar\":{\"outlinewidth\":0,\"ticks\":\"\"},\"colorscale\":[[0.0,\"#0d0887\"],[0.1111111111111111,\"#46039f\"],[0.2222222222222222,\"#7201a8\"],[0.3333333333333333,\"#9c179e\"],[0.4444444444444444,\"#bd3786\"],[0.5555555555555556,\"#d8576b\"],[0.6666666666666666,\"#ed7953\"],[0.7777777777777778,\"#fb9f3a\"],[0.8888888888888888,\"#fdca26\"],[1.0,\"#f0f921\"]],\"type\":\"surface\"}],\"table\":[{\"cells\":{\"fill\":{\"color\":\"#EBF0F8\"},\"line\":{\"color\":\"white\"}},\"header\":{\"fill\":{\"color\":\"#C8D4E3\"},\"line\":{\"color\":\"white\"}},\"type\":\"table\"}]},\"layout\":{\"annotationdefaults\":{\"arrowcolor\":\"#2a3f5f\",\"arrowhead\":0,\"arrowwidth\":1},\"autotypenumbers\":\"strict\",\"coloraxis\":{\"colorbar\":{\"outlinewidth\":0,\"ticks\":\"\"}},\"colorscale\":{\"diverging\":[[0,\"#8e0152\"],[0.1,\"#c51b7d\"],[0.2,\"#de77ae\"],[0.3,\"#f1b6da\"],[0.4,\"#fde0ef\"],[0.5,\"#f7f7f7\"],[0.6,\"#e6f5d0\"],[0.7,\"#b8e186\"],[0.8,\"#7fbc41\"],[0.9,\"#4d9221\"],[1,\"#276419\"]],\"sequential\":[[0.0,\"#0d0887\"],[0.1111111111111111,\"#46039f\"],[0.2222222222222222,\"#7201a8\"],[0.3333333333333333,\"#9c179e\"],[0.4444444444444444,\"#bd3786\"],[0.5555555555555556,\"#d8576b\"],[0.6666666666666666,\"#ed7953\"],[0.7777777777777778,\"#fb9f3a\"],[0.8888888888888888,\"#fdca26\"],[1.0,\"#f0f921\"]],\"sequentialminus\":[[0.0,\"#0d0887\"],[0.1111111111111111,\"#46039f\"],[0.2222222222222222,\"#7201a8\"],[0.3333333333333333,\"#9c179e\"],[0.4444444444444444,\"#bd3786\"],[0.5555555555555556,\"#d8576b\"],[0.6666666666666666,\"#ed7953\"],[0.7777777777777778,\"#fb9f3a\"],[0.8888888888888888,\"#fdca26\"],[1.0,\"#f0f921\"]]},\"colorway\":[\"#636efa\",\"#EF553B\",\"#00cc96\",\"#ab63fa\",\"#FFA15A\",\"#19d3f3\",\"#FF6692\",\"#B6E880\",\"#FF97FF\",\"#FECB52\"],\"font\":{\"color\":\"#2a3f5f\"},\"geo\":{\"bgcolor\":\"white\",\"lakecolor\":\"white\",\"landcolor\":\"#E5ECF6\",\"showlakes\":true,\"showland\":true,\"subunitcolor\":\"white\"},\"hoverlabel\":{\"align\":\"left\"},\"hovermode\":\"closest\",\"mapbox\":{\"style\":\"light\"},\"paper_bgcolor\":\"white\",\"plot_bgcolor\":\"#E5ECF6\",\"polar\":{\"angularaxis\":{\"gridcolor\":\"white\",\"linecolor\":\"white\",\"ticks\":\"\"},\"bgcolor\":\"#E5ECF6\",\"radialaxis\":{\"gridcolor\":\"white\",\"linecolor\":\"white\",\"ticks\":\"\"}},\"scene\":{\"xaxis\":{\"backgroundcolor\":\"#E5ECF6\",\"gridcolor\":\"white\",\"gridwidth\":2,\"linecolor\":\"white\",\"showbackground\":true,\"ticks\":\"\",\"zerolinecolor\":\"white\"},\"yaxis\":{\"backgroundcolor\":\"#E5ECF6\",\"gridcolor\":\"white\",\"gridwidth\":2,\"linecolor\":\"white\",\"showbackground\":true,\"ticks\":\"\",\"zerolinecolor\":\"white\"},\"zaxis\":{\"backgroundcolor\":\"#E5ECF6\",\"gridcolor\":\"white\",\"gridwidth\":2,\"linecolor\":\"white\",\"showbackground\":true,\"ticks\":\"\",\"zerolinecolor\":\"white\"}},\"shapedefaults\":{\"line\":{\"color\":\"#2a3f5f\"}},\"ternary\":{\"aaxis\":{\"gridcolor\":\"white\",\"linecolor\":\"white\",\"ticks\":\"\"},\"baxis\":{\"gridcolor\":\"white\",\"linecolor\":\"white\",\"ticks\":\"\"},\"bgcolor\":\"#E5ECF6\",\"caxis\":{\"gridcolor\":\"white\",\"linecolor\":\"white\",\"ticks\":\"\"}},\"title\":{\"x\":0.05},\"xaxis\":{\"automargin\":true,\"gridcolor\":\"white\",\"linecolor\":\"white\",\"ticks\":\"\",\"title\":{\"standoff\":15},\"zerolinecolor\":\"white\",\"zerolinewidth\":2},\"yaxis\":{\"automargin\":true,\"gridcolor\":\"white\",\"linecolor\":\"white\",\"ticks\":\"\",\"title\":{\"standoff\":15},\"zerolinecolor\":\"white\",\"zerolinewidth\":2}}},\"xaxis\":{\"anchor\":\"y\",\"domain\":[0.0,1.0],\"title\":{\"text\":\"Embarked\"}},\"yaxis\":{\"anchor\":\"x\",\"domain\":[0.0,1.0],\"title\":{\"text\":\"count\"}},\"legend\":{\"title\":{\"text\":\"Survived\"},\"tracegroupgap\":0},\"margin\":{\"t\":60},\"barmode\":\"relative\"},                        {\"responsive\": true}                    ).then(function(){\n",
       "                            \n",
       "var gd = document.getElementById('38b7b24f-2a7e-43e3-a226-14c567b1463f');\n",
       "var x = new MutationObserver(function (mutations, observer) {{\n",
       "        var display = window.getComputedStyle(gd).display;\n",
       "        if (!display || display === 'none') {{\n",
       "            console.log([gd, 'removed!']);\n",
       "            Plotly.purge(gd);\n",
       "            observer.disconnect();\n",
       "        }}\n",
       "}});\n",
       "\n",
       "// Listen for the removal of the full notebook cells\n",
       "var notebookContainer = gd.closest('#notebook-container');\n",
       "if (notebookContainer) {{\n",
       "    x.observe(notebookContainer, {childList: true});\n",
       "}}\n",
       "\n",
       "// Listen for the clearing of the current output cell\n",
       "var outputEl = gd.closest('.output');\n",
       "if (outputEl) {{\n",
       "    x.observe(outputEl, {childList: true});\n",
       "}}\n",
       "\n",
       "                        })                };                });            </script>        </div>"
      ]
     },
     "metadata": {},
     "output_type": "display_data"
    }
   ],
   "source": [
    "for v in df: \n",
    "    grafico = px.histogram(df, x = v, color='Survived')\n",
    "    grafico.show()"
   ]
  },
  {
   "cell_type": "markdown",
   "id": "f21d9e2b",
   "metadata": {},
   "source": [
    "> Data is **not balanced**: Survived population is almost half of the entire population!  \n",
    "> \n",
    "> - First Class seems to survive more than others  \n",
    "> - Males also seems to survive more than females, but not proportionaly  \n",
    "> - Better to investigate the age more deeply  \n",
    "> - Does having relatives on the ship make you more likely to die?  \n",
    "> - Better to investigate parch more deeply   \n",
    "> - Check Fare proportions  \n",
    "> - Investigate types of ship Embarke in external materials\n",
    ">\n",
    "> **These questions raised will be answered throughout the analysis**"
   ]
  },
  {
   "cell_type": "code",
   "execution_count": 181,
   "id": "15329dc8",
   "metadata": {},
   "outputs": [
    {
     "name": "stdout",
     "output_type": "stream",
     "text": [
      "Survived\n",
      "0.0 -> 62%\n",
      "1.0 -> 38%\n",
      " \n",
      "Pclass\n",
      "3.0 -> 55%\n",
      "1.0 -> 24%\n",
      "2.0 -> 21%\n",
      " \n",
      "Age\n",
      "22.0 -> 3%\n",
      "38.0 -> 2%\n",
      "26.0 -> 2%\n",
      "35.0 -> 2%\n",
      "26.5 -> 0%\n",
      "54.0 -> 1%\n",
      "2.0 -> 1%\n",
      "27.0 -> 2%\n",
      "14.0 -> 1%\n",
      "4.0 -> 1%\n",
      "58.0 -> 1%\n",
      "20.0 -> 2%\n",
      "39.0 -> 2%\n",
      "55.0 -> 0%\n",
      "31.0 -> 2%\n",
      "34.0 -> 2%\n",
      "15.0 -> 1%\n",
      "28.0 -> 3%\n",
      "8.0 -> 0%\n",
      "37.75 -> 1%\n",
      "19.0 -> 4%\n",
      "22.5 -> 1%\n",
      "33.0 -> 4%\n",
      "40.0 -> 2%\n",
      "66.0 -> 0%\n",
      "42.0 -> 2%\n",
      "21.0 -> 3%\n",
      "18.0 -> 3%\n",
      "3.0 -> 1%\n",
      "27.5 -> 2%\n",
      "15.5 -> 0%\n",
      "7.0 -> 0%\n",
      "49.0 -> 1%\n",
      "29.0 -> 3%\n",
      "65.0 -> 0%\n",
      "28.5 -> 0%\n",
      "5.0 -> 0%\n",
      "11.0 -> 0%\n",
      "45.0 -> 1%\n",
      "11.5 -> 0%\n",
      "17.0 -> 2%\n",
      "32.0 -> 2%\n",
      "16.0 -> 2%\n",
      "25.0 -> 3%\n",
      "0.83 -> 0%\n",
      "30.0 -> 3%\n",
      "23.0 -> 2%\n",
      "24.0 -> 3%\n",
      "46.0 -> 0%\n",
      "59.0 -> 0%\n",
      "71.0 -> 0%\n",
      "37.0 -> 1%\n",
      "47.0 -> 1%\n",
      "14.5 -> 0%\n",
      "70.5 -> 0%\n",
      "32.5 -> 0%\n",
      "12.0 -> 0%\n",
      "67.75 -> 1%\n",
      "9.0 -> 1%\n",
      "36.5 -> 0%\n",
      "51.0 -> 1%\n",
      "55.5 -> 1%\n",
      "40.5 -> 1%\n",
      "45.5 -> 1%\n",
      "44.0 -> 1%\n",
      "1.0 -> 1%\n",
      "30.5 -> 0%\n",
      "61.0 -> 0%\n",
      "56.0 -> 0%\n",
      "50.0 -> 1%\n",
      "36.0 -> 2%\n",
      "19.5 -> 0%\n",
      "25.5 -> 0%\n",
      "20.5 -> 0%\n",
      "30.75 -> 0%\n",
      "62.0 -> 0%\n",
      "41.0 -> 1%\n",
      "52.0 -> 1%\n",
      "63.0 -> 0%\n",
      "23.5 -> 0%\n",
      "39.5 -> 0%\n",
      "0.92 -> 0%\n",
      "43.0 -> 1%\n",
      "60.0 -> 0%\n",
      "29.5 -> 0%\n",
      "10.0 -> 0%\n",
      "64.0 -> 0%\n",
      "31.5 -> 0%\n",
      "13.0 -> 0%\n",
      "48.0 -> 1%\n",
      "0.75 -> 0%\n",
      "50.5 -> 0%\n",
      "37.5 -> 0%\n",
      "25.25 -> 1%\n",
      "53.0 -> 0%\n",
      "43.5 -> 0%\n",
      "57.0 -> 0%\n",
      "80.0 -> 0%\n",
      "70.0 -> 0%\n",
      "24.5 -> 0%\n",
      "63.5 -> 0%\n",
      "24.75 -> 0%\n",
      "6.0 -> 0%\n",
      "0.67 -> 0%\n",
      "41.5 -> 0%\n",
      "0.42 -> 0%\n",
      "34.5 -> 0%\n",
      "74.0 -> 0%\n",
      " \n",
      "SibSp\n",
      "1.0 -> 23%\n",
      "0.0 -> 68%\n",
      "3.0 -> 2%\n",
      "4.0 -> 2%\n",
      "2.0 -> 3%\n",
      "5.0 -> 1%\n",
      "8.0 -> 1%\n",
      " \n",
      "Parch\n",
      "0.0 -> 76%\n",
      "1.0 -> 13%\n",
      "2.0 -> 9%\n",
      "5.0 -> 1%\n",
      "3.0 -> 1%\n",
      "4.0 -> 0%\n",
      "6.0 -> 0%\n",
      " \n",
      "Fare\n",
      "7.25 -> 1%\n",
      "71.2833 -> 0%\n",
      "7.925 -> 2%\n",
      "53.1 -> 1%\n",
      "8.05 -> 5%\n",
      "8.4583 -> 0%\n",
      "51.8625 -> 0%\n",
      "21.075 -> 0%\n",
      "11.1333 -> 0%\n",
      "30.0708 -> 0%\n",
      "16.7 -> 0%\n",
      "26.55 -> 2%\n",
      "31.275 -> 1%\n",
      "7.8542 -> 1%\n",
      "16.0 -> 0%\n",
      "29.125 -> 1%\n",
      "13.0 -> 5%\n",
      "18.0 -> 0%\n",
      "7.225 -> 1%\n",
      "26.0 -> 3%\n",
      "8.0292 -> 0%\n",
      "35.5 -> 0%\n",
      "31.3875 -> 0%\n",
      "263.0 -> 0%\n",
      "7.8792 -> 0%\n",
      "7.8958 -> 4%\n",
      "27.7208 -> 1%\n",
      "146.5208 -> 0%\n",
      "7.75 -> 4%\n",
      "10.5 -> 3%\n",
      "82.1708 -> 0%\n",
      "52.0 -> 1%\n",
      "7.2292 -> 2%\n",
      "11.2417 -> 0%\n",
      "9.475 -> 0%\n",
      "21.0 -> 1%\n",
      "41.5792 -> 0%\n",
      "15.5 -> 1%\n",
      "21.6792 -> 0%\n",
      "17.8 -> 0%\n",
      "39.6875 -> 1%\n",
      "7.8 -> 0%\n",
      "76.7292 -> 0%\n",
      "61.9792 -> 0%\n",
      "27.75 -> 0%\n",
      "46.9 -> 1%\n",
      "80.0 -> 0%\n",
      "83.475 -> 0%\n",
      "27.9 -> 1%\n",
      "15.2458 -> 1%\n",
      "8.1583 -> 0%\n",
      "8.6625 -> 1%\n",
      "73.5 -> 1%\n",
      "14.4542 -> 1%\n",
      "56.4958 -> 1%\n",
      "7.65 -> 0%\n",
      "29.0 -> 0%\n",
      "12.475 -> 0%\n",
      "9.0 -> 0%\n",
      "9.5 -> 1%\n",
      "7.7875 -> 0%\n",
      "47.1 -> 0%\n",
      "15.85 -> 0%\n",
      "34.375 -> 0%\n",
      "61.175 -> 0%\n",
      "20.575 -> 0%\n",
      "34.6542 -> 0%\n",
      "63.3583 -> 0%\n",
      "23.0 -> 0%\n",
      "77.2875 -> 0%\n",
      "8.6542 -> 0%\n",
      "7.775 -> 2%\n",
      "24.15 -> 1%\n",
      "9.825 -> 0%\n",
      "14.4583 -> 0%\n",
      "247.5208 -> 0%\n",
      "7.1417 -> 0%\n",
      "22.3583 -> 0%\n",
      "6.975 -> 0%\n",
      "7.05 -> 1%\n",
      "14.5 -> 1%\n",
      "15.0458 -> 0%\n",
      "26.2833 -> 0%\n",
      "9.2167 -> 0%\n",
      "79.2 -> 0%\n",
      "6.75 -> 0%\n",
      "11.5 -> 0%\n",
      "36.75 -> 0%\n",
      "7.7958 -> 1%\n",
      "12.525 -> 0%\n",
      "66.6 -> 0%\n",
      "7.3125 -> 0%\n",
      "61.3792 -> 0%\n",
      "7.7333 -> 0%\n",
      "69.55 -> 1%\n",
      "16.1 -> 1%\n",
      "15.75 -> 0%\n",
      "20.525 -> 0%\n",
      "55.0 -> 0%\n",
      "25.925 -> 0%\n",
      "33.5 -> 0%\n",
      "30.6958 -> 0%\n",
      "25.4667 -> 0%\n",
      "28.7125 -> 0%\n",
      "0.0 -> 2%\n",
      "15.05 -> 0%\n",
      "39.0 -> 0%\n",
      "22.025 -> 0%\n",
      "50.0 -> 0%\n",
      "8.4042 -> 0%\n",
      "6.4958 -> 0%\n",
      "10.4625 -> 0%\n",
      "18.7875 -> 0%\n",
      "31.0 -> 0%\n",
      "113.275 -> 0%\n",
      "27.0 -> 0%\n",
      "76.2917 -> 0%\n",
      "90.0 -> 0%\n",
      "9.35 -> 0%\n",
      "13.5 -> 0%\n",
      "7.55 -> 0%\n",
      "26.25 -> 1%\n",
      "12.275 -> 0%\n",
      "7.125 -> 0%\n",
      "52.5542 -> 0%\n",
      "20.2125 -> 0%\n",
      "86.5 -> 0%\n",
      "512.3292 -> 0%\n",
      "79.65 -> 0%\n",
      "153.4625 -> 0%\n",
      "135.6333 -> 0%\n",
      "19.5 -> 0%\n",
      "29.7 -> 0%\n",
      "77.9583 -> 0%\n",
      "20.25 -> 0%\n",
      "78.85 -> 0%\n",
      "91.0792 -> 0%\n",
      "12.875 -> 0%\n",
      "8.85 -> 0%\n",
      "151.55 -> 0%\n",
      "30.5 -> 1%\n",
      "23.25 -> 0%\n",
      "12.35 -> 0%\n",
      "110.8833 -> 0%\n",
      "108.9 -> 0%\n",
      "24.0 -> 0%\n",
      "56.9292 -> 0%\n",
      "83.1583 -> 0%\n",
      "262.375 -> 0%\n",
      "14.0 -> 0%\n",
      "164.8667 -> 0%\n",
      "134.5 -> 0%\n",
      "6.2375 -> 0%\n",
      "57.9792 -> 0%\n",
      "28.5 -> 0%\n",
      "133.65 -> 0%\n",
      "15.9 -> 0%\n",
      "9.225 -> 0%\n",
      "35.0 -> 0%\n",
      "75.25 -> 0%\n",
      "69.3 -> 0%\n",
      "55.4417 -> 0%\n",
      "211.5 -> 0%\n",
      "4.0125 -> 0%\n",
      "227.525 -> 0%\n",
      "15.7417 -> 0%\n",
      "7.7292 -> 0%\n",
      "12.0 -> 0%\n",
      "120.0 -> 0%\n",
      "12.65 -> 0%\n",
      "18.75 -> 0%\n",
      "6.8583 -> 0%\n",
      "32.5 -> 0%\n",
      "7.875 -> 0%\n",
      "14.4 -> 0%\n",
      "55.9 -> 0%\n",
      "8.1125 -> 0%\n",
      "81.8583 -> 0%\n",
      "19.2583 -> 0%\n",
      "19.9667 -> 0%\n",
      "89.1042 -> 0%\n",
      "38.5 -> 0%\n",
      "7.725 -> 0%\n",
      "13.7917 -> 0%\n",
      "9.8375 -> 0%\n",
      "7.0458 -> 0%\n",
      "7.5208 -> 0%\n",
      "12.2875 -> 0%\n",
      "9.5875 -> 0%\n",
      "49.5042 -> 0%\n",
      "78.2667 -> 0%\n",
      "15.1 -> 0%\n",
      "7.6292 -> 0%\n",
      "22.525 -> 0%\n",
      "26.2875 -> 0%\n",
      "59.4 -> 0%\n",
      "7.4958 -> 0%\n",
      "34.0208 -> 0%\n",
      "93.5 -> 0%\n",
      "221.7792 -> 0%\n",
      "106.425 -> 0%\n",
      "49.5 -> 0%\n",
      "71.0 -> 0%\n",
      "13.8625 -> 0%\n",
      "7.8292 -> 0%\n",
      "39.6 -> 0%\n",
      "17.4 -> 0%\n",
      "51.4792 -> 0%\n",
      "26.3875 -> 0%\n",
      "30.0 -> 1%\n",
      "40.125 -> 0%\n",
      "8.7125 -> 0%\n",
      "15.0 -> 0%\n",
      "33.0 -> 0%\n",
      "42.4 -> 0%\n",
      "15.55 -> 0%\n",
      "65.0 -> 0%\n",
      "32.3208 -> 0%\n",
      "7.0542 -> 0%\n",
      "8.4333 -> 0%\n",
      "25.5875 -> 0%\n",
      "9.8417 -> 0%\n",
      "8.1375 -> 0%\n",
      "10.1708 -> 0%\n",
      "211.3375 -> 0%\n",
      "57.0 -> 0%\n",
      "13.4167 -> 0%\n",
      "7.7417 -> 0%\n",
      "9.4833 -> 0%\n",
      "7.7375 -> 0%\n",
      "8.3625 -> 0%\n",
      "23.45 -> 0%\n",
      "25.9292 -> 0%\n",
      "8.6833 -> 0%\n",
      "8.5167 -> 0%\n",
      "7.8875 -> 0%\n",
      "37.0042 -> 0%\n",
      "6.45 -> 0%\n",
      "6.95 -> 0%\n",
      "8.3 -> 0%\n",
      "6.4375 -> 0%\n",
      "39.4 -> 0%\n",
      "14.1083 -> 0%\n",
      "13.8583 -> 0%\n",
      "50.4958 -> 0%\n",
      "5.0 -> 0%\n",
      "9.8458 -> 0%\n",
      "10.5167 -> 0%\n",
      " \n",
      "Sex\n",
      "male -> 65%\n",
      "female -> 35%\n",
      " \n",
      "Embarked\n",
      "S -> 72%\n",
      "C -> 19%\n",
      "Q -> 9%\n",
      "nan -> 0%\n",
      " \n"
     ]
    }
   ],
   "source": [
    "population = df.shape[0]\n",
    "for atribute in df:\n",
    "    print(f'{atribute}')\n",
    "    count = 0\n",
    "    for v in df[atribute].unique():\n",
    "        for result in df[atribute]:\n",
    "            if result == v:\n",
    "                count += 1\n",
    "        print(f'{v}', end=' -> ')\n",
    "        print(f'{(count/population)*100:.0f}%')\n",
    "        count = 0\n",
    "    print(' ')\n",
    "        "
   ]
  },
  {
   "cell_type": "code",
   "execution_count": 182,
   "id": "c56783ee",
   "metadata": {},
   "outputs": [
    {
     "data": {
      "text/plain": [
       "80"
      ]
     },
     "execution_count": 182,
     "metadata": {},
     "output_type": "execute_result"
    }
   ],
   "source": [
    "df.loc[(df['Pclass'] == 1) & (df['Survived'] == 0)].count()[0]"
   ]
  },
  {
   "cell_type": "code",
   "execution_count": 183,
   "id": "87969786",
   "metadata": {},
   "outputs": [
    {
     "name": "stdout",
     "output_type": "stream",
     "text": [
      "Survived\n",
      "0.0\n",
      "Not Survived:  -> 549 ----- 62%\n",
      "Survived:  -> 0 ----- 0%\n",
      "Survived/Death Ratio ------------------------------------ 0.0%\n",
      " \n",
      "1.0\n",
      "Not Survived:  -> 0 ----- 0%\n",
      "Survived:  -> 342 ----- 38%\n",
      "Survived/Death Ratio ------------------------------------ 100.0%\n",
      " \n",
      "Pclass\n",
      "3.0\n",
      "Not Survived:  -> 372 ----- 42%\n",
      "Survived:  -> 119 ----- 13%\n",
      "Survived/Death Ratio ------------------------------------ 24.2%\n",
      " \n",
      "1.0\n",
      "Not Survived:  -> 80 ----- 9%\n",
      "Survived:  -> 136 ----- 15%\n",
      "Survived/Death Ratio ------------------------------------ 63.0%\n",
      " \n",
      "2.0\n",
      "Not Survived:  -> 97 ----- 11%\n",
      "Survived:  -> 87 ----- 10%\n",
      "Survived/Death Ratio ------------------------------------ 47.3%\n",
      " \n",
      "Age\n",
      "22.0\n",
      "Not Survived:  -> 18 ----- 2%\n",
      "Survived:  -> 12 ----- 1%\n",
      "Survived/Death Ratio ------------------------------------ 40.0%\n",
      " \n",
      "38.0\n",
      "Not Survived:  -> 12 ----- 1%\n",
      "Survived:  -> 7 ----- 1%\n",
      "Survived/Death Ratio ------------------------------------ 36.8%\n",
      " \n",
      "26.0\n",
      "Not Survived:  -> 12 ----- 1%\n",
      "Survived:  -> 6 ----- 1%\n",
      "Survived/Death Ratio ------------------------------------ 33.3%\n",
      " \n",
      "35.0\n",
      "Not Survived:  -> 10 ----- 1%\n",
      "Survived:  -> 12 ----- 1%\n",
      "Survived/Death Ratio ------------------------------------ 54.5%\n",
      " \n",
      "26.5\n",
      "Not Survived:  -> 1 ----- 0%\n",
      "Survived:  -> 0 ----- 0%\n",
      "Survived/Death Ratio ------------------------------------ 0.0%\n",
      " \n",
      "54.0\n",
      "Not Survived:  -> 5 ----- 1%\n",
      "Survived:  -> 3 ----- 0%\n",
      "Survived/Death Ratio ------------------------------------ 37.5%\n",
      " \n",
      "2.0\n",
      "Not Survived:  -> 7 ----- 1%\n",
      "Survived:  -> 3 ----- 0%\n",
      "Survived/Death Ratio ------------------------------------ 30.0%\n",
      " \n",
      "27.0\n",
      "Not Survived:  -> 8 ----- 1%\n",
      "Survived:  -> 12 ----- 1%\n",
      "Survived/Death Ratio ------------------------------------ 60.0%\n",
      " \n",
      "14.0\n",
      "Not Survived:  -> 3 ----- 0%\n",
      "Survived:  -> 5 ----- 1%\n",
      "Survived/Death Ratio ------------------------------------ 62.5%\n",
      " \n",
      "4.0\n",
      "Not Survived:  -> 3 ----- 0%\n",
      "Survived:  -> 8 ----- 1%\n",
      "Survived/Death Ratio ------------------------------------ 72.7%\n",
      " \n",
      "58.0\n",
      "Not Survived:  -> 3 ----- 0%\n",
      "Survived:  -> 3 ----- 0%\n",
      "Survived/Death Ratio ------------------------------------ 50.0%\n",
      " \n",
      "20.0\n",
      "Not Survived:  -> 14 ----- 2%\n",
      "Survived:  -> 4 ----- 0%\n",
      "Survived/Death Ratio ------------------------------------ 22.2%\n",
      " \n",
      "39.0\n",
      "Not Survived:  -> 9 ----- 1%\n",
      "Survived:  -> 5 ----- 1%\n",
      "Survived/Death Ratio ------------------------------------ 35.7%\n",
      " \n",
      "55.0\n",
      "Not Survived:  -> 1 ----- 0%\n",
      "Survived:  -> 1 ----- 0%\n",
      "Survived/Death Ratio ------------------------------------ 50.0%\n",
      " \n",
      "31.0\n",
      "Not Survived:  -> 9 ----- 1%\n",
      "Survived:  -> 8 ----- 1%\n",
      "Survived/Death Ratio ------------------------------------ 47.1%\n",
      " \n",
      "34.0\n",
      "Not Survived:  -> 12 ----- 1%\n",
      "Survived:  -> 7 ----- 1%\n",
      "Survived/Death Ratio ------------------------------------ 36.8%\n",
      " \n",
      "15.0\n",
      "Not Survived:  -> 2 ----- 0%\n",
      "Survived:  -> 4 ----- 0%\n",
      "Survived/Death Ratio ------------------------------------ 66.7%\n",
      " \n",
      "28.0\n",
      "Not Survived:  -> 18 ----- 2%\n",
      "Survived:  -> 8 ----- 1%\n",
      "Survived/Death Ratio ------------------------------------ 30.8%\n",
      " \n",
      "8.0\n",
      "Not Survived:  -> 2 ----- 0%\n",
      "Survived:  -> 2 ----- 0%\n",
      "Survived/Death Ratio ------------------------------------ 50.0%\n",
      " \n",
      "37.75\n",
      "Not Survived:  -> 5 ----- 1%\n",
      "Survived:  -> 0 ----- 0%\n",
      "Survived/Death Ratio ------------------------------------ 0.0%\n",
      " \n",
      "19.0\n",
      "Not Survived:  -> 16 ----- 2%\n",
      "Survived:  -> 19 ----- 2%\n",
      "Survived/Death Ratio ------------------------------------ 54.3%\n",
      " \n",
      "22.5\n",
      "Not Survived:  -> 3 ----- 0%\n",
      "Survived:  -> 4 ----- 0%\n",
      "Survived/Death Ratio ------------------------------------ 57.1%\n",
      " \n",
      "33.0\n",
      "Not Survived:  -> 28 ----- 3%\n",
      "Survived:  -> 6 ----- 1%\n",
      "Survived/Death Ratio ------------------------------------ 17.6%\n",
      " \n",
      "40.0\n",
      "Not Survived:  -> 9 ----- 1%\n",
      "Survived:  -> 7 ----- 1%\n",
      "Survived/Death Ratio ------------------------------------ 43.8%\n",
      " \n",
      "66.0\n",
      "Not Survived:  -> 1 ----- 0%\n",
      "Survived:  -> 0 ----- 0%\n",
      "Survived/Death Ratio ------------------------------------ 0.0%\n",
      " \n",
      "42.0\n",
      "Not Survived:  -> 7 ----- 1%\n",
      "Survived:  -> 7 ----- 1%\n",
      "Survived/Death Ratio ------------------------------------ 50.0%\n",
      " \n",
      "21.0\n",
      "Not Survived:  -> 19 ----- 2%\n",
      "Survived:  -> 6 ----- 1%\n",
      "Survived/Death Ratio ------------------------------------ 24.0%\n",
      " \n",
      "18.0\n",
      "Not Survived:  -> 17 ----- 2%\n",
      "Survived:  -> 9 ----- 1%\n",
      "Survived/Death Ratio ------------------------------------ 34.6%\n",
      " \n",
      "3.0\n",
      "Not Survived:  -> 1 ----- 0%\n",
      "Survived:  -> 5 ----- 1%\n",
      "Survived/Death Ratio ------------------------------------ 83.3%\n",
      " \n",
      "27.5\n",
      "Not Survived:  -> 14 ----- 2%\n",
      "Survived:  -> 0 ----- 0%\n",
      "Survived/Death Ratio ------------------------------------ 0.0%\n",
      " \n",
      "15.5\n",
      "Not Survived:  -> 1 ----- 0%\n",
      "Survived:  -> 0 ----- 0%\n",
      "Survived/Death Ratio ------------------------------------ 0.0%\n",
      " \n",
      "7.0\n",
      "Not Survived:  -> 2 ----- 0%\n",
      "Survived:  -> 1 ----- 0%\n",
      "Survived/Death Ratio ------------------------------------ 33.3%\n",
      " \n",
      "49.0\n",
      "Not Survived:  -> 2 ----- 0%\n",
      "Survived:  -> 4 ----- 0%\n",
      "Survived/Death Ratio ------------------------------------ 66.7%\n",
      " \n",
      "29.0\n",
      "Not Survived:  -> 12 ----- 1%\n",
      "Survived:  -> 12 ----- 1%\n",
      "Survived/Death Ratio ------------------------------------ 50.0%\n",
      " \n",
      "65.0\n",
      "Not Survived:  -> 3 ----- 0%\n",
      "Survived:  -> 0 ----- 0%\n",
      "Survived/Death Ratio ------------------------------------ 0.0%\n",
      " \n",
      "28.5\n",
      "Not Survived:  -> 2 ----- 0%\n",
      "Survived:  -> 0 ----- 0%\n",
      "Survived/Death Ratio ------------------------------------ 0.0%\n",
      " \n",
      "5.0\n",
      "Not Survived:  -> 0 ----- 0%\n",
      "Survived:  -> 4 ----- 0%\n",
      "Survived/Death Ratio ------------------------------------ 100.0%\n",
      " \n",
      "11.0\n",
      "Not Survived:  -> 3 ----- 0%\n",
      "Survived:  -> 1 ----- 0%\n",
      "Survived/Death Ratio ------------------------------------ 25.0%\n",
      " \n",
      "45.0\n",
      "Not Survived:  -> 7 ----- 1%\n",
      "Survived:  -> 5 ----- 1%\n",
      "Survived/Death Ratio ------------------------------------ 41.7%\n",
      " \n",
      "11.5\n",
      "Not Survived:  -> 0 ----- 0%\n",
      "Survived:  -> 2 ----- 0%\n",
      "Survived/Death Ratio ------------------------------------ 100.0%\n",
      " \n",
      "17.0\n",
      "Not Survived:  -> 10 ----- 1%\n",
      "Survived:  -> 6 ----- 1%\n",
      "Survived/Death Ratio ------------------------------------ 37.5%\n",
      " \n",
      "32.0\n",
      "Not Survived:  -> 11 ----- 1%\n",
      "Survived:  -> 10 ----- 1%\n",
      "Survived/Death Ratio ------------------------------------ 47.6%\n",
      " \n",
      "16.0\n",
      "Not Survived:  -> 11 ----- 1%\n",
      "Survived:  -> 7 ----- 1%\n",
      "Survived/Death Ratio ------------------------------------ 38.9%\n",
      " \n",
      "25.0\n",
      "Not Survived:  -> 21 ----- 2%\n",
      "Survived:  -> 9 ----- 1%\n",
      "Survived/Death Ratio ------------------------------------ 30.0%\n",
      " \n",
      "0.83\n",
      "Not Survived:  -> 0 ----- 0%\n",
      "Survived:  -> 2 ----- 0%\n",
      "Survived/Death Ratio ------------------------------------ 100.0%\n",
      " \n",
      "30.0\n",
      "Not Survived:  -> 17 ----- 2%\n",
      "Survived:  -> 10 ----- 1%\n",
      "Survived/Death Ratio ------------------------------------ 37.0%\n",
      " \n",
      "23.0\n",
      "Not Survived:  -> 14 ----- 2%\n",
      "Survived:  -> 5 ----- 1%\n",
      "Survived/Death Ratio ------------------------------------ 26.3%\n",
      " \n",
      "24.0\n",
      "Not Survived:  -> 15 ----- 2%\n",
      "Survived:  -> 16 ----- 2%\n",
      "Survived/Death Ratio ------------------------------------ 51.6%\n",
      " \n",
      "46.0\n",
      "Not Survived:  -> 3 ----- 0%\n",
      "Survived:  -> 0 ----- 0%\n",
      "Survived/Death Ratio ------------------------------------ 0.0%\n",
      " \n",
      "59.0\n",
      "Not Survived:  -> 2 ----- 0%\n",
      "Survived:  -> 0 ----- 0%\n",
      "Survived/Death Ratio ------------------------------------ 0.0%\n",
      " \n",
      "71.0\n",
      "Not Survived:  -> 2 ----- 0%\n",
      "Survived:  -> 0 ----- 0%\n",
      "Survived/Death Ratio ------------------------------------ 0.0%\n",
      " \n",
      "37.0\n",
      "Not Survived:  -> 5 ----- 1%\n",
      "Survived:  -> 1 ----- 0%\n",
      "Survived/Death Ratio ------------------------------------ 16.7%\n",
      " \n",
      "47.0\n",
      "Not Survived:  -> 8 ----- 1%\n",
      "Survived:  -> 1 ----- 0%\n",
      "Survived/Death Ratio ------------------------------------ 11.1%\n",
      " \n",
      "14.5\n",
      "Not Survived:  -> 1 ----- 0%\n",
      "Survived:  -> 0 ----- 0%\n",
      "Survived/Death Ratio ------------------------------------ 0.0%\n",
      " \n",
      "70.5\n",
      "Not Survived:  -> 1 ----- 0%\n",
      "Survived:  -> 0 ----- 0%\n",
      "Survived/Death Ratio ------------------------------------ 0.0%\n",
      " \n",
      "32.5\n",
      "Not Survived:  -> 2 ----- 0%\n",
      "Survived:  -> 1 ----- 0%\n",
      "Survived/Death Ratio ------------------------------------ 33.3%\n",
      " \n",
      "12.0\n",
      "Not Survived:  -> 0 ----- 0%\n",
      "Survived:  -> 1 ----- 0%\n",
      "Survived/Death Ratio ------------------------------------ 100.0%\n",
      " \n",
      "67.75\n",
      "Not Survived:  -> 9 ----- 1%\n",
      "Survived:  -> 0 ----- 0%\n",
      "Survived/Death Ratio ------------------------------------ 0.0%\n",
      " \n",
      "9.0\n",
      "Not Survived:  -> 6 ----- 1%\n",
      "Survived:  -> 2 ----- 0%\n",
      "Survived/Death Ratio ------------------------------------ 25.0%\n",
      " \n",
      "36.5\n",
      "Not Survived:  -> 1 ----- 0%\n",
      "Survived:  -> 0 ----- 0%\n",
      "Survived/Death Ratio ------------------------------------ 0.0%\n",
      " \n",
      "51.0\n",
      "Not Survived:  -> 6 ----- 1%\n",
      "Survived:  -> 2 ----- 0%\n",
      "Survived/Death Ratio ------------------------------------ 25.0%\n",
      " \n",
      "55.5\n",
      "Not Survived:  -> 5 ----- 1%\n",
      "Survived:  -> 0 ----- 0%\n",
      "Survived/Death Ratio ------------------------------------ 0.0%\n",
      " \n",
      "40.5\n",
      "Not Survived:  -> 6 ----- 1%\n",
      "Survived:  -> 1 ----- 0%\n",
      "Survived/Death Ratio ------------------------------------ 14.3%\n",
      " \n",
      "45.5\n",
      "Not Survived:  -> 9 ----- 1%\n",
      "Survived:  -> 0 ----- 0%\n",
      "Survived/Death Ratio ------------------------------------ 0.0%\n",
      " \n",
      "44.0\n",
      "Not Survived:  -> 6 ----- 1%\n",
      "Survived:  -> 4 ----- 0%\n",
      "Survived/Death Ratio ------------------------------------ 40.0%\n",
      " \n",
      "1.0\n",
      "Not Survived:  -> 2 ----- 0%\n",
      "Survived:  -> 5 ----- 1%\n",
      "Survived/Death Ratio ------------------------------------ 71.4%\n",
      " \n",
      "30.5\n",
      "Not Survived:  -> 3 ----- 0%\n",
      "Survived:  -> 1 ----- 0%\n",
      "Survived/Death Ratio ------------------------------------ 25.0%\n",
      " \n",
      "61.0\n",
      "Not Survived:  -> 3 ----- 0%\n",
      "Survived:  -> 0 ----- 0%\n",
      "Survived/Death Ratio ------------------------------------ 0.0%\n",
      " \n",
      "56.0\n",
      "Not Survived:  -> 2 ----- 0%\n",
      "Survived:  -> 2 ----- 0%\n",
      "Survived/Death Ratio ------------------------------------ 50.0%\n",
      " \n",
      "50.0\n",
      "Not Survived:  -> 5 ----- 1%\n",
      "Survived:  -> 5 ----- 1%\n",
      "Survived/Death Ratio ------------------------------------ 50.0%\n",
      " \n",
      "36.0\n",
      "Not Survived:  -> 11 ----- 1%\n",
      "Survived:  -> 11 ----- 1%\n",
      "Survived/Death Ratio ------------------------------------ 50.0%\n",
      " \n",
      "19.5\n",
      "Not Survived:  -> 0 ----- 0%\n",
      "Survived:  -> 3 ----- 0%\n",
      "Survived/Death Ratio ------------------------------------ 100.0%\n",
      " \n",
      "25.5\n",
      "Not Survived:  -> 4 ----- 0%\n",
      "Survived:  -> 0 ----- 0%\n",
      "Survived/Death Ratio ------------------------------------ 0.0%\n",
      " \n",
      "20.5\n",
      "Not Survived:  -> 1 ----- 0%\n",
      "Survived:  -> 0 ----- 0%\n",
      "Survived/Death Ratio ------------------------------------ 0.0%\n",
      " \n",
      "30.75\n",
      "Not Survived:  -> 2 ----- 0%\n",
      "Survived:  -> 0 ----- 0%\n",
      "Survived/Death Ratio ------------------------------------ 0.0%\n",
      " \n",
      "62.0\n",
      "Not Survived:  -> 2 ----- 0%\n",
      "Survived:  -> 2 ----- 0%\n",
      "Survived/Death Ratio ------------------------------------ 50.0%\n",
      " \n",
      "41.0\n",
      "Not Survived:  -> 4 ----- 0%\n",
      "Survived:  -> 2 ----- 0%\n",
      "Survived/Death Ratio ------------------------------------ 33.3%\n",
      " \n",
      "52.0\n"
     ]
    },
    {
     "name": "stdout",
     "output_type": "stream",
     "text": [
      "Not Survived:  -> 3 ----- 0%\n",
      "Survived:  -> 3 ----- 0%\n",
      "Survived/Death Ratio ------------------------------------ 50.0%\n",
      " \n",
      "63.0\n",
      "Not Survived:  -> 0 ----- 0%\n",
      "Survived:  -> 2 ----- 0%\n",
      "Survived/Death Ratio ------------------------------------ 100.0%\n",
      " \n",
      "23.5\n",
      "Not Survived:  -> 1 ----- 0%\n",
      "Survived:  -> 0 ----- 0%\n",
      "Survived/Death Ratio ------------------------------------ 0.0%\n",
      " \n",
      "39.5\n",
      "Not Survived:  -> 2 ----- 0%\n",
      "Survived:  -> 2 ----- 0%\n",
      "Survived/Death Ratio ------------------------------------ 50.0%\n",
      " \n",
      "0.92\n",
      "Not Survived:  -> 0 ----- 0%\n",
      "Survived:  -> 1 ----- 0%\n",
      "Survived/Death Ratio ------------------------------------ 100.0%\n",
      " \n",
      "43.0\n",
      "Not Survived:  -> 4 ----- 0%\n",
      "Survived:  -> 1 ----- 0%\n",
      "Survived/Death Ratio ------------------------------------ 20.0%\n",
      " \n",
      "60.0\n",
      "Not Survived:  -> 2 ----- 0%\n",
      "Survived:  -> 2 ----- 0%\n",
      "Survived/Death Ratio ------------------------------------ 50.0%\n",
      " \n",
      "29.5\n",
      "Not Survived:  -> 0 ----- 0%\n",
      "Survived:  -> 1 ----- 0%\n",
      "Survived/Death Ratio ------------------------------------ 100.0%\n",
      " \n",
      "10.0\n",
      "Not Survived:  -> 2 ----- 0%\n",
      "Survived:  -> 0 ----- 0%\n",
      "Survived/Death Ratio ------------------------------------ 0.0%\n",
      " \n",
      "64.0\n",
      "Not Survived:  -> 2 ----- 0%\n",
      "Survived:  -> 0 ----- 0%\n",
      "Survived/Death Ratio ------------------------------------ 0.0%\n",
      " \n",
      "31.5\n",
      "Not Survived:  -> 0 ----- 0%\n",
      "Survived:  -> 1 ----- 0%\n",
      "Survived/Death Ratio ------------------------------------ 100.0%\n",
      " \n",
      "13.0\n",
      "Not Survived:  -> 0 ----- 0%\n",
      "Survived:  -> 2 ----- 0%\n",
      "Survived/Death Ratio ------------------------------------ 100.0%\n",
      " \n",
      "48.0\n",
      "Not Survived:  -> 3 ----- 0%\n",
      "Survived:  -> 6 ----- 1%\n",
      "Survived/Death Ratio ------------------------------------ 66.7%\n",
      " \n",
      "0.75\n",
      "Not Survived:  -> 0 ----- 0%\n",
      "Survived:  -> 2 ----- 0%\n",
      "Survived/Death Ratio ------------------------------------ 100.0%\n",
      " \n",
      "50.5\n",
      "Not Survived:  -> 1 ----- 0%\n",
      "Survived:  -> 0 ----- 0%\n",
      "Survived/Death Ratio ------------------------------------ 0.0%\n",
      " \n",
      "37.5\n",
      "Not Survived:  -> 1 ----- 0%\n",
      "Survived:  -> 0 ----- 0%\n",
      "Survived/Death Ratio ------------------------------------ 0.0%\n",
      " \n",
      "25.25\n",
      "Not Survived:  -> 5 ----- 1%\n",
      "Survived:  -> 0 ----- 0%\n",
      "Survived/Death Ratio ------------------------------------ 0.0%\n",
      " \n",
      "53.0\n",
      "Not Survived:  -> 0 ----- 0%\n",
      "Survived:  -> 3 ----- 0%\n",
      "Survived/Death Ratio ------------------------------------ 100.0%\n",
      " \n",
      "43.5\n",
      "Not Survived:  -> 1 ----- 0%\n",
      "Survived:  -> 0 ----- 0%\n",
      "Survived/Death Ratio ------------------------------------ 0.0%\n",
      " \n",
      "57.0\n",
      "Not Survived:  -> 2 ----- 0%\n",
      "Survived:  -> 0 ----- 0%\n",
      "Survived/Death Ratio ------------------------------------ 0.0%\n",
      " \n",
      "80.0\n",
      "Not Survived:  -> 0 ----- 0%\n",
      "Survived:  -> 1 ----- 0%\n",
      "Survived/Death Ratio ------------------------------------ 100.0%\n",
      " \n",
      "70.0\n",
      "Not Survived:  -> 2 ----- 0%\n",
      "Survived:  -> 0 ----- 0%\n",
      "Survived/Death Ratio ------------------------------------ 0.0%\n",
      " \n",
      "24.5\n",
      "Not Survived:  -> 1 ----- 0%\n",
      "Survived:  -> 0 ----- 0%\n",
      "Survived/Death Ratio ------------------------------------ 0.0%\n",
      " \n",
      "63.5\n",
      "Not Survived:  -> 1 ----- 0%\n",
      "Survived:  -> 0 ----- 0%\n",
      "Survived/Death Ratio ------------------------------------ 0.0%\n",
      " \n",
      "24.75\n",
      "Not Survived:  -> 1 ----- 0%\n",
      "Survived:  -> 0 ----- 0%\n",
      "Survived/Death Ratio ------------------------------------ 0.0%\n",
      " \n",
      "6.0\n",
      "Not Survived:  -> 1 ----- 0%\n",
      "Survived:  -> 2 ----- 0%\n",
      "Survived/Death Ratio ------------------------------------ 66.7%\n",
      " \n",
      "0.67\n",
      "Not Survived:  -> 0 ----- 0%\n",
      "Survived:  -> 1 ----- 0%\n",
      "Survived/Death Ratio ------------------------------------ 100.0%\n",
      " \n",
      "41.5\n",
      "Not Survived:  -> 1 ----- 0%\n",
      "Survived:  -> 0 ----- 0%\n",
      "Survived/Death Ratio ------------------------------------ 0.0%\n",
      " \n",
      "0.42\n",
      "Not Survived:  -> 0 ----- 0%\n",
      "Survived:  -> 1 ----- 0%\n",
      "Survived/Death Ratio ------------------------------------ 100.0%\n",
      " \n",
      "34.5\n",
      "Not Survived:  -> 1 ----- 0%\n",
      "Survived:  -> 0 ----- 0%\n",
      "Survived/Death Ratio ------------------------------------ 0.0%\n",
      " \n",
      "74.0\n",
      "Not Survived:  -> 1 ----- 0%\n",
      "Survived:  -> 0 ----- 0%\n",
      "Survived/Death Ratio ------------------------------------ 0.0%\n",
      " \n",
      "SibSp\n",
      "1.0\n",
      "Not Survived:  -> 97 ----- 11%\n",
      "Survived:  -> 112 ----- 13%\n",
      "Survived/Death Ratio ------------------------------------ 53.6%\n",
      " \n",
      "0.0\n",
      "Not Survived:  -> 398 ----- 45%\n",
      "Survived:  -> 210 ----- 24%\n",
      "Survived/Death Ratio ------------------------------------ 34.5%\n",
      " \n",
      "3.0\n",
      "Not Survived:  -> 12 ----- 1%\n",
      "Survived:  -> 4 ----- 0%\n",
      "Survived/Death Ratio ------------------------------------ 25.0%\n",
      " \n",
      "4.0\n",
      "Not Survived:  -> 15 ----- 2%\n",
      "Survived:  -> 3 ----- 0%\n",
      "Survived/Death Ratio ------------------------------------ 16.7%\n",
      " \n",
      "2.0\n",
      "Not Survived:  -> 15 ----- 2%\n",
      "Survived:  -> 13 ----- 1%\n",
      "Survived/Death Ratio ------------------------------------ 46.4%\n",
      " \n",
      "5.0\n",
      "Not Survived:  -> 5 ----- 1%\n",
      "Survived:  -> 0 ----- 0%\n",
      "Survived/Death Ratio ------------------------------------ 0.0%\n",
      " \n",
      "8.0\n",
      "Not Survived:  -> 7 ----- 1%\n",
      "Survived:  -> 0 ----- 0%\n",
      "Survived/Death Ratio ------------------------------------ 0.0%\n",
      " \n",
      "Parch\n",
      "0.0\n",
      "Not Survived:  -> 445 ----- 50%\n",
      "Survived:  -> 233 ----- 26%\n",
      "Survived/Death Ratio ------------------------------------ 34.4%\n",
      " \n",
      "1.0\n",
      "Not Survived:  -> 53 ----- 6%\n",
      "Survived:  -> 65 ----- 7%\n",
      "Survived/Death Ratio ------------------------------------ 55.1%\n",
      " \n",
      "2.0\n",
      "Not Survived:  -> 40 ----- 4%\n",
      "Survived:  -> 40 ----- 4%\n",
      "Survived/Death Ratio ------------------------------------ 50.0%\n",
      " \n",
      "5.0\n",
      "Not Survived:  -> 4 ----- 0%\n",
      "Survived:  -> 1 ----- 0%\n",
      "Survived/Death Ratio ------------------------------------ 20.0%\n",
      " \n",
      "3.0\n",
      "Not Survived:  -> 2 ----- 0%\n",
      "Survived:  -> 3 ----- 0%\n",
      "Survived/Death Ratio ------------------------------------ 60.0%\n",
      " \n",
      "4.0\n",
      "Not Survived:  -> 4 ----- 0%\n",
      "Survived:  -> 0 ----- 0%\n",
      "Survived/Death Ratio ------------------------------------ 0.0%\n",
      " \n",
      "6.0\n",
      "Not Survived:  -> 1 ----- 0%\n",
      "Survived:  -> 0 ----- 0%\n",
      "Survived/Death Ratio ------------------------------------ 0.0%\n",
      " \n",
      "Fare\n",
      "7.25\n",
      "Not Survived:  -> 12 ----- 1%\n",
      "Survived:  -> 1 ----- 0%\n",
      "Survived/Death Ratio ------------------------------------ 7.7%\n",
      " \n",
      "71.2833\n",
      "Not Survived:  -> 0 ----- 0%\n",
      "Survived:  -> 1 ----- 0%\n",
      "Survived/Death Ratio ------------------------------------ 100.0%\n",
      " \n",
      "7.925\n",
      "Not Survived:  -> 10 ----- 1%\n",
      "Survived:  -> 8 ----- 1%\n",
      "Survived/Death Ratio ------------------------------------ 44.4%\n",
      " \n",
      "53.1\n",
      "Not Survived:  -> 2 ----- 0%\n",
      "Survived:  -> 3 ----- 0%\n",
      "Survived/Death Ratio ------------------------------------ 60.0%\n",
      " \n",
      "8.05\n",
      "Not Survived:  -> 38 ----- 4%\n",
      "Survived:  -> 5 ----- 1%\n",
      "Survived/Death Ratio ------------------------------------ 11.6%\n",
      " \n",
      "8.4583\n",
      "Not Survived:  -> 1 ----- 0%\n",
      "Survived:  -> 0 ----- 0%\n",
      "Survived/Death Ratio ------------------------------------ 0.0%\n",
      " \n",
      "51.8625\n",
      "Not Survived:  -> 1 ----- 0%\n",
      "Survived:  -> 1 ----- 0%\n",
      "Survived/Death Ratio ------------------------------------ 50.0%\n",
      " \n",
      "21.075\n",
      "Not Survived:  -> 4 ----- 0%\n",
      "Survived:  -> 0 ----- 0%\n",
      "Survived/Death Ratio ------------------------------------ 0.0%\n",
      " \n",
      "11.1333\n",
      "Not Survived:  -> 0 ----- 0%\n",
      "Survived:  -> 3 ----- 0%\n",
      "Survived/Death Ratio ------------------------------------ 100.0%\n",
      " \n",
      "30.0708\n",
      "Not Survived:  -> 1 ----- 0%\n",
      "Survived:  -> 1 ----- 0%\n",
      "Survived/Death Ratio ------------------------------------ 50.0%\n",
      " \n",
      "16.7\n",
      "Not Survived:  -> 0 ----- 0%\n",
      "Survived:  -> 2 ----- 0%\n",
      "Survived/Death Ratio ------------------------------------ 100.0%\n",
      " \n",
      "26.55\n",
      "Not Survived:  -> 7 ----- 1%\n",
      "Survived:  -> 8 ----- 1%\n",
      "Survived/Death Ratio ------------------------------------ 53.3%\n",
      " \n",
      "31.275\n",
      "Not Survived:  -> 7 ----- 1%\n",
      "Survived:  -> 0 ----- 0%\n",
      "Survived/Death Ratio ------------------------------------ 0.0%\n",
      " \n",
      "7.8542\n",
      "Not Survived:  -> 10 ----- 1%\n",
      "Survived:  -> 3 ----- 0%\n",
      "Survived/Death Ratio ------------------------------------ 23.1%\n",
      " \n",
      "16.0\n",
      "Not Survived:  -> 0 ----- 0%\n",
      "Survived:  -> 1 ----- 0%\n",
      "Survived/Death Ratio ------------------------------------ 100.0%\n",
      " \n",
      "29.125\n",
      "Not Survived:  -> 5 ----- 1%\n",
      "Survived:  -> 0 ----- 0%\n",
      "Survived/Death Ratio ------------------------------------ 0.0%\n",
      " \n",
      "13.0\n",
      "Not Survived:  -> 26 ----- 3%\n",
      "Survived:  -> 16 ----- 2%\n",
      "Survived/Death Ratio ------------------------------------ 38.1%\n",
      " \n",
      "18.0\n",
      "Not Survived:  -> 3 ----- 0%\n",
      "Survived:  -> 0 ----- 0%\n",
      "Survived/Death Ratio ------------------------------------ 0.0%\n",
      " \n",
      "7.225\n",
      "Not Survived:  -> 9 ----- 1%\n",
      "Survived:  -> 3 ----- 0%\n",
      "Survived/Death Ratio ------------------------------------ 25.0%\n",
      " \n",
      "26.0\n",
      "Not Survived:  -> 16 ----- 2%\n",
      "Survived:  -> 15 ----- 2%\n",
      "Survived/Death Ratio ------------------------------------ 48.4%\n",
      " \n",
      "8.0292\n",
      "Not Survived:  -> 0 ----- 0%\n",
      "Survived:  -> 1 ----- 0%\n",
      "Survived/Death Ratio ------------------------------------ 100.0%\n",
      " \n",
      "35.5\n",
      "Not Survived:  -> 1 ----- 0%\n",
      "Survived:  -> 3 ----- 0%\n",
      "Survived/Death Ratio ------------------------------------ 75.0%\n",
      " \n",
      "31.3875\n",
      "Not Survived:  -> 1 ----- 0%\n",
      "Survived:  -> 3 ----- 0%\n",
      "Survived/Death Ratio ------------------------------------ 75.0%\n",
      " \n",
      "263.0\n",
      "Not Survived:  -> 2 ----- 0%\n",
      "Survived:  -> 2 ----- 0%\n",
      "Survived/Death Ratio ------------------------------------ 50.0%\n",
      " \n",
      "7.8792\n",
      "Not Survived:  -> 0 ----- 0%\n",
      "Survived:  -> 4 ----- 0%\n",
      "Survived/Death Ratio ------------------------------------ 100.0%\n",
      " \n",
      "7.8958\n",
      "Not Survived:  -> 37 ----- 4%\n",
      "Survived:  -> 1 ----- 0%\n",
      "Survived/Death Ratio ------------------------------------ 2.6%\n",
      " \n",
      "27.7208\n",
      "Not Survived:  -> 4 ----- 0%\n",
      "Survived:  -> 1 ----- 0%\n",
      "Survived/Death Ratio ------------------------------------ 20.0%\n",
      " \n",
      "146.5208\n",
      "Not Survived:  -> 0 ----- 0%\n",
      "Survived:  -> 2 ----- 0%\n",
      "Survived/Death Ratio ------------------------------------ 100.0%\n",
      " \n",
      "7.75\n",
      "Not Survived:  -> 22 ----- 2%\n",
      "Survived:  -> 12 ----- 1%\n",
      "Survived/Death Ratio ------------------------------------ 35.3%\n",
      " \n",
      "10.5\n",
      "Not Survived:  -> 15 ----- 2%\n",
      "Survived:  -> 9 ----- 1%\n",
      "Survived/Death Ratio ------------------------------------ 37.5%\n",
      " \n",
      "82.1708\n",
      "Not Survived:  -> 1 ----- 0%\n",
      "Survived:  -> 1 ----- 0%\n",
      "Survived/Death Ratio ------------------------------------ 50.0%\n",
      " \n",
      "52.0\n",
      "Not Survived:  -> 4 ----- 0%\n",
      "Survived:  -> 3 ----- 0%\n",
      "Survived/Death Ratio ------------------------------------ 42.9%\n",
      " \n",
      "7.2292\n",
      "Not Survived:  -> 11 ----- 1%\n",
      "Survived:  -> 4 ----- 0%\n",
      "Survived/Death Ratio ------------------------------------ 26.7%\n",
      " \n",
      "11.2417\n",
      "Not Survived:  -> 0 ----- 0%\n",
      "Survived:  -> 2 ----- 0%\n",
      "Survived/Death Ratio ------------------------------------ 100.0%\n",
      " \n",
      "9.475\n",
      "Not Survived:  -> 1 ----- 0%\n",
      "Survived:  -> 0 ----- 0%\n",
      "Survived/Death Ratio ------------------------------------ 0.0%\n",
      " \n",
      "21.0\n",
      "Not Survived:  -> 4 ----- 0%\n",
      "Survived:  -> 2 ----- 0%\n",
      "Survived/Death Ratio ------------------------------------ 33.3%\n",
      " \n",
      "41.5792\n",
      "Not Survived:  -> 1 ----- 0%\n",
      "Survived:  -> 2 ----- 0%\n",
      "Survived/Death Ratio ------------------------------------ 66.7%\n",
      " \n",
      "15.5\n",
      "Not Survived:  -> 5 ----- 1%\n",
      "Survived:  -> 3 ----- 0%\n",
      "Survived/Death Ratio ------------------------------------ 37.5%\n",
      " \n",
      "21.6792\n",
      "Not Survived:  -> 1 ----- 0%\n",
      "Survived:  -> 0 ----- 0%\n",
      "Survived/Death Ratio ------------------------------------ 0.0%\n",
      " \n",
      "17.8\n",
      "Not Survived:  -> 2 ----- 0%\n",
      "Survived:  -> 0 ----- 0%\n",
      "Survived/Death Ratio ------------------------------------ 0.0%\n",
      " \n",
      "39.6875\n",
      "Not Survived:  -> 6 ----- 1%\n",
      "Survived:  -> 0 ----- 0%\n",
      "Survived/Death Ratio ------------------------------------ 0.0%\n",
      " \n",
      "7.8\n",
      "Not Survived:  -> 1 ----- 0%\n",
      "Survived:  -> 0 ----- 0%\n",
      "Survived/Death Ratio ------------------------------------ 0.0%\n",
      " \n",
      "76.7292\n",
      "Not Survived:  -> 0 ----- 0%\n",
      "Survived:  -> 3 ----- 0%\n",
      "Survived/Death Ratio ------------------------------------ 100.0%\n",
      " \n",
      "61.9792\n",
      "Not Survived:  -> 1 ----- 0%\n",
      "Survived:  -> 0 ----- 0%\n",
      "Survived/Death Ratio ------------------------------------ 0.0%\n",
      " \n",
      "27.75\n",
      "Not Survived:  -> 2 ----- 0%\n",
      "Survived:  -> 2 ----- 0%\n",
      "Survived/Death Ratio ------------------------------------ 50.0%\n",
      " \n",
      "46.9\n",
      "Not Survived:  -> 6 ----- 1%\n",
      "Survived:  -> 0 ----- 0%\n",
      "Survived/Death Ratio ------------------------------------ 0.0%\n",
      " \n",
      "80.0\n",
      "Not Survived:  -> 0 ----- 0%\n",
      "Survived:  -> 2 ----- 0%\n",
      "Survived/Death Ratio ------------------------------------ 100.0%\n",
      " \n",
      "83.475\n",
      "Not Survived:  -> 1 ----- 0%\n",
      "Survived:  -> 1 ----- 0%\n",
      "Survived/Death Ratio ------------------------------------ 50.0%\n",
      " \n",
      "27.9\n"
     ]
    },
    {
     "name": "stdout",
     "output_type": "stream",
     "text": [
      "Not Survived:  -> 6 ----- 1%\n",
      "Survived:  -> 0 ----- 0%\n",
      "Survived/Death Ratio ------------------------------------ 0.0%\n",
      " \n",
      "15.2458\n",
      "Not Survived:  -> 2 ----- 0%\n",
      "Survived:  -> 3 ----- 0%\n",
      "Survived/Death Ratio ------------------------------------ 60.0%\n",
      " \n",
      "8.1583\n",
      "Not Survived:  -> 1 ----- 0%\n",
      "Survived:  -> 0 ----- 0%\n",
      "Survived/Death Ratio ------------------------------------ 0.0%\n",
      " \n",
      "8.6625\n",
      "Not Survived:  -> 12 ----- 1%\n",
      "Survived:  -> 1 ----- 0%\n",
      "Survived/Death Ratio ------------------------------------ 7.7%\n",
      " \n",
      "73.5\n",
      "Not Survived:  -> 5 ----- 1%\n",
      "Survived:  -> 0 ----- 0%\n",
      "Survived/Death Ratio ------------------------------------ 0.0%\n",
      " \n",
      "14.4542\n",
      "Not Survived:  -> 6 ----- 1%\n",
      "Survived:  -> 1 ----- 0%\n",
      "Survived/Death Ratio ------------------------------------ 14.3%\n",
      " \n",
      "56.4958\n",
      "Not Survived:  -> 2 ----- 0%\n",
      "Survived:  -> 5 ----- 1%\n",
      "Survived/Death Ratio ------------------------------------ 71.4%\n",
      " \n",
      "7.65\n",
      "Not Survived:  -> 3 ----- 0%\n",
      "Survived:  -> 1 ----- 0%\n",
      "Survived/Death Ratio ------------------------------------ 25.0%\n",
      " \n",
      "29.0\n",
      "Not Survived:  -> 0 ----- 0%\n",
      "Survived:  -> 2 ----- 0%\n",
      "Survived/Death Ratio ------------------------------------ 100.0%\n",
      " \n",
      "12.475\n",
      "Not Survived:  -> 0 ----- 0%\n",
      "Survived:  -> 4 ----- 0%\n",
      "Survived/Death Ratio ------------------------------------ 100.0%\n",
      " \n",
      "9.0\n",
      "Not Survived:  -> 2 ----- 0%\n",
      "Survived:  -> 0 ----- 0%\n",
      "Survived/Death Ratio ------------------------------------ 0.0%\n",
      " \n",
      "9.5\n",
      "Not Survived:  -> 7 ----- 1%\n",
      "Survived:  -> 2 ----- 0%\n",
      "Survived/Death Ratio ------------------------------------ 22.2%\n",
      " \n",
      "7.7875\n",
      "Not Survived:  -> 0 ----- 0%\n",
      "Survived:  -> 1 ----- 0%\n",
      "Survived/Death Ratio ------------------------------------ 100.0%\n",
      " \n",
      "47.1\n",
      "Not Survived:  -> 1 ----- 0%\n",
      "Survived:  -> 0 ----- 0%\n",
      "Survived/Death Ratio ------------------------------------ 0.0%\n",
      " \n",
      "15.85\n",
      "Not Survived:  -> 2 ----- 0%\n",
      "Survived:  -> 2 ----- 0%\n",
      "Survived/Death Ratio ------------------------------------ 50.0%\n",
      " \n",
      "34.375\n",
      "Not Survived:  -> 4 ----- 0%\n",
      "Survived:  -> 0 ----- 0%\n",
      "Survived/Death Ratio ------------------------------------ 0.0%\n",
      " \n",
      "61.175\n",
      "Not Survived:  -> 1 ----- 0%\n",
      "Survived:  -> 0 ----- 0%\n",
      "Survived/Death Ratio ------------------------------------ 0.0%\n",
      " \n",
      "20.575\n",
      "Not Survived:  -> 1 ----- 0%\n",
      "Survived:  -> 1 ----- 0%\n",
      "Survived/Death Ratio ------------------------------------ 50.0%\n",
      " \n",
      "34.6542\n",
      "Not Survived:  -> 1 ----- 0%\n",
      "Survived:  -> 0 ----- 0%\n",
      "Survived/Death Ratio ------------------------------------ 0.0%\n",
      " \n",
      "63.3583\n",
      "Not Survived:  -> 0 ----- 0%\n",
      "Survived:  -> 1 ----- 0%\n",
      "Survived/Death Ratio ------------------------------------ 100.0%\n",
      " \n",
      "23.0\n",
      "Not Survived:  -> 0 ----- 0%\n",
      "Survived:  -> 4 ----- 0%\n",
      "Survived/Death Ratio ------------------------------------ 100.0%\n",
      " \n",
      "77.2875\n",
      "Not Survived:  -> 2 ----- 0%\n",
      "Survived:  -> 0 ----- 0%\n",
      "Survived/Death Ratio ------------------------------------ 0.0%\n",
      " \n",
      "8.6542\n",
      "Not Survived:  -> 1 ----- 0%\n",
      "Survived:  -> 0 ----- 0%\n",
      "Survived/Death Ratio ------------------------------------ 0.0%\n",
      " \n",
      "7.775\n",
      "Not Survived:  -> 13 ----- 1%\n",
      "Survived:  -> 3 ----- 0%\n",
      "Survived/Death Ratio ------------------------------------ 18.8%\n",
      " \n",
      "24.15\n",
      "Not Survived:  -> 7 ----- 1%\n",
      "Survived:  -> 1 ----- 0%\n",
      "Survived/Death Ratio ------------------------------------ 12.5%\n",
      " \n",
      "9.825\n",
      "Not Survived:  -> 2 ----- 0%\n",
      "Survived:  -> 0 ----- 0%\n",
      "Survived/Death Ratio ------------------------------------ 0.0%\n",
      " \n",
      "14.4583\n",
      "Not Survived:  -> 3 ----- 0%\n",
      "Survived:  -> 0 ----- 0%\n",
      "Survived/Death Ratio ------------------------------------ 0.0%\n",
      " \n",
      "247.5208\n",
      "Not Survived:  -> 1 ----- 0%\n",
      "Survived:  -> 1 ----- 0%\n",
      "Survived/Death Ratio ------------------------------------ 50.0%\n",
      " \n",
      "7.1417\n",
      "Not Survived:  -> 0 ----- 0%\n",
      "Survived:  -> 1 ----- 0%\n",
      "Survived/Death Ratio ------------------------------------ 100.0%\n",
      " \n",
      "22.3583\n",
      "Not Survived:  -> 0 ----- 0%\n",
      "Survived:  -> 2 ----- 0%\n",
      "Survived/Death Ratio ------------------------------------ 100.0%\n",
      " \n",
      "6.975\n",
      "Not Survived:  -> 1 ----- 0%\n",
      "Survived:  -> 1 ----- 0%\n",
      "Survived/Death Ratio ------------------------------------ 50.0%\n",
      " \n",
      "7.05\n",
      "Not Survived:  -> 7 ----- 1%\n",
      "Survived:  -> 0 ----- 0%\n",
      "Survived/Death Ratio ------------------------------------ 0.0%\n",
      " \n",
      "14.5\n",
      "Not Survived:  -> 5 ----- 1%\n",
      "Survived:  -> 2 ----- 0%\n",
      "Survived/Death Ratio ------------------------------------ 28.6%\n",
      " \n",
      "15.0458\n",
      "Not Survived:  -> 1 ----- 0%\n",
      "Survived:  -> 0 ----- 0%\n",
      "Survived/Death Ratio ------------------------------------ 0.0%\n",
      " \n",
      "26.2833\n",
      "Not Survived:  -> 0 ----- 0%\n",
      "Survived:  -> 1 ----- 0%\n",
      "Survived/Death Ratio ------------------------------------ 100.0%\n",
      " \n",
      "9.2167\n",
      "Not Survived:  -> 1 ----- 0%\n",
      "Survived:  -> 0 ----- 0%\n",
      "Survived/Death Ratio ------------------------------------ 0.0%\n",
      " \n",
      "79.2\n",
      "Not Survived:  -> 2 ----- 0%\n",
      "Survived:  -> 2 ----- 0%\n",
      "Survived/Death Ratio ------------------------------------ 50.0%\n",
      " \n",
      "6.75\n",
      "Not Survived:  -> 2 ----- 0%\n",
      "Survived:  -> 0 ----- 0%\n",
      "Survived/Death Ratio ------------------------------------ 0.0%\n",
      " \n",
      "11.5\n",
      "Not Survived:  -> 4 ----- 0%\n",
      "Survived:  -> 0 ----- 0%\n",
      "Survived/Death Ratio ------------------------------------ 0.0%\n",
      " \n",
      "36.75\n",
      "Not Survived:  -> 1 ----- 0%\n",
      "Survived:  -> 1 ----- 0%\n",
      "Survived/Death Ratio ------------------------------------ 50.0%\n",
      " \n",
      "7.7958\n",
      "Not Survived:  -> 4 ----- 0%\n",
      "Survived:  -> 2 ----- 0%\n",
      "Survived/Death Ratio ------------------------------------ 33.3%\n",
      " \n",
      "12.525\n",
      "Not Survived:  -> 1 ----- 0%\n",
      "Survived:  -> 0 ----- 0%\n",
      "Survived/Death Ratio ------------------------------------ 0.0%\n",
      " \n",
      "66.6\n",
      "Not Survived:  -> 1 ----- 0%\n",
      "Survived:  -> 1 ----- 0%\n",
      "Survived/Death Ratio ------------------------------------ 50.0%\n",
      " \n",
      "7.3125\n",
      "Not Survived:  -> 1 ----- 0%\n",
      "Survived:  -> 0 ----- 0%\n",
      "Survived/Death Ratio ------------------------------------ 0.0%\n",
      " \n",
      "61.3792\n",
      "Not Survived:  -> 1 ----- 0%\n",
      "Survived:  -> 0 ----- 0%\n",
      "Survived/Death Ratio ------------------------------------ 0.0%\n",
      " \n",
      "7.7333\n",
      "Not Survived:  -> 2 ----- 0%\n",
      "Survived:  -> 2 ----- 0%\n",
      "Survived/Death Ratio ------------------------------------ 50.0%\n",
      " \n",
      "69.55\n",
      "Not Survived:  -> 7 ----- 1%\n",
      "Survived:  -> 0 ----- 0%\n",
      "Survived/Death Ratio ------------------------------------ 0.0%\n",
      " \n",
      "16.1\n",
      "Not Survived:  -> 7 ----- 1%\n",
      "Survived:  -> 2 ----- 0%\n",
      "Survived/Death Ratio ------------------------------------ 22.2%\n",
      " \n",
      "15.75\n",
      "Not Survived:  -> 0 ----- 0%\n",
      "Survived:  -> 1 ----- 0%\n",
      "Survived/Death Ratio ------------------------------------ 100.0%\n",
      " \n",
      "20.525\n",
      "Not Survived:  -> 1 ----- 0%\n",
      "Survived:  -> 2 ----- 0%\n",
      "Survived/Death Ratio ------------------------------------ 66.7%\n",
      " \n",
      "55.0\n",
      "Not Survived:  -> 0 ----- 0%\n",
      "Survived:  -> 2 ----- 0%\n",
      "Survived/Death Ratio ------------------------------------ 100.0%\n",
      " \n",
      "25.925\n",
      "Not Survived:  -> 1 ----- 0%\n",
      "Survived:  -> 0 ----- 0%\n",
      "Survived/Death Ratio ------------------------------------ 0.0%\n",
      " \n",
      "33.5\n",
      "Not Survived:  -> 1 ----- 0%\n",
      "Survived:  -> 0 ----- 0%\n",
      "Survived/Death Ratio ------------------------------------ 0.0%\n",
      " \n",
      "30.6958\n",
      "Not Survived:  -> 2 ----- 0%\n",
      "Survived:  -> 0 ----- 0%\n",
      "Survived/Death Ratio ------------------------------------ 0.0%\n",
      " \n",
      "25.4667\n",
      "Not Survived:  -> 4 ----- 0%\n",
      "Survived:  -> 0 ----- 0%\n",
      "Survived/Death Ratio ------------------------------------ 0.0%\n",
      " \n",
      "28.7125\n",
      "Not Survived:  -> 1 ----- 0%\n",
      "Survived:  -> 0 ----- 0%\n",
      "Survived/Death Ratio ------------------------------------ 0.0%\n",
      " \n",
      "0.0\n",
      "Not Survived:  -> 14 ----- 2%\n",
      "Survived:  -> 1 ----- 0%\n",
      "Survived/Death Ratio ------------------------------------ 6.7%\n",
      " \n",
      "15.05\n",
      "Not Survived:  -> 1 ----- 0%\n",
      "Survived:  -> 0 ----- 0%\n",
      "Survived/Death Ratio ------------------------------------ 0.0%\n",
      " \n",
      "39.0\n",
      "Not Survived:  -> 1 ----- 0%\n",
      "Survived:  -> 3 ----- 0%\n",
      "Survived/Death Ratio ------------------------------------ 75.0%\n",
      " \n",
      "22.025\n",
      "Not Survived:  -> 0 ----- 0%\n",
      "Survived:  -> 1 ----- 0%\n",
      "Survived/Death Ratio ------------------------------------ 100.0%\n",
      " \n",
      "50.0\n",
      "Not Survived:  -> 1 ----- 0%\n",
      "Survived:  -> 0 ----- 0%\n",
      "Survived/Death Ratio ------------------------------------ 0.0%\n",
      " \n",
      "8.4042\n",
      "Not Survived:  -> 1 ----- 0%\n",
      "Survived:  -> 0 ----- 0%\n",
      "Survived/Death Ratio ------------------------------------ 0.0%\n",
      " \n",
      "6.4958\n",
      "Not Survived:  -> 2 ----- 0%\n",
      "Survived:  -> 0 ----- 0%\n",
      "Survived/Death Ratio ------------------------------------ 0.0%\n",
      " \n",
      "10.4625\n",
      "Not Survived:  -> 2 ----- 0%\n",
      "Survived:  -> 0 ----- 0%\n",
      "Survived/Death Ratio ------------------------------------ 0.0%\n",
      " \n",
      "18.7875\n",
      "Not Survived:  -> 1 ----- 0%\n",
      "Survived:  -> 1 ----- 0%\n",
      "Survived/Death Ratio ------------------------------------ 50.0%\n",
      " \n",
      "31.0\n",
      "Not Survived:  -> 1 ----- 0%\n",
      "Survived:  -> 2 ----- 0%\n",
      "Survived/Death Ratio ------------------------------------ 66.7%\n",
      " \n",
      "113.275\n",
      "Not Survived:  -> 1 ----- 0%\n",
      "Survived:  -> 2 ----- 0%\n",
      "Survived/Death Ratio ------------------------------------ 66.7%\n",
      " \n",
      "27.0\n",
      "Not Survived:  -> 1 ----- 0%\n",
      "Survived:  -> 1 ----- 0%\n",
      "Survived/Death Ratio ------------------------------------ 50.0%\n",
      " \n",
      "76.2917\n",
      "Not Survived:  -> 0 ----- 0%\n",
      "Survived:  -> 1 ----- 0%\n",
      "Survived/Death Ratio ------------------------------------ 100.0%\n",
      " \n",
      "90.0\n",
      "Not Survived:  -> 1 ----- 0%\n",
      "Survived:  -> 3 ----- 0%\n",
      "Survived/Death Ratio ------------------------------------ 75.0%\n",
      " \n",
      "9.35\n",
      "Not Survived:  -> 1 ----- 0%\n",
      "Survived:  -> 1 ----- 0%\n",
      "Survived/Death Ratio ------------------------------------ 50.0%\n",
      " \n",
      "13.5\n",
      "Not Survived:  -> 3 ----- 0%\n",
      "Survived:  -> 1 ----- 0%\n",
      "Survived/Death Ratio ------------------------------------ 25.0%\n",
      " \n",
      "7.55\n",
      "Not Survived:  -> 3 ----- 0%\n",
      "Survived:  -> 1 ----- 0%\n",
      "Survived/Death Ratio ------------------------------------ 25.0%\n",
      " \n",
      "26.25\n",
      "Not Survived:  -> 2 ----- 0%\n",
      "Survived:  -> 4 ----- 0%\n",
      "Survived/Death Ratio ------------------------------------ 66.7%\n",
      " \n",
      "12.275\n",
      "Not Survived:  -> 1 ----- 0%\n",
      "Survived:  -> 0 ----- 0%\n",
      "Survived/Death Ratio ------------------------------------ 0.0%\n",
      " \n",
      "7.125\n",
      "Not Survived:  -> 4 ----- 0%\n",
      "Survived:  -> 0 ----- 0%\n",
      "Survived/Death Ratio ------------------------------------ 0.0%\n",
      " \n",
      "52.5542\n",
      "Not Survived:  -> 0 ----- 0%\n",
      "Survived:  -> 3 ----- 0%\n",
      "Survived/Death Ratio ------------------------------------ 100.0%\n",
      " \n",
      "20.2125\n",
      "Not Survived:  -> 2 ----- 0%\n",
      "Survived:  -> 0 ----- 0%\n",
      "Survived/Death Ratio ------------------------------------ 0.0%\n",
      " \n",
      "86.5\n",
      "Not Survived:  -> 0 ----- 0%\n",
      "Survived:  -> 3 ----- 0%\n",
      "Survived/Death Ratio ------------------------------------ 100.0%\n",
      " \n",
      "512.3292\n",
      "Not Survived:  -> 0 ----- 0%\n",
      "Survived:  -> 3 ----- 0%\n",
      "Survived/Death Ratio ------------------------------------ 100.0%\n",
      " \n",
      "79.65\n",
      "Not Survived:  -> 1 ----- 0%\n",
      "Survived:  -> 2 ----- 0%\n",
      "Survived/Death Ratio ------------------------------------ 66.7%\n",
      " \n",
      "153.4625\n",
      "Not Survived:  -> 1 ----- 0%\n",
      "Survived:  -> 2 ----- 0%\n",
      "Survived/Death Ratio ------------------------------------ 66.7%\n",
      " \n",
      "135.6333\n",
      "Not Survived:  -> 1 ----- 0%\n",
      "Survived:  -> 2 ----- 0%\n",
      "Survived/Death Ratio ------------------------------------ 66.7%\n",
      " \n",
      "19.5\n",
      "Not Survived:  -> 0 ----- 0%\n",
      "Survived:  -> 2 ----- 0%\n",
      "Survived/Death Ratio ------------------------------------ 100.0%\n",
      " \n",
      "29.7\n",
      "Not Survived:  -> 2 ----- 0%\n",
      "Survived:  -> 1 ----- 0%\n",
      "Survived/Death Ratio ------------------------------------ 33.3%\n",
      " \n",
      "77.9583\n",
      "Not Survived:  -> 0 ----- 0%\n",
      "Survived:  -> 3 ----- 0%\n",
      "Survived/Death Ratio ------------------------------------ 100.0%\n",
      " \n",
      "20.25\n",
      "Not Survived:  -> 1 ----- 0%\n",
      "Survived:  -> 1 ----- 0%\n",
      "Survived/Death Ratio ------------------------------------ 50.0%\n",
      " \n",
      "78.85\n",
      "Not Survived:  -> 1 ----- 0%\n",
      "Survived:  -> 1 ----- 0%\n",
      "Survived/Death Ratio ------------------------------------ 50.0%\n",
      " \n",
      "91.0792\n",
      "Not Survived:  -> 0 ----- 0%\n",
      "Survived:  -> 2 ----- 0%\n",
      "Survived/Death Ratio ------------------------------------ 100.0%\n",
      " \n",
      "12.875\n",
      "Not Survived:  -> 1 ----- 0%\n",
      "Survived:  -> 0 ----- 0%\n",
      "Survived/Death Ratio ------------------------------------ 0.0%\n",
      " \n",
      "8.85\n",
      "Not Survived:  -> 1 ----- 0%\n",
      "Survived:  -> 0 ----- 0%\n",
      "Survived/Death Ratio ------------------------------------ 0.0%\n",
      " \n",
      "151.55\n",
      "Not Survived:  -> 2 ----- 0%\n",
      "Survived:  -> 2 ----- 0%\n",
      "Survived/Death Ratio ------------------------------------ 50.0%\n",
      " \n",
      "30.5\n",
      "Not Survived:  -> 1 ----- 0%\n",
      "Survived:  -> 4 ----- 0%\n",
      "Survived/Death Ratio ------------------------------------ 80.0%\n",
      " \n",
      "23.25\n",
      "Not Survived:  -> 0 ----- 0%\n",
      "Survived:  -> 2 ----- 0%\n",
      "Survived/Death Ratio ------------------------------------ 100.0%\n",
      " \n",
      "12.35\n",
      "Not Survived:  -> 1 ----- 0%\n",
      "Survived:  -> 2 ----- 0%\n",
      "Survived/Death Ratio ------------------------------------ 66.7%\n",
      " \n",
      "110.8833\n",
      "Not Survived:  -> 1 ----- 0%\n",
      "Survived:  -> 3 ----- 0%\n",
      "Survived/Death Ratio ------------------------------------ 75.0%\n",
      " \n",
      "108.9\n",
      "Not Survived:  -> 1 ----- 0%\n",
      "Survived:  -> 1 ----- 0%\n",
      "Survived/Death Ratio ------------------------------------ 50.0%\n",
      " \n",
      "24.0\n",
      "Not Survived:  -> 1 ----- 0%\n",
      "Survived:  -> 1 ----- 0%\n",
      "Survived/Death Ratio ------------------------------------ 50.0%\n",
      " \n",
      "56.9292\n",
      "Not Survived:  -> 0 ----- 0%\n",
      "Survived:  -> 2 ----- 0%\n",
      "Survived/Death Ratio ------------------------------------ 100.0%\n",
      " \n",
      "83.1583\n",
      "Not Survived:  -> 0 ----- 0%\n",
      "Survived:  -> 3 ----- 0%\n",
      "Survived/Death Ratio ------------------------------------ 100.0%\n",
      " \n",
      "262.375\n",
      "Not Survived:  -> 0 ----- 0%\n",
      "Survived:  -> 2 ----- 0%\n",
      "Survived/Death Ratio ------------------------------------ 100.0%\n",
      " \n",
      "14.0\n",
      "Not Survived:  -> 1 ----- 0%\n",
      "Survived:  -> 0 ----- 0%\n",
      "Survived/Death Ratio ------------------------------------ 0.0%\n",
      " \n",
      "164.8667\n",
      "Not Survived:  -> 0 ----- 0%\n"
     ]
    },
    {
     "name": "stdout",
     "output_type": "stream",
     "text": [
      "Survived:  -> 2 ----- 0%\n",
      "Survived/Death Ratio ------------------------------------ 100.0%\n",
      " \n",
      "134.5\n",
      "Not Survived:  -> 0 ----- 0%\n",
      "Survived:  -> 2 ----- 0%\n",
      "Survived/Death Ratio ------------------------------------ 100.0%\n",
      " \n",
      "6.2375\n",
      "Not Survived:  -> 1 ----- 0%\n",
      "Survived:  -> 0 ----- 0%\n",
      "Survived/Death Ratio ------------------------------------ 0.0%\n",
      " \n",
      "57.9792\n",
      "Not Survived:  -> 0 ----- 0%\n",
      "Survived:  -> 2 ----- 0%\n",
      "Survived/Death Ratio ------------------------------------ 100.0%\n",
      " \n",
      "28.5\n",
      "Not Survived:  -> 1 ----- 0%\n",
      "Survived:  -> 0 ----- 0%\n",
      "Survived/Death Ratio ------------------------------------ 0.0%\n",
      " \n",
      "133.65\n",
      "Not Survived:  -> 0 ----- 0%\n",
      "Survived:  -> 2 ----- 0%\n",
      "Survived/Death Ratio ------------------------------------ 100.0%\n",
      " \n",
      "15.9\n",
      "Not Survived:  -> 0 ----- 0%\n",
      "Survived:  -> 2 ----- 0%\n",
      "Survived/Death Ratio ------------------------------------ 100.0%\n",
      " \n",
      "9.225\n",
      "Not Survived:  -> 2 ----- 0%\n",
      "Survived:  -> 0 ----- 0%\n",
      "Survived/Death Ratio ------------------------------------ 0.0%\n",
      " \n",
      "35.0\n",
      "Not Survived:  -> 1 ----- 0%\n",
      "Survived:  -> 0 ----- 0%\n",
      "Survived/Death Ratio ------------------------------------ 0.0%\n",
      " \n",
      "75.25\n",
      "Not Survived:  -> 0 ----- 0%\n",
      "Survived:  -> 1 ----- 0%\n",
      "Survived/Death Ratio ------------------------------------ 100.0%\n",
      " \n",
      "69.3\n",
      "Not Survived:  -> 0 ----- 0%\n",
      "Survived:  -> 2 ----- 0%\n",
      "Survived/Death Ratio ------------------------------------ 100.0%\n",
      " \n",
      "55.4417\n",
      "Not Survived:  -> 0 ----- 0%\n",
      "Survived:  -> 1 ----- 0%\n",
      "Survived/Death Ratio ------------------------------------ 100.0%\n",
      " \n",
      "211.5\n",
      "Not Survived:  -> 1 ----- 0%\n",
      "Survived:  -> 0 ----- 0%\n",
      "Survived/Death Ratio ------------------------------------ 0.0%\n",
      " \n",
      "4.0125\n",
      "Not Survived:  -> 1 ----- 0%\n",
      "Survived:  -> 0 ----- 0%\n",
      "Survived/Death Ratio ------------------------------------ 0.0%\n",
      " \n",
      "227.525\n",
      "Not Survived:  -> 1 ----- 0%\n",
      "Survived:  -> 3 ----- 0%\n",
      "Survived/Death Ratio ------------------------------------ 75.0%\n",
      " \n",
      "15.7417\n",
      "Not Survived:  -> 0 ----- 0%\n",
      "Survived:  -> 2 ----- 0%\n",
      "Survived/Death Ratio ------------------------------------ 100.0%\n",
      " \n",
      "7.7292\n",
      "Not Survived:  -> 1 ----- 0%\n",
      "Survived:  -> 0 ----- 0%\n",
      "Survived/Death Ratio ------------------------------------ 0.0%\n",
      " \n",
      "12.0\n",
      "Not Survived:  -> 0 ----- 0%\n",
      "Survived:  -> 1 ----- 0%\n",
      "Survived/Death Ratio ------------------------------------ 100.0%\n",
      " \n",
      "120.0\n",
      "Not Survived:  -> 0 ----- 0%\n",
      "Survived:  -> 4 ----- 0%\n",
      "Survived/Death Ratio ------------------------------------ 100.0%\n",
      " \n",
      "12.65\n",
      "Not Survived:  -> 0 ----- 0%\n",
      "Survived:  -> 1 ----- 0%\n",
      "Survived/Death Ratio ------------------------------------ 100.0%\n",
      " \n",
      "18.75\n",
      "Not Survived:  -> 0 ----- 0%\n",
      "Survived:  -> 3 ----- 0%\n",
      "Survived/Death Ratio ------------------------------------ 100.0%\n",
      " \n",
      "6.8583\n",
      "Not Survived:  -> 1 ----- 0%\n",
      "Survived:  -> 0 ----- 0%\n",
      "Survived/Death Ratio ------------------------------------ 0.0%\n",
      " \n",
      "32.5\n",
      "Not Survived:  -> 0 ----- 0%\n",
      "Survived:  -> 1 ----- 0%\n",
      "Survived/Death Ratio ------------------------------------ 100.0%\n",
      " \n",
      "7.875\n",
      "Not Survived:  -> 1 ----- 0%\n",
      "Survived:  -> 0 ----- 0%\n",
      "Survived/Death Ratio ------------------------------------ 0.0%\n",
      " \n",
      "14.4\n",
      "Not Survived:  -> 2 ----- 0%\n",
      "Survived:  -> 0 ----- 0%\n",
      "Survived/Death Ratio ------------------------------------ 0.0%\n",
      " \n",
      "55.9\n",
      "Not Survived:  -> 1 ----- 0%\n",
      "Survived:  -> 1 ----- 0%\n",
      "Survived/Death Ratio ------------------------------------ 50.0%\n",
      " \n",
      "8.1125\n",
      "Not Survived:  -> 0 ----- 0%\n",
      "Survived:  -> 1 ----- 0%\n",
      "Survived/Death Ratio ------------------------------------ 100.0%\n",
      " \n",
      "81.8583\n",
      "Not Survived:  -> 0 ----- 0%\n",
      "Survived:  -> 1 ----- 0%\n",
      "Survived/Death Ratio ------------------------------------ 100.0%\n",
      " \n",
      "19.2583\n",
      "Not Survived:  -> 0 ----- 0%\n",
      "Survived:  -> 4 ----- 0%\n",
      "Survived/Death Ratio ------------------------------------ 100.0%\n",
      " \n",
      "19.9667\n",
      "Not Survived:  -> 2 ----- 0%\n",
      "Survived:  -> 0 ----- 0%\n",
      "Survived/Death Ratio ------------------------------------ 0.0%\n",
      " \n",
      "89.1042\n",
      "Not Survived:  -> 0 ----- 0%\n",
      "Survived:  -> 2 ----- 0%\n",
      "Survived/Death Ratio ------------------------------------ 100.0%\n",
      " \n",
      "38.5\n",
      "Not Survived:  -> 1 ----- 0%\n",
      "Survived:  -> 0 ----- 0%\n",
      "Survived/Death Ratio ------------------------------------ 0.0%\n",
      " \n",
      "7.725\n",
      "Not Survived:  -> 1 ----- 0%\n",
      "Survived:  -> 0 ----- 0%\n",
      "Survived/Death Ratio ------------------------------------ 0.0%\n",
      " \n",
      "13.7917\n",
      "Not Survived:  -> 0 ----- 0%\n",
      "Survived:  -> 1 ----- 0%\n",
      "Survived/Death Ratio ------------------------------------ 100.0%\n",
      " \n",
      "9.8375\n",
      "Not Survived:  -> 1 ----- 0%\n",
      "Survived:  -> 0 ----- 0%\n",
      "Survived/Death Ratio ------------------------------------ 0.0%\n",
      " \n",
      "7.0458\n",
      "Not Survived:  -> 1 ----- 0%\n",
      "Survived:  -> 0 ----- 0%\n",
      "Survived/Death Ratio ------------------------------------ 0.0%\n",
      " \n",
      "7.5208\n",
      "Not Survived:  -> 1 ----- 0%\n",
      "Survived:  -> 0 ----- 0%\n",
      "Survived/Death Ratio ------------------------------------ 0.0%\n",
      " \n",
      "12.2875\n",
      "Not Survived:  -> 0 ----- 0%\n",
      "Survived:  -> 1 ----- 0%\n",
      "Survived/Death Ratio ------------------------------------ 100.0%\n",
      " \n",
      "9.5875\n",
      "Not Survived:  -> 1 ----- 0%\n",
      "Survived:  -> 1 ----- 0%\n",
      "Survived/Death Ratio ------------------------------------ 50.0%\n",
      " \n",
      "49.5042\n",
      "Not Survived:  -> 1 ----- 0%\n",
      "Survived:  -> 1 ----- 0%\n",
      "Survived/Death Ratio ------------------------------------ 50.0%\n",
      " \n",
      "78.2667\n",
      "Not Survived:  -> 0 ----- 0%\n",
      "Survived:  -> 2 ----- 0%\n",
      "Survived/Death Ratio ------------------------------------ 100.0%\n",
      " \n",
      "15.1\n",
      "Not Survived:  -> 1 ----- 0%\n",
      "Survived:  -> 0 ----- 0%\n",
      "Survived/Death Ratio ------------------------------------ 0.0%\n",
      " \n",
      "7.6292\n",
      "Not Survived:  -> 1 ----- 0%\n",
      "Survived:  -> 0 ----- 0%\n",
      "Survived/Death Ratio ------------------------------------ 0.0%\n",
      " \n",
      "22.525\n",
      "Not Survived:  -> 1 ----- 0%\n",
      "Survived:  -> 0 ----- 0%\n",
      "Survived/Death Ratio ------------------------------------ 0.0%\n",
      " \n",
      "26.2875\n",
      "Not Survived:  -> 0 ----- 0%\n",
      "Survived:  -> 3 ----- 0%\n",
      "Survived/Death Ratio ------------------------------------ 100.0%\n",
      " \n",
      "59.4\n",
      "Not Survived:  -> 0 ----- 0%\n",
      "Survived:  -> 1 ----- 0%\n",
      "Survived/Death Ratio ------------------------------------ 100.0%\n",
      " \n",
      "7.4958\n",
      "Not Survived:  -> 2 ----- 0%\n",
      "Survived:  -> 1 ----- 0%\n",
      "Survived/Death Ratio ------------------------------------ 33.3%\n",
      " \n",
      "34.0208\n",
      "Not Survived:  -> 1 ----- 0%\n",
      "Survived:  -> 0 ----- 0%\n",
      "Survived/Death Ratio ------------------------------------ 0.0%\n",
      " \n",
      "93.5\n",
      "Not Survived:  -> 0 ----- 0%\n",
      "Survived:  -> 2 ----- 0%\n",
      "Survived/Death Ratio ------------------------------------ 100.0%\n",
      " \n",
      "221.7792\n",
      "Not Survived:  -> 1 ----- 0%\n",
      "Survived:  -> 0 ----- 0%\n",
      "Survived/Death Ratio ------------------------------------ 0.0%\n",
      " \n",
      "106.425\n",
      "Not Survived:  -> 1 ----- 0%\n",
      "Survived:  -> 1 ----- 0%\n",
      "Survived/Death Ratio ------------------------------------ 50.0%\n",
      " \n",
      "49.5\n",
      "Not Survived:  -> 0 ----- 0%\n",
      "Survived:  -> 1 ----- 0%\n",
      "Survived/Death Ratio ------------------------------------ 100.0%\n",
      " \n",
      "71.0\n",
      "Not Survived:  -> 1 ----- 0%\n",
      "Survived:  -> 1 ----- 0%\n",
      "Survived/Death Ratio ------------------------------------ 50.0%\n",
      " \n",
      "13.8625\n",
      "Not Survived:  -> 0 ----- 0%\n",
      "Survived:  -> 1 ----- 0%\n",
      "Survived/Death Ratio ------------------------------------ 100.0%\n",
      " \n",
      "7.8292\n",
      "Not Survived:  -> 1 ----- 0%\n",
      "Survived:  -> 1 ----- 0%\n",
      "Survived/Death Ratio ------------------------------------ 50.0%\n",
      " \n",
      "39.6\n",
      "Not Survived:  -> 1 ----- 0%\n",
      "Survived:  -> 1 ----- 0%\n",
      "Survived/Death Ratio ------------------------------------ 50.0%\n",
      " \n",
      "17.4\n",
      "Not Survived:  -> 0 ----- 0%\n",
      "Survived:  -> 1 ----- 0%\n",
      "Survived/Death Ratio ------------------------------------ 100.0%\n",
      " \n",
      "51.4792\n",
      "Not Survived:  -> 0 ----- 0%\n",
      "Survived:  -> 1 ----- 0%\n",
      "Survived/Death Ratio ------------------------------------ 100.0%\n",
      " \n",
      "26.3875\n",
      "Not Survived:  -> 0 ----- 0%\n",
      "Survived:  -> 1 ----- 0%\n",
      "Survived/Death Ratio ------------------------------------ 100.0%\n",
      " \n",
      "30.0\n",
      "Not Survived:  -> 1 ----- 0%\n",
      "Survived:  -> 5 ----- 1%\n",
      "Survived/Death Ratio ------------------------------------ 83.3%\n",
      " \n",
      "40.125\n",
      "Not Survived:  -> 1 ----- 0%\n",
      "Survived:  -> 0 ----- 0%\n",
      "Survived/Death Ratio ------------------------------------ 0.0%\n",
      " \n",
      "8.7125\n",
      "Not Survived:  -> 1 ----- 0%\n",
      "Survived:  -> 0 ----- 0%\n",
      "Survived/Death Ratio ------------------------------------ 0.0%\n",
      " \n",
      "15.0\n",
      "Not Survived:  -> 1 ----- 0%\n",
      "Survived:  -> 0 ----- 0%\n",
      "Survived/Death Ratio ------------------------------------ 0.0%\n",
      " \n",
      "33.0\n",
      "Not Survived:  -> 1 ----- 0%\n",
      "Survived:  -> 2 ----- 0%\n",
      "Survived/Death Ratio ------------------------------------ 66.7%\n",
      " \n",
      "42.4\n",
      "Not Survived:  -> 1 ----- 0%\n",
      "Survived:  -> 0 ----- 0%\n",
      "Survived/Death Ratio ------------------------------------ 0.0%\n",
      " \n",
      "15.55\n",
      "Not Survived:  -> 1 ----- 0%\n",
      "Survived:  -> 0 ----- 0%\n",
      "Survived/Death Ratio ------------------------------------ 0.0%\n",
      " \n",
      "65.0\n",
      "Not Survived:  -> 0 ----- 0%\n",
      "Survived:  -> 2 ----- 0%\n",
      "Survived/Death Ratio ------------------------------------ 100.0%\n",
      " \n",
      "32.3208\n",
      "Not Survived:  -> 1 ----- 0%\n",
      "Survived:  -> 0 ----- 0%\n",
      "Survived/Death Ratio ------------------------------------ 0.0%\n",
      " \n",
      "7.0542\n",
      "Not Survived:  -> 2 ----- 0%\n",
      "Survived:  -> 0 ----- 0%\n",
      "Survived/Death Ratio ------------------------------------ 0.0%\n",
      " \n",
      "8.4333\n",
      "Not Survived:  -> 1 ----- 0%\n",
      "Survived:  -> 0 ----- 0%\n",
      "Survived/Death Ratio ------------------------------------ 0.0%\n",
      " \n",
      "25.5875\n",
      "Not Survived:  -> 1 ----- 0%\n",
      "Survived:  -> 0 ----- 0%\n",
      "Survived/Death Ratio ------------------------------------ 0.0%\n",
      " \n",
      "9.8417\n",
      "Not Survived:  -> 0 ----- 0%\n",
      "Survived:  -> 1 ----- 0%\n",
      "Survived/Death Ratio ------------------------------------ 100.0%\n",
      " \n",
      "8.1375\n",
      "Not Survived:  -> 1 ----- 0%\n",
      "Survived:  -> 0 ----- 0%\n",
      "Survived/Death Ratio ------------------------------------ 0.0%\n",
      " \n",
      "10.1708\n",
      "Not Survived:  -> 1 ----- 0%\n",
      "Survived:  -> 0 ----- 0%\n",
      "Survived/Death Ratio ------------------------------------ 0.0%\n",
      " \n",
      "211.3375\n",
      "Not Survived:  -> 0 ----- 0%\n",
      "Survived:  -> 3 ----- 0%\n",
      "Survived/Death Ratio ------------------------------------ 100.0%\n",
      " \n",
      "57.0\n",
      "Not Survived:  -> 0 ----- 0%\n",
      "Survived:  -> 2 ----- 0%\n",
      "Survived/Death Ratio ------------------------------------ 100.0%\n",
      " \n",
      "13.4167\n",
      "Not Survived:  -> 0 ----- 0%\n",
      "Survived:  -> 1 ----- 0%\n",
      "Survived/Death Ratio ------------------------------------ 100.0%\n",
      " \n",
      "7.7417\n",
      "Not Survived:  -> 1 ----- 0%\n",
      "Survived:  -> 0 ----- 0%\n",
      "Survived/Death Ratio ------------------------------------ 0.0%\n",
      " \n",
      "9.4833\n",
      "Not Survived:  -> 1 ----- 0%\n",
      "Survived:  -> 0 ----- 0%\n",
      "Survived/Death Ratio ------------------------------------ 0.0%\n",
      " \n",
      "7.7375\n",
      "Not Survived:  -> 1 ----- 0%\n",
      "Survived:  -> 1 ----- 0%\n",
      "Survived/Death Ratio ------------------------------------ 50.0%\n",
      " \n",
      "8.3625\n",
      "Not Survived:  -> 1 ----- 0%\n",
      "Survived:  -> 0 ----- 0%\n",
      "Survived/Death Ratio ------------------------------------ 0.0%\n",
      " \n",
      "23.45\n",
      "Not Survived:  -> 2 ----- 0%\n",
      "Survived:  -> 0 ----- 0%\n",
      "Survived/Death Ratio ------------------------------------ 0.0%\n",
      " \n",
      "25.9292\n",
      "Not Survived:  -> 0 ----- 0%\n",
      "Survived:  -> 2 ----- 0%\n",
      "Survived/Death Ratio ------------------------------------ 100.0%\n",
      " \n",
      "8.6833\n",
      "Not Survived:  -> 0 ----- 0%\n",
      "Survived:  -> 1 ----- 0%\n",
      "Survived/Death Ratio ------------------------------------ 100.0%\n",
      " \n",
      "8.5167\n",
      "Not Survived:  -> 0 ----- 0%\n",
      "Survived:  -> 1 ----- 0%\n",
      "Survived/Death Ratio ------------------------------------ 100.0%\n",
      " \n",
      "7.8875\n",
      "Not Survived:  -> 1 ----- 0%\n",
      "Survived:  -> 0 ----- 0%\n",
      "Survived/Death Ratio ------------------------------------ 0.0%\n",
      " \n",
      "37.0042\n",
      "Not Survived:  -> 1 ----- 0%\n",
      "Survived:  -> 1 ----- 0%\n",
      "Survived/Death Ratio ------------------------------------ 50.0%\n",
      " \n",
      "6.45\n",
      "Not Survived:  -> 1 ----- 0%\n",
      "Survived:  -> 0 ----- 0%\n",
      "Survived/Death Ratio ------------------------------------ 0.0%\n",
      " \n",
      "6.95\n",
      "Not Survived:  -> 1 ----- 0%\n",
      "Survived:  -> 0 ----- 0%\n",
      "Survived/Death Ratio ------------------------------------ 0.0%\n",
      " \n",
      "8.3\n",
      "Not Survived:  -> 1 ----- 0%\n",
      "Survived:  -> 0 ----- 0%\n",
      "Survived/Death Ratio ------------------------------------ 0.0%\n",
      " \n",
      "6.4375\n",
      "Not Survived:  -> 1 ----- 0%\n",
      "Survived:  -> 0 ----- 0%\n",
      "Survived/Death Ratio ------------------------------------ 0.0%\n",
      " \n",
      "39.4\n",
      "Not Survived:  -> 0 ----- 0%\n",
      "Survived:  -> 1 ----- 0%\n",
      "Survived/Death Ratio ------------------------------------ 100.0%\n",
      " \n",
      "14.1083\n",
      "Not Survived:  -> 1 ----- 0%\n",
      "Survived:  -> 0 ----- 0%\n",
      "Survived/Death Ratio ------------------------------------ 0.0%\n",
      " \n",
      "13.8583\n",
      "Not Survived:  -> 0 ----- 0%\n",
      "Survived:  -> 1 ----- 0%\n",
      "Survived/Death Ratio ------------------------------------ 100.0%\n",
      " \n",
      "50.4958\n",
      "Not Survived:  -> 1 ----- 0%\n",
      "Survived:  -> 0 ----- 0%\n",
      "Survived/Death Ratio ------------------------------------ 0.0%\n",
      " \n",
      "5.0\n",
      "Not Survived:  -> 1 ----- 0%\n",
      "Survived:  -> 0 ----- 0%\n",
      "Survived/Death Ratio ------------------------------------ 0.0%\n",
      " \n",
      "9.8458\n",
      "Not Survived:  -> 1 ----- 0%\n",
      "Survived:  -> 0 ----- 0%\n",
      "Survived/Death Ratio ------------------------------------ 0.0%\n",
      " \n",
      "10.5167\n",
      "Not Survived:  -> 1 ----- 0%\n",
      "Survived:  -> 0 ----- 0%\n",
      "Survived/Death Ratio ------------------------------------ 0.0%\n",
      " \n",
      "Sex\n",
      "male\n",
      "Not Survived:  -> 468 ----- 53%\n",
      "Survived:  -> 109 ----- 12%\n",
      "Survived/Death Ratio ------------------------------------ 18.9%\n",
      " \n",
      "female\n",
      "Not Survived:  -> 81 ----- 9%\n",
      "Survived:  -> 233 ----- 26%\n",
      "Survived/Death Ratio ------------------------------------ 74.2%\n",
      " \n",
      "Embarked\n",
      "S\n"
     ]
    },
    {
     "name": "stdout",
     "output_type": "stream",
     "text": [
      "Not Survived:  -> 427 ----- 48%\n",
      "Survived:  -> 217 ----- 24%\n",
      "Survived/Death Ratio ------------------------------------ 33.7%\n",
      " \n",
      "C\n",
      "Not Survived:  -> 75 ----- 8%\n",
      "Survived:  -> 93 ----- 10%\n",
      "Survived/Death Ratio ------------------------------------ 55.4%\n",
      " \n",
      "Q\n",
      "Not Survived:  -> 47 ----- 5%\n",
      "Survived:  -> 30 ----- 3%\n",
      "Survived/Death Ratio ------------------------------------ 39.0%\n",
      " \n",
      "nan\n",
      "Not Survived:  -> 0 ----- 0%\n",
      "Survived:  -> 0 ----- 0%\n",
      "Survived/Death Ratio ------------------------------------ nan%\n",
      " \n"
     ]
    },
    {
     "name": "stderr",
     "output_type": "stream",
     "text": [
      "C:\\Users\\lucas\\AppData\\Local\\Temp/ipykernel_24372/2375729696.py:18: RuntimeWarning:\n",
      "\n",
      "invalid value encountered in longlong_scalars\n",
      "\n"
     ]
    }
   ],
   "source": [
    "population = df.shape[0]\n",
    "for atribute in df:\n",
    "    print(f'{atribute}')\n",
    "    for v in df[atribute].unique():\n",
    "        print(v)\n",
    "        for i in [0, 1]:\n",
    "            if i == 0:\n",
    "                print('Not Survived: ', end=' -> ')\n",
    "                val_0 = df.loc[(df[atribute] == v) & (df['Survived'] == i)].count()[0]\n",
    "                print(f'{val_0}', end = ' ----- ')\n",
    "                print(f'{(val_0/population)*100:.0f}%')\n",
    "                \n",
    "            elif i == 1:\n",
    "                print('Survived: ', end=' -> ')\n",
    "                val_1 = df.loc[(df[atribute] == v) & (df['Survived'] == i)].count()[0]\n",
    "                print(f'{val_1}', end = ' ----- ')\n",
    "                print(f'{(val_1/population)*100:.0f}%')\n",
    "        print(f'Survived/Death Ratio ------------------------------------ {((val_1/(val_0+val_1))*100):.1f}%')\n",
    "        print(' ')\n",
    "    "
   ]
  },
  {
   "cell_type": "markdown",
   "id": "295f0b00",
   "metadata": {},
   "source": [
    "> - **First Class seems to survive more than others**  \n",
    "> indeed,  \n",
    "> PClass 1's chances of survival are nearly twice as high  \n",
    "> PClass 2 are 47%  \n",
    "> Pclass 3's chances of die are nearly 3 times as high\n",
    "\n",
    "\n",
    "> - **Males also seems to survive more than females, but not proportionaly**\n",
    "> Males survived more in absolute numbers, but females did it proportionaly  \n",
    "> 74% of females survide  \n",
    "> 19% of males survived  "
   ]
  },
  {
   "cell_type": "markdown",
   "id": "41e44a88",
   "metadata": {},
   "source": [
    "# Futher analysis on Age"
   ]
  },
  {
   "cell_type": "code",
   "execution_count": 184,
   "id": "08264c2a",
   "metadata": {},
   "outputs": [],
   "source": [
    "list_age = []\n",
    "for v in df['Age']:\n",
    "    if v <= 5:\n",
    "        list_age.append('1 - 5')\n",
    "    elif v <= 10:\n",
    "        list_age.append('6 - 10')\n",
    "    elif v <= 15:\n",
    "        list_age.append('11 - 15')\n",
    "    elif v <= 20:\n",
    "        list_age.append('16 - 20')\n",
    "    elif v <= 30:\n",
    "        list_age.append('21 - 30')\n",
    "    elif v <= 40:\n",
    "        list_age.append('31 - 40')\n",
    "    elif v <= 50:\n",
    "        list_age.append('41 - 55')\n",
    "    elif v <= 60:\n",
    "        list_age.append('51 - 60')\n",
    "    elif v <= 70:\n",
    "        list_age.append('61 - 70')\n",
    "    elif v <= 80:\n",
    "        list_age.append('71 - 80')\n",
    "df['Age_Range'] = list_age"
   ]
  },
  {
   "cell_type": "code",
   "execution_count": 185,
   "id": "a1710c87",
   "metadata": {},
   "outputs": [
    {
     "data": {
      "text/html": [
       "<div>\n",
       "<style scoped>\n",
       "    .dataframe tbody tr th:only-of-type {\n",
       "        vertical-align: middle;\n",
       "    }\n",
       "\n",
       "    .dataframe tbody tr th {\n",
       "        vertical-align: top;\n",
       "    }\n",
       "\n",
       "    .dataframe thead th {\n",
       "        text-align: right;\n",
       "    }\n",
       "</style>\n",
       "<table border=\"1\" class=\"dataframe\">\n",
       "  <thead>\n",
       "    <tr style=\"text-align: right;\">\n",
       "      <th></th>\n",
       "      <th>Survived</th>\n",
       "      <th>Pclass</th>\n",
       "      <th>Age</th>\n",
       "      <th>SibSp</th>\n",
       "      <th>Parch</th>\n",
       "      <th>Fare</th>\n",
       "      <th>Sex</th>\n",
       "      <th>Embarked</th>\n",
       "      <th>Age_Range</th>\n",
       "    </tr>\n",
       "  </thead>\n",
       "  <tbody>\n",
       "    <tr>\n",
       "      <th>0</th>\n",
       "      <td>0.0</td>\n",
       "      <td>3.0</td>\n",
       "      <td>22.0</td>\n",
       "      <td>1.0</td>\n",
       "      <td>0.0</td>\n",
       "      <td>7.2500</td>\n",
       "      <td>male</td>\n",
       "      <td>S</td>\n",
       "      <td>21 - 30</td>\n",
       "    </tr>\n",
       "    <tr>\n",
       "      <th>1</th>\n",
       "      <td>1.0</td>\n",
       "      <td>1.0</td>\n",
       "      <td>38.0</td>\n",
       "      <td>1.0</td>\n",
       "      <td>0.0</td>\n",
       "      <td>71.2833</td>\n",
       "      <td>female</td>\n",
       "      <td>C</td>\n",
       "      <td>31 - 40</td>\n",
       "    </tr>\n",
       "    <tr>\n",
       "      <th>2</th>\n",
       "      <td>1.0</td>\n",
       "      <td>3.0</td>\n",
       "      <td>26.0</td>\n",
       "      <td>0.0</td>\n",
       "      <td>0.0</td>\n",
       "      <td>7.9250</td>\n",
       "      <td>female</td>\n",
       "      <td>S</td>\n",
       "      <td>21 - 30</td>\n",
       "    </tr>\n",
       "    <tr>\n",
       "      <th>3</th>\n",
       "      <td>1.0</td>\n",
       "      <td>1.0</td>\n",
       "      <td>35.0</td>\n",
       "      <td>1.0</td>\n",
       "      <td>0.0</td>\n",
       "      <td>53.1000</td>\n",
       "      <td>female</td>\n",
       "      <td>S</td>\n",
       "      <td>31 - 40</td>\n",
       "    </tr>\n",
       "    <tr>\n",
       "      <th>4</th>\n",
       "      <td>0.0</td>\n",
       "      <td>3.0</td>\n",
       "      <td>35.0</td>\n",
       "      <td>0.0</td>\n",
       "      <td>0.0</td>\n",
       "      <td>8.0500</td>\n",
       "      <td>male</td>\n",
       "      <td>S</td>\n",
       "      <td>31 - 40</td>\n",
       "    </tr>\n",
       "    <tr>\n",
       "      <th>...</th>\n",
       "      <td>...</td>\n",
       "      <td>...</td>\n",
       "      <td>...</td>\n",
       "      <td>...</td>\n",
       "      <td>...</td>\n",
       "      <td>...</td>\n",
       "      <td>...</td>\n",
       "      <td>...</td>\n",
       "      <td>...</td>\n",
       "    </tr>\n",
       "    <tr>\n",
       "      <th>886</th>\n",
       "      <td>0.0</td>\n",
       "      <td>2.0</td>\n",
       "      <td>27.0</td>\n",
       "      <td>0.0</td>\n",
       "      <td>0.0</td>\n",
       "      <td>13.0000</td>\n",
       "      <td>male</td>\n",
       "      <td>S</td>\n",
       "      <td>21 - 30</td>\n",
       "    </tr>\n",
       "    <tr>\n",
       "      <th>887</th>\n",
       "      <td>1.0</td>\n",
       "      <td>1.0</td>\n",
       "      <td>19.0</td>\n",
       "      <td>0.0</td>\n",
       "      <td>0.0</td>\n",
       "      <td>30.0000</td>\n",
       "      <td>female</td>\n",
       "      <td>S</td>\n",
       "      <td>16 - 20</td>\n",
       "    </tr>\n",
       "    <tr>\n",
       "      <th>888</th>\n",
       "      <td>0.0</td>\n",
       "      <td>3.0</td>\n",
       "      <td>20.0</td>\n",
       "      <td>1.0</td>\n",
       "      <td>2.0</td>\n",
       "      <td>23.4500</td>\n",
       "      <td>female</td>\n",
       "      <td>S</td>\n",
       "      <td>16 - 20</td>\n",
       "    </tr>\n",
       "    <tr>\n",
       "      <th>889</th>\n",
       "      <td>1.0</td>\n",
       "      <td>1.0</td>\n",
       "      <td>26.0</td>\n",
       "      <td>0.0</td>\n",
       "      <td>0.0</td>\n",
       "      <td>30.0000</td>\n",
       "      <td>male</td>\n",
       "      <td>C</td>\n",
       "      <td>21 - 30</td>\n",
       "    </tr>\n",
       "    <tr>\n",
       "      <th>890</th>\n",
       "      <td>0.0</td>\n",
       "      <td>3.0</td>\n",
       "      <td>32.0</td>\n",
       "      <td>0.0</td>\n",
       "      <td>0.0</td>\n",
       "      <td>7.7500</td>\n",
       "      <td>male</td>\n",
       "      <td>Q</td>\n",
       "      <td>31 - 40</td>\n",
       "    </tr>\n",
       "  </tbody>\n",
       "</table>\n",
       "<p>891 rows × 9 columns</p>\n",
       "</div>"
      ],
      "text/plain": [
       "     Survived  Pclass   Age  SibSp  Parch     Fare     Sex Embarked Age_Range\n",
       "0         0.0     3.0  22.0    1.0    0.0   7.2500    male        S   21 - 30\n",
       "1         1.0     1.0  38.0    1.0    0.0  71.2833  female        C   31 - 40\n",
       "2         1.0     3.0  26.0    0.0    0.0   7.9250  female        S   21 - 30\n",
       "3         1.0     1.0  35.0    1.0    0.0  53.1000  female        S   31 - 40\n",
       "4         0.0     3.0  35.0    0.0    0.0   8.0500    male        S   31 - 40\n",
       "..        ...     ...   ...    ...    ...      ...     ...      ...       ...\n",
       "886       0.0     2.0  27.0    0.0    0.0  13.0000    male        S   21 - 30\n",
       "887       1.0     1.0  19.0    0.0    0.0  30.0000  female        S   16 - 20\n",
       "888       0.0     3.0  20.0    1.0    2.0  23.4500  female        S   16 - 20\n",
       "889       1.0     1.0  26.0    0.0    0.0  30.0000    male        C   21 - 30\n",
       "890       0.0     3.0  32.0    0.0    0.0   7.7500    male        Q   31 - 40\n",
       "\n",
       "[891 rows x 9 columns]"
      ]
     },
     "execution_count": 185,
     "metadata": {},
     "output_type": "execute_result"
    }
   ],
   "source": [
    "df"
   ]
  },
  {
   "cell_type": "code",
   "execution_count": 186,
   "id": "f7325092",
   "metadata": {},
   "outputs": [
    {
     "data": {
      "application/vnd.plotly.v1+json": {
       "config": {
        "plotlyServerURL": "https://plot.ly"
       },
       "data": [
        {
         "alignmentgroup": "True",
         "bingroup": "x",
         "hovertemplate": "Survived=0.0<br>Age_Range=%{x}<br>count=%{y}<extra></extra>",
         "legendgroup": "0.0",
         "marker": {
          "color": "#636efa",
          "pattern": {
           "shape": ""
          }
         },
         "name": "0.0",
         "offsetgroup": "0.0",
         "orientation": "v",
         "showlegend": true,
         "type": "histogram",
         "x": [
          "21 - 30",
          "31 - 40",
          "21 - 30",
          "51 - 60",
          "1 - 5",
          "16 - 20",
          "31 - 40",
          "11 - 15",
          "1 - 5",
          "31 - 40",
          "31 - 40",
          "6 - 10",
          "31 - 40",
          "16 - 20",
          "31 - 40",
          "31 - 40",
          "61 - 70",
          "21 - 30",
          "41 - 55",
          "21 - 30",
          "16 - 20",
          "31 - 40",
          "21 - 30",
          "31 - 40",
          "21 - 30",
          "31 - 40",
          "16 - 20",
          "16 - 20",
          "6 - 10",
          "21 - 30",
          "61 - 70",
          "21 - 30",
          "11 - 15",
          "21 - 30",
          "41 - 55",
          "1 - 5",
          "31 - 40",
          "16 - 20",
          "21 - 30",
          "31 - 40",
          "16 - 20",
          "21 - 30",
          "21 - 30",
          "21 - 30",
          "31 - 40",
          "21 - 30",
          "21 - 30",
          "21 - 30",
          "16 - 20",
          "21 - 30",
          "21 - 30",
          "21 - 30",
          "16 - 20",
          "41 - 55",
          "21 - 30",
          "51 - 60",
          "21 - 30",
          "71 - 80",
          "31 - 40",
          "21 - 30",
          "31 - 40",
          "21 - 30",
          "31 - 40",
          "31 - 40",
          "21 - 30",
          "31 - 40",
          "41 - 55",
          "11 - 15",
          "21 - 30",
          "16 - 20",
          "16 - 20",
          "21 - 30",
          "71 - 80",
          "21 - 30",
          "21 - 30",
          "1 - 5",
          "21 - 30",
          "21 - 30",
          "31 - 40",
          "51 - 60",
          "61 - 70",
          "41 - 55",
          "31 - 40",
          "16 - 20",
          "41 - 55",
          "21 - 30",
          "21 - 30",
          "31 - 40",
          "16 - 20",
          "21 - 30",
          "11 - 15",
          "16 - 20",
          "16 - 20",
          "16 - 20",
          "6 - 10",
          "31 - 40",
          "41 - 55",
          "51 - 60",
          "51 - 60",
          "41 - 55",
          "41 - 55",
          "51 - 60",
          "21 - 30",
          "21 - 30",
          "41 - 55",
          "41 - 55",
          "21 - 30",
          "16 - 20",
          "1 - 5",
          "41 - 55",
          "51 - 60",
          "21 - 30",
          "61 - 70",
          "1 - 5",
          "21 - 30",
          "51 - 60",
          "16 - 20",
          "21 - 30",
          "41 - 55",
          "21 - 30",
          "31 - 40",
          "41 - 55",
          "31 - 40",
          "6 - 10",
          "51 - 60",
          "31 - 40",
          "31 - 40",
          "16 - 20",
          "61 - 70",
          "41 - 55",
          "21 - 30",
          "21 - 30",
          "41 - 55",
          "31 - 40",
          "41 - 55",
          "1 - 5",
          "31 - 40",
          "21 - 30",
          "21 - 30",
          "21 - 30",
          "21 - 30",
          "41 - 55",
          "21 - 30",
          "21 - 30",
          "51 - 60",
          "31 - 40",
          "21 - 30",
          "21 - 30",
          "16 - 20",
          "21 - 30",
          "21 - 30",
          "51 - 60",
          "21 - 30",
          "31 - 40",
          "41 - 55",
          "16 - 20",
          "31 - 40",
          "31 - 40",
          "21 - 30",
          "21 - 30",
          "21 - 30",
          "41 - 55",
          "21 - 30",
          "51 - 60",
          "41 - 55",
          "21 - 30",
          "61 - 70",
          "21 - 30",
          "41 - 55",
          "61 - 70",
          "51 - 60",
          "31 - 40",
          "31 - 40",
          "31 - 40",
          "16 - 20",
          "51 - 60",
          "31 - 40",
          "41 - 55",
          "31 - 40",
          "6 - 10",
          "61 - 70",
          "21 - 30",
          "16 - 20",
          "51 - 60",
          "31 - 40",
          "21 - 30",
          "31 - 40",
          "21 - 30",
          "21 - 30",
          "31 - 40",
          "21 - 30",
          "1 - 5",
          "16 - 20",
          "21 - 30",
          "21 - 30",
          "21 - 30",
          "21 - 30",
          "41 - 55",
          "51 - 60",
          "21 - 30",
          "21 - 30",
          "41 - 55",
          "61 - 70",
          "41 - 55",
          "31 - 40",
          "16 - 20",
          "31 - 40",
          "21 - 30",
          "41 - 55",
          "21 - 30",
          "21 - 30",
          "31 - 40",
          "41 - 55",
          "21 - 30",
          "51 - 60",
          "11 - 15",
          "21 - 30",
          "31 - 40",
          "21 - 30",
          "31 - 40",
          "31 - 40",
          "21 - 30",
          "41 - 55",
          "31 - 40",
          "31 - 40",
          "21 - 30",
          "16 - 20",
          "16 - 20",
          "21 - 30",
          "1 - 5",
          "21 - 30",
          "16 - 20",
          "16 - 20",
          "31 - 40",
          "31 - 40",
          "16 - 20",
          "1 - 5",
          "21 - 30",
          "21 - 30",
          "21 - 30",
          "31 - 40",
          "41 - 55",
          "21 - 30",
          "21 - 30",
          "21 - 30",
          "21 - 30",
          "16 - 20",
          "31 - 40",
          "51 - 60",
          "21 - 30",
          "21 - 30",
          "31 - 40",
          "31 - 40",
          "31 - 40",
          "21 - 30",
          "21 - 30",
          "6 - 10",
          "31 - 40",
          "21 - 30",
          "21 - 30",
          "21 - 30",
          "16 - 20",
          "41 - 55",
          "61 - 70",
          "16 - 20",
          "41 - 55",
          "21 - 30",
          "61 - 70",
          "31 - 40",
          "16 - 20",
          "21 - 30",
          "31 - 40",
          "16 - 20",
          "21 - 30",
          "21 - 30",
          "61 - 70",
          "61 - 70",
          "31 - 40",
          "41 - 55",
          "41 - 55",
          "21 - 30",
          "31 - 40",
          "31 - 40",
          "51 - 60",
          "21 - 30",
          "41 - 55",
          "31 - 40",
          "21 - 30",
          "51 - 60",
          "31 - 40",
          "21 - 30",
          "21 - 30",
          "6 - 10",
          "31 - 40",
          "41 - 55",
          "21 - 30",
          "51 - 60",
          "21 - 30",
          "16 - 20",
          "21 - 30",
          "51 - 60",
          "71 - 80",
          "21 - 30",
          "21 - 30",
          "16 - 20",
          "21 - 30",
          "21 - 30",
          "16 - 20",
          "21 - 30",
          "31 - 40",
          "31 - 40",
          "16 - 20",
          "21 - 30",
          "21 - 30",
          "21 - 30",
          "41 - 55",
          "31 - 40",
          "31 - 40",
          "21 - 30",
          "31 - 40",
          "21 - 30",
          "41 - 55",
          "31 - 40",
          "31 - 40",
          "21 - 30",
          "21 - 30",
          "16 - 20",
          "21 - 30",
          "41 - 55",
          "21 - 30",
          "6 - 10",
          "11 - 15",
          "41 - 55",
          "61 - 70",
          "31 - 40",
          "21 - 30",
          "31 - 40",
          "61 - 70",
          "31 - 40",
          "61 - 70",
          "31 - 40",
          "21 - 30",
          "21 - 30",
          "21 - 30",
          "21 - 30",
          "16 - 20",
          "21 - 30",
          "21 - 30",
          "16 - 20",
          "16 - 20",
          "31 - 40",
          "51 - 60",
          "31 - 40",
          "16 - 20",
          "41 - 55",
          "21 - 30",
          "21 - 30",
          "31 - 40",
          "41 - 55",
          "41 - 55",
          "31 - 40",
          "31 - 40",
          "41 - 55",
          "31 - 40",
          "31 - 40",
          "31 - 40",
          "41 - 55",
          "31 - 40",
          "21 - 30",
          "31 - 40",
          "21 - 30",
          "61 - 70",
          "31 - 40",
          "31 - 40",
          "21 - 30",
          "21 - 30",
          "21 - 30",
          "21 - 30",
          "21 - 30",
          "61 - 70",
          "51 - 60",
          "21 - 30",
          "21 - 30",
          "51 - 60",
          "31 - 40",
          "6 - 10",
          "31 - 40",
          "31 - 40",
          "41 - 55",
          "21 - 30",
          "16 - 20",
          "1 - 5",
          "16 - 20",
          "31 - 40",
          "31 - 40",
          "21 - 30",
          "16 - 20",
          "21 - 30",
          "31 - 40",
          "31 - 40",
          "21 - 30",
          "51 - 60",
          "31 - 40",
          "41 - 55",
          "31 - 40",
          "31 - 40",
          "21 - 30",
          "21 - 30",
          "41 - 55",
          "31 - 40",
          "61 - 70",
          "31 - 40",
          "16 - 20",
          "21 - 30",
          "41 - 55",
          "21 - 30",
          "16 - 20",
          "11 - 15",
          "51 - 60",
          "21 - 30",
          "11 - 15",
          "16 - 20",
          "16 - 20",
          "21 - 30",
          "51 - 60",
          "51 - 60",
          "41 - 55",
          "41 - 55",
          "41 - 55",
          "16 - 20",
          "21 - 30",
          "21 - 30",
          "31 - 40",
          "61 - 70",
          "21 - 30",
          "51 - 60",
          "16 - 20",
          "21 - 30",
          "31 - 40",
          "16 - 20",
          "31 - 40",
          "41 - 55",
          "16 - 20",
          "21 - 30",
          "21 - 30",
          "11 - 15",
          "31 - 40",
          "21 - 30",
          "21 - 30",
          "21 - 30",
          "41 - 55",
          "31 - 40",
          "31 - 40",
          "31 - 40",
          "21 - 30",
          "61 - 70",
          "16 - 20",
          "16 - 20",
          "31 - 40",
          "31 - 40",
          "21 - 30",
          "21 - 30",
          "16 - 20",
          "31 - 40",
          "21 - 30",
          "41 - 55",
          "16 - 20",
          "41 - 55",
          "31 - 40",
          "21 - 30",
          "31 - 40",
          "21 - 30",
          "41 - 55",
          "51 - 60",
          "31 - 40",
          "16 - 20",
          "61 - 70",
          "21 - 30",
          "21 - 30",
          "31 - 40",
          "21 - 30",
          "21 - 30",
          "6 - 10",
          "41 - 55",
          "61 - 70",
          "16 - 20",
          "41 - 55",
          "51 - 60",
          "21 - 30",
          "31 - 40",
          "21 - 30",
          "21 - 30",
          "31 - 40",
          "31 - 40",
          "31 - 40",
          "16 - 20",
          "31 - 40",
          "21 - 30",
          "31 - 40",
          "31 - 40",
          "6 - 10",
          "31 - 40",
          "31 - 40",
          "21 - 30",
          "31 - 40",
          "41 - 55",
          "6 - 10",
          "31 - 40",
          "1 - 5",
          "31 - 40",
          "21 - 30",
          "21 - 30",
          "21 - 30",
          "16 - 20",
          "21 - 30",
          "21 - 30",
          "16 - 20",
          "16 - 20",
          "31 - 40",
          "16 - 20",
          "41 - 55",
          "41 - 55",
          "31 - 40",
          "21 - 30",
          "1 - 5",
          "71 - 80",
          "6 - 10",
          "41 - 55",
          "21 - 30",
          "41 - 55",
          "21 - 30",
          "41 - 55",
          "21 - 30",
          "31 - 40",
          "21 - 30",
          "21 - 30",
          "31 - 40",
          "41 - 55",
          "16 - 20",
          "16 - 20",
          "31 - 40",
          "31 - 40",
          "21 - 30",
          "21 - 30",
          "21 - 30",
          "31 - 40",
          "21 - 30",
          "16 - 20",
          "31 - 40"
         ],
         "xaxis": "x",
         "yaxis": "y"
        },
        {
         "alignmentgroup": "True",
         "bingroup": "x",
         "hovertemplate": "Survived=1.0<br>Age_Range=%{x}<br>count=%{y}<extra></extra>",
         "legendgroup": "1.0",
         "marker": {
          "color": "#EF553B",
          "pattern": {
           "shape": ""
          }
         },
         "name": "1.0",
         "offsetgroup": "1.0",
         "orientation": "v",
         "showlegend": true,
         "type": "histogram",
         "x": [
          "31 - 40",
          "21 - 30",
          "31 - 40",
          "21 - 30",
          "11 - 15",
          "1 - 5",
          "51 - 60",
          "51 - 60",
          "31 - 40",
          "11 - 15",
          "31 - 40",
          "11 - 15",
          "21 - 30",
          "31 - 40",
          "21 - 30",
          "31 - 40",
          "16 - 20",
          "21 - 30",
          "11 - 15",
          "1 - 5",
          "16 - 20",
          "16 - 20",
          "41 - 55",
          "21 - 30",
          "41 - 55",
          "21 - 30",
          "1 - 5",
          "31 - 40",
          "11 - 15",
          "21 - 30",
          "16 - 20",
          "31 - 40",
          "1 - 5",
          "21 - 30",
          "21 - 30",
          "21 - 30",
          "16 - 20",
          "31 - 40",
          "21 - 30",
          "21 - 30",
          "31 - 40",
          "21 - 30",
          "21 - 30",
          "21 - 30",
          "31 - 40",
          "11 - 15",
          "21 - 30",
          "1 - 5",
          "21 - 30",
          "16 - 20",
          "21 - 30",
          "21 - 30",
          "21 - 30",
          "21 - 30",
          "16 - 20",
          "31 - 40",
          "6 - 10",
          "31 - 40",
          "1 - 5",
          "1 - 5",
          "1 - 5",
          "16 - 20",
          "41 - 55",
          "31 - 40",
          "16 - 20",
          "1 - 5",
          "41 - 55",
          "51 - 60",
          "16 - 20",
          "16 - 20",
          "21 - 30",
          "16 - 20",
          "31 - 40",
          "31 - 40",
          "31 - 40",
          "21 - 30",
          "31 - 40",
          "16 - 20",
          "31 - 40",
          "16 - 20",
          "31 - 40",
          "1 - 5",
          "6 - 10",
          "16 - 20",
          "21 - 30",
          "31 - 40",
          "21 - 30",
          "31 - 40",
          "21 - 30",
          "31 - 40",
          "41 - 55",
          "1 - 5",
          "21 - 30",
          "51 - 60",
          "31 - 40",
          "21 - 30",
          "41 - 55",
          "16 - 20",
          "61 - 70",
          "31 - 40",
          "16 - 20",
          "21 - 30",
          "41 - 55",
          "21 - 30",
          "21 - 30",
          "16 - 20",
          "31 - 40",
          "41 - 55",
          "16 - 20",
          "21 - 30",
          "21 - 30",
          "1 - 5",
          "21 - 30",
          "16 - 20",
          "21 - 30",
          "21 - 30",
          "16 - 20",
          "21 - 30",
          "21 - 30",
          "31 - 40",
          "31 - 40",
          "21 - 30",
          "21 - 30",
          "31 - 40",
          "31 - 40",
          "31 - 40",
          "16 - 20",
          "16 - 20",
          "41 - 55",
          "41 - 55",
          "41 - 55",
          "1 - 5",
          "21 - 30",
          "21 - 30",
          "31 - 40",
          "21 - 30",
          "1 - 5",
          "21 - 30",
          "21 - 30",
          "21 - 30",
          "51 - 60",
          "11 - 15",
          "16 - 20",
          "21 - 30",
          "21 - 30",
          "21 - 30",
          "21 - 30",
          "41 - 55",
          "1 - 5",
          "31 - 40",
          "31 - 40",
          "16 - 20",
          "31 - 40",
          "21 - 30",
          "21 - 30",
          "21 - 30",
          "21 - 30",
          "31 - 40",
          "1 - 5",
          "31 - 40",
          "41 - 55",
          "31 - 40",
          "16 - 20",
          "21 - 30",
          "16 - 20",
          "31 - 40",
          "21 - 30",
          "21 - 30",
          "41 - 55",
          "11 - 15",
          "21 - 30",
          "41 - 55",
          "21 - 30",
          "31 - 40",
          "1 - 5",
          "11 - 15",
          "31 - 40",
          "1 - 5",
          "51 - 60",
          "41 - 55",
          "21 - 30",
          "41 - 55",
          "41 - 55",
          "41 - 55",
          "1 - 5",
          "31 - 40",
          "21 - 30",
          "1 - 5",
          "61 - 70",
          "21 - 30",
          "31 - 40",
          "6 - 10",
          "51 - 60",
          "16 - 20",
          "31 - 40",
          "31 - 40",
          "21 - 30",
          "21 - 30",
          "31 - 40",
          "51 - 60",
          "31 - 40",
          "31 - 40",
          "21 - 30",
          "41 - 55",
          "41 - 55",
          "1 - 5",
          "16 - 20",
          "6 - 10",
          "21 - 30",
          "21 - 30",
          "31 - 40",
          "31 - 40",
          "16 - 20",
          "31 - 40",
          "6 - 10",
          "16 - 20",
          "21 - 30",
          "21 - 30",
          "41 - 55",
          "31 - 40",
          "31 - 40",
          "31 - 40",
          "61 - 70",
          "51 - 60",
          "31 - 40",
          "16 - 20",
          "31 - 40",
          "31 - 40",
          "31 - 40",
          "21 - 30",
          "31 - 40",
          "16 - 20",
          "51 - 60",
          "51 - 60",
          "16 - 20",
          "41 - 55",
          "21 - 30",
          "31 - 40",
          "21 - 30",
          "21 - 30",
          "31 - 40",
          "16 - 20",
          "21 - 30",
          "1 - 5",
          "41 - 55",
          "16 - 20",
          "21 - 30",
          "71 - 80",
          "31 - 40",
          "21 - 30",
          "21 - 30",
          "21 - 30",
          "1 - 5",
          "41 - 55",
          "51 - 60",
          "21 - 30",
          "16 - 20",
          "21 - 30",
          "41 - 55",
          "16 - 20",
          "31 - 40",
          "31 - 40",
          "31 - 40",
          "16 - 20",
          "31 - 40",
          "21 - 30",
          "11 - 15",
          "31 - 40",
          "1 - 5",
          "21 - 30",
          "16 - 20",
          "16 - 20",
          "31 - 40",
          "41 - 55",
          "41 - 55",
          "21 - 30",
          "11 - 15",
          "21 - 30",
          "41 - 55",
          "31 - 40",
          "21 - 30",
          "6 - 10",
          "21 - 30",
          "21 - 30",
          "16 - 20",
          "21 - 30",
          "31 - 40",
          "51 - 60",
          "21 - 30",
          "31 - 40",
          "21 - 30",
          "1 - 5",
          "6 - 10",
          "41 - 55",
          "1 - 5",
          "31 - 40",
          "16 - 20",
          "31 - 40",
          "51 - 60",
          "51 - 60",
          "1 - 5",
          "41 - 55",
          "11 - 15",
          "16 - 20",
          "16 - 20",
          "1 - 5",
          "41 - 55",
          "31 - 40",
          "31 - 40",
          "11 - 15",
          "1 - 5",
          "21 - 30",
          "31 - 40",
          "51 - 60",
          "21 - 30",
          "21 - 30",
          "1 - 5",
          "21 - 30",
          "61 - 70",
          "11 - 15",
          "1 - 5",
          "31 - 40",
          "31 - 40",
          "51 - 60",
          "21 - 30",
          "31 - 40",
          "16 - 20",
          "16 - 20",
          "41 - 55",
          "51 - 60",
          "21 - 30",
          "41 - 55",
          "41 - 55",
          "21 - 30",
          "1 - 5",
          "41 - 55",
          "21 - 30",
          "11 - 15",
          "51 - 60",
          "21 - 30",
          "16 - 20",
          "21 - 30"
         ],
         "xaxis": "x",
         "yaxis": "y"
        }
       ],
       "layout": {
        "barmode": "relative",
        "legend": {
         "title": {
          "text": "Survived"
         },
         "tracegroupgap": 0
        },
        "margin": {
         "t": 60
        },
        "template": {
         "data": {
          "bar": [
           {
            "error_x": {
             "color": "#2a3f5f"
            },
            "error_y": {
             "color": "#2a3f5f"
            },
            "marker": {
             "line": {
              "color": "#E5ECF6",
              "width": 0.5
             },
             "pattern": {
              "fillmode": "overlay",
              "size": 10,
              "solidity": 0.2
             }
            },
            "type": "bar"
           }
          ],
          "barpolar": [
           {
            "marker": {
             "line": {
              "color": "#E5ECF6",
              "width": 0.5
             },
             "pattern": {
              "fillmode": "overlay",
              "size": 10,
              "solidity": 0.2
             }
            },
            "type": "barpolar"
           }
          ],
          "carpet": [
           {
            "aaxis": {
             "endlinecolor": "#2a3f5f",
             "gridcolor": "white",
             "linecolor": "white",
             "minorgridcolor": "white",
             "startlinecolor": "#2a3f5f"
            },
            "baxis": {
             "endlinecolor": "#2a3f5f",
             "gridcolor": "white",
             "linecolor": "white",
             "minorgridcolor": "white",
             "startlinecolor": "#2a3f5f"
            },
            "type": "carpet"
           }
          ],
          "choropleth": [
           {
            "colorbar": {
             "outlinewidth": 0,
             "ticks": ""
            },
            "type": "choropleth"
           }
          ],
          "contour": [
           {
            "colorbar": {
             "outlinewidth": 0,
             "ticks": ""
            },
            "colorscale": [
             [
              0,
              "#0d0887"
             ],
             [
              0.1111111111111111,
              "#46039f"
             ],
             [
              0.2222222222222222,
              "#7201a8"
             ],
             [
              0.3333333333333333,
              "#9c179e"
             ],
             [
              0.4444444444444444,
              "#bd3786"
             ],
             [
              0.5555555555555556,
              "#d8576b"
             ],
             [
              0.6666666666666666,
              "#ed7953"
             ],
             [
              0.7777777777777778,
              "#fb9f3a"
             ],
             [
              0.8888888888888888,
              "#fdca26"
             ],
             [
              1,
              "#f0f921"
             ]
            ],
            "type": "contour"
           }
          ],
          "contourcarpet": [
           {
            "colorbar": {
             "outlinewidth": 0,
             "ticks": ""
            },
            "type": "contourcarpet"
           }
          ],
          "heatmap": [
           {
            "colorbar": {
             "outlinewidth": 0,
             "ticks": ""
            },
            "colorscale": [
             [
              0,
              "#0d0887"
             ],
             [
              0.1111111111111111,
              "#46039f"
             ],
             [
              0.2222222222222222,
              "#7201a8"
             ],
             [
              0.3333333333333333,
              "#9c179e"
             ],
             [
              0.4444444444444444,
              "#bd3786"
             ],
             [
              0.5555555555555556,
              "#d8576b"
             ],
             [
              0.6666666666666666,
              "#ed7953"
             ],
             [
              0.7777777777777778,
              "#fb9f3a"
             ],
             [
              0.8888888888888888,
              "#fdca26"
             ],
             [
              1,
              "#f0f921"
             ]
            ],
            "type": "heatmap"
           }
          ],
          "heatmapgl": [
           {
            "colorbar": {
             "outlinewidth": 0,
             "ticks": ""
            },
            "colorscale": [
             [
              0,
              "#0d0887"
             ],
             [
              0.1111111111111111,
              "#46039f"
             ],
             [
              0.2222222222222222,
              "#7201a8"
             ],
             [
              0.3333333333333333,
              "#9c179e"
             ],
             [
              0.4444444444444444,
              "#bd3786"
             ],
             [
              0.5555555555555556,
              "#d8576b"
             ],
             [
              0.6666666666666666,
              "#ed7953"
             ],
             [
              0.7777777777777778,
              "#fb9f3a"
             ],
             [
              0.8888888888888888,
              "#fdca26"
             ],
             [
              1,
              "#f0f921"
             ]
            ],
            "type": "heatmapgl"
           }
          ],
          "histogram": [
           {
            "marker": {
             "pattern": {
              "fillmode": "overlay",
              "size": 10,
              "solidity": 0.2
             }
            },
            "type": "histogram"
           }
          ],
          "histogram2d": [
           {
            "colorbar": {
             "outlinewidth": 0,
             "ticks": ""
            },
            "colorscale": [
             [
              0,
              "#0d0887"
             ],
             [
              0.1111111111111111,
              "#46039f"
             ],
             [
              0.2222222222222222,
              "#7201a8"
             ],
             [
              0.3333333333333333,
              "#9c179e"
             ],
             [
              0.4444444444444444,
              "#bd3786"
             ],
             [
              0.5555555555555556,
              "#d8576b"
             ],
             [
              0.6666666666666666,
              "#ed7953"
             ],
             [
              0.7777777777777778,
              "#fb9f3a"
             ],
             [
              0.8888888888888888,
              "#fdca26"
             ],
             [
              1,
              "#f0f921"
             ]
            ],
            "type": "histogram2d"
           }
          ],
          "histogram2dcontour": [
           {
            "colorbar": {
             "outlinewidth": 0,
             "ticks": ""
            },
            "colorscale": [
             [
              0,
              "#0d0887"
             ],
             [
              0.1111111111111111,
              "#46039f"
             ],
             [
              0.2222222222222222,
              "#7201a8"
             ],
             [
              0.3333333333333333,
              "#9c179e"
             ],
             [
              0.4444444444444444,
              "#bd3786"
             ],
             [
              0.5555555555555556,
              "#d8576b"
             ],
             [
              0.6666666666666666,
              "#ed7953"
             ],
             [
              0.7777777777777778,
              "#fb9f3a"
             ],
             [
              0.8888888888888888,
              "#fdca26"
             ],
             [
              1,
              "#f0f921"
             ]
            ],
            "type": "histogram2dcontour"
           }
          ],
          "mesh3d": [
           {
            "colorbar": {
             "outlinewidth": 0,
             "ticks": ""
            },
            "type": "mesh3d"
           }
          ],
          "parcoords": [
           {
            "line": {
             "colorbar": {
              "outlinewidth": 0,
              "ticks": ""
             }
            },
            "type": "parcoords"
           }
          ],
          "pie": [
           {
            "automargin": true,
            "type": "pie"
           }
          ],
          "scatter": [
           {
            "marker": {
             "colorbar": {
              "outlinewidth": 0,
              "ticks": ""
             }
            },
            "type": "scatter"
           }
          ],
          "scatter3d": [
           {
            "line": {
             "colorbar": {
              "outlinewidth": 0,
              "ticks": ""
             }
            },
            "marker": {
             "colorbar": {
              "outlinewidth": 0,
              "ticks": ""
             }
            },
            "type": "scatter3d"
           }
          ],
          "scattercarpet": [
           {
            "marker": {
             "colorbar": {
              "outlinewidth": 0,
              "ticks": ""
             }
            },
            "type": "scattercarpet"
           }
          ],
          "scattergeo": [
           {
            "marker": {
             "colorbar": {
              "outlinewidth": 0,
              "ticks": ""
             }
            },
            "type": "scattergeo"
           }
          ],
          "scattergl": [
           {
            "marker": {
             "colorbar": {
              "outlinewidth": 0,
              "ticks": ""
             }
            },
            "type": "scattergl"
           }
          ],
          "scattermapbox": [
           {
            "marker": {
             "colorbar": {
              "outlinewidth": 0,
              "ticks": ""
             }
            },
            "type": "scattermapbox"
           }
          ],
          "scatterpolar": [
           {
            "marker": {
             "colorbar": {
              "outlinewidth": 0,
              "ticks": ""
             }
            },
            "type": "scatterpolar"
           }
          ],
          "scatterpolargl": [
           {
            "marker": {
             "colorbar": {
              "outlinewidth": 0,
              "ticks": ""
             }
            },
            "type": "scatterpolargl"
           }
          ],
          "scatterternary": [
           {
            "marker": {
             "colorbar": {
              "outlinewidth": 0,
              "ticks": ""
             }
            },
            "type": "scatterternary"
           }
          ],
          "surface": [
           {
            "colorbar": {
             "outlinewidth": 0,
             "ticks": ""
            },
            "colorscale": [
             [
              0,
              "#0d0887"
             ],
             [
              0.1111111111111111,
              "#46039f"
             ],
             [
              0.2222222222222222,
              "#7201a8"
             ],
             [
              0.3333333333333333,
              "#9c179e"
             ],
             [
              0.4444444444444444,
              "#bd3786"
             ],
             [
              0.5555555555555556,
              "#d8576b"
             ],
             [
              0.6666666666666666,
              "#ed7953"
             ],
             [
              0.7777777777777778,
              "#fb9f3a"
             ],
             [
              0.8888888888888888,
              "#fdca26"
             ],
             [
              1,
              "#f0f921"
             ]
            ],
            "type": "surface"
           }
          ],
          "table": [
           {
            "cells": {
             "fill": {
              "color": "#EBF0F8"
             },
             "line": {
              "color": "white"
             }
            },
            "header": {
             "fill": {
              "color": "#C8D4E3"
             },
             "line": {
              "color": "white"
             }
            },
            "type": "table"
           }
          ]
         },
         "layout": {
          "annotationdefaults": {
           "arrowcolor": "#2a3f5f",
           "arrowhead": 0,
           "arrowwidth": 1
          },
          "autotypenumbers": "strict",
          "coloraxis": {
           "colorbar": {
            "outlinewidth": 0,
            "ticks": ""
           }
          },
          "colorscale": {
           "diverging": [
            [
             0,
             "#8e0152"
            ],
            [
             0.1,
             "#c51b7d"
            ],
            [
             0.2,
             "#de77ae"
            ],
            [
             0.3,
             "#f1b6da"
            ],
            [
             0.4,
             "#fde0ef"
            ],
            [
             0.5,
             "#f7f7f7"
            ],
            [
             0.6,
             "#e6f5d0"
            ],
            [
             0.7,
             "#b8e186"
            ],
            [
             0.8,
             "#7fbc41"
            ],
            [
             0.9,
             "#4d9221"
            ],
            [
             1,
             "#276419"
            ]
           ],
           "sequential": [
            [
             0,
             "#0d0887"
            ],
            [
             0.1111111111111111,
             "#46039f"
            ],
            [
             0.2222222222222222,
             "#7201a8"
            ],
            [
             0.3333333333333333,
             "#9c179e"
            ],
            [
             0.4444444444444444,
             "#bd3786"
            ],
            [
             0.5555555555555556,
             "#d8576b"
            ],
            [
             0.6666666666666666,
             "#ed7953"
            ],
            [
             0.7777777777777778,
             "#fb9f3a"
            ],
            [
             0.8888888888888888,
             "#fdca26"
            ],
            [
             1,
             "#f0f921"
            ]
           ],
           "sequentialminus": [
            [
             0,
             "#0d0887"
            ],
            [
             0.1111111111111111,
             "#46039f"
            ],
            [
             0.2222222222222222,
             "#7201a8"
            ],
            [
             0.3333333333333333,
             "#9c179e"
            ],
            [
             0.4444444444444444,
             "#bd3786"
            ],
            [
             0.5555555555555556,
             "#d8576b"
            ],
            [
             0.6666666666666666,
             "#ed7953"
            ],
            [
             0.7777777777777778,
             "#fb9f3a"
            ],
            [
             0.8888888888888888,
             "#fdca26"
            ],
            [
             1,
             "#f0f921"
            ]
           ]
          },
          "colorway": [
           "#636efa",
           "#EF553B",
           "#00cc96",
           "#ab63fa",
           "#FFA15A",
           "#19d3f3",
           "#FF6692",
           "#B6E880",
           "#FF97FF",
           "#FECB52"
          ],
          "font": {
           "color": "#2a3f5f"
          },
          "geo": {
           "bgcolor": "white",
           "lakecolor": "white",
           "landcolor": "#E5ECF6",
           "showlakes": true,
           "showland": true,
           "subunitcolor": "white"
          },
          "hoverlabel": {
           "align": "left"
          },
          "hovermode": "closest",
          "mapbox": {
           "style": "light"
          },
          "paper_bgcolor": "white",
          "plot_bgcolor": "#E5ECF6",
          "polar": {
           "angularaxis": {
            "gridcolor": "white",
            "linecolor": "white",
            "ticks": ""
           },
           "bgcolor": "#E5ECF6",
           "radialaxis": {
            "gridcolor": "white",
            "linecolor": "white",
            "ticks": ""
           }
          },
          "scene": {
           "xaxis": {
            "backgroundcolor": "#E5ECF6",
            "gridcolor": "white",
            "gridwidth": 2,
            "linecolor": "white",
            "showbackground": true,
            "ticks": "",
            "zerolinecolor": "white"
           },
           "yaxis": {
            "backgroundcolor": "#E5ECF6",
            "gridcolor": "white",
            "gridwidth": 2,
            "linecolor": "white",
            "showbackground": true,
            "ticks": "",
            "zerolinecolor": "white"
           },
           "zaxis": {
            "backgroundcolor": "#E5ECF6",
            "gridcolor": "white",
            "gridwidth": 2,
            "linecolor": "white",
            "showbackground": true,
            "ticks": "",
            "zerolinecolor": "white"
           }
          },
          "shapedefaults": {
           "line": {
            "color": "#2a3f5f"
           }
          },
          "ternary": {
           "aaxis": {
            "gridcolor": "white",
            "linecolor": "white",
            "ticks": ""
           },
           "baxis": {
            "gridcolor": "white",
            "linecolor": "white",
            "ticks": ""
           },
           "bgcolor": "#E5ECF6",
           "caxis": {
            "gridcolor": "white",
            "linecolor": "white",
            "ticks": ""
           }
          },
          "title": {
           "x": 0.05
          },
          "xaxis": {
           "automargin": true,
           "gridcolor": "white",
           "linecolor": "white",
           "ticks": "",
           "title": {
            "standoff": 15
           },
           "zerolinecolor": "white",
           "zerolinewidth": 2
          },
          "yaxis": {
           "automargin": true,
           "gridcolor": "white",
           "linecolor": "white",
           "ticks": "",
           "title": {
            "standoff": 15
           },
           "zerolinecolor": "white",
           "zerolinewidth": 2
          }
         }
        },
        "xaxis": {
         "anchor": "y",
         "domain": [
          0,
          1
         ],
         "title": {
          "text": "Age_Range"
         }
        },
        "yaxis": {
         "anchor": "x",
         "domain": [
          0,
          1
         ],
         "title": {
          "text": "count"
         }
        }
       }
      },
      "text/html": [
       "<div>                            <div id=\"06c7d21e-afa6-48c7-a196-e7286b425ed8\" class=\"plotly-graph-div\" style=\"height:525px; width:100%;\"></div>            <script type=\"text/javascript\">                require([\"plotly\"], function(Plotly) {                    window.PLOTLYENV=window.PLOTLYENV || {};                                    if (document.getElementById(\"06c7d21e-afa6-48c7-a196-e7286b425ed8\")) {                    Plotly.newPlot(                        \"06c7d21e-afa6-48c7-a196-e7286b425ed8\",                        [{\"alignmentgroup\":\"True\",\"bingroup\":\"x\",\"hovertemplate\":\"Survived=0.0<br>Age_Range=%{x}<br>count=%{y}<extra></extra>\",\"legendgroup\":\"0.0\",\"marker\":{\"color\":\"#636efa\",\"pattern\":{\"shape\":\"\"}},\"name\":\"0.0\",\"offsetgroup\":\"0.0\",\"orientation\":\"v\",\"showlegend\":true,\"x\":[\"21 - 30\",\"31 - 40\",\"21 - 30\",\"51 - 60\",\"1 - 5\",\"16 - 20\",\"31 - 40\",\"11 - 15\",\"1 - 5\",\"31 - 40\",\"31 - 40\",\"6 - 10\",\"31 - 40\",\"16 - 20\",\"31 - 40\",\"31 - 40\",\"61 - 70\",\"21 - 30\",\"41 - 55\",\"21 - 30\",\"16 - 20\",\"31 - 40\",\"21 - 30\",\"31 - 40\",\"21 - 30\",\"31 - 40\",\"16 - 20\",\"16 - 20\",\"6 - 10\",\"21 - 30\",\"61 - 70\",\"21 - 30\",\"11 - 15\",\"21 - 30\",\"41 - 55\",\"1 - 5\",\"31 - 40\",\"16 - 20\",\"21 - 30\",\"31 - 40\",\"16 - 20\",\"21 - 30\",\"21 - 30\",\"21 - 30\",\"31 - 40\",\"21 - 30\",\"21 - 30\",\"21 - 30\",\"16 - 20\",\"21 - 30\",\"21 - 30\",\"21 - 30\",\"16 - 20\",\"41 - 55\",\"21 - 30\",\"51 - 60\",\"21 - 30\",\"71 - 80\",\"31 - 40\",\"21 - 30\",\"31 - 40\",\"21 - 30\",\"31 - 40\",\"31 - 40\",\"21 - 30\",\"31 - 40\",\"41 - 55\",\"11 - 15\",\"21 - 30\",\"16 - 20\",\"16 - 20\",\"21 - 30\",\"71 - 80\",\"21 - 30\",\"21 - 30\",\"1 - 5\",\"21 - 30\",\"21 - 30\",\"31 - 40\",\"51 - 60\",\"61 - 70\",\"41 - 55\",\"31 - 40\",\"16 - 20\",\"41 - 55\",\"21 - 30\",\"21 - 30\",\"31 - 40\",\"16 - 20\",\"21 - 30\",\"11 - 15\",\"16 - 20\",\"16 - 20\",\"16 - 20\",\"6 - 10\",\"31 - 40\",\"41 - 55\",\"51 - 60\",\"51 - 60\",\"41 - 55\",\"41 - 55\",\"51 - 60\",\"21 - 30\",\"21 - 30\",\"41 - 55\",\"41 - 55\",\"21 - 30\",\"16 - 20\",\"1 - 5\",\"41 - 55\",\"51 - 60\",\"21 - 30\",\"61 - 70\",\"1 - 5\",\"21 - 30\",\"51 - 60\",\"16 - 20\",\"21 - 30\",\"41 - 55\",\"21 - 30\",\"31 - 40\",\"41 - 55\",\"31 - 40\",\"6 - 10\",\"51 - 60\",\"31 - 40\",\"31 - 40\",\"16 - 20\",\"61 - 70\",\"41 - 55\",\"21 - 30\",\"21 - 30\",\"41 - 55\",\"31 - 40\",\"41 - 55\",\"1 - 5\",\"31 - 40\",\"21 - 30\",\"21 - 30\",\"21 - 30\",\"21 - 30\",\"41 - 55\",\"21 - 30\",\"21 - 30\",\"51 - 60\",\"31 - 40\",\"21 - 30\",\"21 - 30\",\"16 - 20\",\"21 - 30\",\"21 - 30\",\"51 - 60\",\"21 - 30\",\"31 - 40\",\"41 - 55\",\"16 - 20\",\"31 - 40\",\"31 - 40\",\"21 - 30\",\"21 - 30\",\"21 - 30\",\"41 - 55\",\"21 - 30\",\"51 - 60\",\"41 - 55\",\"21 - 30\",\"61 - 70\",\"21 - 30\",\"41 - 55\",\"61 - 70\",\"51 - 60\",\"31 - 40\",\"31 - 40\",\"31 - 40\",\"16 - 20\",\"51 - 60\",\"31 - 40\",\"41 - 55\",\"31 - 40\",\"6 - 10\",\"61 - 70\",\"21 - 30\",\"16 - 20\",\"51 - 60\",\"31 - 40\",\"21 - 30\",\"31 - 40\",\"21 - 30\",\"21 - 30\",\"31 - 40\",\"21 - 30\",\"1 - 5\",\"16 - 20\",\"21 - 30\",\"21 - 30\",\"21 - 30\",\"21 - 30\",\"41 - 55\",\"51 - 60\",\"21 - 30\",\"21 - 30\",\"41 - 55\",\"61 - 70\",\"41 - 55\",\"31 - 40\",\"16 - 20\",\"31 - 40\",\"21 - 30\",\"41 - 55\",\"21 - 30\",\"21 - 30\",\"31 - 40\",\"41 - 55\",\"21 - 30\",\"51 - 60\",\"11 - 15\",\"21 - 30\",\"31 - 40\",\"21 - 30\",\"31 - 40\",\"31 - 40\",\"21 - 30\",\"41 - 55\",\"31 - 40\",\"31 - 40\",\"21 - 30\",\"16 - 20\",\"16 - 20\",\"21 - 30\",\"1 - 5\",\"21 - 30\",\"16 - 20\",\"16 - 20\",\"31 - 40\",\"31 - 40\",\"16 - 20\",\"1 - 5\",\"21 - 30\",\"21 - 30\",\"21 - 30\",\"31 - 40\",\"41 - 55\",\"21 - 30\",\"21 - 30\",\"21 - 30\",\"21 - 30\",\"16 - 20\",\"31 - 40\",\"51 - 60\",\"21 - 30\",\"21 - 30\",\"31 - 40\",\"31 - 40\",\"31 - 40\",\"21 - 30\",\"21 - 30\",\"6 - 10\",\"31 - 40\",\"21 - 30\",\"21 - 30\",\"21 - 30\",\"16 - 20\",\"41 - 55\",\"61 - 70\",\"16 - 20\",\"41 - 55\",\"21 - 30\",\"61 - 70\",\"31 - 40\",\"16 - 20\",\"21 - 30\",\"31 - 40\",\"16 - 20\",\"21 - 30\",\"21 - 30\",\"61 - 70\",\"61 - 70\",\"31 - 40\",\"41 - 55\",\"41 - 55\",\"21 - 30\",\"31 - 40\",\"31 - 40\",\"51 - 60\",\"21 - 30\",\"41 - 55\",\"31 - 40\",\"21 - 30\",\"51 - 60\",\"31 - 40\",\"21 - 30\",\"21 - 30\",\"6 - 10\",\"31 - 40\",\"41 - 55\",\"21 - 30\",\"51 - 60\",\"21 - 30\",\"16 - 20\",\"21 - 30\",\"51 - 60\",\"71 - 80\",\"21 - 30\",\"21 - 30\",\"16 - 20\",\"21 - 30\",\"21 - 30\",\"16 - 20\",\"21 - 30\",\"31 - 40\",\"31 - 40\",\"16 - 20\",\"21 - 30\",\"21 - 30\",\"21 - 30\",\"41 - 55\",\"31 - 40\",\"31 - 40\",\"21 - 30\",\"31 - 40\",\"21 - 30\",\"41 - 55\",\"31 - 40\",\"31 - 40\",\"21 - 30\",\"21 - 30\",\"16 - 20\",\"21 - 30\",\"41 - 55\",\"21 - 30\",\"6 - 10\",\"11 - 15\",\"41 - 55\",\"61 - 70\",\"31 - 40\",\"21 - 30\",\"31 - 40\",\"61 - 70\",\"31 - 40\",\"61 - 70\",\"31 - 40\",\"21 - 30\",\"21 - 30\",\"21 - 30\",\"21 - 30\",\"16 - 20\",\"21 - 30\",\"21 - 30\",\"16 - 20\",\"16 - 20\",\"31 - 40\",\"51 - 60\",\"31 - 40\",\"16 - 20\",\"41 - 55\",\"21 - 30\",\"21 - 30\",\"31 - 40\",\"41 - 55\",\"41 - 55\",\"31 - 40\",\"31 - 40\",\"41 - 55\",\"31 - 40\",\"31 - 40\",\"31 - 40\",\"41 - 55\",\"31 - 40\",\"21 - 30\",\"31 - 40\",\"21 - 30\",\"61 - 70\",\"31 - 40\",\"31 - 40\",\"21 - 30\",\"21 - 30\",\"21 - 30\",\"21 - 30\",\"21 - 30\",\"61 - 70\",\"51 - 60\",\"21 - 30\",\"21 - 30\",\"51 - 60\",\"31 - 40\",\"6 - 10\",\"31 - 40\",\"31 - 40\",\"41 - 55\",\"21 - 30\",\"16 - 20\",\"1 - 5\",\"16 - 20\",\"31 - 40\",\"31 - 40\",\"21 - 30\",\"16 - 20\",\"21 - 30\",\"31 - 40\",\"31 - 40\",\"21 - 30\",\"51 - 60\",\"31 - 40\",\"41 - 55\",\"31 - 40\",\"31 - 40\",\"21 - 30\",\"21 - 30\",\"41 - 55\",\"31 - 40\",\"61 - 70\",\"31 - 40\",\"16 - 20\",\"21 - 30\",\"41 - 55\",\"21 - 30\",\"16 - 20\",\"11 - 15\",\"51 - 60\",\"21 - 30\",\"11 - 15\",\"16 - 20\",\"16 - 20\",\"21 - 30\",\"51 - 60\",\"51 - 60\",\"41 - 55\",\"41 - 55\",\"41 - 55\",\"16 - 20\",\"21 - 30\",\"21 - 30\",\"31 - 40\",\"61 - 70\",\"21 - 30\",\"51 - 60\",\"16 - 20\",\"21 - 30\",\"31 - 40\",\"16 - 20\",\"31 - 40\",\"41 - 55\",\"16 - 20\",\"21 - 30\",\"21 - 30\",\"11 - 15\",\"31 - 40\",\"21 - 30\",\"21 - 30\",\"21 - 30\",\"41 - 55\",\"31 - 40\",\"31 - 40\",\"31 - 40\",\"21 - 30\",\"61 - 70\",\"16 - 20\",\"16 - 20\",\"31 - 40\",\"31 - 40\",\"21 - 30\",\"21 - 30\",\"16 - 20\",\"31 - 40\",\"21 - 30\",\"41 - 55\",\"16 - 20\",\"41 - 55\",\"31 - 40\",\"21 - 30\",\"31 - 40\",\"21 - 30\",\"41 - 55\",\"51 - 60\",\"31 - 40\",\"16 - 20\",\"61 - 70\",\"21 - 30\",\"21 - 30\",\"31 - 40\",\"21 - 30\",\"21 - 30\",\"6 - 10\",\"41 - 55\",\"61 - 70\",\"16 - 20\",\"41 - 55\",\"51 - 60\",\"21 - 30\",\"31 - 40\",\"21 - 30\",\"21 - 30\",\"31 - 40\",\"31 - 40\",\"31 - 40\",\"16 - 20\",\"31 - 40\",\"21 - 30\",\"31 - 40\",\"31 - 40\",\"6 - 10\",\"31 - 40\",\"31 - 40\",\"21 - 30\",\"31 - 40\",\"41 - 55\",\"6 - 10\",\"31 - 40\",\"1 - 5\",\"31 - 40\",\"21 - 30\",\"21 - 30\",\"21 - 30\",\"16 - 20\",\"21 - 30\",\"21 - 30\",\"16 - 20\",\"16 - 20\",\"31 - 40\",\"16 - 20\",\"41 - 55\",\"41 - 55\",\"31 - 40\",\"21 - 30\",\"1 - 5\",\"71 - 80\",\"6 - 10\",\"41 - 55\",\"21 - 30\",\"41 - 55\",\"21 - 30\",\"41 - 55\",\"21 - 30\",\"31 - 40\",\"21 - 30\",\"21 - 30\",\"31 - 40\",\"41 - 55\",\"16 - 20\",\"16 - 20\",\"31 - 40\",\"31 - 40\",\"21 - 30\",\"21 - 30\",\"21 - 30\",\"31 - 40\",\"21 - 30\",\"16 - 20\",\"31 - 40\"],\"xaxis\":\"x\",\"yaxis\":\"y\",\"type\":\"histogram\"},{\"alignmentgroup\":\"True\",\"bingroup\":\"x\",\"hovertemplate\":\"Survived=1.0<br>Age_Range=%{x}<br>count=%{y}<extra></extra>\",\"legendgroup\":\"1.0\",\"marker\":{\"color\":\"#EF553B\",\"pattern\":{\"shape\":\"\"}},\"name\":\"1.0\",\"offsetgroup\":\"1.0\",\"orientation\":\"v\",\"showlegend\":true,\"x\":[\"31 - 40\",\"21 - 30\",\"31 - 40\",\"21 - 30\",\"11 - 15\",\"1 - 5\",\"51 - 60\",\"51 - 60\",\"31 - 40\",\"11 - 15\",\"31 - 40\",\"11 - 15\",\"21 - 30\",\"31 - 40\",\"21 - 30\",\"31 - 40\",\"16 - 20\",\"21 - 30\",\"11 - 15\",\"1 - 5\",\"16 - 20\",\"16 - 20\",\"41 - 55\",\"21 - 30\",\"41 - 55\",\"21 - 30\",\"1 - 5\",\"31 - 40\",\"11 - 15\",\"21 - 30\",\"16 - 20\",\"31 - 40\",\"1 - 5\",\"21 - 30\",\"21 - 30\",\"21 - 30\",\"16 - 20\",\"31 - 40\",\"21 - 30\",\"21 - 30\",\"31 - 40\",\"21 - 30\",\"21 - 30\",\"21 - 30\",\"31 - 40\",\"11 - 15\",\"21 - 30\",\"1 - 5\",\"21 - 30\",\"16 - 20\",\"21 - 30\",\"21 - 30\",\"21 - 30\",\"21 - 30\",\"16 - 20\",\"31 - 40\",\"6 - 10\",\"31 - 40\",\"1 - 5\",\"1 - 5\",\"1 - 5\",\"16 - 20\",\"41 - 55\",\"31 - 40\",\"16 - 20\",\"1 - 5\",\"41 - 55\",\"51 - 60\",\"16 - 20\",\"16 - 20\",\"21 - 30\",\"16 - 20\",\"31 - 40\",\"31 - 40\",\"31 - 40\",\"21 - 30\",\"31 - 40\",\"16 - 20\",\"31 - 40\",\"16 - 20\",\"31 - 40\",\"1 - 5\",\"6 - 10\",\"16 - 20\",\"21 - 30\",\"31 - 40\",\"21 - 30\",\"31 - 40\",\"21 - 30\",\"31 - 40\",\"41 - 55\",\"1 - 5\",\"21 - 30\",\"51 - 60\",\"31 - 40\",\"21 - 30\",\"41 - 55\",\"16 - 20\",\"61 - 70\",\"31 - 40\",\"16 - 20\",\"21 - 30\",\"41 - 55\",\"21 - 30\",\"21 - 30\",\"16 - 20\",\"31 - 40\",\"41 - 55\",\"16 - 20\",\"21 - 30\",\"21 - 30\",\"1 - 5\",\"21 - 30\",\"16 - 20\",\"21 - 30\",\"21 - 30\",\"16 - 20\",\"21 - 30\",\"21 - 30\",\"31 - 40\",\"31 - 40\",\"21 - 30\",\"21 - 30\",\"31 - 40\",\"31 - 40\",\"31 - 40\",\"16 - 20\",\"16 - 20\",\"41 - 55\",\"41 - 55\",\"41 - 55\",\"1 - 5\",\"21 - 30\",\"21 - 30\",\"31 - 40\",\"21 - 30\",\"1 - 5\",\"21 - 30\",\"21 - 30\",\"21 - 30\",\"51 - 60\",\"11 - 15\",\"16 - 20\",\"21 - 30\",\"21 - 30\",\"21 - 30\",\"21 - 30\",\"41 - 55\",\"1 - 5\",\"31 - 40\",\"31 - 40\",\"16 - 20\",\"31 - 40\",\"21 - 30\",\"21 - 30\",\"21 - 30\",\"21 - 30\",\"31 - 40\",\"1 - 5\",\"31 - 40\",\"41 - 55\",\"31 - 40\",\"16 - 20\",\"21 - 30\",\"16 - 20\",\"31 - 40\",\"21 - 30\",\"21 - 30\",\"41 - 55\",\"11 - 15\",\"21 - 30\",\"41 - 55\",\"21 - 30\",\"31 - 40\",\"1 - 5\",\"11 - 15\",\"31 - 40\",\"1 - 5\",\"51 - 60\",\"41 - 55\",\"21 - 30\",\"41 - 55\",\"41 - 55\",\"41 - 55\",\"1 - 5\",\"31 - 40\",\"21 - 30\",\"1 - 5\",\"61 - 70\",\"21 - 30\",\"31 - 40\",\"6 - 10\",\"51 - 60\",\"16 - 20\",\"31 - 40\",\"31 - 40\",\"21 - 30\",\"21 - 30\",\"31 - 40\",\"51 - 60\",\"31 - 40\",\"31 - 40\",\"21 - 30\",\"41 - 55\",\"41 - 55\",\"1 - 5\",\"16 - 20\",\"6 - 10\",\"21 - 30\",\"21 - 30\",\"31 - 40\",\"31 - 40\",\"16 - 20\",\"31 - 40\",\"6 - 10\",\"16 - 20\",\"21 - 30\",\"21 - 30\",\"41 - 55\",\"31 - 40\",\"31 - 40\",\"31 - 40\",\"61 - 70\",\"51 - 60\",\"31 - 40\",\"16 - 20\",\"31 - 40\",\"31 - 40\",\"31 - 40\",\"21 - 30\",\"31 - 40\",\"16 - 20\",\"51 - 60\",\"51 - 60\",\"16 - 20\",\"41 - 55\",\"21 - 30\",\"31 - 40\",\"21 - 30\",\"21 - 30\",\"31 - 40\",\"16 - 20\",\"21 - 30\",\"1 - 5\",\"41 - 55\",\"16 - 20\",\"21 - 30\",\"71 - 80\",\"31 - 40\",\"21 - 30\",\"21 - 30\",\"21 - 30\",\"1 - 5\",\"41 - 55\",\"51 - 60\",\"21 - 30\",\"16 - 20\",\"21 - 30\",\"41 - 55\",\"16 - 20\",\"31 - 40\",\"31 - 40\",\"31 - 40\",\"16 - 20\",\"31 - 40\",\"21 - 30\",\"11 - 15\",\"31 - 40\",\"1 - 5\",\"21 - 30\",\"16 - 20\",\"16 - 20\",\"31 - 40\",\"41 - 55\",\"41 - 55\",\"21 - 30\",\"11 - 15\",\"21 - 30\",\"41 - 55\",\"31 - 40\",\"21 - 30\",\"6 - 10\",\"21 - 30\",\"21 - 30\",\"16 - 20\",\"21 - 30\",\"31 - 40\",\"51 - 60\",\"21 - 30\",\"31 - 40\",\"21 - 30\",\"1 - 5\",\"6 - 10\",\"41 - 55\",\"1 - 5\",\"31 - 40\",\"16 - 20\",\"31 - 40\",\"51 - 60\",\"51 - 60\",\"1 - 5\",\"41 - 55\",\"11 - 15\",\"16 - 20\",\"16 - 20\",\"1 - 5\",\"41 - 55\",\"31 - 40\",\"31 - 40\",\"11 - 15\",\"1 - 5\",\"21 - 30\",\"31 - 40\",\"51 - 60\",\"21 - 30\",\"21 - 30\",\"1 - 5\",\"21 - 30\",\"61 - 70\",\"11 - 15\",\"1 - 5\",\"31 - 40\",\"31 - 40\",\"51 - 60\",\"21 - 30\",\"31 - 40\",\"16 - 20\",\"16 - 20\",\"41 - 55\",\"51 - 60\",\"21 - 30\",\"41 - 55\",\"41 - 55\",\"21 - 30\",\"1 - 5\",\"41 - 55\",\"21 - 30\",\"11 - 15\",\"51 - 60\",\"21 - 30\",\"16 - 20\",\"21 - 30\"],\"xaxis\":\"x\",\"yaxis\":\"y\",\"type\":\"histogram\"}],                        {\"template\":{\"data\":{\"bar\":[{\"error_x\":{\"color\":\"#2a3f5f\"},\"error_y\":{\"color\":\"#2a3f5f\"},\"marker\":{\"line\":{\"color\":\"#E5ECF6\",\"width\":0.5},\"pattern\":{\"fillmode\":\"overlay\",\"size\":10,\"solidity\":0.2}},\"type\":\"bar\"}],\"barpolar\":[{\"marker\":{\"line\":{\"color\":\"#E5ECF6\",\"width\":0.5},\"pattern\":{\"fillmode\":\"overlay\",\"size\":10,\"solidity\":0.2}},\"type\":\"barpolar\"}],\"carpet\":[{\"aaxis\":{\"endlinecolor\":\"#2a3f5f\",\"gridcolor\":\"white\",\"linecolor\":\"white\",\"minorgridcolor\":\"white\",\"startlinecolor\":\"#2a3f5f\"},\"baxis\":{\"endlinecolor\":\"#2a3f5f\",\"gridcolor\":\"white\",\"linecolor\":\"white\",\"minorgridcolor\":\"white\",\"startlinecolor\":\"#2a3f5f\"},\"type\":\"carpet\"}],\"choropleth\":[{\"colorbar\":{\"outlinewidth\":0,\"ticks\":\"\"},\"type\":\"choropleth\"}],\"contour\":[{\"colorbar\":{\"outlinewidth\":0,\"ticks\":\"\"},\"colorscale\":[[0.0,\"#0d0887\"],[0.1111111111111111,\"#46039f\"],[0.2222222222222222,\"#7201a8\"],[0.3333333333333333,\"#9c179e\"],[0.4444444444444444,\"#bd3786\"],[0.5555555555555556,\"#d8576b\"],[0.6666666666666666,\"#ed7953\"],[0.7777777777777778,\"#fb9f3a\"],[0.8888888888888888,\"#fdca26\"],[1.0,\"#f0f921\"]],\"type\":\"contour\"}],\"contourcarpet\":[{\"colorbar\":{\"outlinewidth\":0,\"ticks\":\"\"},\"type\":\"contourcarpet\"}],\"heatmap\":[{\"colorbar\":{\"outlinewidth\":0,\"ticks\":\"\"},\"colorscale\":[[0.0,\"#0d0887\"],[0.1111111111111111,\"#46039f\"],[0.2222222222222222,\"#7201a8\"],[0.3333333333333333,\"#9c179e\"],[0.4444444444444444,\"#bd3786\"],[0.5555555555555556,\"#d8576b\"],[0.6666666666666666,\"#ed7953\"],[0.7777777777777778,\"#fb9f3a\"],[0.8888888888888888,\"#fdca26\"],[1.0,\"#f0f921\"]],\"type\":\"heatmap\"}],\"heatmapgl\":[{\"colorbar\":{\"outlinewidth\":0,\"ticks\":\"\"},\"colorscale\":[[0.0,\"#0d0887\"],[0.1111111111111111,\"#46039f\"],[0.2222222222222222,\"#7201a8\"],[0.3333333333333333,\"#9c179e\"],[0.4444444444444444,\"#bd3786\"],[0.5555555555555556,\"#d8576b\"],[0.6666666666666666,\"#ed7953\"],[0.7777777777777778,\"#fb9f3a\"],[0.8888888888888888,\"#fdca26\"],[1.0,\"#f0f921\"]],\"type\":\"heatmapgl\"}],\"histogram\":[{\"marker\":{\"pattern\":{\"fillmode\":\"overlay\",\"size\":10,\"solidity\":0.2}},\"type\":\"histogram\"}],\"histogram2d\":[{\"colorbar\":{\"outlinewidth\":0,\"ticks\":\"\"},\"colorscale\":[[0.0,\"#0d0887\"],[0.1111111111111111,\"#46039f\"],[0.2222222222222222,\"#7201a8\"],[0.3333333333333333,\"#9c179e\"],[0.4444444444444444,\"#bd3786\"],[0.5555555555555556,\"#d8576b\"],[0.6666666666666666,\"#ed7953\"],[0.7777777777777778,\"#fb9f3a\"],[0.8888888888888888,\"#fdca26\"],[1.0,\"#f0f921\"]],\"type\":\"histogram2d\"}],\"histogram2dcontour\":[{\"colorbar\":{\"outlinewidth\":0,\"ticks\":\"\"},\"colorscale\":[[0.0,\"#0d0887\"],[0.1111111111111111,\"#46039f\"],[0.2222222222222222,\"#7201a8\"],[0.3333333333333333,\"#9c179e\"],[0.4444444444444444,\"#bd3786\"],[0.5555555555555556,\"#d8576b\"],[0.6666666666666666,\"#ed7953\"],[0.7777777777777778,\"#fb9f3a\"],[0.8888888888888888,\"#fdca26\"],[1.0,\"#f0f921\"]],\"type\":\"histogram2dcontour\"}],\"mesh3d\":[{\"colorbar\":{\"outlinewidth\":0,\"ticks\":\"\"},\"type\":\"mesh3d\"}],\"parcoords\":[{\"line\":{\"colorbar\":{\"outlinewidth\":0,\"ticks\":\"\"}},\"type\":\"parcoords\"}],\"pie\":[{\"automargin\":true,\"type\":\"pie\"}],\"scatter\":[{\"marker\":{\"colorbar\":{\"outlinewidth\":0,\"ticks\":\"\"}},\"type\":\"scatter\"}],\"scatter3d\":[{\"line\":{\"colorbar\":{\"outlinewidth\":0,\"ticks\":\"\"}},\"marker\":{\"colorbar\":{\"outlinewidth\":0,\"ticks\":\"\"}},\"type\":\"scatter3d\"}],\"scattercarpet\":[{\"marker\":{\"colorbar\":{\"outlinewidth\":0,\"ticks\":\"\"}},\"type\":\"scattercarpet\"}],\"scattergeo\":[{\"marker\":{\"colorbar\":{\"outlinewidth\":0,\"ticks\":\"\"}},\"type\":\"scattergeo\"}],\"scattergl\":[{\"marker\":{\"colorbar\":{\"outlinewidth\":0,\"ticks\":\"\"}},\"type\":\"scattergl\"}],\"scattermapbox\":[{\"marker\":{\"colorbar\":{\"outlinewidth\":0,\"ticks\":\"\"}},\"type\":\"scattermapbox\"}],\"scatterpolar\":[{\"marker\":{\"colorbar\":{\"outlinewidth\":0,\"ticks\":\"\"}},\"type\":\"scatterpolar\"}],\"scatterpolargl\":[{\"marker\":{\"colorbar\":{\"outlinewidth\":0,\"ticks\":\"\"}},\"type\":\"scatterpolargl\"}],\"scatterternary\":[{\"marker\":{\"colorbar\":{\"outlinewidth\":0,\"ticks\":\"\"}},\"type\":\"scatterternary\"}],\"surface\":[{\"colorbar\":{\"outlinewidth\":0,\"ticks\":\"\"},\"colorscale\":[[0.0,\"#0d0887\"],[0.1111111111111111,\"#46039f\"],[0.2222222222222222,\"#7201a8\"],[0.3333333333333333,\"#9c179e\"],[0.4444444444444444,\"#bd3786\"],[0.5555555555555556,\"#d8576b\"],[0.6666666666666666,\"#ed7953\"],[0.7777777777777778,\"#fb9f3a\"],[0.8888888888888888,\"#fdca26\"],[1.0,\"#f0f921\"]],\"type\":\"surface\"}],\"table\":[{\"cells\":{\"fill\":{\"color\":\"#EBF0F8\"},\"line\":{\"color\":\"white\"}},\"header\":{\"fill\":{\"color\":\"#C8D4E3\"},\"line\":{\"color\":\"white\"}},\"type\":\"table\"}]},\"layout\":{\"annotationdefaults\":{\"arrowcolor\":\"#2a3f5f\",\"arrowhead\":0,\"arrowwidth\":1},\"autotypenumbers\":\"strict\",\"coloraxis\":{\"colorbar\":{\"outlinewidth\":0,\"ticks\":\"\"}},\"colorscale\":{\"diverging\":[[0,\"#8e0152\"],[0.1,\"#c51b7d\"],[0.2,\"#de77ae\"],[0.3,\"#f1b6da\"],[0.4,\"#fde0ef\"],[0.5,\"#f7f7f7\"],[0.6,\"#e6f5d0\"],[0.7,\"#b8e186\"],[0.8,\"#7fbc41\"],[0.9,\"#4d9221\"],[1,\"#276419\"]],\"sequential\":[[0.0,\"#0d0887\"],[0.1111111111111111,\"#46039f\"],[0.2222222222222222,\"#7201a8\"],[0.3333333333333333,\"#9c179e\"],[0.4444444444444444,\"#bd3786\"],[0.5555555555555556,\"#d8576b\"],[0.6666666666666666,\"#ed7953\"],[0.7777777777777778,\"#fb9f3a\"],[0.8888888888888888,\"#fdca26\"],[1.0,\"#f0f921\"]],\"sequentialminus\":[[0.0,\"#0d0887\"],[0.1111111111111111,\"#46039f\"],[0.2222222222222222,\"#7201a8\"],[0.3333333333333333,\"#9c179e\"],[0.4444444444444444,\"#bd3786\"],[0.5555555555555556,\"#d8576b\"],[0.6666666666666666,\"#ed7953\"],[0.7777777777777778,\"#fb9f3a\"],[0.8888888888888888,\"#fdca26\"],[1.0,\"#f0f921\"]]},\"colorway\":[\"#636efa\",\"#EF553B\",\"#00cc96\",\"#ab63fa\",\"#FFA15A\",\"#19d3f3\",\"#FF6692\",\"#B6E880\",\"#FF97FF\",\"#FECB52\"],\"font\":{\"color\":\"#2a3f5f\"},\"geo\":{\"bgcolor\":\"white\",\"lakecolor\":\"white\",\"landcolor\":\"#E5ECF6\",\"showlakes\":true,\"showland\":true,\"subunitcolor\":\"white\"},\"hoverlabel\":{\"align\":\"left\"},\"hovermode\":\"closest\",\"mapbox\":{\"style\":\"light\"},\"paper_bgcolor\":\"white\",\"plot_bgcolor\":\"#E5ECF6\",\"polar\":{\"angularaxis\":{\"gridcolor\":\"white\",\"linecolor\":\"white\",\"ticks\":\"\"},\"bgcolor\":\"#E5ECF6\",\"radialaxis\":{\"gridcolor\":\"white\",\"linecolor\":\"white\",\"ticks\":\"\"}},\"scene\":{\"xaxis\":{\"backgroundcolor\":\"#E5ECF6\",\"gridcolor\":\"white\",\"gridwidth\":2,\"linecolor\":\"white\",\"showbackground\":true,\"ticks\":\"\",\"zerolinecolor\":\"white\"},\"yaxis\":{\"backgroundcolor\":\"#E5ECF6\",\"gridcolor\":\"white\",\"gridwidth\":2,\"linecolor\":\"white\",\"showbackground\":true,\"ticks\":\"\",\"zerolinecolor\":\"white\"},\"zaxis\":{\"backgroundcolor\":\"#E5ECF6\",\"gridcolor\":\"white\",\"gridwidth\":2,\"linecolor\":\"white\",\"showbackground\":true,\"ticks\":\"\",\"zerolinecolor\":\"white\"}},\"shapedefaults\":{\"line\":{\"color\":\"#2a3f5f\"}},\"ternary\":{\"aaxis\":{\"gridcolor\":\"white\",\"linecolor\":\"white\",\"ticks\":\"\"},\"baxis\":{\"gridcolor\":\"white\",\"linecolor\":\"white\",\"ticks\":\"\"},\"bgcolor\":\"#E5ECF6\",\"caxis\":{\"gridcolor\":\"white\",\"linecolor\":\"white\",\"ticks\":\"\"}},\"title\":{\"x\":0.05},\"xaxis\":{\"automargin\":true,\"gridcolor\":\"white\",\"linecolor\":\"white\",\"ticks\":\"\",\"title\":{\"standoff\":15},\"zerolinecolor\":\"white\",\"zerolinewidth\":2},\"yaxis\":{\"automargin\":true,\"gridcolor\":\"white\",\"linecolor\":\"white\",\"ticks\":\"\",\"title\":{\"standoff\":15},\"zerolinecolor\":\"white\",\"zerolinewidth\":2}}},\"xaxis\":{\"anchor\":\"y\",\"domain\":[0.0,1.0],\"title\":{\"text\":\"Age_Range\"}},\"yaxis\":{\"anchor\":\"x\",\"domain\":[0.0,1.0],\"title\":{\"text\":\"count\"}},\"legend\":{\"title\":{\"text\":\"Survived\"},\"tracegroupgap\":0},\"margin\":{\"t\":60},\"barmode\":\"relative\"},                        {\"responsive\": true}                    ).then(function(){\n",
       "                            \n",
       "var gd = document.getElementById('06c7d21e-afa6-48c7-a196-e7286b425ed8');\n",
       "var x = new MutationObserver(function (mutations, observer) {{\n",
       "        var display = window.getComputedStyle(gd).display;\n",
       "        if (!display || display === 'none') {{\n",
       "            console.log([gd, 'removed!']);\n",
       "            Plotly.purge(gd);\n",
       "            observer.disconnect();\n",
       "        }}\n",
       "}});\n",
       "\n",
       "// Listen for the removal of the full notebook cells\n",
       "var notebookContainer = gd.closest('#notebook-container');\n",
       "if (notebookContainer) {{\n",
       "    x.observe(notebookContainer, {childList: true});\n",
       "}}\n",
       "\n",
       "// Listen for the clearing of the current output cell\n",
       "var outputEl = gd.closest('.output');\n",
       "if (outputEl) {{\n",
       "    x.observe(outputEl, {childList: true});\n",
       "}}\n",
       "\n",
       "                        })                };                });            </script>        </div>"
      ]
     },
     "metadata": {},
     "output_type": "display_data"
    }
   ],
   "source": [
    "grafico = px.histogram(df, x = df.Age_Range, color='Survived')\n",
    "grafico.show()"
   ]
  },
  {
   "cell_type": "code",
   "execution_count": 187,
   "id": "1cb2639d",
   "metadata": {},
   "outputs": [
    {
     "name": "stdout",
     "output_type": "stream",
     "text": [
      "21 - 30\n",
      "Not Survived:  -> 187 ----- 21%\n",
      "Survived:  -> 101 ----- 11%\n",
      "Survived/Death Ratio ------------------------------------ 35.1%\n",
      " \n",
      "31 - 40\n",
      "Not Survived:  -> 133 ----- 15%\n",
      "Survived:  -> 79 ----- 9%\n",
      "Survived/Death Ratio ------------------------------------ 37.3%\n",
      " \n",
      "51 - 60\n",
      "Not Survived:  -> 32 ----- 4%\n",
      "Survived:  -> 19 ----- 2%\n",
      "Survived/Death Ratio ------------------------------------ 37.3%\n",
      " \n",
      "1 - 5\n",
      "Not Survived:  -> 13 ----- 1%\n",
      "Survived:  -> 32 ----- 4%\n",
      "Survived/Death Ratio ------------------------------------ 71.1%\n",
      " \n",
      "11 - 15\n",
      "Not Survived:  -> 9 ----- 1%\n",
      "Survived:  -> 15 ----- 2%\n",
      "Survived/Death Ratio ------------------------------------ 62.5%\n",
      " \n",
      "16 - 20\n",
      "Not Survived:  -> 69 ----- 8%\n",
      "Survived:  -> 48 ----- 5%\n",
      "Survived/Death Ratio ------------------------------------ 41.0%\n",
      " \n",
      "6 - 10\n",
      "Not Survived:  -> 13 ----- 1%\n",
      "Survived:  -> 7 ----- 1%\n",
      "Survived/Death Ratio ------------------------------------ 35.0%\n",
      " \n",
      "61 - 70\n",
      "Not Survived:  -> 23 ----- 3%\n",
      "Survived:  -> 4 ----- 0%\n",
      "Survived/Death Ratio ------------------------------------ 14.8%\n",
      " \n",
      "41 - 55\n",
      "Not Survived:  -> 66 ----- 7%\n",
      "Survived:  -> 36 ----- 4%\n",
      "Survived/Death Ratio ------------------------------------ 35.3%\n",
      " \n",
      "71 - 80\n",
      "Not Survived:  -> 4 ----- 0%\n",
      "Survived:  -> 1 ----- 0%\n",
      "Survived/Death Ratio ------------------------------------ 20.0%\n",
      " \n"
     ]
    }
   ],
   "source": [
    "for v in df['Age_Range'].unique():\n",
    "        print(v)\n",
    "        for i in [0, 1]:\n",
    "            if i == 0:\n",
    "                print('Not Survived: ', end=' -> ')\n",
    "                val_0 = df.loc[(df['Age_Range'] == v) & (df['Survived'] == i)].count()[0]\n",
    "                print(f'{val_0}', end = ' ----- ')\n",
    "                print(f'{(val_0/population)*100:.0f}%')\n",
    "                \n",
    "            elif i == 1:\n",
    "                print('Survived: ', end=' -> ')\n",
    "                val_1 = df.loc[(df['Age_Range'] == v) & (df['Survived'] == i)].count()[0]\n",
    "                print(f'{val_1}', end = ' ----- ')\n",
    "                print(f'{(val_1/population)*100:.0f}%')\n",
    "        print(f'Survived/Death Ratio ------------------------------------ {((val_1/(val_0+val_1))*100):.1f}%')\n",
    "        print(' ')"
   ]
  },
  {
   "cell_type": "markdown",
   "id": "818a9731",
   "metadata": {},
   "source": [
    "> - **Better to investigate the age more deeply**  \n",
    "> Proportionally, children from 0 to 5 years old were the ones that survived the most   \n",
    "> 11 to 15 also had better chances od survival (57%)  \n",
    "> Oddly, children aged 6 to 10 years maintained survival rates close to the average  \n",
    "> Elderly people had death as the most likely outcome  \n",
    "\n",
    "> - **Does having relatives on the ship make you more likely to die?**  \n",
    "> The answer is probably yes"
   ]
  },
  {
   "cell_type": "code",
   "execution_count": 188,
   "id": "fbda7ef9",
   "metadata": {},
   "outputs": [],
   "source": [
    "col = ['SibSp', 'Parch']\n",
    "df_ = df[col]"
   ]
  },
  {
   "cell_type": "code",
   "execution_count": 189,
   "id": "e47f7c7a",
   "metadata": {
    "scrolled": true
   },
   "outputs": [
    {
     "data": {
      "image/png": "[encoded data removed]",
      "text/plain": [
       "<Figure size 360x360 with 2 Axes>"
      ]
     },
     "metadata": {
      "needs_background": "light"
     },
     "output_type": "display_data"
    }
   ],
   "source": [
    "correlations = df_.corr()\n",
    "f, ax = plt.subplots(figsize=(5,5))\n",
    "sns.heatmap(correlations, cmap = \"YlOrRd\", linewidths=0.1, annot = True)\n",
    "plt.show()"
   ]
  },
  {
   "cell_type": "markdown",
   "id": "a0695bed",
   "metadata": {},
   "source": [
    "> - **Better to investigate parch more deeply**  \n",
    "> Attribute closely linked with SibSp"
   ]
  },
  {
   "cell_type": "code",
   "execution_count": 190,
   "id": "1f88ad7b",
   "metadata": {},
   "outputs": [
    {
     "data": {
      "text/plain": [
       "512.3292"
      ]
     },
     "execution_count": 190,
     "metadata": {},
     "output_type": "execute_result"
    }
   ],
   "source": [
    "df['Fare'].max()"
   ]
  },
  {
   "cell_type": "code",
   "execution_count": 191,
   "id": "e57a1590",
   "metadata": {},
   "outputs": [
    {
     "data": {
      "text/html": [
       "<div>\n",
       "<style scoped>\n",
       "    .dataframe tbody tr th:only-of-type {\n",
       "        vertical-align: middle;\n",
       "    }\n",
       "\n",
       "    .dataframe tbody tr th {\n",
       "        vertical-align: top;\n",
       "    }\n",
       "\n",
       "    .dataframe thead th {\n",
       "        text-align: right;\n",
       "    }\n",
       "</style>\n",
       "<table border=\"1\" class=\"dataframe\">\n",
       "  <thead>\n",
       "    <tr style=\"text-align: right;\">\n",
       "      <th></th>\n",
       "      <th>Survived</th>\n",
       "      <th>Pclass</th>\n",
       "      <th>Age</th>\n",
       "      <th>SibSp</th>\n",
       "      <th>Parch</th>\n",
       "      <th>Fare</th>\n",
       "      <th>Sex</th>\n",
       "      <th>Embarked</th>\n",
       "      <th>Age_Range</th>\n",
       "      <th>Fare_range</th>\n",
       "    </tr>\n",
       "  </thead>\n",
       "  <tbody>\n",
       "    <tr>\n",
       "      <th>0</th>\n",
       "      <td>0.0</td>\n",
       "      <td>3.0</td>\n",
       "      <td>22.0</td>\n",
       "      <td>1.0</td>\n",
       "      <td>0.0</td>\n",
       "      <td>7.2500</td>\n",
       "      <td>male</td>\n",
       "      <td>S</td>\n",
       "      <td>21 - 30</td>\n",
       "      <td>1 - 10</td>\n",
       "    </tr>\n",
       "    <tr>\n",
       "      <th>1</th>\n",
       "      <td>1.0</td>\n",
       "      <td>1.0</td>\n",
       "      <td>38.0</td>\n",
       "      <td>1.0</td>\n",
       "      <td>0.0</td>\n",
       "      <td>71.2833</td>\n",
       "      <td>female</td>\n",
       "      <td>C</td>\n",
       "      <td>31 - 40</td>\n",
       "      <td>41 - 80</td>\n",
       "    </tr>\n",
       "    <tr>\n",
       "      <th>2</th>\n",
       "      <td>1.0</td>\n",
       "      <td>3.0</td>\n",
       "      <td>26.0</td>\n",
       "      <td>0.0</td>\n",
       "      <td>0.0</td>\n",
       "      <td>7.9250</td>\n",
       "      <td>female</td>\n",
       "      <td>S</td>\n",
       "      <td>21 - 30</td>\n",
       "      <td>1 - 10</td>\n",
       "    </tr>\n",
       "    <tr>\n",
       "      <th>3</th>\n",
       "      <td>1.0</td>\n",
       "      <td>1.0</td>\n",
       "      <td>35.0</td>\n",
       "      <td>1.0</td>\n",
       "      <td>0.0</td>\n",
       "      <td>53.1000</td>\n",
       "      <td>female</td>\n",
       "      <td>S</td>\n",
       "      <td>31 - 40</td>\n",
       "      <td>41 - 80</td>\n",
       "    </tr>\n",
       "    <tr>\n",
       "      <th>4</th>\n",
       "      <td>0.0</td>\n",
       "      <td>3.0</td>\n",
       "      <td>35.0</td>\n",
       "      <td>0.0</td>\n",
       "      <td>0.0</td>\n",
       "      <td>8.0500</td>\n",
       "      <td>male</td>\n",
       "      <td>S</td>\n",
       "      <td>31 - 40</td>\n",
       "      <td>1 - 10</td>\n",
       "    </tr>\n",
       "    <tr>\n",
       "      <th>...</th>\n",
       "      <td>...</td>\n",
       "      <td>...</td>\n",
       "      <td>...</td>\n",
       "      <td>...</td>\n",
       "      <td>...</td>\n",
       "      <td>...</td>\n",
       "      <td>...</td>\n",
       "      <td>...</td>\n",
       "      <td>...</td>\n",
       "      <td>...</td>\n",
       "    </tr>\n",
       "    <tr>\n",
       "      <th>886</th>\n",
       "      <td>0.0</td>\n",
       "      <td>2.0</td>\n",
       "      <td>27.0</td>\n",
       "      <td>0.0</td>\n",
       "      <td>0.0</td>\n",
       "      <td>13.0000</td>\n",
       "      <td>male</td>\n",
       "      <td>S</td>\n",
       "      <td>21 - 30</td>\n",
       "      <td>11 - 20</td>\n",
       "    </tr>\n",
       "    <tr>\n",
       "      <th>887</th>\n",
       "      <td>1.0</td>\n",
       "      <td>1.0</td>\n",
       "      <td>19.0</td>\n",
       "      <td>0.0</td>\n",
       "      <td>0.0</td>\n",
       "      <td>30.0000</td>\n",
       "      <td>female</td>\n",
       "      <td>S</td>\n",
       "      <td>16 - 20</td>\n",
       "      <td>21 - 40</td>\n",
       "    </tr>\n",
       "    <tr>\n",
       "      <th>888</th>\n",
       "      <td>0.0</td>\n",
       "      <td>3.0</td>\n",
       "      <td>20.0</td>\n",
       "      <td>1.0</td>\n",
       "      <td>2.0</td>\n",
       "      <td>23.4500</td>\n",
       "      <td>female</td>\n",
       "      <td>S</td>\n",
       "      <td>16 - 20</td>\n",
       "      <td>21 - 40</td>\n",
       "    </tr>\n",
       "    <tr>\n",
       "      <th>889</th>\n",
       "      <td>1.0</td>\n",
       "      <td>1.0</td>\n",
       "      <td>26.0</td>\n",
       "      <td>0.0</td>\n",
       "      <td>0.0</td>\n",
       "      <td>30.0000</td>\n",
       "      <td>male</td>\n",
       "      <td>C</td>\n",
       "      <td>21 - 30</td>\n",
       "      <td>21 - 40</td>\n",
       "    </tr>\n",
       "    <tr>\n",
       "      <th>890</th>\n",
       "      <td>0.0</td>\n",
       "      <td>3.0</td>\n",
       "      <td>32.0</td>\n",
       "      <td>0.0</td>\n",
       "      <td>0.0</td>\n",
       "      <td>7.7500</td>\n",
       "      <td>male</td>\n",
       "      <td>Q</td>\n",
       "      <td>31 - 40</td>\n",
       "      <td>1 - 10</td>\n",
       "    </tr>\n",
       "  </tbody>\n",
       "</table>\n",
       "<p>891 rows × 10 columns</p>\n",
       "</div>"
      ],
      "text/plain": [
       "     Survived  Pclass   Age  SibSp  Parch     Fare     Sex Embarked Age_Range  \\\n",
       "0         0.0     3.0  22.0    1.0    0.0   7.2500    male        S   21 - 30   \n",
       "1         1.0     1.0  38.0    1.0    0.0  71.2833  female        C   31 - 40   \n",
       "2         1.0     3.0  26.0    0.0    0.0   7.9250  female        S   21 - 30   \n",
       "3         1.0     1.0  35.0    1.0    0.0  53.1000  female        S   31 - 40   \n",
       "4         0.0     3.0  35.0    0.0    0.0   8.0500    male        S   31 - 40   \n",
       "..        ...     ...   ...    ...    ...      ...     ...      ...       ...   \n",
       "886       0.0     2.0  27.0    0.0    0.0  13.0000    male        S   21 - 30   \n",
       "887       1.0     1.0  19.0    0.0    0.0  30.0000  female        S   16 - 20   \n",
       "888       0.0     3.0  20.0    1.0    2.0  23.4500  female        S   16 - 20   \n",
       "889       1.0     1.0  26.0    0.0    0.0  30.0000    male        C   21 - 30   \n",
       "890       0.0     3.0  32.0    0.0    0.0   7.7500    male        Q   31 - 40   \n",
       "\n",
       "    Fare_range  \n",
       "0       1 - 10  \n",
       "1      41 - 80  \n",
       "2       1 - 10  \n",
       "3      41 - 80  \n",
       "4       1 - 10  \n",
       "..         ...  \n",
       "886    11 - 20  \n",
       "887    21 - 40  \n",
       "888    21 - 40  \n",
       "889    21 - 40  \n",
       "890     1 - 10  \n",
       "\n",
       "[891 rows x 10 columns]"
      ]
     },
     "execution_count": 191,
     "metadata": {},
     "output_type": "execute_result"
    }
   ],
   "source": [
    "list_fare = []\n",
    "for v in df['Fare']:\n",
    "    if v == 0:\n",
    "        list_fare.append('0')\n",
    "    elif v <= 10:\n",
    "        list_fare.append('1 - 10')\n",
    "    elif v <= 20:\n",
    "        list_fare.append('11 - 20')\n",
    "    elif v <= 40:\n",
    "        list_fare.append('21 - 40')\n",
    "    elif v <= 80:\n",
    "        list_fare.append('41 - 80')\n",
    "    elif v <= 160:\n",
    "        list_fare.append('81 - 160')\n",
    "    elif v <= 320:\n",
    "        list_fare.append('161 - 320')\n",
    "    elif v <= 513:\n",
    "        list_fare.append('321 - 513')\n",
    "\n",
    "df['Fare_range'] = list_fare\n",
    "df"
   ]
  },
  {
   "cell_type": "code",
   "execution_count": 192,
   "id": "4e56ad23",
   "metadata": {},
   "outputs": [
    {
     "data": {
      "application/vnd.plotly.v1+json": {
       "config": {
        "plotlyServerURL": "https://plot.ly"
       },
       "data": [
        {
         "alignmentgroup": "True",
         "bingroup": "x",
         "hovertemplate": "Survived=0.0<br>Fare_range=%{x}<br>count=%{y}<extra></extra>",
         "legendgroup": "0.0",
         "marker": {
          "color": "#636efa",
          "pattern": {
           "shape": ""
          }
         },
         "name": "0.0",
         "offsetgroup": "0.0",
         "orientation": "v",
         "showlegend": true,
         "type": "histogram",
         "x": [
          "1 - 10",
          "1 - 10",
          "1 - 10",
          "41 - 80",
          "21 - 40",
          "1 - 10",
          "21 - 40",
          "1 - 10",
          "21 - 40",
          "11 - 20",
          "21 - 40",
          "21 - 40",
          "1 - 10",
          "161 - 320",
          "1 - 10",
          "21 - 40",
          "11 - 20",
          "81 - 160",
          "41 - 80",
          "1 - 10",
          "11 - 20",
          "1 - 10",
          "21 - 40",
          "1 - 10",
          "1 - 10",
          "11 - 20",
          "21 - 40",
          "11 - 20",
          "21 - 40",
          "1 - 10",
          "41 - 80",
          "1 - 10",
          "41 - 80",
          "1 - 10",
          "81 - 160",
          "21 - 40",
          "21 - 40",
          "1 - 10",
          "1 - 10",
          "11 - 20",
          "41 - 80",
          "41 - 80",
          "11 - 20",
          "1 - 10",
          "1 - 10",
          "1 - 10",
          "1 - 10",
          "41 - 80",
          "21 - 40",
          "1 - 10",
          "1 - 10",
          "1 - 10",
          "1 - 10",
          "41 - 80",
          "21 - 40",
          "1 - 10",
          "1 - 10",
          "21 - 40",
          "21 - 40",
          "1 - 10",
          "1 - 10",
          "41 - 80",
          "1 - 10",
          "1 - 10",
          "1 - 10",
          "1 - 10",
          "41 - 80",
          "11 - 20",
          "1 - 10",
          "1 - 10",
          "11 - 20",
          "1 - 10",
          "1 - 10",
          "21 - 40",
          "161 - 320",
          "21 - 40",
          "41 - 80",
          "1 - 10",
          "21 - 40",
          "41 - 80",
          "1 - 10",
          "1 - 10",
          "1 - 10",
          "1 - 10",
          "11 - 20",
          "11 - 20",
          "11 - 20",
          "41 - 80",
          "1 - 10",
          "41 - 80",
          "11 - 20",
          "1 - 10",
          "11 - 20",
          "21 - 40",
          "21 - 40",
          "21 - 40",
          "11 - 20",
          "11 - 20",
          "1 - 10",
          "11 - 20",
          "1 - 10",
          "41 - 80",
          "1 - 10",
          "1 - 10",
          "41 - 80",
          "11 - 20",
          "1 - 10",
          "1 - 10",
          "21 - 40",
          "21 - 40",
          "21 - 40",
          "41 - 80",
          "21 - 40",
          "21 - 40",
          "1 - 10",
          "21 - 40",
          "1 - 10",
          "21 - 40",
          "21 - 40",
          "11 - 20",
          "0",
          "41 - 80",
          "11 - 20",
          "21 - 40",
          "41 - 80",
          "11 - 20",
          "1 - 10",
          "11 - 20",
          "1 - 10",
          "1 - 10",
          "11 - 20",
          "1 - 10",
          "41 - 80",
          "1 - 10",
          "1 - 10",
          "11 - 20",
          "11 - 20",
          "1 - 10",
          "1 - 10",
          "11 - 20",
          "1 - 10",
          "21 - 40",
          "11 - 20",
          "11 - 20",
          "1 - 10",
          "1 - 10",
          "1 - 10",
          "1 - 10",
          "11 - 20",
          "21 - 40",
          "1 - 10",
          "11 - 20",
          "11 - 20",
          "1 - 10",
          "21 - 40",
          "11 - 20",
          "11 - 20",
          "11 - 20",
          "11 - 20",
          "1 - 10",
          "1 - 10",
          "81 - 160",
          "1 - 10",
          "21 - 40",
          "1 - 10",
          "11 - 20",
          "21 - 40",
          "11 - 20",
          "21 - 40",
          "1 - 10",
          "41 - 80",
          "0",
          "1 - 10",
          "11 - 20",
          "21 - 40",
          "21 - 40",
          "21 - 40",
          "1 - 10",
          "0",
          "21 - 40",
          "1 - 10",
          "1 - 10",
          "1 - 10",
          "21 - 40",
          "1 - 10",
          "1 - 10",
          "11 - 20",
          "1 - 10",
          "1 - 10",
          "21 - 40",
          "1 - 10",
          "81 - 160",
          "0",
          "1 - 10",
          "21 - 40",
          "21 - 40",
          "1 - 10",
          "21 - 40",
          "11 - 20",
          "1 - 10",
          "1 - 10",
          "41 - 80",
          "1 - 10",
          "21 - 40",
          "81 - 160",
          "11 - 20",
          "1 - 10",
          "41 - 80",
          "21 - 40",
          "11 - 20",
          "11 - 20",
          "11 - 20",
          "1 - 10",
          "1 - 10",
          "21 - 40",
          "1 - 10",
          "11 - 20",
          "1 - 10",
          "1 - 10",
          "11 - 20",
          "21 - 40",
          "21 - 40",
          "11 - 20",
          "1 - 10",
          "11 - 20",
          "1 - 10",
          "1 - 10",
          "1 - 10",
          "81 - 160",
          "21 - 40",
          "161 - 320",
          "1 - 10",
          "1 - 10",
          "1 - 10",
          "1 - 10",
          "41 - 80",
          "41 - 80",
          "1 - 10",
          "1 - 10",
          "1 - 10",
          "1 - 10",
          "21 - 40",
          "11 - 20",
          "1 - 10",
          "1 - 10",
          "11 - 20",
          "1 - 10",
          "21 - 40",
          "1 - 10",
          "1 - 10",
          "21 - 40",
          "1 - 10",
          "1 - 10",
          "0",
          "1 - 10",
          "11 - 20",
          "21 - 40",
          "1 - 10",
          "1 - 10",
          "1 - 10",
          "11 - 20",
          "21 - 40",
          "1 - 10",
          "1 - 10",
          "1 - 10",
          "41 - 80",
          "21 - 40",
          "161 - 320",
          "11 - 20",
          "1 - 10",
          "1 - 10",
          "21 - 40",
          "11 - 20",
          "21 - 40",
          "1 - 10",
          "21 - 40",
          "1 - 10",
          "1 - 10",
          "21 - 40",
          "11 - 20",
          "1 - 10",
          "1 - 10",
          "0",
          "21 - 40",
          "1 - 10",
          "1 - 10",
          "1 - 10",
          "1 - 10",
          "41 - 80",
          "21 - 40",
          "1 - 10",
          "1 - 10",
          "41 - 80",
          "0",
          "1 - 10",
          "21 - 40",
          "21 - 40",
          "1 - 10",
          "11 - 20",
          "1 - 10",
          "21 - 40",
          "41 - 80",
          "1 - 10",
          "11 - 20",
          "11 - 20",
          "81 - 160",
          "1 - 10",
          "1 - 10",
          "1 - 10",
          "1 - 10",
          "1 - 10",
          "81 - 160",
          "21 - 40",
          "1 - 10",
          "1 - 10",
          "21 - 40",
          "21 - 40",
          "1 - 10",
          "1 - 10",
          "1 - 10",
          "1 - 10",
          "1 - 10",
          "161 - 320",
          "1 - 10",
          "11 - 20",
          "1 - 10",
          "1 - 10",
          "1 - 10",
          "21 - 40",
          "11 - 20",
          "21 - 40",
          "21 - 40",
          "81 - 160",
          "21 - 40",
          "21 - 40",
          "21 - 40",
          "1 - 10",
          "21 - 40",
          "161 - 320",
          "1 - 10",
          "1 - 10",
          "11 - 20",
          "1 - 10",
          "1 - 10",
          "21 - 40",
          "1 - 10",
          "21 - 40",
          "1 - 10",
          "1 - 10",
          "11 - 20",
          "11 - 20",
          "21 - 40",
          "41 - 80",
          "1 - 10",
          "11 - 20",
          "1 - 10",
          "1 - 10",
          "1 - 10",
          "1 - 10",
          "1 - 10",
          "21 - 40",
          "21 - 40",
          "0",
          "1 - 10",
          "1 - 10",
          "41 - 80",
          "1 - 10",
          "11 - 20",
          "1 - 10",
          "21 - 40",
          "1 - 10",
          "1 - 10",
          "1 - 10",
          "11 - 20",
          "11 - 20",
          "11 - 20",
          "11 - 20",
          "1 - 10",
          "11 - 20",
          "21 - 40",
          "11 - 20",
          "1 - 10",
          "1 - 10",
          "1 - 10",
          "0",
          "21 - 40",
          "1 - 10",
          "21 - 40",
          "21 - 40",
          "11 - 20",
          "1 - 10",
          "21 - 40",
          "1 - 10",
          "1 - 10",
          "1 - 10",
          "1 - 10",
          "1 - 10",
          "41 - 80",
          "1 - 10",
          "11 - 20",
          "11 - 20",
          "81 - 160",
          "1 - 10",
          "21 - 40",
          "1 - 10",
          "41 - 80",
          "11 - 20",
          "1 - 10",
          "1 - 10",
          "41 - 80",
          "11 - 20",
          "0",
          "1 - 10",
          "1 - 10",
          "41 - 80",
          "1 - 10",
          "1 - 10",
          "41 - 80",
          "21 - 40",
          "41 - 80",
          "21 - 40",
          "11 - 20",
          "1 - 10",
          "1 - 10",
          "21 - 40",
          "11 - 20",
          "1 - 10",
          "81 - 160",
          "1 - 10",
          "11 - 20",
          "1 - 10",
          "1 - 10",
          "21 - 40",
          "21 - 40",
          "1 - 10",
          "11 - 20",
          "1 - 10",
          "11 - 20",
          "1 - 10",
          "1 - 10",
          "11 - 20",
          "11 - 20",
          "1 - 10",
          "21 - 40",
          "1 - 10",
          "11 - 20",
          "0",
          "11 - 20",
          "11 - 20",
          "11 - 20",
          "21 - 40",
          "1 - 10",
          "1 - 10",
          "41 - 80",
          "11 - 20",
          "41 - 80",
          "21 - 40",
          "41 - 80",
          "1 - 10",
          "1 - 10",
          "1 - 10",
          "1 - 10",
          "11 - 20",
          "1 - 10",
          "11 - 20",
          "1 - 10",
          "1 - 10",
          "21 - 40",
          "1 - 10",
          "21 - 40",
          "1 - 10",
          "1 - 10",
          "1 - 10",
          "11 - 20",
          "1 - 10",
          "1 - 10",
          "1 - 10",
          "1 - 10",
          "21 - 40",
          "21 - 40",
          "1 - 10",
          "1 - 10",
          "21 - 40",
          "41 - 80",
          "1 - 10",
          "21 - 40",
          "41 - 80",
          "21 - 40",
          "1 - 10",
          "11 - 20",
          "1 - 10",
          "21 - 40",
          "11 - 20",
          "1 - 10",
          "0",
          "1 - 10",
          "11 - 20",
          "1 - 10",
          "21 - 40",
          "11 - 20",
          "21 - 40",
          "1 - 10",
          "0",
          "1 - 10",
          "21 - 40",
          "1 - 10",
          "21 - 40",
          "0",
          "21 - 40",
          "1 - 10",
          "41 - 80",
          "1 - 10",
          "1 - 10",
          "1 - 10",
          "1 - 10",
          "1 - 10",
          "1 - 10",
          "11 - 20",
          "1 - 10",
          "1 - 10",
          "1 - 10",
          "41 - 80",
          "1 - 10",
          "21 - 40",
          "21 - 40",
          "1 - 10",
          "11 - 20",
          "21 - 40",
          "1 - 10",
          "11 - 20",
          "11 - 20",
          "41 - 80",
          "11 - 20",
          "41 - 80",
          "1 - 10",
          "1 - 10",
          "1 - 10",
          "1 - 10",
          "1 - 10",
          "1 - 10",
          "1 - 10",
          "1 - 10",
          "11 - 20",
          "11 - 20",
          "1 - 10",
          "21 - 40",
          "11 - 20",
          "21 - 40",
          "1 - 10"
         ],
         "xaxis": "x",
         "yaxis": "y"
        },
        {
         "alignmentgroup": "True",
         "bingroup": "x",
         "hovertemplate": "Survived=1.0<br>Fare_range=%{x}<br>count=%{y}<extra></extra>",
         "legendgroup": "1.0",
         "marker": {
          "color": "#EF553B",
          "pattern": {
           "shape": ""
          }
         },
         "name": "1.0",
         "offsetgroup": "1.0",
         "orientation": "v",
         "showlegend": true,
         "type": "histogram",
         "x": [
          "41 - 80",
          "1 - 10",
          "41 - 80",
          "11 - 20",
          "21 - 40",
          "11 - 20",
          "21 - 40",
          "11 - 20",
          "11 - 20",
          "1 - 10",
          "11 - 20",
          "1 - 10",
          "21 - 40",
          "21 - 40",
          "1 - 10",
          "81 - 160",
          "1 - 10",
          "1 - 10",
          "11 - 20",
          "41 - 80",
          "1 - 10",
          "1 - 10",
          "41 - 80",
          "21 - 40",
          "21 - 40",
          "11 - 20",
          "21 - 40",
          "41 - 80",
          "11 - 20",
          "11 - 20",
          "1 - 10",
          "41 - 80",
          "21 - 40",
          "11 - 20",
          "1 - 10",
          "1 - 10",
          "11 - 20",
          "11 - 20",
          "161 - 320",
          "41 - 80",
          "21 - 40",
          "1 - 10",
          "1 - 10",
          "21 - 40",
          "11 - 20",
          "11 - 20",
          "1 - 10",
          "21 - 40",
          "21 - 40",
          "21 - 40",
          "1 - 10",
          "11 - 20",
          "1 - 10",
          "41 - 80",
          "1 - 10",
          "11 - 20",
          "21 - 40",
          "41 - 80",
          "11 - 20",
          "21 - 40",
          "21 - 40",
          "11 - 20",
          "21 - 40",
          "11 - 20",
          "1 - 10",
          "21 - 40",
          "21 - 40",
          "81 - 160",
          "1 - 10",
          "1 - 10",
          "11 - 20",
          "1 - 10",
          "21 - 40",
          "21 - 40",
          "81 - 160",
          "1 - 10",
          "41 - 80",
          "1 - 10",
          "81 - 160",
          "11 - 20",
          "81 - 160",
          "21 - 40",
          "21 - 40",
          "11 - 20",
          "11 - 20",
          "41 - 80",
          "11 - 20",
          "41 - 80",
          "81 - 160",
          "321 - 513",
          "21 - 40",
          "21 - 40",
          "1 - 10",
          "81 - 160",
          "81 - 160",
          "0",
          "11 - 20",
          "1 - 10",
          "41 - 80",
          "21 - 40",
          "1 - 10",
          "1 - 10",
          "11 - 20",
          "1 - 10",
          "41 - 80",
          "81 - 160",
          "21 - 40",
          "161 - 320",
          "1 - 10",
          "21 - 40",
          "11 - 20",
          "81 - 160",
          "81 - 160",
          "81 - 160",
          "41 - 80",
          "81 - 160",
          "161 - 320",
          "1 - 10",
          "21 - 40",
          "161 - 320",
          "81 - 160",
          "11 - 20",
          "21 - 40",
          "81 - 160",
          "11 - 20",
          "21 - 40",
          "41 - 80",
          "21 - 40",
          "81 - 160",
          "81 - 160",
          "1 - 10",
          "21 - 40",
          "161 - 320",
          "11 - 20",
          "11 - 20",
          "11 - 20",
          "11 - 20",
          "41 - 80",
          "1 - 10",
          "1 - 10",
          "41 - 80",
          "1 - 10",
          "1 - 10",
          "41 - 80",
          "41 - 80",
          "81 - 160",
          "1 - 10",
          "161 - 320",
          "11 - 20",
          "41 - 80",
          "11 - 20",
          "11 - 20",
          "81 - 160",
          "1 - 10",
          "81 - 160",
          "11 - 20",
          "11 - 20",
          "1 - 10",
          "11 - 20",
          "81 - 160",
          "1 - 10",
          "21 - 40",
          "11 - 20",
          "21 - 40",
          "21 - 40",
          "1 - 10",
          "21 - 40",
          "11 - 20",
          "21 - 40",
          "81 - 160",
          "11 - 20",
          "21 - 40",
          "11 - 20",
          "1 - 10",
          "81 - 160",
          "11 - 20",
          "21 - 40",
          "11 - 20",
          "21 - 40",
          "81 - 160",
          "1 - 10",
          "41 - 80",
          "11 - 20",
          "21 - 40",
          "11 - 20",
          "21 - 40",
          "11 - 20",
          "11 - 20",
          "1 - 10",
          "81 - 160",
          "81 - 160",
          "11 - 20",
          "41 - 80",
          "81 - 160",
          "21 - 40",
          "21 - 40",
          "41 - 80",
          "1 - 10",
          "21 - 40",
          "41 - 80",
          "11 - 20",
          "21 - 40",
          "81 - 160",
          "41 - 80",
          "11 - 20",
          "21 - 40",
          "21 - 40",
          "21 - 40",
          "81 - 160",
          "41 - 80",
          "41 - 80",
          "21 - 40",
          "21 - 40",
          "11 - 20",
          "21 - 40",
          "81 - 160",
          "1 - 10",
          "1 - 10",
          "21 - 40",
          "41 - 80",
          "11 - 20",
          "1 - 10",
          "11 - 20",
          "41 - 80",
          "21 - 40",
          "1 - 10",
          "11 - 20",
          "41 - 80",
          "1 - 10",
          "21 - 40",
          "81 - 160",
          "41 - 80",
          "41 - 80",
          "41 - 80",
          "21 - 40",
          "41 - 80",
          "21 - 40",
          "21 - 40",
          "21 - 40",
          "41 - 80",
          "81 - 160",
          "11 - 20",
          "41 - 80",
          "21 - 40",
          "41 - 80",
          "11 - 20",
          "41 - 80",
          "21 - 40",
          "21 - 40",
          "11 - 20",
          "41 - 80",
          "41 - 80",
          "11 - 20",
          "41 - 80",
          "21 - 40",
          "1 - 10",
          "21 - 40",
          "1 - 10",
          "81 - 160",
          "1 - 10",
          "41 - 80",
          "21 - 40",
          "11 - 20",
          "1 - 10",
          "321 - 513",
          "41 - 80",
          "161 - 320",
          "41 - 80",
          "11 - 20",
          "41 - 80",
          "1 - 10",
          "161 - 320",
          "21 - 40",
          "11 - 20",
          "21 - 40",
          "81 - 160",
          "11 - 20",
          "41 - 80",
          "41 - 80",
          "161 - 320",
          "11 - 20",
          "21 - 40",
          "41 - 80",
          "21 - 40",
          "1 - 10",
          "161 - 320",
          "321 - 513",
          "21 - 40",
          "161 - 320",
          "1 - 10",
          "11 - 20",
          "21 - 40",
          "11 - 20",
          "41 - 80",
          "11 - 20",
          "81 - 160",
          "1 - 10",
          "81 - 160",
          "41 - 80",
          "21 - 40",
          "11 - 20",
          "161 - 320",
          "1 - 10",
          "41 - 80",
          "1 - 10",
          "21 - 40",
          "21 - 40",
          "1 - 10",
          "21 - 40",
          "81 - 160",
          "1 - 10",
          "1 - 10",
          "41 - 80",
          "81 - 160",
          "1 - 10",
          "11 - 20",
          "21 - 40",
          "1 - 10",
          "41 - 80",
          "11 - 20",
          "11 - 20",
          "81 - 160",
          "41 - 80",
          "21 - 40",
          "21 - 40",
          "81 - 160",
          "21 - 40",
          "1 - 10",
          "161 - 320",
          "21 - 40",
          "11 - 20",
          "21 - 40",
          "11 - 20",
          "11 - 20",
          "11 - 20",
          "41 - 80",
          "21 - 40",
          "1 - 10",
          "81 - 160",
          "21 - 40",
          "21 - 40",
          "21 - 40"
         ],
         "xaxis": "x",
         "yaxis": "y"
        }
       ],
       "layout": {
        "barmode": "relative",
        "legend": {
         "title": {
          "text": "Survived"
         },
         "tracegroupgap": 0
        },
        "margin": {
         "t": 60
        },
        "template": {
         "data": {
          "bar": [
           {
            "error_x": {
             "color": "#2a3f5f"
            },
            "error_y": {
             "color": "#2a3f5f"
            },
            "marker": {
             "line": {
              "color": "#E5ECF6",
              "width": 0.5
             },
             "pattern": {
              "fillmode": "overlay",
              "size": 10,
              "solidity": 0.2
             }
            },
            "type": "bar"
           }
          ],
          "barpolar": [
           {
            "marker": {
             "line": {
              "color": "#E5ECF6",
              "width": 0.5
             },
             "pattern": {
              "fillmode": "overlay",
              "size": 10,
              "solidity": 0.2
             }
            },
            "type": "barpolar"
           }
          ],
          "carpet": [
           {
            "aaxis": {
             "endlinecolor": "#2a3f5f",
             "gridcolor": "white",
             "linecolor": "white",
             "minorgridcolor": "white",
             "startlinecolor": "#2a3f5f"
            },
            "baxis": {
             "endlinecolor": "#2a3f5f",
             "gridcolor": "white",
             "linecolor": "white",
             "minorgridcolor": "white",
             "startlinecolor": "#2a3f5f"
            },
            "type": "carpet"
           }
          ],
          "choropleth": [
           {
            "colorbar": {
             "outlinewidth": 0,
             "ticks": ""
            },
            "type": "choropleth"
           }
          ],
          "contour": [
           {
            "colorbar": {
             "outlinewidth": 0,
             "ticks": ""
            },
            "colorscale": [
             [
              0,
              "#0d0887"
             ],
             [
              0.1111111111111111,
              "#46039f"
             ],
             [
              0.2222222222222222,
              "#7201a8"
             ],
             [
              0.3333333333333333,
              "#9c179e"
             ],
             [
              0.4444444444444444,
              "#bd3786"
             ],
             [
              0.5555555555555556,
              "#d8576b"
             ],
             [
              0.6666666666666666,
              "#ed7953"
             ],
             [
              0.7777777777777778,
              "#fb9f3a"
             ],
             [
              0.8888888888888888,
              "#fdca26"
             ],
             [
              1,
              "#f0f921"
             ]
            ],
            "type": "contour"
           }
          ],
          "contourcarpet": [
           {
            "colorbar": {
             "outlinewidth": 0,
             "ticks": ""
            },
            "type": "contourcarpet"
           }
          ],
          "heatmap": [
           {
            "colorbar": {
             "outlinewidth": 0,
             "ticks": ""
            },
            "colorscale": [
             [
              0,
              "#0d0887"
             ],
             [
              0.1111111111111111,
              "#46039f"
             ],
             [
              0.2222222222222222,
              "#7201a8"
             ],
             [
              0.3333333333333333,
              "#9c179e"
             ],
             [
              0.4444444444444444,
              "#bd3786"
             ],
             [
              0.5555555555555556,
              "#d8576b"
             ],
             [
              0.6666666666666666,
              "#ed7953"
             ],
             [
              0.7777777777777778,
              "#fb9f3a"
             ],
             [
              0.8888888888888888,
              "#fdca26"
             ],
             [
              1,
              "#f0f921"
             ]
            ],
            "type": "heatmap"
           }
          ],
          "heatmapgl": [
           {
            "colorbar": {
             "outlinewidth": 0,
             "ticks": ""
            },
            "colorscale": [
             [
              0,
              "#0d0887"
             ],
             [
              0.1111111111111111,
              "#46039f"
             ],
             [
              0.2222222222222222,
              "#7201a8"
             ],
             [
              0.3333333333333333,
              "#9c179e"
             ],
             [
              0.4444444444444444,
              "#bd3786"
             ],
             [
              0.5555555555555556,
              "#d8576b"
             ],
             [
              0.6666666666666666,
              "#ed7953"
             ],
             [
              0.7777777777777778,
              "#fb9f3a"
             ],
             [
              0.8888888888888888,
              "#fdca26"
             ],
             [
              1,
              "#f0f921"
             ]
            ],
            "type": "heatmapgl"
           }
          ],
          "histogram": [
           {
            "marker": {
             "pattern": {
              "fillmode": "overlay",
              "size": 10,
              "solidity": 0.2
             }
            },
            "type": "histogram"
           }
          ],
          "histogram2d": [
           {
            "colorbar": {
             "outlinewidth": 0,
             "ticks": ""
            },
            "colorscale": [
             [
              0,
              "#0d0887"
             ],
             [
              0.1111111111111111,
              "#46039f"
             ],
             [
              0.2222222222222222,
              "#7201a8"
             ],
             [
              0.3333333333333333,
              "#9c179e"
             ],
             [
              0.4444444444444444,
              "#bd3786"
             ],
             [
              0.5555555555555556,
              "#d8576b"
             ],
             [
              0.6666666666666666,
              "#ed7953"
             ],
             [
              0.7777777777777778,
              "#fb9f3a"
             ],
             [
              0.8888888888888888,
              "#fdca26"
             ],
             [
              1,
              "#f0f921"
             ]
            ],
            "type": "histogram2d"
           }
          ],
          "histogram2dcontour": [
           {
            "colorbar": {
             "outlinewidth": 0,
             "ticks": ""
            },
            "colorscale": [
             [
              0,
              "#0d0887"
             ],
             [
              0.1111111111111111,
              "#46039f"
             ],
             [
              0.2222222222222222,
              "#7201a8"
             ],
             [
              0.3333333333333333,
              "#9c179e"
             ],
             [
              0.4444444444444444,
              "#bd3786"
             ],
             [
              0.5555555555555556,
              "#d8576b"
             ],
             [
              0.6666666666666666,
              "#ed7953"
             ],
             [
              0.7777777777777778,
              "#fb9f3a"
             ],
             [
              0.8888888888888888,
              "#fdca26"
             ],
             [
              1,
              "#f0f921"
             ]
            ],
            "type": "histogram2dcontour"
           }
          ],
          "mesh3d": [
           {
            "colorbar": {
             "outlinewidth": 0,
             "ticks": ""
            },
            "type": "mesh3d"
           }
          ],
          "parcoords": [
           {
            "line": {
             "colorbar": {
              "outlinewidth": 0,
              "ticks": ""
             }
            },
            "type": "parcoords"
           }
          ],
          "pie": [
           {
            "automargin": true,
            "type": "pie"
           }
          ],
          "scatter": [
           {
            "marker": {
             "colorbar": {
              "outlinewidth": 0,
              "ticks": ""
             }
            },
            "type": "scatter"
           }
          ],
          "scatter3d": [
           {
            "line": {
             "colorbar": {
              "outlinewidth": 0,
              "ticks": ""
             }
            },
            "marker": {
             "colorbar": {
              "outlinewidth": 0,
              "ticks": ""
             }
            },
            "type": "scatter3d"
           }
          ],
          "scattercarpet": [
           {
            "marker": {
             "colorbar": {
              "outlinewidth": 0,
              "ticks": ""
             }
            },
            "type": "scattercarpet"
           }
          ],
          "scattergeo": [
           {
            "marker": {
             "colorbar": {
              "outlinewidth": 0,
              "ticks": ""
             }
            },
            "type": "scattergeo"
           }
          ],
          "scattergl": [
           {
            "marker": {
             "colorbar": {
              "outlinewidth": 0,
              "ticks": ""
             }
            },
            "type": "scattergl"
           }
          ],
          "scattermapbox": [
           {
            "marker": {
             "colorbar": {
              "outlinewidth": 0,
              "ticks": ""
             }
            },
            "type": "scattermapbox"
           }
          ],
          "scatterpolar": [
           {
            "marker": {
             "colorbar": {
              "outlinewidth": 0,
              "ticks": ""
             }
            },
            "type": "scatterpolar"
           }
          ],
          "scatterpolargl": [
           {
            "marker": {
             "colorbar": {
              "outlinewidth": 0,
              "ticks": ""
             }
            },
            "type": "scatterpolargl"
           }
          ],
          "scatterternary": [
           {
            "marker": {
             "colorbar": {
              "outlinewidth": 0,
              "ticks": ""
             }
            },
            "type": "scatterternary"
           }
          ],
          "surface": [
           {
            "colorbar": {
             "outlinewidth": 0,
             "ticks": ""
            },
            "colorscale": [
             [
              0,
              "#0d0887"
             ],
             [
              0.1111111111111111,
              "#46039f"
             ],
             [
              0.2222222222222222,
              "#7201a8"
             ],
             [
              0.3333333333333333,
              "#9c179e"
             ],
             [
              0.4444444444444444,
              "#bd3786"
             ],
             [
              0.5555555555555556,
              "#d8576b"
             ],
             [
              0.6666666666666666,
              "#ed7953"
             ],
             [
              0.7777777777777778,
              "#fb9f3a"
             ],
             [
              0.8888888888888888,
              "#fdca26"
             ],
             [
              1,
              "#f0f921"
             ]
            ],
            "type": "surface"
           }
          ],
          "table": [
           {
            "cells": {
             "fill": {
              "color": "#EBF0F8"
             },
             "line": {
              "color": "white"
             }
            },
            "header": {
             "fill": {
              "color": "#C8D4E3"
             },
             "line": {
              "color": "white"
             }
            },
            "type": "table"
           }
          ]
         },
         "layout": {
          "annotationdefaults": {
           "arrowcolor": "#2a3f5f",
           "arrowhead": 0,
           "arrowwidth": 1
          },
          "autotypenumbers": "strict",
          "coloraxis": {
           "colorbar": {
            "outlinewidth": 0,
            "ticks": ""
           }
          },
          "colorscale": {
           "diverging": [
            [
             0,
             "#8e0152"
            ],
            [
             0.1,
             "#c51b7d"
            ],
            [
             0.2,
             "#de77ae"
            ],
            [
             0.3,
             "#f1b6da"
            ],
            [
             0.4,
             "#fde0ef"
            ],
            [
             0.5,
             "#f7f7f7"
            ],
            [
             0.6,
             "#e6f5d0"
            ],
            [
             0.7,
             "#b8e186"
            ],
            [
             0.8,
             "#7fbc41"
            ],
            [
             0.9,
             "#4d9221"
            ],
            [
             1,
             "#276419"
            ]
           ],
           "sequential": [
            [
             0,
             "#0d0887"
            ],
            [
             0.1111111111111111,
             "#46039f"
            ],
            [
             0.2222222222222222,
             "#7201a8"
            ],
            [
             0.3333333333333333,
             "#9c179e"
            ],
            [
             0.4444444444444444,
             "#bd3786"
            ],
            [
             0.5555555555555556,
             "#d8576b"
            ],
            [
             0.6666666666666666,
             "#ed7953"
            ],
            [
             0.7777777777777778,
             "#fb9f3a"
            ],
            [
             0.8888888888888888,
             "#fdca26"
            ],
            [
             1,
             "#f0f921"
            ]
           ],
           "sequentialminus": [
            [
             0,
             "#0d0887"
            ],
            [
             0.1111111111111111,
             "#46039f"
            ],
            [
             0.2222222222222222,
             "#7201a8"
            ],
            [
             0.3333333333333333,
             "#9c179e"
            ],
            [
             0.4444444444444444,
             "#bd3786"
            ],
            [
             0.5555555555555556,
             "#d8576b"
            ],
            [
             0.6666666666666666,
             "#ed7953"
            ],
            [
             0.7777777777777778,
             "#fb9f3a"
            ],
            [
             0.8888888888888888,
             "#fdca26"
            ],
            [
             1,
             "#f0f921"
            ]
           ]
          },
          "colorway": [
           "#636efa",
           "#EF553B",
           "#00cc96",
           "#ab63fa",
           "#FFA15A",
           "#19d3f3",
           "#FF6692",
           "#B6E880",
           "#FF97FF",
           "#FECB52"
          ],
          "font": {
           "color": "#2a3f5f"
          },
          "geo": {
           "bgcolor": "white",
           "lakecolor": "white",
           "landcolor": "#E5ECF6",
           "showlakes": true,
           "showland": true,
           "subunitcolor": "white"
          },
          "hoverlabel": {
           "align": "left"
          },
          "hovermode": "closest",
          "mapbox": {
           "style": "light"
          },
          "paper_bgcolor": "white",
          "plot_bgcolor": "#E5ECF6",
          "polar": {
           "angularaxis": {
            "gridcolor": "white",
            "linecolor": "white",
            "ticks": ""
           },
           "bgcolor": "#E5ECF6",
           "radialaxis": {
            "gridcolor": "white",
            "linecolor": "white",
            "ticks": ""
           }
          },
          "scene": {
           "xaxis": {
            "backgroundcolor": "#E5ECF6",
            "gridcolor": "white",
            "gridwidth": 2,
            "linecolor": "white",
            "showbackground": true,
            "ticks": "",
            "zerolinecolor": "white"
           },
           "yaxis": {
            "backgroundcolor": "#E5ECF6",
            "gridcolor": "white",
            "gridwidth": 2,
            "linecolor": "white",
            "showbackground": true,
            "ticks": "",
            "zerolinecolor": "white"
           },
           "zaxis": {
            "backgroundcolor": "#E5ECF6",
            "gridcolor": "white",
            "gridwidth": 2,
            "linecolor": "white",
            "showbackground": true,
            "ticks": "",
            "zerolinecolor": "white"
           }
          },
          "shapedefaults": {
           "line": {
            "color": "#2a3f5f"
           }
          },
          "ternary": {
           "aaxis": {
            "gridcolor": "white",
            "linecolor": "white",
            "ticks": ""
           },
           "baxis": {
            "gridcolor": "white",
            "linecolor": "white",
            "ticks": ""
           },
           "bgcolor": "#E5ECF6",
           "caxis": {
            "gridcolor": "white",
            "linecolor": "white",
            "ticks": ""
           }
          },
          "title": {
           "x": 0.05
          },
          "xaxis": {
           "automargin": true,
           "gridcolor": "white",
           "linecolor": "white",
           "ticks": "",
           "title": {
            "standoff": 15
           },
           "zerolinecolor": "white",
           "zerolinewidth": 2
          },
          "yaxis": {
           "automargin": true,
           "gridcolor": "white",
           "linecolor": "white",
           "ticks": "",
           "title": {
            "standoff": 15
           },
           "zerolinecolor": "white",
           "zerolinewidth": 2
          }
         }
        },
        "xaxis": {
         "anchor": "y",
         "domain": [
          0,
          1
         ],
         "title": {
          "text": "Fare_range"
         }
        },
        "yaxis": {
         "anchor": "x",
         "domain": [
          0,
          1
         ],
         "title": {
          "text": "count"
         }
        }
       }
      },
      "text/html": [
       "<div>                            <div id=\"a398a662-fa37-4a95-b6b0-98e7cb431017\" class=\"plotly-graph-div\" style=\"height:525px; width:100%;\"></div>            <script type=\"text/javascript\">                require([\"plotly\"], function(Plotly) {                    window.PLOTLYENV=window.PLOTLYENV || {};                                    if (document.getElementById(\"a398a662-fa37-4a95-b6b0-98e7cb431017\")) {                    Plotly.newPlot(                        \"a398a662-fa37-4a95-b6b0-98e7cb431017\",                        [{\"alignmentgroup\":\"True\",\"bingroup\":\"x\",\"hovertemplate\":\"Survived=0.0<br>Fare_range=%{x}<br>count=%{y}<extra></extra>\",\"legendgroup\":\"0.0\",\"marker\":{\"color\":\"#636efa\",\"pattern\":{\"shape\":\"\"}},\"name\":\"0.0\",\"offsetgroup\":\"0.0\",\"orientation\":\"v\",\"showlegend\":true,\"x\":[\"1 - 10\",\"1 - 10\",\"1 - 10\",\"41 - 80\",\"21 - 40\",\"1 - 10\",\"21 - 40\",\"1 - 10\",\"21 - 40\",\"11 - 20\",\"21 - 40\",\"21 - 40\",\"1 - 10\",\"161 - 320\",\"1 - 10\",\"21 - 40\",\"11 - 20\",\"81 - 160\",\"41 - 80\",\"1 - 10\",\"11 - 20\",\"1 - 10\",\"21 - 40\",\"1 - 10\",\"1 - 10\",\"11 - 20\",\"21 - 40\",\"11 - 20\",\"21 - 40\",\"1 - 10\",\"41 - 80\",\"1 - 10\",\"41 - 80\",\"1 - 10\",\"81 - 160\",\"21 - 40\",\"21 - 40\",\"1 - 10\",\"1 - 10\",\"11 - 20\",\"41 - 80\",\"41 - 80\",\"11 - 20\",\"1 - 10\",\"1 - 10\",\"1 - 10\",\"1 - 10\",\"41 - 80\",\"21 - 40\",\"1 - 10\",\"1 - 10\",\"1 - 10\",\"1 - 10\",\"41 - 80\",\"21 - 40\",\"1 - 10\",\"1 - 10\",\"21 - 40\",\"21 - 40\",\"1 - 10\",\"1 - 10\",\"41 - 80\",\"1 - 10\",\"1 - 10\",\"1 - 10\",\"1 - 10\",\"41 - 80\",\"11 - 20\",\"1 - 10\",\"1 - 10\",\"11 - 20\",\"1 - 10\",\"1 - 10\",\"21 - 40\",\"161 - 320\",\"21 - 40\",\"41 - 80\",\"1 - 10\",\"21 - 40\",\"41 - 80\",\"1 - 10\",\"1 - 10\",\"1 - 10\",\"1 - 10\",\"11 - 20\",\"11 - 20\",\"11 - 20\",\"41 - 80\",\"1 - 10\",\"41 - 80\",\"11 - 20\",\"1 - 10\",\"11 - 20\",\"21 - 40\",\"21 - 40\",\"21 - 40\",\"11 - 20\",\"11 - 20\",\"1 - 10\",\"11 - 20\",\"1 - 10\",\"41 - 80\",\"1 - 10\",\"1 - 10\",\"41 - 80\",\"11 - 20\",\"1 - 10\",\"1 - 10\",\"21 - 40\",\"21 - 40\",\"21 - 40\",\"41 - 80\",\"21 - 40\",\"21 - 40\",\"1 - 10\",\"21 - 40\",\"1 - 10\",\"21 - 40\",\"21 - 40\",\"11 - 20\",\"0\",\"41 - 80\",\"11 - 20\",\"21 - 40\",\"41 - 80\",\"11 - 20\",\"1 - 10\",\"11 - 20\",\"1 - 10\",\"1 - 10\",\"11 - 20\",\"1 - 10\",\"41 - 80\",\"1 - 10\",\"1 - 10\",\"11 - 20\",\"11 - 20\",\"1 - 10\",\"1 - 10\",\"11 - 20\",\"1 - 10\",\"21 - 40\",\"11 - 20\",\"11 - 20\",\"1 - 10\",\"1 - 10\",\"1 - 10\",\"1 - 10\",\"11 - 20\",\"21 - 40\",\"1 - 10\",\"11 - 20\",\"11 - 20\",\"1 - 10\",\"21 - 40\",\"11 - 20\",\"11 - 20\",\"11 - 20\",\"11 - 20\",\"1 - 10\",\"1 - 10\",\"81 - 160\",\"1 - 10\",\"21 - 40\",\"1 - 10\",\"11 - 20\",\"21 - 40\",\"11 - 20\",\"21 - 40\",\"1 - 10\",\"41 - 80\",\"0\",\"1 - 10\",\"11 - 20\",\"21 - 40\",\"21 - 40\",\"21 - 40\",\"1 - 10\",\"0\",\"21 - 40\",\"1 - 10\",\"1 - 10\",\"1 - 10\",\"21 - 40\",\"1 - 10\",\"1 - 10\",\"11 - 20\",\"1 - 10\",\"1 - 10\",\"21 - 40\",\"1 - 10\",\"81 - 160\",\"0\",\"1 - 10\",\"21 - 40\",\"21 - 40\",\"1 - 10\",\"21 - 40\",\"11 - 20\",\"1 - 10\",\"1 - 10\",\"41 - 80\",\"1 - 10\",\"21 - 40\",\"81 - 160\",\"11 - 20\",\"1 - 10\",\"41 - 80\",\"21 - 40\",\"11 - 20\",\"11 - 20\",\"11 - 20\",\"1 - 10\",\"1 - 10\",\"21 - 40\",\"1 - 10\",\"11 - 20\",\"1 - 10\",\"1 - 10\",\"11 - 20\",\"21 - 40\",\"21 - 40\",\"11 - 20\",\"1 - 10\",\"11 - 20\",\"1 - 10\",\"1 - 10\",\"1 - 10\",\"81 - 160\",\"21 - 40\",\"161 - 320\",\"1 - 10\",\"1 - 10\",\"1 - 10\",\"1 - 10\",\"41 - 80\",\"41 - 80\",\"1 - 10\",\"1 - 10\",\"1 - 10\",\"1 - 10\",\"21 - 40\",\"11 - 20\",\"1 - 10\",\"1 - 10\",\"11 - 20\",\"1 - 10\",\"21 - 40\",\"1 - 10\",\"1 - 10\",\"21 - 40\",\"1 - 10\",\"1 - 10\",\"0\",\"1 - 10\",\"11 - 20\",\"21 - 40\",\"1 - 10\",\"1 - 10\",\"1 - 10\",\"11 - 20\",\"21 - 40\",\"1 - 10\",\"1 - 10\",\"1 - 10\",\"41 - 80\",\"21 - 40\",\"161 - 320\",\"11 - 20\",\"1 - 10\",\"1 - 10\",\"21 - 40\",\"11 - 20\",\"21 - 40\",\"1 - 10\",\"21 - 40\",\"1 - 10\",\"1 - 10\",\"21 - 40\",\"11 - 20\",\"1 - 10\",\"1 - 10\",\"0\",\"21 - 40\",\"1 - 10\",\"1 - 10\",\"1 - 10\",\"1 - 10\",\"41 - 80\",\"21 - 40\",\"1 - 10\",\"1 - 10\",\"41 - 80\",\"0\",\"1 - 10\",\"21 - 40\",\"21 - 40\",\"1 - 10\",\"11 - 20\",\"1 - 10\",\"21 - 40\",\"41 - 80\",\"1 - 10\",\"11 - 20\",\"11 - 20\",\"81 - 160\",\"1 - 10\",\"1 - 10\",\"1 - 10\",\"1 - 10\",\"1 - 10\",\"81 - 160\",\"21 - 40\",\"1 - 10\",\"1 - 10\",\"21 - 40\",\"21 - 40\",\"1 - 10\",\"1 - 10\",\"1 - 10\",\"1 - 10\",\"1 - 10\",\"161 - 320\",\"1 - 10\",\"11 - 20\",\"1 - 10\",\"1 - 10\",\"1 - 10\",\"21 - 40\",\"11 - 20\",\"21 - 40\",\"21 - 40\",\"81 - 160\",\"21 - 40\",\"21 - 40\",\"21 - 40\",\"1 - 10\",\"21 - 40\",\"161 - 320\",\"1 - 10\",\"1 - 10\",\"11 - 20\",\"1 - 10\",\"1 - 10\",\"21 - 40\",\"1 - 10\",\"21 - 40\",\"1 - 10\",\"1 - 10\",\"11 - 20\",\"11 - 20\",\"21 - 40\",\"41 - 80\",\"1 - 10\",\"11 - 20\",\"1 - 10\",\"1 - 10\",\"1 - 10\",\"1 - 10\",\"1 - 10\",\"21 - 40\",\"21 - 40\",\"0\",\"1 - 10\",\"1 - 10\",\"41 - 80\",\"1 - 10\",\"11 - 20\",\"1 - 10\",\"21 - 40\",\"1 - 10\",\"1 - 10\",\"1 - 10\",\"11 - 20\",\"11 - 20\",\"11 - 20\",\"11 - 20\",\"1 - 10\",\"11 - 20\",\"21 - 40\",\"11 - 20\",\"1 - 10\",\"1 - 10\",\"1 - 10\",\"0\",\"21 - 40\",\"1 - 10\",\"21 - 40\",\"21 - 40\",\"11 - 20\",\"1 - 10\",\"21 - 40\",\"1 - 10\",\"1 - 10\",\"1 - 10\",\"1 - 10\",\"1 - 10\",\"41 - 80\",\"1 - 10\",\"11 - 20\",\"11 - 20\",\"81 - 160\",\"1 - 10\",\"21 - 40\",\"1 - 10\",\"41 - 80\",\"11 - 20\",\"1 - 10\",\"1 - 10\",\"41 - 80\",\"11 - 20\",\"0\",\"1 - 10\",\"1 - 10\",\"41 - 80\",\"1 - 10\",\"1 - 10\",\"41 - 80\",\"21 - 40\",\"41 - 80\",\"21 - 40\",\"11 - 20\",\"1 - 10\",\"1 - 10\",\"21 - 40\",\"11 - 20\",\"1 - 10\",\"81 - 160\",\"1 - 10\",\"11 - 20\",\"1 - 10\",\"1 - 10\",\"21 - 40\",\"21 - 40\",\"1 - 10\",\"11 - 20\",\"1 - 10\",\"11 - 20\",\"1 - 10\",\"1 - 10\",\"11 - 20\",\"11 - 20\",\"1 - 10\",\"21 - 40\",\"1 - 10\",\"11 - 20\",\"0\",\"11 - 20\",\"11 - 20\",\"11 - 20\",\"21 - 40\",\"1 - 10\",\"1 - 10\",\"41 - 80\",\"11 - 20\",\"41 - 80\",\"21 - 40\",\"41 - 80\",\"1 - 10\",\"1 - 10\",\"1 - 10\",\"1 - 10\",\"11 - 20\",\"1 - 10\",\"11 - 20\",\"1 - 10\",\"1 - 10\",\"21 - 40\",\"1 - 10\",\"21 - 40\",\"1 - 10\",\"1 - 10\",\"1 - 10\",\"11 - 20\",\"1 - 10\",\"1 - 10\",\"1 - 10\",\"1 - 10\",\"21 - 40\",\"21 - 40\",\"1 - 10\",\"1 - 10\",\"21 - 40\",\"41 - 80\",\"1 - 10\",\"21 - 40\",\"41 - 80\",\"21 - 40\",\"1 - 10\",\"11 - 20\",\"1 - 10\",\"21 - 40\",\"11 - 20\",\"1 - 10\",\"0\",\"1 - 10\",\"11 - 20\",\"1 - 10\",\"21 - 40\",\"11 - 20\",\"21 - 40\",\"1 - 10\",\"0\",\"1 - 10\",\"21 - 40\",\"1 - 10\",\"21 - 40\",\"0\",\"21 - 40\",\"1 - 10\",\"41 - 80\",\"1 - 10\",\"1 - 10\",\"1 - 10\",\"1 - 10\",\"1 - 10\",\"1 - 10\",\"11 - 20\",\"1 - 10\",\"1 - 10\",\"1 - 10\",\"41 - 80\",\"1 - 10\",\"21 - 40\",\"21 - 40\",\"1 - 10\",\"11 - 20\",\"21 - 40\",\"1 - 10\",\"11 - 20\",\"11 - 20\",\"41 - 80\",\"11 - 20\",\"41 - 80\",\"1 - 10\",\"1 - 10\",\"1 - 10\",\"1 - 10\",\"1 - 10\",\"1 - 10\",\"1 - 10\",\"1 - 10\",\"11 - 20\",\"11 - 20\",\"1 - 10\",\"21 - 40\",\"11 - 20\",\"21 - 40\",\"1 - 10\"],\"xaxis\":\"x\",\"yaxis\":\"y\",\"type\":\"histogram\"},{\"alignmentgroup\":\"True\",\"bingroup\":\"x\",\"hovertemplate\":\"Survived=1.0<br>Fare_range=%{x}<br>count=%{y}<extra></extra>\",\"legendgroup\":\"1.0\",\"marker\":{\"color\":\"#EF553B\",\"pattern\":{\"shape\":\"\"}},\"name\":\"1.0\",\"offsetgroup\":\"1.0\",\"orientation\":\"v\",\"showlegend\":true,\"x\":[\"41 - 80\",\"1 - 10\",\"41 - 80\",\"11 - 20\",\"21 - 40\",\"11 - 20\",\"21 - 40\",\"11 - 20\",\"11 - 20\",\"1 - 10\",\"11 - 20\",\"1 - 10\",\"21 - 40\",\"21 - 40\",\"1 - 10\",\"81 - 160\",\"1 - 10\",\"1 - 10\",\"11 - 20\",\"41 - 80\",\"1 - 10\",\"1 - 10\",\"41 - 80\",\"21 - 40\",\"21 - 40\",\"11 - 20\",\"21 - 40\",\"41 - 80\",\"11 - 20\",\"11 - 20\",\"1 - 10\",\"41 - 80\",\"21 - 40\",\"11 - 20\",\"1 - 10\",\"1 - 10\",\"11 - 20\",\"11 - 20\",\"161 - 320\",\"41 - 80\",\"21 - 40\",\"1 - 10\",\"1 - 10\",\"21 - 40\",\"11 - 20\",\"11 - 20\",\"1 - 10\",\"21 - 40\",\"21 - 40\",\"21 - 40\",\"1 - 10\",\"11 - 20\",\"1 - 10\",\"41 - 80\",\"1 - 10\",\"11 - 20\",\"21 - 40\",\"41 - 80\",\"11 - 20\",\"21 - 40\",\"21 - 40\",\"11 - 20\",\"21 - 40\",\"11 - 20\",\"1 - 10\",\"21 - 40\",\"21 - 40\",\"81 - 160\",\"1 - 10\",\"1 - 10\",\"11 - 20\",\"1 - 10\",\"21 - 40\",\"21 - 40\",\"81 - 160\",\"1 - 10\",\"41 - 80\",\"1 - 10\",\"81 - 160\",\"11 - 20\",\"81 - 160\",\"21 - 40\",\"21 - 40\",\"11 - 20\",\"11 - 20\",\"41 - 80\",\"11 - 20\",\"41 - 80\",\"81 - 160\",\"321 - 513\",\"21 - 40\",\"21 - 40\",\"1 - 10\",\"81 - 160\",\"81 - 160\",\"0\",\"11 - 20\",\"1 - 10\",\"41 - 80\",\"21 - 40\",\"1 - 10\",\"1 - 10\",\"11 - 20\",\"1 - 10\",\"41 - 80\",\"81 - 160\",\"21 - 40\",\"161 - 320\",\"1 - 10\",\"21 - 40\",\"11 - 20\",\"81 - 160\",\"81 - 160\",\"81 - 160\",\"41 - 80\",\"81 - 160\",\"161 - 320\",\"1 - 10\",\"21 - 40\",\"161 - 320\",\"81 - 160\",\"11 - 20\",\"21 - 40\",\"81 - 160\",\"11 - 20\",\"21 - 40\",\"41 - 80\",\"21 - 40\",\"81 - 160\",\"81 - 160\",\"1 - 10\",\"21 - 40\",\"161 - 320\",\"11 - 20\",\"11 - 20\",\"11 - 20\",\"11 - 20\",\"41 - 80\",\"1 - 10\",\"1 - 10\",\"41 - 80\",\"1 - 10\",\"1 - 10\",\"41 - 80\",\"41 - 80\",\"81 - 160\",\"1 - 10\",\"161 - 320\",\"11 - 20\",\"41 - 80\",\"11 - 20\",\"11 - 20\",\"81 - 160\",\"1 - 10\",\"81 - 160\",\"11 - 20\",\"11 - 20\",\"1 - 10\",\"11 - 20\",\"81 - 160\",\"1 - 10\",\"21 - 40\",\"11 - 20\",\"21 - 40\",\"21 - 40\",\"1 - 10\",\"21 - 40\",\"11 - 20\",\"21 - 40\",\"81 - 160\",\"11 - 20\",\"21 - 40\",\"11 - 20\",\"1 - 10\",\"81 - 160\",\"11 - 20\",\"21 - 40\",\"11 - 20\",\"21 - 40\",\"81 - 160\",\"1 - 10\",\"41 - 80\",\"11 - 20\",\"21 - 40\",\"11 - 20\",\"21 - 40\",\"11 - 20\",\"11 - 20\",\"1 - 10\",\"81 - 160\",\"81 - 160\",\"11 - 20\",\"41 - 80\",\"81 - 160\",\"21 - 40\",\"21 - 40\",\"41 - 80\",\"1 - 10\",\"21 - 40\",\"41 - 80\",\"11 - 20\",\"21 - 40\",\"81 - 160\",\"41 - 80\",\"11 - 20\",\"21 - 40\",\"21 - 40\",\"21 - 40\",\"81 - 160\",\"41 - 80\",\"41 - 80\",\"21 - 40\",\"21 - 40\",\"11 - 20\",\"21 - 40\",\"81 - 160\",\"1 - 10\",\"1 - 10\",\"21 - 40\",\"41 - 80\",\"11 - 20\",\"1 - 10\",\"11 - 20\",\"41 - 80\",\"21 - 40\",\"1 - 10\",\"11 - 20\",\"41 - 80\",\"1 - 10\",\"21 - 40\",\"81 - 160\",\"41 - 80\",\"41 - 80\",\"41 - 80\",\"21 - 40\",\"41 - 80\",\"21 - 40\",\"21 - 40\",\"21 - 40\",\"41 - 80\",\"81 - 160\",\"11 - 20\",\"41 - 80\",\"21 - 40\",\"41 - 80\",\"11 - 20\",\"41 - 80\",\"21 - 40\",\"21 - 40\",\"11 - 20\",\"41 - 80\",\"41 - 80\",\"11 - 20\",\"41 - 80\",\"21 - 40\",\"1 - 10\",\"21 - 40\",\"1 - 10\",\"81 - 160\",\"1 - 10\",\"41 - 80\",\"21 - 40\",\"11 - 20\",\"1 - 10\",\"321 - 513\",\"41 - 80\",\"161 - 320\",\"41 - 80\",\"11 - 20\",\"41 - 80\",\"1 - 10\",\"161 - 320\",\"21 - 40\",\"11 - 20\",\"21 - 40\",\"81 - 160\",\"11 - 20\",\"41 - 80\",\"41 - 80\",\"161 - 320\",\"11 - 20\",\"21 - 40\",\"41 - 80\",\"21 - 40\",\"1 - 10\",\"161 - 320\",\"321 - 513\",\"21 - 40\",\"161 - 320\",\"1 - 10\",\"11 - 20\",\"21 - 40\",\"11 - 20\",\"41 - 80\",\"11 - 20\",\"81 - 160\",\"1 - 10\",\"81 - 160\",\"41 - 80\",\"21 - 40\",\"11 - 20\",\"161 - 320\",\"1 - 10\",\"41 - 80\",\"1 - 10\",\"21 - 40\",\"21 - 40\",\"1 - 10\",\"21 - 40\",\"81 - 160\",\"1 - 10\",\"1 - 10\",\"41 - 80\",\"81 - 160\",\"1 - 10\",\"11 - 20\",\"21 - 40\",\"1 - 10\",\"41 - 80\",\"11 - 20\",\"11 - 20\",\"81 - 160\",\"41 - 80\",\"21 - 40\",\"21 - 40\",\"81 - 160\",\"21 - 40\",\"1 - 10\",\"161 - 320\",\"21 - 40\",\"11 - 20\",\"21 - 40\",\"11 - 20\",\"11 - 20\",\"11 - 20\",\"41 - 80\",\"21 - 40\",\"1 - 10\",\"81 - 160\",\"21 - 40\",\"21 - 40\",\"21 - 40\"],\"xaxis\":\"x\",\"yaxis\":\"y\",\"type\":\"histogram\"}],                        {\"template\":{\"data\":{\"bar\":[{\"error_x\":{\"color\":\"#2a3f5f\"},\"error_y\":{\"color\":\"#2a3f5f\"},\"marker\":{\"line\":{\"color\":\"#E5ECF6\",\"width\":0.5},\"pattern\":{\"fillmode\":\"overlay\",\"size\":10,\"solidity\":0.2}},\"type\":\"bar\"}],\"barpolar\":[{\"marker\":{\"line\":{\"color\":\"#E5ECF6\",\"width\":0.5},\"pattern\":{\"fillmode\":\"overlay\",\"size\":10,\"solidity\":0.2}},\"type\":\"barpolar\"}],\"carpet\":[{\"aaxis\":{\"endlinecolor\":\"#2a3f5f\",\"gridcolor\":\"white\",\"linecolor\":\"white\",\"minorgridcolor\":\"white\",\"startlinecolor\":\"#2a3f5f\"},\"baxis\":{\"endlinecolor\":\"#2a3f5f\",\"gridcolor\":\"white\",\"linecolor\":\"white\",\"minorgridcolor\":\"white\",\"startlinecolor\":\"#2a3f5f\"},\"type\":\"carpet\"}],\"choropleth\":[{\"colorbar\":{\"outlinewidth\":0,\"ticks\":\"\"},\"type\":\"choropleth\"}],\"contour\":[{\"colorbar\":{\"outlinewidth\":0,\"ticks\":\"\"},\"colorscale\":[[0.0,\"#0d0887\"],[0.1111111111111111,\"#46039f\"],[0.2222222222222222,\"#7201a8\"],[0.3333333333333333,\"#9c179e\"],[0.4444444444444444,\"#bd3786\"],[0.5555555555555556,\"#d8576b\"],[0.6666666666666666,\"#ed7953\"],[0.7777777777777778,\"#fb9f3a\"],[0.8888888888888888,\"#fdca26\"],[1.0,\"#f0f921\"]],\"type\":\"contour\"}],\"contourcarpet\":[{\"colorbar\":{\"outlinewidth\":0,\"ticks\":\"\"},\"type\":\"contourcarpet\"}],\"heatmap\":[{\"colorbar\":{\"outlinewidth\":0,\"ticks\":\"\"},\"colorscale\":[[0.0,\"#0d0887\"],[0.1111111111111111,\"#46039f\"],[0.2222222222222222,\"#7201a8\"],[0.3333333333333333,\"#9c179e\"],[0.4444444444444444,\"#bd3786\"],[0.5555555555555556,\"#d8576b\"],[0.6666666666666666,\"#ed7953\"],[0.7777777777777778,\"#fb9f3a\"],[0.8888888888888888,\"#fdca26\"],[1.0,\"#f0f921\"]],\"type\":\"heatmap\"}],\"heatmapgl\":[{\"colorbar\":{\"outlinewidth\":0,\"ticks\":\"\"},\"colorscale\":[[0.0,\"#0d0887\"],[0.1111111111111111,\"#46039f\"],[0.2222222222222222,\"#7201a8\"],[0.3333333333333333,\"#9c179e\"],[0.4444444444444444,\"#bd3786\"],[0.5555555555555556,\"#d8576b\"],[0.6666666666666666,\"#ed7953\"],[0.7777777777777778,\"#fb9f3a\"],[0.8888888888888888,\"#fdca26\"],[1.0,\"#f0f921\"]],\"type\":\"heatmapgl\"}],\"histogram\":[{\"marker\":{\"pattern\":{\"fillmode\":\"overlay\",\"size\":10,\"solidity\":0.2}},\"type\":\"histogram\"}],\"histogram2d\":[{\"colorbar\":{\"outlinewidth\":0,\"ticks\":\"\"},\"colorscale\":[[0.0,\"#0d0887\"],[0.1111111111111111,\"#46039f\"],[0.2222222222222222,\"#7201a8\"],[0.3333333333333333,\"#9c179e\"],[0.4444444444444444,\"#bd3786\"],[0.5555555555555556,\"#d8576b\"],[0.6666666666666666,\"#ed7953\"],[0.7777777777777778,\"#fb9f3a\"],[0.8888888888888888,\"#fdca26\"],[1.0,\"#f0f921\"]],\"type\":\"histogram2d\"}],\"histogram2dcontour\":[{\"colorbar\":{\"outlinewidth\":0,\"ticks\":\"\"},\"colorscale\":[[0.0,\"#0d0887\"],[0.1111111111111111,\"#46039f\"],[0.2222222222222222,\"#7201a8\"],[0.3333333333333333,\"#9c179e\"],[0.4444444444444444,\"#bd3786\"],[0.5555555555555556,\"#d8576b\"],[0.6666666666666666,\"#ed7953\"],[0.7777777777777778,\"#fb9f3a\"],[0.8888888888888888,\"#fdca26\"],[1.0,\"#f0f921\"]],\"type\":\"histogram2dcontour\"}],\"mesh3d\":[{\"colorbar\":{\"outlinewidth\":0,\"ticks\":\"\"},\"type\":\"mesh3d\"}],\"parcoords\":[{\"line\":{\"colorbar\":{\"outlinewidth\":0,\"ticks\":\"\"}},\"type\":\"parcoords\"}],\"pie\":[{\"automargin\":true,\"type\":\"pie\"}],\"scatter\":[{\"marker\":{\"colorbar\":{\"outlinewidth\":0,\"ticks\":\"\"}},\"type\":\"scatter\"}],\"scatter3d\":[{\"line\":{\"colorbar\":{\"outlinewidth\":0,\"ticks\":\"\"}},\"marker\":{\"colorbar\":{\"outlinewidth\":0,\"ticks\":\"\"}},\"type\":\"scatter3d\"}],\"scattercarpet\":[{\"marker\":{\"colorbar\":{\"outlinewidth\":0,\"ticks\":\"\"}},\"type\":\"scattercarpet\"}],\"scattergeo\":[{\"marker\":{\"colorbar\":{\"outlinewidth\":0,\"ticks\":\"\"}},\"type\":\"scattergeo\"}],\"scattergl\":[{\"marker\":{\"colorbar\":{\"outlinewidth\":0,\"ticks\":\"\"}},\"type\":\"scattergl\"}],\"scattermapbox\":[{\"marker\":{\"colorbar\":{\"outlinewidth\":0,\"ticks\":\"\"}},\"type\":\"scattermapbox\"}],\"scatterpolar\":[{\"marker\":{\"colorbar\":{\"outlinewidth\":0,\"ticks\":\"\"}},\"type\":\"scatterpolar\"}],\"scatterpolargl\":[{\"marker\":{\"colorbar\":{\"outlinewidth\":0,\"ticks\":\"\"}},\"type\":\"scatterpolargl\"}],\"scatterternary\":[{\"marker\":{\"colorbar\":{\"outlinewidth\":0,\"ticks\":\"\"}},\"type\":\"scatterternary\"}],\"surface\":[{\"colorbar\":{\"outlinewidth\":0,\"ticks\":\"\"},\"colorscale\":[[0.0,\"#0d0887\"],[0.1111111111111111,\"#46039f\"],[0.2222222222222222,\"#7201a8\"],[0.3333333333333333,\"#9c179e\"],[0.4444444444444444,\"#bd3786\"],[0.5555555555555556,\"#d8576b\"],[0.6666666666666666,\"#ed7953\"],[0.7777777777777778,\"#fb9f3a\"],[0.8888888888888888,\"#fdca26\"],[1.0,\"#f0f921\"]],\"type\":\"surface\"}],\"table\":[{\"cells\":{\"fill\":{\"color\":\"#EBF0F8\"},\"line\":{\"color\":\"white\"}},\"header\":{\"fill\":{\"color\":\"#C8D4E3\"},\"line\":{\"color\":\"white\"}},\"type\":\"table\"}]},\"layout\":{\"annotationdefaults\":{\"arrowcolor\":\"#2a3f5f\",\"arrowhead\":0,\"arrowwidth\":1},\"autotypenumbers\":\"strict\",\"coloraxis\":{\"colorbar\":{\"outlinewidth\":0,\"ticks\":\"\"}},\"colorscale\":{\"diverging\":[[0,\"#8e0152\"],[0.1,\"#c51b7d\"],[0.2,\"#de77ae\"],[0.3,\"#f1b6da\"],[0.4,\"#fde0ef\"],[0.5,\"#f7f7f7\"],[0.6,\"#e6f5d0\"],[0.7,\"#b8e186\"],[0.8,\"#7fbc41\"],[0.9,\"#4d9221\"],[1,\"#276419\"]],\"sequential\":[[0.0,\"#0d0887\"],[0.1111111111111111,\"#46039f\"],[0.2222222222222222,\"#7201a8\"],[0.3333333333333333,\"#9c179e\"],[0.4444444444444444,\"#bd3786\"],[0.5555555555555556,\"#d8576b\"],[0.6666666666666666,\"#ed7953\"],[0.7777777777777778,\"#fb9f3a\"],[0.8888888888888888,\"#fdca26\"],[1.0,\"#f0f921\"]],\"sequentialminus\":[[0.0,\"#0d0887\"],[0.1111111111111111,\"#46039f\"],[0.2222222222222222,\"#7201a8\"],[0.3333333333333333,\"#9c179e\"],[0.4444444444444444,\"#bd3786\"],[0.5555555555555556,\"#d8576b\"],[0.6666666666666666,\"#ed7953\"],[0.7777777777777778,\"#fb9f3a\"],[0.8888888888888888,\"#fdca26\"],[1.0,\"#f0f921\"]]},\"colorway\":[\"#636efa\",\"#EF553B\",\"#00cc96\",\"#ab63fa\",\"#FFA15A\",\"#19d3f3\",\"#FF6692\",\"#B6E880\",\"#FF97FF\",\"#FECB52\"],\"font\":{\"color\":\"#2a3f5f\"},\"geo\":{\"bgcolor\":\"white\",\"lakecolor\":\"white\",\"landcolor\":\"#E5ECF6\",\"showlakes\":true,\"showland\":true,\"subunitcolor\":\"white\"},\"hoverlabel\":{\"align\":\"left\"},\"hovermode\":\"closest\",\"mapbox\":{\"style\":\"light\"},\"paper_bgcolor\":\"white\",\"plot_bgcolor\":\"#E5ECF6\",\"polar\":{\"angularaxis\":{\"gridcolor\":\"white\",\"linecolor\":\"white\",\"ticks\":\"\"},\"bgcolor\":\"#E5ECF6\",\"radialaxis\":{\"gridcolor\":\"white\",\"linecolor\":\"white\",\"ticks\":\"\"}},\"scene\":{\"xaxis\":{\"backgroundcolor\":\"#E5ECF6\",\"gridcolor\":\"white\",\"gridwidth\":2,\"linecolor\":\"white\",\"showbackground\":true,\"ticks\":\"\",\"zerolinecolor\":\"white\"},\"yaxis\":{\"backgroundcolor\":\"#E5ECF6\",\"gridcolor\":\"white\",\"gridwidth\":2,\"linecolor\":\"white\",\"showbackground\":true,\"ticks\":\"\",\"zerolinecolor\":\"white\"},\"zaxis\":{\"backgroundcolor\":\"#E5ECF6\",\"gridcolor\":\"white\",\"gridwidth\":2,\"linecolor\":\"white\",\"showbackground\":true,\"ticks\":\"\",\"zerolinecolor\":\"white\"}},\"shapedefaults\":{\"line\":{\"color\":\"#2a3f5f\"}},\"ternary\":{\"aaxis\":{\"gridcolor\":\"white\",\"linecolor\":\"white\",\"ticks\":\"\"},\"baxis\":{\"gridcolor\":\"white\",\"linecolor\":\"white\",\"ticks\":\"\"},\"bgcolor\":\"#E5ECF6\",\"caxis\":{\"gridcolor\":\"white\",\"linecolor\":\"white\",\"ticks\":\"\"}},\"title\":{\"x\":0.05},\"xaxis\":{\"automargin\":true,\"gridcolor\":\"white\",\"linecolor\":\"white\",\"ticks\":\"\",\"title\":{\"standoff\":15},\"zerolinecolor\":\"white\",\"zerolinewidth\":2},\"yaxis\":{\"automargin\":true,\"gridcolor\":\"white\",\"linecolor\":\"white\",\"ticks\":\"\",\"title\":{\"standoff\":15},\"zerolinecolor\":\"white\",\"zerolinewidth\":2}}},\"xaxis\":{\"anchor\":\"y\",\"domain\":[0.0,1.0],\"title\":{\"text\":\"Fare_range\"}},\"yaxis\":{\"anchor\":\"x\",\"domain\":[0.0,1.0],\"title\":{\"text\":\"count\"}},\"legend\":{\"title\":{\"text\":\"Survived\"},\"tracegroupgap\":0},\"margin\":{\"t\":60},\"barmode\":\"relative\"},                        {\"responsive\": true}                    ).then(function(){\n",
       "                            \n",
       "var gd = document.getElementById('a398a662-fa37-4a95-b6b0-98e7cb431017');\n",
       "var x = new MutationObserver(function (mutations, observer) {{\n",
       "        var display = window.getComputedStyle(gd).display;\n",
       "        if (!display || display === 'none') {{\n",
       "            console.log([gd, 'removed!']);\n",
       "            Plotly.purge(gd);\n",
       "            observer.disconnect();\n",
       "        }}\n",
       "}});\n",
       "\n",
       "// Listen for the removal of the full notebook cells\n",
       "var notebookContainer = gd.closest('#notebook-container');\n",
       "if (notebookContainer) {{\n",
       "    x.observe(notebookContainer, {childList: true});\n",
       "}}\n",
       "\n",
       "// Listen for the clearing of the current output cell\n",
       "var outputEl = gd.closest('.output');\n",
       "if (outputEl) {{\n",
       "    x.observe(outputEl, {childList: true});\n",
       "}}\n",
       "\n",
       "                        })                };                });            </script>        </div>"
      ]
     },
     "metadata": {},
     "output_type": "display_data"
    }
   ],
   "source": [
    "grafico = px.histogram(df, x = df.Fare_range, color='Survived')\n",
    "grafico.show()"
   ]
  },
  {
   "cell_type": "code",
   "execution_count": 193,
   "id": "2fe756b0",
   "metadata": {},
   "outputs": [
    {
     "name": "stdout",
     "output_type": "stream",
     "text": [
      "1 - 10\n",
      "Not Survived:  -> 255 ----- 29%\n",
      "Survived:  -> 66 ----- 7%\n",
      "Survived/Death Ratio ------------------------------------ 20.6%\n",
      " \n",
      "41 - 80\n",
      "Not Survived:  -> 46 ----- 5%\n",
      "Survived:  -> 56 ----- 6%\n",
      "Survived/Death Ratio ------------------------------------ 54.9%\n",
      " \n",
      "21 - 40\n",
      "Not Survived:  -> 114 ----- 13%\n",
      "Survived:  -> 86 ----- 10%\n",
      "Survived/Death Ratio ------------------------------------ 43.0%\n",
      " \n",
      "11 - 20\n",
      "Not Survived:  -> 103 ----- 12%\n",
      "Survived:  -> 76 ----- 9%\n",
      "Survived/Death Ratio ------------------------------------ 42.5%\n",
      " \n",
      "161 - 320\n",
      "Not Survived:  -> 6 ----- 1%\n",
      "Survived:  -> 13 ----- 1%\n",
      "Survived/Death Ratio ------------------------------------ 68.4%\n",
      " \n",
      "81 - 160\n",
      "Not Survived:  -> 11 ----- 1%\n",
      "Survived:  -> 41 ----- 5%\n",
      "Survived/Death Ratio ------------------------------------ 78.8%\n",
      " \n",
      "0\n",
      "Not Survived:  -> 14 ----- 2%\n",
      "Survived:  -> 1 ----- 0%\n",
      "Survived/Death Ratio ------------------------------------ 6.7%\n",
      " \n",
      "321 - 513\n",
      "Not Survived:  -> 0 ----- 0%\n",
      "Survived:  -> 3 ----- 0%\n",
      "Survived/Death Ratio ------------------------------------ 100.0%\n",
      " \n"
     ]
    }
   ],
   "source": [
    "for v in df['Fare_range'].unique():\n",
    "        print(v)\n",
    "        for i in [0, 1]:\n",
    "            if i == 0:\n",
    "                print('Not Survived: ', end=' -> ')\n",
    "                val_0 = df.loc[(df['Fare_range'] == v) & (df['Survived'] == i)].count()[0]\n",
    "                print(f'{val_0}', end = ' ----- ')\n",
    "                print(f'{(val_0/population)*100:.0f}%')\n",
    "                \n",
    "            elif i == 1:\n",
    "                print('Survived: ', end=' -> ')\n",
    "                val_1 = df.loc[(df['Fare_range'] == v) & (df['Survived'] == i)].count()[0]\n",
    "                print(f'{val_1}', end = ' ----- ')\n",
    "                print(f'{(val_1/population)*100:.0f}%')\n",
    "        print(f'Survived/Death Ratio ------------------------------------ {((val_1/(val_0+val_1))*100):.1f}%')\n",
    "        print(' ')"
   ]
  },
  {
   "cell_type": "code",
   "execution_count": 194,
   "id": "00689e9f",
   "metadata": {},
   "outputs": [
    {
     "data": {
      "image/png": "[encoded data removed]",
      "text/plain": [
       "<Figure size 360x360 with 2 Axes>"
      ]
     },
     "metadata": {
      "needs_background": "light"
     },
     "output_type": "display_data"
    }
   ],
   "source": [
    "col = ['Pclass', 'Fare']\n",
    "df_ = df[col]\n",
    "\n",
    "correlations = df_.corr()\n",
    "f, ax = plt.subplots(figsize=(5,5))\n",
    "sns.heatmap(correlations, cmap = \"YlOrRd\", linewidths=0.1, annot = True)\n",
    "plt.show()"
   ]
  },
  {
   "cell_type": "markdown",
   "id": "86b552a0",
   "metadata": {},
   "source": [
    "> - **Check Fare proportions**  \n",
    "> As expected, the Pclass and Fare attributes are linked.  \n",
    "> And having paid more for the ticket suggests that there is a greater chance of surviving, as well as belonging to first class.  \n",
    "> Very cheap tickets (up to 40$) are more susceptible to death\n"
   ]
  },
  {
   "cell_type": "markdown",
   "id": "0b2c8c08",
   "metadata": {},
   "source": [
    "> **In short, being in the richer classes, being a woman or a child, raises the chances of survival.**"
   ]
  },
  {
   "cell_type": "markdown",
   "id": "661f0741",
   "metadata": {},
   "source": [
    "# Exporting Changes in DataSet"
   ]
  },
  {
   "cell_type": "code",
   "execution_count": 195,
   "id": "a3cdaa48",
   "metadata": {},
   "outputs": [],
   "source": [
    "#df.to_csv(r'C:\\Users\\lucas\\OneDrive\\Documents\\TI\\DataScience\\Projects\\Titanic\\titanic_preprocessed_2.csv', index=False)"
   ]
  },
  {
   "cell_type": "code",
   "execution_count": null,
   "id": "5846f6bb",
   "metadata": {},
   "outputs": [],
   "source": []
  }
 ],
 "metadata": {
  "kernelspec": {
   "display_name": "Python 3 (ipykernel)",
   "language": "python",
   "name": "python3"
  },
  "language_info": {
   "codemirror_mode": {
    "name": "ipython",
    "version": 3
   },
   "file_extension": ".py",
   "mimetype": "text/x-python",
   "name": "python",
   "nbconvert_exporter": "python",
   "pygments_lexer": "ipython3",
   "version": "3.9.7"
  }
 },
 "nbformat": 4,
 "nbformat_minor": 5
}
